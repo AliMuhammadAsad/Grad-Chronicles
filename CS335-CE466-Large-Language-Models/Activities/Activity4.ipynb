{
 "cells": [
  {
   "cell_type": "code",
   "execution_count": 1,
   "metadata": {},
   "outputs": [],
   "source": [
    "import numpy as np"
   ]
  },
  {
   "cell_type": "code",
   "execution_count": 2,
   "metadata": {},
   "outputs": [],
   "source": [
    "#input embedding\n",
    "X = np.array([\n",
    "    [1, 2, 3, 4],\n",
    "    [5, 6, 7, 8]\n",
    "])"
   ]
  },
  {
   "cell_type": "code",
   "execution_count": 3,
   "metadata": {},
   "outputs": [],
   "source": [
    "# defining weights\n",
    "W_Q = np.array([\n",
    "    [0.1, 0.2, 0.3],\n",
    "    [0.4, 0.5, 0.6],\n",
    "    [0.7, 0.8, 0.9],\n",
    "    [1.0, 1.1, 1.2]\n",
    "])\n",
    "\n",
    "W_K = np.array([\n",
    "    [0.3, 0.2, 0.1],\n",
    "    [0.6, 0.5, 0.4],\n",
    "    [0.9, 0.8, 0.7],\n",
    "    [1.2, 1.1, 1.0]\n",
    "])\n",
    "\n",
    "W_V = np.array([\n",
    "    [0.7, 0.8, 0.9],\n",
    "    [0.4, 0.5, 0.6],\n",
    "    [0.1, 0.2, 0.3],\n",
    "    [1.3, 1.4, 4.5]\n",
    "])"
   ]
  },
  {
   "cell_type": "code",
   "execution_count": 4,
   "metadata": {},
   "outputs": [
    {
     "name": "stdout",
     "output_type": "stream",
     "text": [
      "Q:\n",
      "[[ 7.   8.   9. ]\n",
      " [15.8 18.4 21. ]]\n",
      "\n",
      "K:\n",
      "[[ 9.   8.   7. ]\n",
      " [21.  18.4 15.8]]\n",
      "\n",
      "V:\n",
      "[[ 7.   8.  21. ]\n",
      " [17.  19.6 46.2]]\n"
     ]
    }
   ],
   "source": [
    "# Step 1: Compute Q, K, V\n",
    "Q = np.dot(X, W_Q)\n",
    "K = np.dot(X, W_K)\n",
    "V = np.dot(X, W_V)\n",
    "\n",
    "print(\"Q:\")\n",
    "print(Q)\n",
    "print(\"\\nK:\")\n",
    "print(K)\n",
    "print(\"\\nV:\")\n",
    "print(V)"
   ]
  },
  {
   "cell_type": "code",
   "execution_count": 5,
   "metadata": {},
   "outputs": [
    {
     "name": "stdout",
     "output_type": "stream",
     "text": [
      "\n",
      "QK^T:\n",
      "[[ 190.    436.4 ]\n",
      " [ 436.4  1002.16]]\n"
     ]
    }
   ],
   "source": [
    "# Step 2: Compute QK^T\n",
    "QK_T = np.dot(Q, K.T)\n",
    "\n",
    "print(\"\\nQK^T:\")\n",
    "print(QK_T)"
   ]
  },
  {
   "cell_type": "code",
   "execution_count": 6,
   "metadata": {},
   "outputs": [
    {
     "name": "stdout",
     "output_type": "stream",
     "text": [
      "\n",
      "d_k: 3\n",
      "Scaling Factor: 1.7320508075688772\n"
     ]
    }
   ],
   "source": [
    "# Step 3: Compute the scaling factor\n",
    "d_k = K.shape[1]\n",
    "scaling_factor = np.sqrt(d_k)\n",
    "\n",
    "print(f\"\\nd_k: {d_k}\")\n",
    "print(f\"Scaling Factor: {scaling_factor}\")"
   ]
  },
  {
   "cell_type": "code",
   "execution_count": 7,
   "metadata": {},
   "outputs": [
    {
     "name": "stdout",
     "output_type": "stream",
     "text": [
      "\n",
      "Scaled QK^T:\n",
      "[[109.69655115 251.95565747]\n",
      " [251.95565747 578.59734577]]\n"
     ]
    }
   ],
   "source": [
    "# Step 4: Compute the scaled QK^T\n",
    "scaled_QK_T = QK_T / scaling_factor\n",
    "\n",
    "print(\"\\nScaled QK^T:\")\n",
    "print(scaled_QK_T)"
   ]
  },
  {
   "cell_type": "code",
   "execution_count": 8,
   "metadata": {},
   "outputs": [
    {
     "name": "stdout",
     "output_type": "stream",
     "text": [
      "\n",
      "Softmax Scaled QK^T:\n",
      "[[1.65065047e-062 1.00000000e+000]\n",
      " [1.38457732e-142 1.00000000e+000]]\n"
     ]
    }
   ],
   "source": [
    "# Step 5: Apply softmax to the scaled QK^T\n",
    "def softmax(x):\n",
    "    e_x = np.exp(x - np.max(x, axis=-1, keepdims=True))\n",
    "    return e_x / e_x.sum(axis=-1, keepdims=True)\n",
    "\n",
    "\n",
    "softmax_scaled_QK_T = softmax(scaled_QK_T)\n",
    "\n",
    "print(\"\\nSoftmax Scaled QK^T:\")\n",
    "print(softmax_scaled_QK_T)"
   ]
  },
  {
   "cell_type": "code",
   "execution_count": 9,
   "metadata": {},
   "outputs": [
    {
     "name": "stdout",
     "output_type": "stream",
     "text": [
      "\n",
      "Self-Attention (A):\n",
      "[[17.  19.6 46.2]\n",
      " [17.  19.6 46.2]]\n"
     ]
    }
   ],
   "source": [
    "A = np.dot(softmax_scaled_QK_T, V)\n",
    "\n",
    "print(\"\\nSelf-Attention (A):\")\n",
    "print(A)"
   ]
  }
 ],
 "metadata": {
  "kernelspec": {
   "display_name": "Python 3",
   "language": "python",
   "name": "python3"
  },
  "language_info": {
   "codemirror_mode": {
    "name": "ipython",
    "version": 3
   },
   "file_extension": ".py",
   "mimetype": "text/x-python",
   "name": "python",
   "nbconvert_exporter": "python",
   "pygments_lexer": "ipython3",
   "version": "3.12.4"
  }
 },
 "nbformat": 4,
 "nbformat_minor": 2
}
