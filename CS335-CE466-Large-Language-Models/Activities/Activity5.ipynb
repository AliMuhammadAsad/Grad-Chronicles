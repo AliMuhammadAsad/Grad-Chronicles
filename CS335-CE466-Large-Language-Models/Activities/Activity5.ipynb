{
 "cells": [
  {
   "cell_type": "code",
   "execution_count": 40,
   "metadata": {},
   "outputs": [],
   "source": [
    "import numpy as np"
   ]
  },
  {
   "cell_type": "code",
   "execution_count": 41,
   "metadata": {},
   "outputs": [],
   "source": [
    "# Input matrix\n",
    "X = np.array([[1, 2],\n",
    "              [3, 4]])"
   ]
  },
  {
   "cell_type": "code",
   "execution_count": 42,
   "metadata": {},
   "outputs": [],
   "source": [
    "# Weight matrices for Head 1\n",
    "W_Q1 = np.array([[1, 0],\n",
    "                 [0, 1]])\n",
    "W_K1 = np.array([[0, 1],\n",
    "                 [1, 0]])\n",
    "W_V1 = np.array([[1, 0],\n",
    "                 [0, -1]])"
   ]
  },
  {
   "cell_type": "code",
   "execution_count": 43,
   "metadata": {},
   "outputs": [],
   "source": [
    "# Weight matrices for Head 2\n",
    "W_Q2 = np.array([[0, 1],\n",
    "                 [1, 0]])\n",
    "W_K2 = np.array([[1, 0],\n",
    "                 [0, 1]])\n",
    "W_V2 = np.array([[0, 1],\n",
    "                 [-1, 0]])"
   ]
  },
  {
   "cell_type": "code",
   "execution_count": 44,
   "metadata": {},
   "outputs": [],
   "source": [
    "# Final projection matrix\n",
    "W_O = np.array([[1, 0],\n",
    "                [0, 1],\n",
    "                [-1, 0],\n",
    "                [0, -1]])"
   ]
  },
  {
   "cell_type": "code",
   "execution_count": 45,
   "metadata": {},
   "outputs": [],
   "source": [
    "def self_attention(Q, K, V):\n",
    "    dk = Q.shape[1]  # Dimension of keys/queries matrix\n",
    "    scores = np.matmul(Q, K.T) / np.sqrt(dk)  # Scaled dot-product\n",
    "    attention_weights = np.exp(\n",
    "        scores) / np.sum(np.exp(scores), axis=1, keepdims=True)  # Softmax\n",
    "    return np.matmul(attention_weights, V)"
   ]
  },
  {
   "cell_type": "code",
   "execution_count": 46,
   "metadata": {},
   "outputs": [],
   "source": [
    "# Compute queries, keys, and values for head 1\n",
    "Q1 = np.matmul(X, W_Q1)\n",
    "K1 = np.matmul(X, W_K1)\n",
    "V1 = np.matmul(X, W_V1)"
   ]
  },
  {
   "cell_type": "code",
   "execution_count": 47,
   "metadata": {},
   "outputs": [],
   "source": [
    "# Compute queries, keys, and values for head 2\n",
    "Q2 = np.matmul(X, W_Q2)\n",
    "K2 = np.matmul(X, W_K2)\n",
    "V2 = np.matmul(X, W_V2)"
   ]
  },
  {
   "cell_type": "code",
   "execution_count": 48,
   "metadata": {},
   "outputs": [],
   "source": [
    "# Compute attention outputs for each head\n",
    "head1 = self_attention(Q1, K1, V1)\n",
    "head2 = self_attention(Q2, K2, V2)"
   ]
  },
  {
   "cell_type": "code",
   "execution_count": 49,
   "metadata": {},
   "outputs": [],
   "source": [
    "# Concatenate the heads\n",
    "concat_heads = np.hstack((head1, head2))"
   ]
  },
  {
   "cell_type": "code",
   "execution_count": 50,
   "metadata": {},
   "outputs": [],
   "source": [
    "# Apply the final projection matrix\n",
    "M = np.matmul(concat_heads, W_O)"
   ]
  },
  {
   "cell_type": "code",
   "execution_count": 51,
   "metadata": {},
   "outputs": [
    {
     "name": "stdout",
     "output_type": "stream",
     "text": [
      "Head 1 Output:\n",
      "[[ 2.97166793 -3.97166793]\n",
      " [ 2.9998996  -3.9998996 ]]\n",
      "\n",
      "Head 2 Output:\n",
      "[[-3.97166793  2.97166793]\n",
      " [-3.9998996   2.9998996 ]]\n",
      "\n",
      "Concatenated Heads:\n",
      "[[ 2.97166793 -3.97166793 -3.97166793  2.97166793]\n",
      " [ 2.9998996  -3.9998996  -3.9998996   2.9998996 ]]\n",
      "\n",
      "Final Multi-Head Self-Attention Output (M):\n",
      "[[ 6.94333586 -6.94333586]\n",
      " [ 6.99979921 -6.99979921]]\n"
     ]
    }
   ],
   "source": [
    "#results\n",
    "print(\"Head 1 Output:\")\n",
    "print(head1)\n",
    "print(\"\\nHead 2 Output:\")\n",
    "print(head2)\n",
    "print(\"\\nConcatenated Heads:\")\n",
    "print(concat_heads)\n",
    "print(\"\\nFinal Multi-Head Self-Attention Output (M):\")\n",
    "print(M)"
   ]
  }
 ],
 "metadata": {
  "kernelspec": {
   "display_name": "Python 3",
   "language": "python",
   "name": "python3"
  },
  "language_info": {
   "codemirror_mode": {
    "name": "ipython",
    "version": 3
   },
   "file_extension": ".py",
   "mimetype": "text/x-python",
   "name": "python",
   "nbconvert_exporter": "python",
   "pygments_lexer": "ipython3",
   "version": "3.12.4"
  }
 },
 "nbformat": 4,
 "nbformat_minor": 2
}
