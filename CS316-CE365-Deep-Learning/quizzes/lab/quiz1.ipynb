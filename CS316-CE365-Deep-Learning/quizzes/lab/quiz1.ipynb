{
 "cells": [
  {
   "cell_type": "markdown",
   "metadata": {},
   "source": [
    "# Lab Quiz 1 - Numpy Basics"
   ]
  },
  {
   "cell_type": "code",
   "execution_count": 1,
   "metadata": {},
   "outputs": [],
   "source": [
    "import numpy as np"
   ]
  },
  {
   "cell_type": "code",
   "execution_count": 3,
   "metadata": {},
   "outputs": [],
   "source": [
    "### Question 1: Given two arrays; multiply_with_left and multiply_with_right, write a function that generates a multiplication table for each of the elements of the multiply_with_left by multiply_with_right.\n",
    "# For example, if multiply_with_left = [1, 2, 3] and multiply_with_right = [1, 2, 3, 4], the output should be:\n",
    "# [[ 1  2  3  4]\n",
    "#  [ 2  4  6  8]\n",
    "#  [ 3  6  9 12]]\n",
    "# The function should return the multiplication table as a numpy array.\n",
    "\n",
    "\n",
    "def multiplication_table(multiply_with_left, multiply_with_right):\n",
    "    return np.multiply(multiply_with_left.reshape(-1, 1), multiply_with_right)"
   ]
  },
  {
   "cell_type": "code",
   "execution_count": 5,
   "metadata": {},
   "outputs": [],
   "source": [
    "### Question 2: Grocery Shopping List Price - Given a list of quantities of items of a grocery list and their prices as numpy arrays, write a function that returns the total price of the grocery list rounded to 2 decimal figures\n",
    "\n",
    "def grocery_shopping_list_price(item_quantity, item_price):\n",
    "    return np.round(np.dot(item_quantity, item_price), 2)"
   ]
  }
 ],
 "metadata": {
  "kernelspec": {
   "display_name": "Python 3",
   "language": "python",
   "name": "python3"
  },
  "language_info": {
   "codemirror_mode": {
    "name": "ipython",
    "version": 3
   },
   "file_extension": ".py",
   "mimetype": "text/x-python",
   "name": "python",
   "nbconvert_exporter": "python",
   "pygments_lexer": "ipython3",
   "version": "3.10.12"
  }
 },
 "nbformat": 4,
 "nbformat_minor": 2
}
