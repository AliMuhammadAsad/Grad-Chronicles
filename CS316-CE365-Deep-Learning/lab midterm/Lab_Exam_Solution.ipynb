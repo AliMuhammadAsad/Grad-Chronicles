{
 "cells": [
  {
   "cell_type": "markdown",
   "metadata": {
    "id": "d4pq6xanEIrD"
   },
   "source": [
    "# CS 316/365: Introduction to Deep Learning\n",
    "# Lab Exam - Fall 2024\n",
    "# Dr. Abdul Samad\n",
    "Total Duration: 2 Hours and 40 minutes <br/>\n",
    "Total Points: 100 <br/>\n",
    "\n",
    "\n"
   ]
  },
  {
   "cell_type": "markdown",
   "metadata": {
    "id": "gNSlxKXNF0cm"
   },
   "source": [
    "# Instructions\n",
    "1. Only VS Code or Anaconda Navigator are allowed for this exam. No other tools are permissible\n",
    "2. You are not permitted to utilise the internet or any other source for this exam.\n",
    "3. Any violation shall be treated as a plagarism case.\n",
    "4. The error in one task will not carry to other tasks i.e. if your task x+1 is correct and task x is incorrect then you will get full points for task x+1 even though error will be there in task x+1 due to x.\n",
    "5. The marks for each task are stated explicitly.\n",
    "6. Please carefully study the questions; they are self-explanatory.\n",
    "7. Rename your file as `Lab_Exam_aa01234.ipynb` where `aa01234` will be replaced by your student id.\n",
    "8. Every task has testing code given below it.\n",
    "9. You need to complete the code where #TODO is written\n",
    "10. You can run python help function to `(example: help(np.arange))` to get info about the function and input parameters."
   ]
  },
  {
   "cell_type": "markdown",
   "metadata": {
    "id": "pG28n7rAIaHB"
   },
   "source": [
    "# Exam Overview"
   ]
  },
  {
   "cell_type": "markdown",
   "metadata": {
    "id": "-yAdMT_UI-D6"
   },
   "source": [
    "In this Exam, we are implementing a neural network with 3-hidden layers and we will be using it to classify digits. Since each image is a greyscale image of size 8 x 8 it is flattened into a column vector of size 64 before being fed to the multi-layer pereceptron.\n",
    "\n",
    "<center>\n",
    "<img src='https://i.postimg.cc/5yd2GbRZ/img.png' alt=\"drawing\" width=\"800\" height=\"400\" />\n",
    "<center/>\n",
    "\n",
    "\n",
    "First 3 layers will have ReLU as their activation function and last hidden layer will have sigmoid. Please note that number of neurons and input features both are different.\n",
    "\n",
    "The neural network is defined as follows:\n",
    "$$ \\mathbf{y}_1 = \\mathbf{x}\\mathbf{W}_1  + \\mathbf{b}_1 \\tag{1.1} $$\n",
    "$$ \\mathbf{h}_1 = ReLU(\\mathbf{y_1}) \\tag{1.2}$$\n",
    "$$ \\mathbf{y}_2 =  \\mathbf{h_1}\\mathbf{W}_2 + \\mathbf{b}_2 \\tag{1.3}$$\n",
    "$$ \\mathbf{h}_2 = ReLU(\\mathbf{y_2}) \\tag{1.4}$$\n",
    "$$ \\mathbf{y}_3 =  \\mathbf{h_2}\\mathbf{W}_3 + \\mathbf{b}_3 \\tag{1.5}$$\n",
    "$$ \\mathbf{h}_{3} = \\sigma(\\mathbf{y_3}) \\tag{1.6}$$\n",
    "$$ \\mathbf{y}_4 = \\mathbf{h_3}\\mathbf{W}_4 + \\mathbf{b}_4  \\tag{1.7}$$\n",
    "$$ \\mathbf{\\hat{y}} = Softmax(\\mathbf{y}_4) \\tag{1.8}$$\n",
    "$$ L = -\\frac{1}{n}\\sum_{j=1}^{n} \\mathbf{y}^{(i)} \\log(\\mathbf{\\hat{y}^{(i)}}) \\tag{1.9}$$\n",
    "\n",
    "\n"
   ]
  },
  {
   "cell_type": "markdown",
   "metadata": {
    "id": "K8G515P9GzgE"
   },
   "source": [
    "## Setup"
   ]
  },
  {
   "cell_type": "code",
   "execution_count": 29,
   "metadata": {
    "id": "z5TmADQfG2Sl"
   },
   "outputs": [],
   "source": [
    "import numpy as np\n",
    "import matplotlib.pyplot as plt\n",
    "np.random.seed(42)\n",
    "from sklearn import datasets\n",
    "import sklearn.model_selection\n",
    "from IPython.display import clear_output"
   ]
  },
  {
   "cell_type": "markdown",
   "metadata": {
    "id": "7p_7hCkEQfEK"
   },
   "source": [
    "# Dataset Overview\n",
    "\n",
    "The dataset is of grayscale images which have then been flattened into a column vector of size 64. Dataset has already been loaded and plotted for you. You don't need to worry about loading it.\n"
   ]
  },
  {
   "cell_type": "code",
   "execution_count": 30,
   "metadata": {
    "colab": {
     "base_uri": "https://localhost:8080/",
     "height": 412
    },
    "id": "H86x_6UIS40Q",
    "outputId": "675c24d3-78de-4e02-dd60-b6d9cc24912e"
   },
   "outputs": [
    {
     "data": {
      "image/png": "[encoded data removed]",
      "text/plain": [
       "<Figure size 1000x700 with 15 Axes>"
      ]
     },
     "metadata": {},
     "output_type": "display_data"
    }
   ],
   "source": [
    "data = datasets.load_digits()\n",
    "X = data[\"data\"]\n",
    "Y = data[\"target\"]\n",
    "\n",
    "fig = plt.figure(figsize=(10,7))\n",
    "for i in range(15):  \n",
    "    ax = fig.add_subplot(3, 5, i+1)\n",
    "    ax.imshow(X[i].reshape((8,8)), cmap=plt.get_cmap('gray'))\n",
    "    ax.set_title('Label (y): {y}'.format(y=Y[i]))\n",
    "    plt.axis('off')"
   ]
  },
  {
   "cell_type": "markdown",
   "metadata": {
    "id": "RhgX4q1S9oT5"
   },
   "source": [
    "# [10 Points] Task 01 - Train Test Split"
   ]
  },
  {
   "cell_type": "markdown",
   "metadata": {
    "id": "YXqNwvbEUWgA"
   },
   "source": [
    "In Task 01, you are required to the implement the function `train_test_split` which splits the datasets into train and test set.\n",
    "\n",
    "**Hint: Use `rng.shuffle` to shuffle the dataset. Furthermore, instead of shuffling the dataset, shuffle the indexes.**\n",
    "\n",
    "Complete function **train_test_split** given below."
   ]
  },
  {
   "cell_type": "code",
   "execution_count": 31,
   "metadata": {
    "id": "Wg21ci-r95T_"
   },
   "outputs": [],
   "source": [
    "#TODO: Implement the function train_test_split\n",
    "def train_test_split(inputs,outputs,test_size,seed = 0):\n",
    "    \"\"\"\n",
    "    Splits the data into training and test sets.\n",
    "    Return 4 numpy arrays. X_train, X_test, Y_train, Y_test\n",
    "    where training data is test_size proportion of data provided.\n",
    "\n",
    "    Args:\n",
    "        inputs [np.array] : numpy array of input data\n",
    "        outputs [np.array]: numpy array of output labels\n",
    "        test_size [float]: proportion of data to be used as test data. e.g. 0.2 means 20% of data is used for test data.\n",
    "        seed [int]: A seed to create random number generator. (For reproducability) \n",
    "    \"\"\"\n",
    "   \n",
    "    rng = np.random.default_rng(seed)\n",
    "    assert(len(inputs) == len(outputs))\n",
    "    assert(test_size <= 1.0)\n",
    "    assert(test_size >= 0.0)\n",
    "    num_samples = len(inputs)\n",
    "    num_train = int(num_samples * (1.0 - test_size))\n",
    "    # Write your code here\n",
    "    indices = np.arange(inputs.shape[0])\n",
    "    rng.shuffle(indices)\n",
    "    X_shuffled = inputs[indices]\n",
    "    Y_shuffled = outputs[indices]\n",
    "    X_train, X_test = X_shuffled[:num_train], X_shuffled[num_train:]\n",
    "    Y_train, Y_test = Y_shuffled[:num_train], Y_shuffled[num_train:]\n",
    "    \n",
    "    \n",
    "    return X_train,X_test,Y_train,Y_test"
   ]
  },
  {
   "cell_type": "code",
   "execution_count": 32,
   "metadata": {
    "colab": {
     "base_uri": "https://localhost:8080/"
    },
    "id": "dIKkouRo-y62",
    "outputId": "2402c25f-2f82-4625-a24f-3e0dab16d0e6"
   },
   "outputs": [
    {
     "name": "stdout",
     "output_type": "stream",
     "text": [
      "(12, 2) (3, 2) (12,) (3,)\n"
     ]
    }
   ],
   "source": [
    "# DO NOT EDIT\n",
    "# Test Case to check Train Test Split\n",
    "np.random.seed(1)\n",
    "x = np.random.randn(15,2)\n",
    "y = np.random.randn(15)\n",
    "X_train,X_test,Y_train,Y_test = train_test_split(x,y,test_size=0.2)\n",
    "print(X_train.shape,X_test.shape,Y_train.shape,Y_test.shape)\n",
    "assert np.allclose (X_train,np.array([[ 0.86540763, -2.3015387 ],[ 0.90159072,  0.50249434],[ 1.74481176, -0.7612069 ],[-1.10061918,  1.14472371],[ 1.62434536, -0.61175641],[ 0.3190391 , -0.24937038],[ 1.13376944, -1.09989127],[ 1.46210794, -2.06014071],[-0.26788808,  0.53035547],[ 0.90085595, -0.68372786],[-0.3224172 , -0.38405435],[ 0.04221375,  0.58281521]]))\n",
    "assert np.allclose (X_test,np.array([[-0.12289023, -0.93576943],[-0.17242821, -0.87785842],[-0.52817175, -1.07296862]]))\n",
    "assert np.allclose (Y_train,np.array([-0.6871727 , -0.88762896, -0.84520564, -0.19183555, -0.69166075,-0.67124613,  0.2344157 , -0.0126646 ,  0.05080775, -0.74715829,-1.11731035,  0.74204416]))\n",
    "assert np.allclose (Y_test, np.array([ 1.6924546 ,  1.65980218, -0.39675353]))\n"
   ]
  },
  {
   "cell_type": "markdown",
   "metadata": {
    "id": "jLHjPGdQNHEC"
   },
   "source": [
    "# [20 Points] Task 02 -  Activation Functions"
   ]
  },
  {
   "cell_type": "markdown",
   "metadata": {
    "id": "s4ntgjebVMsw"
   },
   "source": [
    "In this task, you will be implementing the Sigmoid and ReLU activation fuctions."
   ]
  },
  {
   "cell_type": "markdown",
   "metadata": {
    "id": "ehQtgCzZHYWU"
   },
   "source": [
    "## [10 Points]  Part A - Relu Activation Function"
   ]
  },
  {
   "cell_type": "markdown",
   "metadata": {
    "id": "gQot-NaiWVKm"
   },
   "source": [
    "The Relu activation function and its dervivative are defined as  follows:\n",
    "$$ f(z) = \\max(z,0) \\tag{2.1} $$\n",
    "$$ f^{\\prime}(z) = \\begin{cases}1 & z > 0 \\\\0 & z < 0 \\\\\n",
    "\\end{cases}\n",
    "\\tag{2.2}\n",
    "$$\n",
    "\n",
    "Complete the functions **activation** which is for ReLU and **prime** which is for derivative of ReLU given below in class Relu"
   ]
  },
  {
   "cell_type": "code",
   "execution_count": 33,
   "metadata": {
    "id": "8hnecr1fHgXr"
   },
   "outputs": [],
   "source": [
    "#TODO: Implement the Relu class which implements the Relu activation function.\n",
    "class Relu:\n",
    "   \"\"\"\n",
    "   Implements the Relu activation\n",
    "   \"\"\"\n",
    "   @staticmethod\n",
    "   def activation(z):\n",
    "      # Write your code here\n",
    "      # Hint: Use np.maximum\n",
    "      # Refer to equation (2.1)\n",
    "      return np.maximum(0,z)\n",
    "      pass\n",
    "      \n",
    "   @staticmethod\n",
    "   def prime(z):\n",
    "      # Write your code here\n",
    "      # Hint: Use np.where\n",
    "      # Refer to equation (2.2)\n",
    "      return np.where(z>0, 1, 0)\n",
    "      pass\n",
    "     "
   ]
  },
  {
   "cell_type": "code",
   "execution_count": 34,
   "metadata": {
    "colab": {
     "base_uri": "https://localhost:8080/"
    },
    "id": "ip5wcYn5HjNa",
    "outputId": "ff77449d-1b60-4cd6-a84b-001756030145"
   },
   "outputs": [
    {
     "name": "stdout",
     "output_type": "stream",
     "text": [
      "Input: [[ 0.30471708 -1.03998411  0.7504512 ]\n",
      " [ 0.94056472 -1.95103519 -1.30217951]\n",
      " [ 0.1278404  -0.31624259 -0.01680116]]\n",
      "Output: [[0.30471708 0.         0.7504512 ]\n",
      " [0.94056472 0.         0.        ]\n",
      " [0.1278404  0.         0.        ]]\n",
      "Gradient: [[1 0 1]\n",
      " [1 0 0]\n",
      " [1 0 0]]\n"
     ]
    }
   ],
   "source": [
    "# DO NOT EDIT\n",
    "# Test Case to Check ReLU\n",
    "rng = np.random.default_rng(42)\n",
    "input = rng.normal(size=(3,3))\n",
    "print(f\"Input: {input}\")\n",
    "output = Relu.activation(input)\n",
    "print(f\"Output: {output}\")\n",
    "assert np.allclose(output,np.array([[0.30471708,0.,0.7504512 ],[0.94056472,0.,0.],[0.1278404, 0.,0.]]))\n",
    "grad = Relu.prime(input)\n",
    "print(f\"Gradient: {grad}\")\n",
    "assert np.allclose(grad,np.array([[1,0,1],[1,0,0],[1,0,0]]))"
   ]
  },
  {
   "cell_type": "markdown",
   "metadata": {
    "id": "E2rQBLJOJetF"
   },
   "source": [
    "## [10 Points] Part B - Sigmoid Activation Function"
   ]
  },
  {
   "cell_type": "markdown",
   "metadata": {
    "id": "WMk90qCAXOe0"
   },
   "source": [
    "The sigmoid activation function and its derivative are defined as follows:\n",
    "$$ \\sigma (z) = \\frac{1}{1+\\exp{(-z)}} \\tag{3.1} $$\n",
    "\n",
    "$$ \\sigma^{\\prime} (z) = \\sigma(z) \\times (1 - \\sigma(z)) \\tag{3.2} $$\n",
    "\n",
    "Complete the functions **activation** which is for sigmoid and **prime** which is for derivative of sigmoid given below in class sigmoid"
   ]
  },
  {
   "cell_type": "code",
   "execution_count": 35,
   "metadata": {
    "id": "Gr2JzSENF9LC"
   },
   "outputs": [],
   "source": [
    "#TODO: Implement the Sigmoid class which implements the Sigmoid activation function.\n",
    "class Sigmoid:\n",
    "    @staticmethod\n",
    "    def activation(z):\n",
    "      # Write your code here\n",
    "      # Refer to equation (3.1)\n",
    "      return 1/(1+np.exp(-z))\n",
    "      pass\n",
    "      \n",
    "    @staticmethod\n",
    "    def prime(z):\n",
    "      # Write your code here\n",
    "      # Refer to equation (3.2)\n",
    "      exp = 1/(1+np.exp(-z))\n",
    "      return exp*(1-exp)\n",
    "      pass\n",
    "      \n",
    "      "
   ]
  },
  {
   "cell_type": "code",
   "execution_count": 36,
   "metadata": {
    "colab": {
     "base_uri": "https://localhost:8080/"
    },
    "id": "Ws1heyOMJncw",
    "outputId": "85fbde02-4d84-4ee8-9f0e-3e7c368f034b"
   },
   "outputs": [
    {
     "name": "stdout",
     "output_type": "stream",
     "text": [
      "Input: [[ 0.30471708 -1.03998411  0.7504512 ]\n",
      " [ 0.94056472 -1.95103519 -1.30217951]\n",
      " [ 0.1278404  -0.31624259 -0.01680116]]\n",
      "Output: [[0.57559524 0.26115306 0.679277  ]\n",
      " [0.71921371 0.12444053 0.21379844]\n",
      " [0.53191664 0.42159173 0.49579981]]\n",
      "Gradient: [[0.24428536 0.19295214 0.21785976]\n",
      " [0.20194535 0.10895508 0.16808867]\n",
      " [0.24898133 0.24385214 0.24998236]]\n"
     ]
    }
   ],
   "source": [
    "# DO NOT EDIT\n",
    "# Test Case to Check Sigmoid\n",
    "rng = np.random.default_rng(42)\n",
    "input = rng.normal(size=(3,3))\n",
    "print(f\"Input: {input}\")\n",
    "output = Sigmoid.activation(input)\n",
    "print(f\"Output: {output}\")\n",
    "assert np.allclose(output,np.array([[0.57559524, 0.26115306, 0.679277 ],[0.71921371, 0.12444053, 0.21379844],[0.53191664, 0.42159173, 0.49579981]]))\n",
    "grad = Sigmoid.prime(input)\n",
    "print(f\"Gradient: {grad}\")\n",
    "assert np.allclose(grad, np.array([[0.24428536, 0.19295214, 0.21785976],[0.20194535, 0.10895508, 0.16808867],[0.24898133, 0.24385214, 0.24998236]]))"
   ]
  },
  {
   "cell_type": "markdown",
   "metadata": {
    "id": "I7KjuBW_NAt3"
   },
   "source": [
    "# [5 Points ] Task 03 - Softmax"
   ]
  },
  {
   "cell_type": "markdown",
   "metadata": {
    "id": "RypPZAq9YKlb"
   },
   "source": [
    "In this task you are required to implement a **numerically stable** version of the Softmax activation.\n",
    "\n",
    "The Softmax function is defined as follows:\n",
    "$$ S(y_i) = \\frac{\\exp{(y_i)}}{\\sum_{j=1} \\exp{(y_j)} } \\tag {4.1} $$\n",
    "\n",
    "**Hint: In order to implement a numerically stable version of the Softmax activation function, subtract the max of each row from each element in the row**\n",
    "\n",
    "# Update: give an example\n",
    "\n",
    "Complete function **activation** for Softmax activation"
   ]
  },
  {
   "cell_type": "code",
   "execution_count": null,
   "metadata": {
    "id": "qMZIDW7LNOqg"
   },
   "outputs": [],
   "source": [
    "class Softmax:\n",
    "    @staticmethod\n",
    "    def activation(z):\n",
    "      # Write your code here\n",
    "      # Refer to equation (4.1)\n",
    "      return np.exp(z)/np.sum(np.exp(z), axis=1, keepdims=True)\n",
    "      # Alternatively, this will also work\n",
    "      \n",
    "      \"\"\"max_z = np.max(z, axis=1, keepdims=True)\n",
    "      z = z-max_z\n",
    "      s = np.exp(z)/np.sum(np.exp(z), axis=1, keepdims=True)\n",
    "      return s\n",
    "      \"\"\"\n"
   ]
  },
  {
   "cell_type": "code",
   "execution_count": 38,
   "metadata": {
    "colab": {
     "base_uri": "https://localhost:8080/"
    },
    "id": "sSMdknYzNSG8",
    "outputId": "d8636f8e-03e7-4f5a-dfb2-c1e1020ca696"
   },
   "outputs": [
    {
     "name": "stdout",
     "output_type": "stream",
     "text": [
      "Input: [[ 0.30471708 -1.03998411  0.7504512 ]\n",
      " [ 0.94056472 -1.95103519 -1.30217951]\n",
      " [ 0.1278404  -0.31624259 -0.01680116]]\n",
      "Output: [[0.35432675 0.09234378 0.55332948]\n",
      " [0.86084143 0.04776582 0.09139274]\n",
      " [0.39892377 0.25587457 0.34520167]]\n"
     ]
    }
   ],
   "source": [
    "# DO NOT EDIT\n",
    "# Test Case to check Softmax activation function\n",
    "rng = np.random.default_rng(42)\n",
    "input = rng.normal(size=(3,3))\n",
    "print(f\"Input: {input}\")\n",
    "output = Softmax.activation(input)\n",
    "print(f\"Output: {output}\")\n",
    "assert np.allclose(output, np.array([[0.35432675, 0.09234378, 0.55332948],[0.86084143, 0.04776582, 0.09139274],[0.39892377, 0.25587457, 0.34520167]]))"
   ]
  },
  {
   "cell_type": "markdown",
   "metadata": {
    "id": "ZIcMGevzPMto"
   },
   "source": [
    "# [10 Points] Task 04 - Cross Entropy Loss"
   ]
  },
  {
   "cell_type": "markdown",
   "metadata": {
    "id": "RSpbW_HTa2nE"
   },
   "source": [
    "In this task, you are required to implement the Cross Entropy Loss function as well compute the derivative of the Cross Entropy Loss function with respect to the Softmax activation function.\n",
    "\n",
    "The cross entropy loss function is defined as follows:\n",
    "$$ L = -\\frac{1}{m} \\sum_{i=1}^{n} \\mathbf{y}^{(i)}  \\log(\\mathbf{\\hat{y}^{(i)}}) \\tag {5.1}$$\n",
    "\n",
    "The derivative of the Softmax activation function is defined as\n",
    "$$ \\frac{\\delta L}{\\delta x} =  \\hat{y} -  y \\tag {5.2}$$\n",
    "\n",
    "\n",
    "where $\\mathbf{y}^{(i)}$ is the one hot encoded label vector (represented by variable y_hot) and $\\mathbf{\\hat{y}}^{(i)}$ are the Softmax probabilities (represented by variable y_hat).\n",
    "\n",
    "\n",
    "Complete functions delta for derivative of Loss function and loss for Loss function\n",
    "\n",
    "\n",
    "\n",
    "\n",
    "\n"
   ]
  },
  {
   "cell_type": "code",
   "execution_count": 39,
   "metadata": {
    "id": "emsUUEl3I6b_"
   },
   "outputs": [],
   "source": [
    "\n",
    "#TODO: Implement the class CrossEntropy which represents the cross-entropy loss function.\n",
    "class CrossEntropy:\n",
    "    \"\"\"\n",
    "    Used with Softmax activation in final layer\n",
    "    \"\"\"\n",
    "    @staticmethod\n",
    "    def activation(z):\n",
    "        # DO NOT EDIT\n",
    "        return Softmax.activation(z)\n",
    "\n",
    "    @staticmethod\n",
    "    def delta(y_true, y):\n",
    "        n,c = y.shape\n",
    "        y_hot = np.eye(c)[y_true]\n",
    "        y_hat = Softmax.activation(y)\n",
    "        # Write your code here\n",
    "        # Refer to equation (5.2)\n",
    "        grad = y_hat - y_hot\n",
    "        return grad\n",
    "\n",
    "    @staticmethod\n",
    "    def loss(y_true, y):\n",
    "        m,c = y.shape\n",
    "        y_hot = np.eye(c)[y_true]\n",
    "        y_hat = Softmax.activation(y)\n",
    "        # Write your code here\n",
    "        # Refer to equation (5.1)\n",
    "        loss = -(np.sum(y_hot*np.log(y_hat)))/m\n",
    "        return loss"
   ]
  },
  {
   "cell_type": "code",
   "execution_count": 40,
   "metadata": {
    "colab": {
     "base_uri": "https://localhost:8080/"
    },
    "id": "Wg91EcVqQEI1",
    "outputId": "f6dba891-13d1-4e63-c8d4-457c24b63b72"
   },
   "outputs": [
    {
     "name": "stdout",
     "output_type": "stream",
     "text": [
      "y_hat: [[ 0.30471708 -1.03998411  0.7504512 ]\n",
      " [ 0.94056472 -1.95103519 -1.30217951]\n",
      " [ 0.1278404  -0.31624259 -0.01680116]]\n",
      "y: [0 1 2]\n",
      "Cross Entropy Loss: 1.714202378772346\n",
      "Delta: [[-0.64567325  0.09234378  0.55332948]\n",
      " [ 0.86084143 -0.95223418  0.09139274]\n",
      " [ 0.39892377  0.25587457 -0.65479833]]\n"
     ]
    }
   ],
   "source": [
    "# DO NOT EDIT\n",
    "# Test Case to check Softmax activation function\n",
    "rng = np.random.default_rng(42)\n",
    "y_hat = rng.normal(size=(3,3))\n",
    "print(f\"y_hat: {y_hat}\")\n",
    "y = np.arange(3)\n",
    "print(f'y: {y}')\n",
    "loss = CrossEntropy.loss(y,y_hat)\n",
    "print(f\"Cross Entropy Loss: {loss}\")\n",
    "assert round(loss,6) == 1.714202\n",
    "delta = CrossEntropy.delta(y,y_hat)\n",
    "print(f\"Delta: {delta}\")\n",
    "assert np.allclose(delta, np.array([[-0.64567325,  0.09234378, 0.55332948],[ 0.86084143, -0.95223418 , 0.09139274],[ 0.39892377 , 0.25587457 ,-0.65479833]]))\n"
   ]
  },
  {
   "cell_type": "markdown",
   "metadata": {
    "id": "1kALTzJhWEcO"
   },
   "source": [
    "# [20 Points ] Task 05 - Network Initialisation"
   ]
  },
  {
   "cell_type": "markdown",
   "metadata": {
    "id": "dE_zEIxSw9tP"
   },
   "source": [
    "In this task, you are required to complete the `Network` class which represents the neural network. The `__init__` function takes as an arguements two parameters: dimensions and activations. Dimensions is a list which contains the number of nodes in each layer, and activations is a list which contains the activation functions of each layer.\n",
    "\n",
    "We use Xavier Initialisation to initialise the weights i.e. $\\mathbf{W} \\sim N(0,\\frac{2}{Inputs + Outputs}) $. If you don't know about Xavier Initialization don't worry. It simply means that you will initialize weights using normal distribution where mean wil be 0 and $\\frac{2}{Inputs + Outputs} $ will be standard deviation. In addition to this, we will initialise the biases as zeros. \n",
    "\n",
    "**Hint: Use `np.random.normal` to initialise the weights. Mean is specified using `loc` and standard deviation is specified by `scale`**\n",
    "\n",
    "        [10 points] for weights initialization\n",
    "        [5 points] for biases initialization\n",
    "        [5 points] for activation ditionary initialization\n",
    "\n",
    "Please note that weights, biases and activations are initiated by index. By that what it means is biases, weights and activations are being stored in a dictionary where each index in dictionary represents the layer. For weights, biases and activation at index 2 would mean these belong to layer 2. First layer just contains input x. Second layer is hidden layer 1. Hence, Weights, biases and activation functions will start from layer 2. As for dimensions of weights and biases of matrices, look at the equations given at the start of notebook. You will see that multiplication format is x.W+h. dimensions variable contains the number of neurons in each layer. Since first layer is input, dimensions[0] is the features of input.\n"
   ]
  },
  {
   "cell_type": "code",
   "execution_count": 41,
   "metadata": {
    "id": "9gM3fohoWhMY"
   },
   "outputs": [],
   "source": [
    "#TODO: Implement the Network class which represents the neural network.\n",
    "class Network:\n",
    "\n",
    "    def __init__(self, dimensions, activations):\n",
    "        \"\"\"\n",
    "        Args\n",
    "          dimensions: (list) Dimensions of the neural net. (input, hidden layer, output)\n",
    "          activations: (list) Activations functions.\n",
    "        \"\"\"        \n",
    "        self.n_layers = len(dimensions)\n",
    "        self.loss = None\n",
    "        self.learning_rate = None\n",
    "\n",
    "        # Weights and biases are initiated by index. For a one hidden layer net you will have a w[1] and w[2]\n",
    "        self.w = {}\n",
    "        self.b = {}\n",
    "\n",
    "        # Activations are also initiated by index. For the example we will have activations[2] and activations[3]\n",
    "        self.activations = {}\n",
    "\n",
    "        for i in range(len(dimensions) - 1):\n",
    "            # Hint: Use np.sqrt as scale represents standard deviation\n",
    "            self.w[i + 2] = np.random.normal(loc=0, scale=np.sqrt(2/(dimensions[i]+dimensions[i+1])), size=(dimensions[i],dimensions[i+1]))\n",
    "            self.b[i + 2] = np.zeros(dimensions[i+1])\n",
    "            self.activations[i + 2] = activations[i]"
   ]
  },
  {
   "cell_type": "code",
   "execution_count": 42,
   "metadata": {
    "colab": {
     "base_uri": "https://localhost:8080/"
    },
    "id": "I-VmziDLWnDt",
    "outputId": "a4899ead-3a7c-4c0d-b289-225e74619292"
   },
   "outputs": [
    {
     "name": "stdout",
     "output_type": "stream",
     "text": [
      "W[2]: [[-0.26358081 -0.03558627 -1.35104904]\n",
      " [ 1.03739835 -1.13426826 -0.53236778]]\n",
      "W[2] Shape: (2, 3)\n",
      "W[3]: [[ 0.35559086]\n",
      " [-0.88055165]\n",
      " [-0.74808519]]\n",
      "W[3] Shape: (3, 1)\n",
      "B[2]: [0. 0. 0.]\n",
      "B[2] Shape: (3,)\n",
      "B[3]: [0.]\n",
      "B[3] Shape: (1,)\n",
      "A[2]: <class '__main__.Relu'>\n",
      "A[3]: <class '__main__.Sigmoid'>\n"
     ]
    }
   ],
   "source": [
    "# DO NOT EDIT\n",
    "# Test Case to check Network Initialisation\n",
    "W = {2: np.array([[-0.26358081, -0.03558627, -1.35104904],[ 1.03739835, -1.13426826, -0.53236778]]), 3: np.array([[ 0.35559086],[-0.88055165],[-0.74808519]])}\n",
    "B = {2: np.array([0., 0., 0.]), 3: np.array([0.])}\n",
    "Activations = {2: Relu, 3: Sigmoid}\n",
    "np.random.seed(2)\n",
    "nn = Network((2, 3, 1), (Relu, Sigmoid))\n",
    "for i in nn.w:\n",
    "  print(f\"W[{i}]: {nn.w[i]}\\nW[{i}] Shape: {nn.w[i].shape}\")\n",
    "for i in nn.b:\n",
    "  print(f\"B[{i}]: {nn.b[i]}\\nB[{i}] Shape: {nn.b[i].shape}\")\n",
    "for i in nn.activations:\n",
    "  print(f\"A[{i}]: {nn.activations[i]}\")\n",
    "for key,value in nn.w.items():\n",
    "  assert np.allclose(nn.w[key],  W[key])\n",
    "for key,value in nn.b.items():\n",
    "  assert np.allclose(nn.b[key],  B[key])\n",
    "for key,value in nn.activations.items():\n",
    "  assert nn.activations[key] ==  Activations[key]"
   ]
  },
  {
   "cell_type": "markdown",
   "metadata": {
    "id": "hq9JgKrrcad6"
   },
   "source": [
    "# [20 Points] Task 06 - Forward Pass"
   ]
  },
  {
   "cell_type": "markdown",
   "metadata": {
    "id": "UWngUwINBNUQ"
   },
   "source": [
    "In this task, you are require to implement the forward which executes the forward pass.\n",
    "\n",
    "$$ \\mathbf{y}_ i =  \\mathbf{h}_{(i - 1)} \\cdot \\mathbf{w}_i + \\mathbf{b}_i \\tag {6.1} $$\n",
    "$$ \\mathbf{h}_i = activation\\_function(\\mathbf{y}_i) \\tag{6.2} $$\n",
    "\n",
    "Just like the previous task, we will also store the output of each y and each hidden layer in a dictionary. Both dictionaries have already been initialized. Complete the forward function given below to compute the forward pass.\n"
   ]
  },
  {
   "cell_type": "code",
   "execution_count": 43,
   "metadata": {
    "id": "hndYMWtqa3A0"
   },
   "outputs": [],
   "source": [
    "#TODO: Implement the function forward which represents the forward pass of a Neural Network.\n",
    "def forward(model,x):\n",
    "      \"\"\"\n",
    "      Args\n",
    "        model: (Network) Network Object\n",
    "        X: (array) Batch of input data vectors.\n",
    "      Return\n",
    "        (z,a): (tuple) Node outputs and activations per layer. \n",
    "      \"\"\"\n",
    "      # w(x) + b\n",
    "      y = {}\n",
    "      # activations: f(z)\n",
    "      # First layer has no activations as input. The input x is the input.\n",
    "      h = {1: x}  \n",
    "      for i in range(1, model.n_layers):\n",
    "          # current layer = i\n",
    "          # activation layer = i + 1\n",
    "          # Refer to equation (6.1)\n",
    "          y[i + 1] = np.dot(h[i],model.w[i+1])+model.b[i+1]\n",
    "          # Pass the output from the layer z[i+1] to the model.activations[i+1] activation \n",
    "          # Refer to equation (6.2)\n",
    "          h[i + 1] = model.activations[i+1].activation(y[i + 1])\n",
    "      return y, h"
   ]
  },
  {
   "cell_type": "code",
   "execution_count": 44,
   "metadata": {
    "colab": {
     "base_uri": "https://localhost:8080/"
    },
    "id": "RbdLzmeMlxmx",
    "outputId": "89bc5b50-0046-43e7-a2c5-42830cb393a0"
   },
   "outputs": [
    {
     "name": "stdout",
     "output_type": "stream",
     "text": [
      "Input: [[0.77395605 0.43887844]\n",
      " [0.85859792 0.69736803]\n",
      " [0.09417735 0.97562235]\n",
      " [0.7611397  0.78606431]\n",
      " [0.12811363 0.45038594]\n",
      " [0.37079802 0.92676499]\n",
      " [0.64386512 0.82276161]\n",
      " [0.4434142  0.22723872]\n",
      " [0.55458479 0.06381726]\n",
      " [0.82763117 0.6316644 ]]\n",
      "H[1]: (10, 2): [[0.77395605 0.43887844]\n",
      " [0.85859792 0.69736803]\n",
      " [0.09417735 0.97562235]\n",
      " [0.7611397  0.78606431]\n",
      " [0.12811363 0.45038594]\n",
      " [0.37079802 0.92676499]\n",
      " [0.64386512 0.82276161]\n",
      " [0.4434142  0.22723872]\n",
      " [0.55458479 0.06381726]\n",
      " [0.82763117 0.6316644 ]]\n",
      "H[2]: (10, 3): [[0.25129181 0.         0.        ]\n",
      " [0.49713851 0.         0.        ]\n",
      " [0.98728567 0.         0.        ]\n",
      " [0.61483999 0.         0.        ]\n",
      " [0.43346133 0.         0.        ]\n",
      " [0.86368923 0.         0.        ]\n",
      " [0.68382105 0.         0.        ]\n",
      " [0.1188616  0.         0.        ]\n",
      " [0.         0.         0.        ]\n",
      " [0.43713991 0.         0.        ]]\n",
      "H[3]: (10, 1): [[0.52232442]\n",
      " [0.54407974]\n",
      " [0.58687697]\n",
      " [0.55444119]\n",
      " [0.53845761]\n",
      " [0.57618213]\n",
      " [0.56049236]\n",
      " [0.51056495]\n",
      " [0.5       ]\n",
      " [0.53878268]]\n",
      "Y[2]: (10, 3): [[ 0.25129181 -0.52534809 -1.27929731]\n",
      " [ 0.49713851 -0.82155671 -1.53126416]\n",
      " [ 0.98728567 -1.10996888 -0.64662812]\n",
      " [ 0.61483999 -0.91869391 -1.44681237]\n",
      " [ 0.43346133 -0.51541756 -0.41285876]\n",
      " [ 0.86368923 -1.06439543 -0.99434613]\n",
      " [ 0.68382105 -0.95614514 -1.30790512]\n",
      " [ 0.1188616  -0.27352912 -0.7200489 ]\n",
      " [-0.07997399 -0.09212149 -0.78324549]\n",
      " [ 0.43713991 -0.74592918 -1.45444807]]\n",
      "Y[3]: (10, 1): [[0.08935707]\n",
      " [0.17677791]\n",
      " [0.35106976]\n",
      " [0.21863148]\n",
      " [0.15413489]\n",
      " [0.30711999]\n",
      " [0.24316052]\n",
      " [0.0422661 ]\n",
      " [0.        ]\n",
      " [0.15544296]]\n"
     ]
    }
   ],
   "source": [
    "# DO NOT EDIT\n",
    "# Test Case to check forward pass\n",
    "Y = {\n",
    "2: np.array([[ 0.25129181, -0.52534809, -1.27929731],[ 0.49713851, -0.82155671, -1.53126416],[ 0.98728567, -1.10996888, -0.64662812],[ 0.61483999, -0.91869391, -1.44681237],[ 0.43346133, -0.51541756, -0.41285876],[ 0.86368923, -1.06439543, -0.99434613],[ 0.68382105, -0.95614514, -1.30790512],[ 0.1188616 , -0.27352912, -0.7200489 ],[-0.07997399, -0.09212149, -0.78324549],[ 0.43713991, -0.74592918, -1.45444807]]), \n",
    "3: np.array([[0.08935707],[0.17677791],[0.35106976],[0.21863148],[0.15413489],[0.30711999],[0.24316052],[0.0422661 ],[0.],[0.15544296]])\n",
    "}\n",
    "H = {\n",
    "1: np.array([[0.77395605, 0.43887844],[0.85859792, 0.69736803],[0.09417735, 0.97562235],[0.7611397 , 0.78606431],[0.12811363, 0.45038594],[0.37079802, 0.92676499],[0.64386512, 0.82276161],[0.4434142 , 0.22723872],[0.55458479, 0.06381726],[0.82763117, 0.6316644 ]]),\n",
    "2: np.array([[0.25129181, 0.        , 0.        ],[0.49713851, 0.        , 0.        ],[0.98728567, 0.        , 0.        ],[0.61483999, 0.        , 0.        ],[0.43346133, 0.        , 0.        ],[0.86368923, 0.        , 0.        ],[0.68382105, 0.        , 0.        ],[0.1188616 , 0.        , 0.        ],[0.        , 0.        , 0.        ],[0.43713991, 0.        , 0.        ]]),\n",
    "3: np.array([[0.52232442],[0.54407974],[0.58687697],[0.55444119],[0.53845761],[0.57618213],[0.56049236],[0.51056495],[0.5       ],[0.53878268]])\n",
    "}\n",
    "np.random.seed(2)\n",
    "nn = Network((2, 3, 1), (Relu, Sigmoid))\n",
    "rng = np.random.default_rng(42)\n",
    "input = rng.random((10,2))\n",
    "print(f\"Input: {input}\")\n",
    "y,h = forward(nn,input)\n",
    "for key,value in h.items():\n",
    "  print(f\"H[{key}]: {value.shape}: {value}\")\n",
    "for key,value in y.items():\n",
    "  print(f\"Y[{key}]: {value.shape}: {value}\")\n",
    "for key,value in h.items():\n",
    "  assert np.allclose(h[key],H[key])\n",
    "for key,value in y.items():\n",
    "  assert np.allclose(y[key],Y[key])\n"
   ]
  },
  {
   "cell_type": "markdown",
   "metadata": {
    "id": "eNbKDYzfsat8"
   },
   "source": [
    "# Compute Prediction\n",
    "This function computes the prediction. We will utilize it in the below given task."
   ]
  },
  {
   "cell_type": "code",
   "execution_count": 45,
   "metadata": {
    "id": "wGp9pzw7bk4e"
   },
   "outputs": [],
   "source": [
    "def predict(model, x):\n",
    "    \"\"\"\n",
    "    Args\n",
    "      model: (network) Neural\n",
    "      X: (array) Input\n",
    "    :return: (array) A 1D array of predicted labels\n",
    "    \"\"\"\n",
    "    # Compute forward pass\n",
    "    _, h = forward(model, x)\n",
    "    return np.argmax(h[model.n_layers], axis=1)"
   ]
  },
  {
   "cell_type": "markdown",
   "metadata": {
    "id": "eo0oHCaI7s2a"
   },
   "source": [
    "# [7 Points] Task 07 - Compute accuracy"
   ]
  },
  {
   "cell_type": "markdown",
   "metadata": {
    "id": "jVuhv4DLCct-"
   },
   "source": [
    "In this task, you are required to implement the function `compute_accuracy` which takes as parameters the actual and predicted labels, and then returns the accuracy.\n",
    "Accuracy is out of 1. For example, if there are 5 values which need to be predicted and only 3 are predicted correctly then accuracy will be 3/5 = 0.6."
   ]
  },
  {
   "cell_type": "code",
   "execution_count": 46,
   "metadata": {
    "id": "h_rwOfgY7-1U"
   },
   "outputs": [],
   "source": [
    "#TODO: Implement the function compute_accuracy which implements the \n",
    "def compute_accuracy(y_pred,y_actual):\n",
    "    correct = np.sum(np.where(y_pred==y_actual,1,0))\n",
    "    acc = correct/np.shape(y_actual)[0]\n",
    "    return acc"
   ]
  },
  {
   "cell_type": "code",
   "execution_count": 47,
   "metadata": {
    "colab": {
     "base_uri": "https://localhost:8080/"
    },
    "id": "3WgubIJd8IZW",
    "outputId": "b9f8a275-1f9a-48e8-80b6-90ceb0773cab"
   },
   "outputs": [
    {
     "name": "stdout",
     "output_type": "stream",
     "text": [
      "0.2\n"
     ]
    }
   ],
   "source": [
    "# DO NOT EDIT\n",
    "# Test case to check the compute_accuracy function\n",
    "accuracy = compute_accuracy(np.array([1,2,3,4,5]),np.ones(5))\n",
    "print(accuracy)\n",
    "assert accuracy==0.2"
   ]
  },
  {
   "cell_type": "markdown",
   "metadata": {
    "id": "z5Q6dwYxczdR"
   },
   "source": [
    "# [8 Points ] Task 08 Backpropagation\n",
    "\n",
    "Complete the Backpropagation function given below. It firstly calculates gradient descent for each layer and stores them in update_params dictionary. Gradient descent for weights and biases is being calculated and stored in variables dw and db and that is being stored for each layer as a tuple in update_params variable.\n",
    "Equation for updating weights and biases are:\n",
    "$$ \\mathbf{w} =  \\mathbf{w} - \\mathbf{lr} * \\mathbf{dw} \\tag {8.1} $$\n",
    "$$ \\mathbf{b} =  \\mathbf{b} - \\mathbf{lr} * \\mathbf{db} \\tag {8.2} $$\n",
    "\n",
    "Use these to update the weights and biases given at the end.\n"
   ]
  },
  {
   "cell_type": "code",
   "execution_count": 48,
   "metadata": {
    "id": "-UaNHsk7GS3Q"
   },
   "outputs": [],
   "source": [
    "#TODO\n",
    "def backprop(model, y, h, y_true):\n",
    "    \"\"\"\n",
    "    The input dicts keys represent the layers of the net.\n",
    "    a = { 1: x,\n",
    "          2: f(w1(x) + b1)\n",
    "          3: f(w2(a2) + b2)\n",
    "    }\n",
    "    Args\n",
    "      model: (Network) Neural Network\n",
    "      z: (dict) w(x) + b\n",
    "      a: (dict) f(z)\n",
    "      y_true: (array) One hot encoded truth vector.\n",
    "    \"\"\"\n",
    "\n",
    "    # Determine partial derivative and delta for the output layer.\n",
    "    # delta output layer\n",
    "    # Refer to equation (7.1)\n",
    "    delta = model.loss.delta(y_true, h[model.n_layers])\n",
    "    # Refer to equation (7.3)\n",
    "    dw = np.dot(h[model.n_layers - 1].T, delta)\n",
    "    # Refer to equation (7.4)\n",
    "    db = np.mean(delta, axis=0)\n",
    "\n",
    "    update_params = {\n",
    "        model.n_layers - 1: (dw, delta,db)\n",
    "    }\n",
    "    # In case of three layer net will iterate over i = 2 and i = 1\n",
    "    # Determine partial derivative and delta for the rest of the layers.\n",
    "    # Each iteration requires the delta from the previous layer, propagating backwards.\n",
    "    for i in reversed(range(2, model.n_layers)):\n",
    "        # Refer to equation (7.2)\n",
    "        # Hint: delta[i+1] refers to the current value of delta, and delta[i] refers to the previous value of delta.\n",
    "        delta = np.multiply(np.dot(delta, model.w[i+1].T), model.activations[i].prime(y[i]))\n",
    "        # Refer to equation (7.3)\n",
    "        dw = np.dot(h[i-1].T, delta)\n",
    "        # Refer to equation (7.4)\n",
    "        # Hint: Use np.mean(axis=0)\n",
    "        db = np.mean(delta, axis=0)\n",
    "        update_params[i] = (dw, delta,db)\n",
    "\n",
    "    # Update the weights and biases\n",
    "    for index, (dw,delta,db) in update_params.items():\n",
    "      # w = w - lr * dw\n",
    "      model.w[index] = model.w[index] - model.learning_rate*dw\n",
    "      # b = b - lr * db\n",
    "      model.b[index] = model.b[index] - model.learning_rate*db\n"
   ]
  },
  {
   "cell_type": "markdown",
   "metadata": {},
   "source": [
    "# Minibatches\n",
    "\n",
    "Minibatches function will be used to divide the dataset into small batches to process them in small batches instead of full dataset. It is being called in fit function."
   ]
  },
  {
   "cell_type": "code",
   "execution_count": 49,
   "metadata": {},
   "outputs": [],
   "source": [
    "def create_minibatches(x,y,batch_size):\n",
    "   indices = np.arange(x.shape[0])\n",
    "   np.random.shuffle(indices)\n",
    "   X_shuffled = x[indices]\n",
    "   Y_shuffled = y[indices]\n",
    "   \n",
    "   n_batches = int(np.ceil(x.shape[0] // batch_size))\n",
    "   for i in range(n_batches):\n",
    "     x_batch = X_shuffled[i*batch_size:i*batch_size+batch_size]\n",
    "     y_batch = Y_shuffled[i*batch_size:i*batch_size+batch_size]\n",
    "     yield x_batch, y_batch"
   ]
  },
  {
   "cell_type": "markdown",
   "metadata": {
    "id": "iKxl_hniffhx"
   },
   "source": [
    "# Fit Function\n",
    "Fit function is main training loop for data. It implements the forward and backward pass on each epoch and then plots the loss at the end."
   ]
  },
  {
   "cell_type": "code",
   "execution_count": 50,
   "metadata": {
    "id": "sxHsSqRPfnjD"
   },
   "outputs": [],
   "source": [
    "def fit (model, x, y, loss, epochs, batch_size, learning_rate=1e-3):\n",
    "        \"\"\"\n",
    "        Args\n",
    "          x: (array) Containing parameters\n",
    "          y: (array) Containing one hot encoded labels.\n",
    "          loss: Loss class (MSE, CrossEntropy etc.)\n",
    "          epochs: (int) Number of epochs.\n",
    "          batch_size: (int)\n",
    "          learning_rate: (flt)\n",
    "        \"\"\"\n",
    "        if not x.shape[0] == y.shape[0]:\n",
    "            raise ValueError(\"Length of x and y arrays don't match\")\n",
    "        # Initiate the loss object with the final activation function\n",
    "        loss_plot = []\n",
    "        model.loss = loss\n",
    "        model.learning_rate = learning_rate\n",
    "        \n",
    "\n",
    "        for i in range(epochs + 1):\n",
    "          for x_,y_ in create_minibatches(x,y,batch_size):\n",
    "            # Compute forward pass on x_\n",
    "            z,a = forward(model, x_)\n",
    "            # Compute backward pass on y_\n",
    "            backprop(model, z, a, y_)\n",
    "\n",
    "            \n",
    "          # Compute forward pass on the entire dataset\n",
    "          _, a = forward(model, x)\n",
    "          # Compute the loss using y and the output from the last activation layer\n",
    "          out = a[model.n_layers]\n",
    "          l = CrossEntropy.loss(y,out)\n",
    "          loss_plot.append(l)\n",
    "          print(f'Epoch: {i} , Loss: {l}')\n",
    "        plt.figure(figsize=(10,8))\n",
    "        plt.grid()\n",
    "        plt.title(\"Cross Entropy Loss vs. Epochs\")\n",
    "        plt.xlabel(\"Epochs\")\n",
    "        plt.ylabel(\"Cross Entropy Loss\")\n",
    "        plt.plot(loss_plot)\n",
    "        plt.show()"
   ]
  },
  {
   "cell_type": "markdown",
   "metadata": {
    "id": "XanOPISig-QD"
   },
   "source": [
    "# Combining it all together"
   ]
  },
  {
   "cell_type": "code",
   "execution_count": 51,
   "metadata": {
    "id": "qAT3L4Nkd7hg"
   },
   "outputs": [],
   "source": [
    "# DO NOT EDIT\n",
    "X = data[\"data\"]\n",
    "y = data[\"target\"]"
   ]
  },
  {
   "cell_type": "code",
   "execution_count": 52,
   "metadata": {
    "colab": {
     "base_uri": "https://localhost:8080/"
    },
    "id": "-BHBc79keceR",
    "outputId": "d894329a-0fdc-46af-ebd6-171230427b22"
   },
   "outputs": [
    {
     "data": {
      "text/plain": [
       "((1797, 64), (1797,))"
      ]
     },
     "execution_count": 52,
     "metadata": {},
     "output_type": "execute_result"
    }
   ],
   "source": [
    "# DO NOT EDIT\n",
    "X.shape,y.shape"
   ]
  },
  {
   "cell_type": "code",
   "execution_count": 53,
   "metadata": {
    "id": "PTM2OFqRyMOE"
   },
   "outputs": [],
   "source": [
    "# DO NOT EDIT\n",
    "X_train,X_test,Y_train,Y_test = sklearn.model_selection.train_test_split(X,y,test_size=0.2,random_state=2)"
   ]
  },
  {
   "cell_type": "code",
   "execution_count": 54,
   "metadata": {
    "colab": {
     "base_uri": "https://localhost:8080/"
    },
    "id": "gl0DQPulD3VT",
    "outputId": "107d82b2-a3f9-4550-d773-84019bd296d4"
   },
   "outputs": [
    {
     "name": "stdout",
     "output_type": "stream",
     "text": [
      "(1437, 64) (360, 64) (1437,) (360,)\n"
     ]
    }
   ],
   "source": [
    "# DO NOT EDIT\n",
    "print(X_train.shape,X_test.shape,Y_train.shape,Y_test.shape)"
   ]
  },
  {
   "cell_type": "code",
   "execution_count": 55,
   "metadata": {
    "colab": {
     "base_uri": "https://localhost:8080/",
     "height": 1000
    },
    "id": "b7Lb_kGG3iuO",
    "outputId": "3c013ef6-b7b7-45a8-be3a-7d0d202e6f74"
   },
   "outputs": [
    {
     "name": "stdout",
     "output_type": "stream",
     "text": [
      "{2: <class '__main__.Relu'>, 3: <class '__main__.Relu'>, 4: <class '__main__.Sigmoid'>, 5: <class '__main__.Softmax'>}\n",
      "Epoch: 0 , Loss: 2.2370976233537383\n",
      "Epoch: 1 , Loss: 2.153313428687875\n",
      "Epoch: 2 , Loss: 2.073239358892152\n",
      "Epoch: 3 , Loss: 2.009347382263222\n",
      "Epoch: 4 , Loss: 1.959335434645732\n",
      "Epoch: 5 , Loss: 1.9107280841663195\n",
      "Epoch: 6 , Loss: 1.8785506411806463\n",
      "Epoch: 7 , Loss: 1.8506879335258717\n",
      "Epoch: 8 , Loss: 1.8272634219463253\n",
      "Epoch: 9 , Loss: 1.8089186613981394\n",
      "Epoch: 10 , Loss: 1.790201620615629\n",
      "Epoch: 11 , Loss: 1.770579271164323\n",
      "Epoch: 12 , Loss: 1.753153029766976\n",
      "Epoch: 13 , Loss: 1.7405638185788745\n",
      "Epoch: 14 , Loss: 1.7281455938498724\n",
      "Epoch: 15 , Loss: 1.7143976241189522\n",
      "Epoch: 16 , Loss: 1.7028723922348408\n",
      "Epoch: 17 , Loss: 1.6958836875061851\n",
      "Epoch: 18 , Loss: 1.684138897814151\n",
      "Epoch: 19 , Loss: 1.6770929946841977\n",
      "Epoch: 20 , Loss: 1.6589196094977379\n",
      "Epoch: 21 , Loss: 1.648874153021108\n",
      "Epoch: 22 , Loss: 1.6381254406050823\n",
      "Epoch: 23 , Loss: 1.6271807560566736\n",
      "Epoch: 24 , Loss: 1.6200375626347407\n",
      "Epoch: 25 , Loss: 1.6158846043873412\n",
      "Epoch: 26 , Loss: 1.6110876301845214\n",
      "Epoch: 27 , Loss: 1.6042743214820119\n",
      "Epoch: 28 , Loss: 1.6019975561781192\n",
      "Epoch: 29 , Loss: 1.5948935996226525\n",
      "Epoch: 30 , Loss: 1.5908909676253458\n",
      "Epoch: 31 , Loss: 1.5882804038684455\n",
      "Epoch: 32 , Loss: 1.5860878593838263\n",
      "Epoch: 33 , Loss: 1.5832355063452745\n",
      "Epoch: 34 , Loss: 1.5792237367308022\n",
      "Epoch: 35 , Loss: 1.5776412786286271\n",
      "Epoch: 36 , Loss: 1.5741752602041192\n",
      "Epoch: 37 , Loss: 1.569350444816367\n",
      "Epoch: 38 , Loss: 1.5659226576230418\n",
      "Epoch: 39 , Loss: 1.5639662499550584\n",
      "Epoch: 40 , Loss: 1.5617802628172208\n",
      "Epoch: 41 , Loss: 1.5601907924054093\n",
      "Epoch: 42 , Loss: 1.5561307054152214\n",
      "Epoch: 43 , Loss: 1.5542806981163289\n",
      "Epoch: 44 , Loss: 1.552964960998431\n",
      "Epoch: 45 , Loss: 1.5511549734030181\n",
      "Epoch: 46 , Loss: 1.5499850402156097\n",
      "Epoch: 47 , Loss: 1.5488330287590792\n",
      "Epoch: 48 , Loss: 1.546125647160261\n",
      "Epoch: 49 , Loss: 1.5443850794831036\n",
      "Epoch: 50 , Loss: 1.5432774788501393\n"
     ]
    },
    {
     "data": {
      "image/png": "[encoded data removed]",
      "text/plain": [
       "<Figure size 1000x800 with 1 Axes>"
      ]
     },
     "metadata": {},
     "output_type": "display_data"
    }
   ],
   "source": [
    "# DO NOT EDIT\n",
    "np.random.seed(2)\n",
    "mlp = Network((64,32,64,128,10),(Relu,Relu,Sigmoid,Softmax))\n",
    "print(mlp.activations)\n",
    "fit(mlp,X_train,Y_train,CrossEntropy,batch_size=32,learning_rate=5e-4,epochs=50)"
   ]
  },
  {
   "cell_type": "code",
   "execution_count": 56,
   "metadata": {
    "colab": {
     "base_uri": "https://localhost:8080/"
    },
    "id": "_S38I0vvyzlv",
    "outputId": "29fa5be3-b1cf-4221-e73d-0c9069ebdc3d"
   },
   "outputs": [
    {
     "data": {
      "text/plain": [
       "0.9527777777777777"
      ]
     },
     "execution_count": 56,
     "metadata": {},
     "output_type": "execute_result"
    }
   ],
   "source": [
    "#  DO NOT EDIT\n",
    "y_pred = predict(mlp,X_test)\n",
    "y_acc = compute_accuracy(y_pred,Y_test)\n",
    "y_acc"
   ]
  }
 ],
 "metadata": {
  "colab": {
   "collapsed_sections": [],
   "provenance": []
  },
  "kernelspec": {
   "display_name": "Python 3",
   "language": "python",
   "name": "python3"
  },
  "language_info": {
   "codemirror_mode": {
    "name": "ipython",
    "version": 3
   },
   "file_extension": ".py",
   "mimetype": "text/x-python",
   "name": "python",
   "nbconvert_exporter": "python",
   "pygments_lexer": "ipython3",
   "version": "3.9.2"
  }
 },
 "nbformat": 4,
 "nbformat_minor": 4
}
