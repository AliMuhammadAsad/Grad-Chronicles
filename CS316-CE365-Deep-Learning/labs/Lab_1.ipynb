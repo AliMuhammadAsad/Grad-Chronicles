{
 "cells": [
  {
   "cell_type": "markdown",
   "metadata": {},
   "source": [
    "# Lab 1: Numpy Basics"
   ]
  },
  {
   "cell_type": "code",
   "execution_count": 1,
   "metadata": {},
   "outputs": [],
   "source": [
    "import numpy as np"
   ]
  },
  {
   "cell_type": "markdown",
   "metadata": {},
   "source": [
    "#### Question 1 - Generate Natural Numbers\n",
    "\n",
    "Write a function that generates a numpy array of natural numbers from 1 to `n` (both inclusive)."
   ]
  },
  {
   "cell_type": "code",
   "execution_count": 4,
   "metadata": {},
   "outputs": [],
   "source": [
    "# Complete the 'generateNNaturalNumbers' function below.\n",
    "#\n",
    "# The function is expected to return a numpy array.\n",
    "# The function accepts an INTEGER n as parameter.\n",
    "#\n",
    "\n",
    "def generateNNaturalNumbers(n):\n",
    "    # Write your code here\n",
    "    return np.arange(1, n+1)"
   ]
  },
  {
   "cell_type": "markdown",
   "metadata": {},
   "source": [
    "#### Question 2 - Pacman Score"
   ]
  },
  {
   "cell_type": "code",
   "execution_count": 10,
   "metadata": {},
   "outputs": [],
   "source": [
    "# Complete the 'pacmanScore' function below.\n",
    "#\n",
    "# The function is expected to return a np scalar int.\n",
    "# The function accepts following parameters:\n",
    "#  1. np scalar float time\n",
    "#  2. np scalar int dots\n",
    "#  3. np scalar int berries\n",
    "#  4. np scalar int ghosts\n",
    "#\n",
    "\n",
    "def pacmanScore(time, dots, berries, ghosts):\n",
    "    # Write your code here. REMEMBER TO RETURN AN INTEGER\n",
    "    S = np.add(np.add(np.multiply(100, ghosts), np.multiply(50, dots)), np.multiply(10, np.max(time - 30, 0)))\n",
    "    S = 10 * max(time - 30, 0) + 20 * dots + 50 * berries + 100 * ghosts\n",
    "    return np.array(S, int)"
   ]
  },
  {
   "cell_type": "markdown",
   "metadata": {},
   "source": [
    "#### Question 3 - Calculate BMI"
   ]
  },
  {
   "cell_type": "code",
   "execution_count": 12,
   "metadata": {},
   "outputs": [],
   "source": [
    "# Complete the 'calculateBMI' function below.\n",
    "#\n",
    "# The function is expected to return an np scalar float.\n",
    "# The function accepts following parameters:\n",
    "#  1. np scalar float height\n",
    "#  2. np scalar float weight\n",
    "#\n",
    "\n",
    "def calculateBMI(height, weight):\n",
    "    # Write your code here\n",
    "    bmi = np.divide(weight, np.power(np.divide(height, 100), 2))\n",
    "    return np.round(bmi, 2)"
   ]
  },
  {
   "cell_type": "markdown",
   "metadata": {},
   "source": [
    "#### Question 4 - Calculate BMI using numpy arrays"
   ]
  },
  {
   "cell_type": "code",
   "execution_count": 14,
   "metadata": {},
   "outputs": [],
   "source": [
    "# Complete the 'calculateBMI' function below.\n",
    "#\n",
    "# The function is expected to return a numpy vector.\n",
    "# The function accepts following parameters:\n",
    "#  1. numpy vector of floats heights\n",
    "#  2. numpy vector of floats weights\n",
    "#\n",
    "\n",
    "def calculateBMI(heights, weights):\n",
    "    # Write your code here\n",
    "    bmi = np.divide(weights, np.square(np.divide(heights, 100)))\n",
    "    return np.round(bmi, 2)"
   ]
  },
  {
   "cell_type": "markdown",
   "metadata": {},
   "source": [
    "#### Question 5 - Influence, Index and Arrays"
   ]
  },
  {
   "cell_type": "code",
   "execution_count": 16,
   "metadata": {},
   "outputs": [],
   "source": [
    "def billionaire_influence(current_landscape, demands):\n",
    "    # Hint: Column Broadcast\n",
    "    # Write your code here\n",
    "    return current_landscape + demands\n",
    "\n",
    "def politician_influence(current_landscape, index, update_amount):\n",
    "    # Hint : Column Broadcast\n",
    "    # write your code here\n",
    "    current_landscape[:, index] += update_amount\n",
    "    return current_landscape"
   ]
  },
  {
   "cell_type": "markdown",
   "metadata": {},
   "source": [
    "#### Question 6 - Generate Multiplication table from two arrays"
   ]
  },
  {
   "cell_type": "code",
   "execution_count": 19,
   "metadata": {},
   "outputs": [],
   "source": [
    "# Complete the 'getMultiplicationTable' function below.\n",
    "\n",
    "def getMultiplicationTable(multiply_with_left, multiply_with_right):\n",
    "    # We generate a multiplication table\n",
    "    # we can multiply [1, 2, 3] with [1, 2, 3, 4] to get:\n",
    "    # [1, 2, 3, 4], [2, 4, 6, 8], [3, 6, 9, 12]\n",
    "    # The first row contains 1*1, 1*2, 1*3, 1*4\n",
    "    # Write your code here\n",
    "    table = np.multiply(multiply_with_left.reshape(-1, 1), multiply_with_right)\n",
    "    return table"
   ]
  },
  {
   "cell_type": "markdown",
   "metadata": {},
   "source": [
    "#### Question 7 - Softmax Function Preprocessing"
   ]
  },
  {
   "cell_type": "code",
   "execution_count": 24,
   "metadata": {},
   "outputs": [],
   "source": [
    "# Complete the 'softmax_preprocess' function below.\n",
    "#\n",
    "# The function is expected to return a 2D numpy array.\n",
    "# The function accepts 2D numpy array y as parameter.\n",
    "#\n",
    "# The function should subtract the maximum value in each row from all the elements of that row.\n",
    "\n",
    "def softmax_preprocess(y):\n",
    "    # Write your code here\n",
    "    y = np.subtract(y, np.max(y, axis=1).reshape(-1, 1))\n",
    "    return y"
   ]
  }
 ],
 "metadata": {
  "kernelspec": {
   "display_name": "Python 3",
   "language": "python",
   "name": "python3"
  },
  "language_info": {
   "codemirror_mode": {
    "name": "ipython",
    "version": 3
   },
   "file_extension": ".py",
   "mimetype": "text/x-python",
   "name": "python",
   "nbconvert_exporter": "python",
   "pygments_lexer": "ipython3",
   "version": "3.10.12"
  }
 },
 "nbformat": 4,
 "nbformat_minor": 2
}
