{
  "cells": [
    {
      "cell_type": "markdown",
      "metadata": {},
      "source": [
        "# CS 316 : Introduction to Deep Learning\n",
        "## Lab 03 : Calculus & Probability\n",
        "### Dr. Abdul Samad"
      ]
    },
    {
      "cell_type": "markdown",
      "metadata": {},
      "source": [
        "# Overview"
      ]
    },
    {
      "cell_type": "markdown",
      "metadata": {},
      "source": [
        "Hello, students. This lab will cover the fundamentals of calculus and probability with a focus on Deep Learning-related concepts. The goal of this lab is to teach students how to use calculus and probability in Python."
      ]
    },
    {
      "cell_type": "markdown",
      "metadata": {},
      "source": [
        "# Setup"
      ]
    },
    {
      "cell_type": "code",
      "execution_count": 1,
      "metadata": {
        "id": "W5DPlUwMCCsP"
      },
      "outputs": [
        {
          "name": "stdout",
          "output_type": "stream",
          "text": [
            "1.21.5\n"
          ]
        }
      ],
      "source": [
        "# Import numpy using the alias np\n",
        "import numpy as np\n",
        "print(np.__version__)\n",
        "# Import matplotlib.pyplot using the plt\n",
        "import matplotlib.pyplot as plt\n",
        "from scipy import stats\n"
      ]
    },
    {
      "cell_type": "markdown",
      "metadata": {},
      "source": [
        "# Calculus"
      ]
    },
    {
      "cell_type": "markdown",
      "metadata": {},
      "source": [
        "## Derivatives"
      ]
    },
    {
      "cell_type": "markdown",
      "metadata": {
        "collapsed": false,
        "id": "0vP2iLSnCCsY"
      },
      "source": [
        "We begin by addressing the calculation of derivatives, a crucial step in nearly all deep learning optimization algorithms.\n",
        "In deep learning, we typically choose loss functions that are differentiable with respect to our model's parameters.\n",
        "Put simply, this means that for each parameter, we can determine how rapidly the loss would increase or decrease,\n",
        "were we to *increase* or *decrease* that parameter by an infinitesimally small amount.\n",
        "\n",
        "Suppose that we have a function $f: \\mathbb{R} \\rightarrow \\mathbb{R}$, whose input and output are both scalars. \n",
        "The *derivative* of $f$ is defined as\n",
        "\n",
        "\n",
        "$$f'(x) = \\lim_{h \\rightarrow 0} \\frac{f(x+h) - f(x)}{h} $$\n",
        "\n",
        "\n",
        "if this limit exists.\n",
        "If $f'(a)$ exists, $f$ is said to be *differentiable* at $a$.\n",
        "If $f$ is differentiable at every number of an interval, then this function is differentiable on this interval.\n",
        "We can interpret the derivative $f'(x)$ as the *instantaneous* rate of change of $f(x)$ with respect to $x$.\n",
        "The so-called instantaneous rate of change is based on the variation $h$ in $x$, which approaches $0$.\n",
        "\n",
        "\n"
      ]
    },
    {
      "cell_type": "markdown",
      "metadata": {},
      "source": [
        "To illustrate derivatives, let us experiment with an example. Define $u = f(x) = 3x^2-4x$"
      ]
    },
    {
      "cell_type": "code",
      "execution_count": 2,
      "metadata": {
        "id": "lcy1zXT7CCsb"
      },
      "outputs": [],
      "source": [
        "def f(x):\n",
        "    return 3 * x ** 2 - 4 * x"
      ]
    },
    {
      "cell_type": "markdown",
      "metadata": {
        "collapsed": false,
        "id": "X2nSpX6rCCsd"
      },
      "source": [
        "By setting $x=1$ and letting $h$ approach $0$, the numerical result of $\\frac{f(x+h) - f(x)}{h}$ approaches $2$.\n",
        "Though this experiment is not a mathematical proof, we will see later that the derivative $u'$ is $2$ when $x=1$.\n"
      ]
    },
    {
      "cell_type": "code",
      "execution_count": 3,
      "metadata": {
        "id": "juZF1PXsCCsd",
        "outputId": "cbd4473b-ccc7-490f-9b7d-650d6479188b"
      },
      "outputs": [
        {
          "name": "stdout",
          "output_type": "stream",
          "text": [
            "h=0.10000, numerical limit=2.30000\n",
            "h=0.01000, numerical limit=2.03000\n",
            "h=0.00100, numerical limit=2.00300\n",
            "h=0.00010, numerical limit=2.00030\n",
            "h=0.00001, numerical limit=2.00003\n"
          ]
        }
      ],
      "source": [
        "def numerical_lim(f, x, h):\n",
        "    return (f(x + h) - f(x)) / h\n",
        "\n",
        "h = 0.1\n",
        "for i in range(5):\n",
        "    print(f'h={h:.5f}, numerical limit={numerical_lim(f, 1, h):.5f}')\n",
        "    h *= 0.1"
      ]
    },
    {
      "cell_type": "markdown",
      "metadata": {},
      "source": [
        "## Scalar Differentiation"
      ]
    },
    {
      "cell_type": "markdown",
      "metadata": {},
      "source": [
        "Let us familiarize ourselves with a few equivalent notations for derivatives.\n",
        "Given $y = f(x)$, where $x$ and $y$ are the independent variable and the dependent variable of the function $f$, respectively. The following expressions are equivalent:\n",
        "\n",
        "$$f'(x) = y' = \\frac{dy}{dx} = \\frac{df}{dx} = \\frac{d}{dx} f(x) = Df(x) = D_x f(x),$$\n",
        "\n",
        "where symbols $\\frac{d}{dx}$ and $D$ are *differentiation operators* that indicate operation of *differentiation*."
      ]
    },
    {
      "cell_type": "markdown",
      "metadata": {
        "collapsed": false,
        "id": "C1COKo2uCCsg"
      },
      "source": [
        "\n",
        "We can use the following rules to differentiate common functions:\n",
        "\n",
        "* $DC = 0$ ($C$ is a constant),\n",
        "* $Dx^n = nx^{n-1}$ (the *power rule*, $n$ is any real number),\n",
        "* $De^x = e^x$,\n",
        "* $D\\ln(x) = 1/x.$\n",
        "\n",
        "To differentiate a function that is formed from a few simpler functions such as the above common functions,\n",
        "the following rules can be handy for us.\n",
        "Suppose that functions $f$ and $g$ are both differentiable and $C$ is a constant,\n",
        "we have the *constant multiple rule*\n",
        "\n",
        "$$\\frac{d}{dx} [Cf(x)] = C \\frac{d}{dx} f(x),$$\n",
        "\n",
        "the *sum rule*\n",
        "\n",
        "$$\\frac{d}{dx} [f(x) + g(x)] = \\frac{d}{dx} f(x) + \\frac{d}{dx} g(x),$$\n",
        "\n",
        "the *product rule*\n",
        "\n",
        "$$\\frac{d}{dx} [f(x)g(x)] = f(x) \\frac{d}{dx} [g(x)] + g(x) \\frac{d}{dx} [f(x)],$$\n",
        "\n",
        "and the *quotient rule*\n",
        "\n",
        "$$\\frac{d}{dx} \\left[\\frac{f(x)}{g(x)}\\right] = \\frac{g(x) \\frac{d}{dx} [f(x)] - f(x) \\frac{d}{dx} [g(x)]}{[g(x)]^2}.$$\n",
        "\n"
      ]
    },
    {
      "cell_type": "markdown",
      "metadata": {},
      "source": [
        "Now we can apply a few of the above rules to find $u' = f'(x) = 3 \\frac{d}{dx} x^2-4\\frac{d}{dx}x = 6x-4$.\n",
        "Thus, by setting $x = 1$, we have $u' = 2$. This is supported by our earlier experiment in this section\n",
        "where the numerical result approaches $2$. This derivative is also the slope of the tangent line\n",
        "to the curve $u = f(x)$ when $x = 1$.\n",
        "\n",
        "\n"
      ]
    },
    {
      "cell_type": "markdown",
      "metadata": {},
      "source": [
        "To visualize such an interpretation of derivatives, we will use `matplotlib`,  a popular plotting library in Python. The plot of  the function $u = f(x)$ and its tangent line $y = 2x - 3$ at $x=1$, where the coefficient $2$ is the slope of the tangent line can be seen in the figure below."
      ]
    },
    {
      "cell_type": "code",
      "execution_count": 4,
      "metadata": {
        "id": "0YRVHOQCCCsk",
        "outputId": "584ab8ae-b9dc-430d-c6df-6a09c4d25df3"
      },
      "outputs": [
        {
          "data": {
            "image/png": "[encoded data removed]",
            "text/plain": [
              "<Figure size 432x288 with 1 Axes>"
            ]
          },
          "metadata": {
            "needs_background": "light"
          },
          "output_type": "display_data"
        }
      ],
      "source": [
        "x = np.arange(0, 3, 0.1)\n",
        "plt.plot(x,f(x))\n",
        "plt.plot(x,2*x-3)\n",
        "plt.ylabel('f(x)')\n",
        "plt.xlabel('x')\n",
        "plt.title('Plot of f(x) vs x')\n",
        "plt.show()"
      ]
    },
    {
      "cell_type": "markdown",
      "metadata": {},
      "source": [
        "## Partial Derivatives"
      ]
    },
    {
      "cell_type": "markdown",
      "metadata": {},
      "source": [
        "\n",
        "\n",
        "So far we have dealt with the differentiation of functions of just one variable.\n",
        "In deep learning, functions often depend on *many* variables.\n",
        "Thus, we need to extend the ideas of differentiation to these *multivariate* functions.\n",
        "\n",
        "\n",
        "Let $y = f(x_1, x_2, \\ldots, x_n)$ be a function with $n$ variables. The *partial derivative* of $y$ with respect to its $i^\\mathrm{th}$  parameter $x_i$ is\n",
        "\n",
        "$$ \\frac{\\partial y}{\\partial x_i} = \\lim_{h \\rightarrow 0} \\frac{f(x_1, \\ldots, x_{i-1}, x_i+h, x_{i+1}, \\ldots, x_n) - f(x_1, \\ldots, x_i, \\ldots, x_n)}{h}.$$\n",
        "\n",
        "\n",
        "To calculate $\\frac{\\partial y}{\\partial x_i}$, we can simply treat $x_1, \\ldots, x_{i-1}, x_{i+1}, \\ldots, x_n$ as constants and calculate the derivative of $y$ with respect to $x_i$.\n",
        "For notation of partial derivatives, the following are equivalent:\n",
        "\n",
        "$$\\frac{\\partial y}{\\partial x_i} = \\frac{\\partial f}{\\partial x_i} = f_{x_i} = f_i = D_i f = D_{x_i} f.$$\n"
      ]
    },
    {
      "cell_type": "markdown",
      "metadata": {},
      "source": [
        "\n",
        "## Gradients\n"
      ]
    },
    {
      "cell_type": "markdown",
      "metadata": {},
      "source": [
        "\n",
        "We can concatenate partial derivatives of a multivariate function with respect to all its variables to obtain the *gradient* vector of the function.\n",
        "Suppose that the input of function $f: \\mathbb{R}^n \\rightarrow \\mathbb{R}$ is an $n$-dimensional vector $\\mathbf{x} = [x_1, x_2, \\ldots, x_n]^\\top$ and the output is a scalar. The gradient of the function $f(\\mathbf{x})$ with respect to $\\mathbf{x}$ is a vector of $n$ partial derivatives:\n",
        "\n",
        "$$\\nabla_{\\mathbf{x}} f(\\mathbf{x}) = \\bigg[\\frac{\\partial f(\\mathbf{x})}{\\partial x_1}, \\frac{\\partial f(\\mathbf{x})}{\\partial x_2}, \\ldots, \\frac{\\partial f(\\mathbf{x})}{\\partial x_n}\\bigg]^\\top,$$\n",
        "\n",
        "where $\\nabla_{\\mathbf{x}} f(\\mathbf{x})$ is often replaced by $\\nabla f(\\mathbf{x})$ when there is no ambiguity.\n",
        "\n",
        "Let $\\mathbf{x}$ be an $n$-dimensional vector, the following rules are often used when differentiating multivariate functions:\n",
        "\n",
        "* For all $\\mathbf{A} \\in \\mathbb{R}^{m \\times n}$, $\\nabla_{\\mathbf{x}} \\mathbf{A} \\mathbf{x} = \\mathbf{A}$,\n",
        "* For all  $\\mathbf{A} \\in \\mathbb{R}^{n \\times m}$, $\\nabla_{\\mathbf{x}} \\mathbf{x}^\\top \\mathbf{A}  = \\mathbf{A}^\\top$,\n",
        "* For all  $\\mathbf{A} \\in \\mathbb{R}^{n \\times n}$, $\\nabla_{\\mathbf{x}} \\mathbf{x}^\\top \\mathbf{A} \\mathbf{x}  = (\\mathbf{A} + \\mathbf{A}^\\top)\\mathbf{x}$,\n",
        "* $\\nabla_{\\mathbf{x}} \\|\\mathbf{x} \\|^2 = \\nabla_{\\mathbf{x}} \\mathbf{x}^\\top \\mathbf{x} = 2\\mathbf{x}^\\top$.\n",
        "\n",
        "Similarly, for any matrix $\\mathbf{X}$, we have $\\nabla_{\\mathbf{X}} \\|\\mathbf{X} \\|_F^2 = 2\\mathbf{X}^\\top$. As we will see later, gradients are useful for designing optimization algorithms in deep learning.\n"
      ]
    },
    {
      "cell_type": "markdown",
      "metadata": {},
      "source": [
        "## Chain Rule"
      ]
    },
    {
      "cell_type": "markdown",
      "metadata": {
        "collapsed": false,
        "id": "lmqlCmNFCCsl"
      },
      "source": [
        "\n",
        "\n",
        "\n",
        "However, such gradients can be hard to find.\n",
        "This is because multivariate functions in deep learning are often *composite*,\n",
        "so we may not apply any of the aforementioned rules to differentiate these functions.\n",
        "Fortunately, the *chain rule* enables us to differentiate composite functions.\n",
        "\n",
        "Let us first consider functions of a single variable.\n",
        "Suppose that functions $y=f(u)$ and $u=g(x)$ are both differentiable, then the chain rule states that\n",
        "\n",
        "$$\\frac{dy}{dx} = \\frac{dy}{du} \\frac{du}{dx}.$$\n",
        "\n",
        "Now let us turn our attention to a more general scenario\n",
        "where functions have an arbitrary number of variables.\n",
        "Suppose that the differentiable function $y$ has variables\n",
        "$u_1, u_2, \\ldots, u_m$, where each differentiable function $u_i$\n",
        "has variables $x_1, x_2, \\ldots, x_n$.\n",
        "Note that $y$ is a function of $x_1, x_2, \\ldots, x_n$.\n",
        "Then the chain rule gives\n",
        "\n",
        "$$\\frac{dy}{dx_i} = \\frac{dy}{du_1} \\frac{du_1}{dx_i} + \\frac{dy}{du_2} \\frac{du_2}{dx_i} + \\cdots + \\frac{dy}{du_m} \\frac{du_m}{dx_i}$$\n",
        "\n",
        "for any $i = 1, 2, \\ldots, n$."
      ]
    },
    {
      "cell_type": "markdown",
      "metadata": {},
      "source": [
        "# Probability"
      ]
    },
    {
      "cell_type": "markdown",
      "metadata": {},
      "source": [
        "Probability is the science of quantifying the unknown. To learn about patterns in data, most machine learning and deep learning algorithms use a large amount of data. When data is used in a system instead than primary logic, uncertainty rises, and as uncertainty grows, probability becomes significant. We apply common sense to a deep learning system by incorporating probability. Otherwise, the system would be exceedingly fragile and useless."
      ]
    },
    {
      "cell_type": "markdown",
      "metadata": {},
      "source": [
        "## Foundations of Probability"
      ]
    },
    {
      "cell_type": "markdown",
      "metadata": {},
      "source": [
        "In class, we defined the main probability concepts. However, in this lab, we will look at how concepts are important in understanding the **hello world** of Deep Learning - MNIST Digit Classification.\n"
      ]
    },
    {
      "cell_type": "markdown",
      "metadata": {},
      "source": [
        "\n",
        "<img src=\"https://miro.medium.com/max/1400/1*nbOBjRK0GqUyXqlNQhEZjw.png\" width=400 height=400 />\n",
        "\n",
        "The MNIST Dataset contains images of hand written digits 0 - 9. Each image is a greyscale image of size 28 x 28. The goal of Deep learning is to classify classify handwritten digits and label them. Let's suppose the neural network to classify these images is as follows. **[You don't need to have an indepth understaning of the neural networks for this lab ]**\n",
        "\n",
        "<img src=\"https://miro.medium.com/max/1400/1*E0TXv0DYkOMjTk4tA14osQ.png\" width=400 height=400>\n",
        "\n",
        "The input layer is a vector of size 784 made by flattening the input image of size 28 by 28. The input vector is then sent to the next layer, where it is multiplied by the weights and added to the bias vector. This layer has ten neurons, implying that there are ten digits. This layer's output is fed to the SoftMax function. The SoftMax function returns a vector of length 10, with each element representing a probability value for each digit. The predicted label is the index of the highest-valued element."
      ]
    },
    {
      "cell_type": "markdown",
      "metadata": {},
      "source": [
        "**Where's the probability in this?**\n",
        "- **Sample Space :** The set of all possible values in an experiment. In the preceding example, the input can be from a set of images, therefore it is the sample space for the input. Similarly, the output prediction can take any value from 0 to 9, hence the digits represent the sample space for the output prediction.\n",
        "\n",
        "- **Random Variable :** A variable that can take different values of the sample space randomly. In the above neural network, the input vector x is a random variable, as is the output prediction. The neural network's weights are likewise random variables since they are initialized random using a probability distribution.\n",
        "- **Probability Distribution :** The probability distribution is a description of how likely the random variable is to take on different values of the sample space. The neural network's weights are drawn from a probability distribution. The output vector y follows the SoftMax distribution, which is also a probability distribution that represents the likelihood of X assuming various digit values. "
      ]
    },
    {
      "cell_type": "markdown",
      "metadata": {},
      "source": [
        "## Measures of central tendency and variation"
      ]
    },
    {
      "cell_type": "markdown",
      "metadata": {},
      "source": [
        "Let's simulate a 1000 rolls of a six sided fair die."
      ]
    },
    {
      "cell_type": "code",
      "execution_count": 5,
      "metadata": {},
      "outputs": [
        {
          "data": {
            "image/png": "[encoded data removed]",
            "text/plain": [
              "<Figure size 432x288 with 1 Axes>"
            ]
          },
          "metadata": {
            "needs_background": "light"
          },
          "output_type": "display_data"
        }
      ],
      "source": [
        "dieRolls = np.random.randint(low=1,high=7,size=70000)\n",
        "plt.hist(dieRolls,bins=[1,2,3,4,5,6,7], align='left', rwidth=0.3, color='Red',density=True)\n",
        "plt.xlabel('x')\n",
        "plt.ylabel('P(X=x)')\n",
        "plt.title('Histogram of the rolls of a fair six sided die')\n",
        "plt.show()"
      ]
    },
    {
      "cell_type": "markdown",
      "metadata": {},
      "source": [
        "As the size (number of samples) increases, the height of the  all rectangles becomes roughly the same i.e. approach the PMF of fair six sided die. Furthermore, the mean, median and variance also approach the actual values."
      ]
    },
    {
      "cell_type": "code",
      "execution_count": 6,
      "metadata": {},
      "outputs": [
        {
          "name": "stdout",
          "output_type": "stream",
          "text": [
            "Expected Value:- 3.496442857142857; Median:- 3.0; Variance:- 2.8994730610204082\n"
          ]
        }
      ],
      "source": [
        "print(f'Expected Value:- {np.mean(dieRolls)}; Median:- {np.median(dieRolls)}; Variance:- {np.var(dieRolls)}')"
      ]
    },
    {
      "cell_type": "markdown",
      "metadata": {},
      "source": [
        "## Probability Distributions"
      ]
    },
    {
      "cell_type": "markdown",
      "metadata": {},
      "source": [
        "### Discrete Distributions"
      ]
    },
    {
      "cell_type": "markdown",
      "metadata": {},
      "source": [
        "#### Discrete Uniform Distribution"
      ]
    },
    {
      "cell_type": "code",
      "execution_count": 7,
      "metadata": {},
      "outputs": [
        {
          "name": "stdout",
          "output_type": "stream",
          "text": [
            "Mean : 3.50 , Variance : 2.92 \n"
          ]
        },
        {
          "data": {
            "image/png": "[encoded data removed]",
            "text/plain": [
              "<Figure size 432x288 with 1 Axes>"
            ]
          },
          "metadata": {
            "needs_background": "light"
          },
          "output_type": "display_data"
        }
      ],
      "source": [
        "rv = stats.randint(1,7)\n",
        "mean, var = rv.stats(moments='mv') # Compute Mean and Variance\n",
        "print(\"Mean : {m:.2f} , Variance : {v:.2f} \".format(m=mean,v=var))\n",
        "x = np.arange(1,7)\n",
        "f = rv.pmf(x)\n",
        "# Plot PMF\n",
        "# ms: size of o\n",
        "plt.plot(x, f, 'ro', ms=10);\n",
        "# alpha: transparency of the line\n",
        "# lw: line width\n",
        "# Plot VLINES\n",
        "plt.vlines(x, 0, f, colors='r', lw=5, alpha=0.5)\n",
        "plt.ylim (0,1)\n",
        "plt.title(\"Discrete Uniform Random Variable\")\n",
        "plt.show()\n"
      ]
    },
    {
      "cell_type": "markdown",
      "metadata": {},
      "source": [
        "#### Bernoulli Distribution"
      ]
    },
    {
      "cell_type": "code",
      "execution_count": 8,
      "metadata": {},
      "outputs": [
        {
          "data": {
            "image/png": "[encoded data removed]",
            "text/plain": [
              "<Figure size 432x288 with 1 Axes>"
            ]
          },
          "metadata": {
            "needs_background": "light"
          },
          "output_type": "display_data"
        },
        {
          "name": "stdout",
          "output_type": "stream",
          "text": [
            "Mean : 0.30 , Variance : 0.21 \n"
          ]
        }
      ],
      "source": [
        "\n",
        "p=0.3 # p is the probability of a single success.\n",
        "rv = stats.bernoulli(p) # Create Bernoulli Random Variable\n",
        "mean, var = rv.stats(moments='mv') # Compute Mean and Variance\n",
        "x = np.arange(2)\n",
        "f = rv.pmf(x)\n",
        "# Plot PMF\n",
        "# ms: size of o\n",
        "plt.plot(x, f, 'go', ms=10);\n",
        "# alpha: transparency of the line\n",
        "# lw: line width\n",
        "# Plot VLINES\n",
        "plt.vlines(x, 0, f, colors='g', lw=5, alpha=0.5)\n",
        "plt.ylim (0,1)\n",
        "plt.legend(labels = [\"p = {v}\".format(v=p)])\n",
        "plt.title(\"Bernoulli Random Variable\")\n",
        "plt.show()\n",
        "print(\"Mean : {m:.2f} , Variance : {v:.2f} \".format(m=mean,v=var))\n",
        "\n"
      ]
    },
    {
      "cell_type": "markdown",
      "metadata": {},
      "source": [
        "#### Binomial Random Variable"
      ]
    },
    {
      "cell_type": "code",
      "execution_count": 9,
      "metadata": {},
      "outputs": [
        {
          "data": {
            "image/png": "[encoded data removed]",
            "text/plain": [
              "<Figure size 432x288 with 1 Axes>"
            ]
          },
          "metadata": {
            "needs_background": "light"
          },
          "output_type": "display_data"
        },
        {
          "name": "stdout",
          "output_type": "stream",
          "text": [
            "Mean : 3.00 , Variance : 2.10 \n"
          ]
        }
      ],
      "source": [
        "\n",
        "p = 0.3\n",
        "# p is the probability of a single success.\n",
        "rv = stats.binom(p=0.3,n=10) # Create Bernoulli Random Variable\n",
        "mean, var = rv.stats(moments='mv') # Compute Mean and Variance\n",
        "x = np.arange(11)\n",
        "f = rv.pmf(x)\n",
        "# Plot PMF\n",
        "# ms: size of o\n",
        "plt.plot(x, f,'bo', ms=10);\n",
        "# alpha: transparency of the line\n",
        "# lw: line width\n",
        "# Plot VLINES\n",
        "plt.vlines(x, 0, f, colors='b', lw=5, alpha=0.5)\n",
        "plt.ylim (0,1)\n",
        "plt.legend(labels = [\"p = {v}, n = {w}\".format(v=p,w=10)])\n",
        "plt.title(\"Bernoulli Random Variable\")\n",
        "plt.show()\n",
        "print(\"Mean : {m:.2f} , Variance : {v:.2f} \".format(m=mean,v=var))\n",
        "\n"
      ]
    },
    {
      "cell_type": "markdown",
      "metadata": {},
      "source": [
        "#### Poisson Distribution"
      ]
    },
    {
      "cell_type": "code",
      "execution_count": 10,
      "metadata": {},
      "outputs": [
        {
          "data": {
            "image/png": "[encoded data removed]",
            "text/plain": [
              "<Figure size 432x288 with 1 Axes>"
            ]
          },
          "metadata": {
            "needs_background": "light"
          },
          "output_type": "display_data"
        },
        {
          "name": "stdout",
          "output_type": "stream",
          "text": [
            "Mean : 10.00 , Variance : 10.00 \n"
          ]
        }
      ],
      "source": [
        "lambd = 10\n",
        "rv = stats.poisson(lambd) # Create Poisson Random Variable\n",
        "mean, var = rv.stats(moments='mv') # Compute Mean and Variance\n",
        "x = np.arange(11)\n",
        "f = rv.pmf(x)\n",
        "# Plot PMF\n",
        "# ms: size of o\n",
        "plt.plot(x, f, 'mo', ms=10);\n",
        "# alpha: transparency of the line\n",
        "# lw: line width\n",
        "# Plot VLINES\n",
        "plt.vlines(x, 0, f, colors='m', lw=5, alpha=0.5)\n",
        "plt.ylim (0,1)\n",
        "plt.legend(labels = [\"Lambda = {v}\".format(v=lambd)])\n",
        "plt.title(\"Poisson  Random Variable\")\n",
        "plt.show()\n",
        "print(\"Mean : {m:.2f} , Variance : {v:.2f} \".format(m=mean,v=var))"
      ]
    },
    {
      "cell_type": "markdown",
      "metadata": {},
      "source": [
        "### Continous Distribution"
      ]
    },
    {
      "cell_type": "markdown",
      "metadata": {},
      "source": [
        "#### Continous Uniform Distribution"
      ]
    },
    {
      "cell_type": "code",
      "execution_count": 11,
      "metadata": {},
      "outputs": [
        {
          "name": "stdout",
          "output_type": "stream",
          "text": [
            "Mean : 0.00 , Variance : 0.03 \n"
          ]
        },
        {
          "data": {
            "image/png": "[encoded data removed]",
            "text/plain": [
              "<Figure size 432x288 with 1 Axes>"
            ]
          },
          "metadata": {
            "needs_background": "light"
          },
          "output_type": "display_data"
        }
      ],
      "source": [
        "rv = stats.uniform(loc=-0.316,scale=0.632) # Create Poisson Random Variable\n",
        "mean, var = rv.stats(moments='mv') # Compute Mean and Variance\n",
        "print(\"Mean : {m:.2f} , Variance : {v:.2f} \".format(m=mean,v=var))\n",
        "x = np.linspace(rv.ppf(0.1),rv.ppf(0.99),100)\n",
        "f = rv.pdf(x)\n",
        "plt.plot(x, f, lw=5, alpha=0.6, label='norm pdf',color='tab:green');\n",
        "#plt.legend(labels = [f'Low: {low}; High: {high}'])\n",
        "plt.title(\"Normal  Random Variable\")\n",
        "plt.show()\n"
      ]
    },
    {
      "cell_type": "markdown",
      "metadata": {},
      "source": [
        "#### Gaussian Distribution"
      ]
    },
    {
      "cell_type": "code",
      "execution_count": 12,
      "metadata": {},
      "outputs": [
        {
          "data": {
            "image/png": "[encoded data removed]",
            "text/plain": [
              "<Figure size 432x288 with 1 Axes>"
            ]
          },
          "metadata": {
            "needs_background": "light"
          },
          "output_type": "display_data"
        },
        {
          "name": "stdout",
          "output_type": "stream",
          "text": [
            "Mean : 0.00 , Variance : 0.09 \n"
          ]
        }
      ],
      "source": [
        "rv = stats.norm(loc=0,scale=0.3) # Create Poisson Random Variable\n",
        "mean, var = rv.stats(moments='mv') # Compute Mean and Variance\n",
        "x = np.linspace(rv.ppf(0.01),rv.ppf(0.99),100)\n",
        "f = rv.pdf(x)\n",
        "plt.plot(x, f, lw=5, alpha=0.6, label='norm pdf',color='tab:blue');\n",
        "plt.legend(labels = [\"Mean = {v}; Var = {w}\".format(v=mean, w=var)])\n",
        "plt.title(\"Normal  Random Variable\")\n",
        "plt.show()\n",
        "print(\"Mean : {m:.2f} , Variance : {v:.2f} \".format(m=mean,v=var))"
      ]
    },
    {
      "cell_type": "markdown",
      "metadata": {},
      "source": [
        "#### Exponential Distribution"
      ]
    },
    {
      "cell_type": "code",
      "execution_count": 13,
      "metadata": {},
      "outputs": [
        {
          "name": "stdout",
          "output_type": "stream",
          "text": [
            "Mean : 10.00 , Variance : 100.00 \n"
          ]
        },
        {
          "data": {
            "image/png": "[encoded data removed]",
            "text/plain": [
              "<Figure size 432x288 with 1 Axes>"
            ]
          },
          "metadata": {
            "needs_background": "light"
          },
          "output_type": "display_data"
        }
      ],
      "source": [
        "scale = 10\n",
        "rv = stats.expon(scale=scale) # Create Poisson Random Variable\n",
        "mean, var = rv.stats(moments='mv') # Compute Mean and Variance\n",
        "print(\"Mean : {m:.2f} , Variance : {v:.2f} \".format(m=mean,v=var))\n",
        "x = np.linspace(rv.ppf(0.01),rv.ppf(0.99),100)\n",
        "f = rv.pdf(x)\n",
        "plt.plot(x, f, lw=5, alpha=0.6, label='norm pdf',color='tab:red');\n",
        "plt.legend(labels = [f'Lambda = {np.round(1/scale,2)}'])\n",
        "plt.title(\"Normal  Random Variable\")\n",
        "plt.show()\n"
      ]
    }
  ],
  "metadata": {
    "colab": {
      "name": "Lab_3_Calculus_Probability.ipynb",
      "provenance": []
    },
    "kernelspec": {
      "display_name": "Python 3.9.12 ('base')",
      "language": "python",
      "name": "python3"
    },
    "language_info": {
      "codemirror_mode": {
        "name": "ipython",
        "version": 3
      },
      "file_extension": ".py",
      "mimetype": "text/x-python",
      "name": "python",
      "nbconvert_exporter": "python",
      "pygments_lexer": "ipython3",
      "version": "3.9.12"
    },
    "vscode": {
      "interpreter": {
        "hash": "341ce806ad348c6396969bf6bfc3e3b2899dcbddac3f00a64251096e015967a2"
      }
    }
  },
  "nbformat": 4,
  "nbformat_minor": 0
}
