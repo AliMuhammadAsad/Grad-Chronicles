{
  "nbformat": 4,
  "nbformat_minor": 0,
  "metadata": {
    "colab": {
      "provenance": [],
      "gpuType": "T4",
      "toc_visible": true
    },
    "kernelspec": {
      "name": "python3",
      "display_name": "Python 3"
    },
    "language_info": {
      "name": "python"
    },
    "accelerator": "GPU"
  },
  "cells": [
    {
      "cell_type": "markdown",
      "source": [
        "# CS 316 : Introduction to Deep Learning\n",
        "## Lab 08 : Introduction to Tensorflow & CNNs\n",
        "### Dr. Abdul Samad"
      ],
      "metadata": {
        "id": "Sg4ClogU13X-"
      }
    },
    {
      "cell_type": "markdown",
      "source": [
        "#Instructions\n",
        "\n",
        "1. Please rename your notebook as Lab_8_aa1234.ipynb before the final submission. Notebooks which do not follow appropriate naming convention will not be graded.\n",
        "2. The deadline to submit this lab is 11:59 PM.\n",
        "3. Please submit your own work. If you have any questions, please feel free to reach out to the course instructor , RA or TA."
      ],
      "metadata": {
        "id": "SJgjARYO2j8D"
      }
    },
    {
      "cell_type": "markdown",
      "source": [
        "# Overview\n",
        "In this lab, you have been given an implementation of the LeNet model for classfying the MNIST model. Your task is to perform model fine-tuning and hyperparameter tuning to improve the model's peformance."
      ],
      "metadata": {
        "id": "XopcFe9c3ger"
      }
    },
    {
      "cell_type": "markdown",
      "source": [
        "# Setup"
      ],
      "metadata": {
        "id": "Jueroxf3HQPV"
      }
    },
    {
      "cell_type": "code",
      "execution_count": 35,
      "metadata": {
        "id": "_KW1QQBdHNF9"
      },
      "outputs": [],
      "source": [
        "# DO NOT EDIT\n",
        "import tensorflow as tf\n",
        "from tensorflow.keras import layers, models\n",
        "from tensorflow.keras.datasets import fashion_mnist\n",
        "from tensorflow.keras.utils import to_categorical"
      ]
    },
    {
      "cell_type": "markdown",
      "source": [
        "# Load Fashion MNIST"
      ],
      "metadata": {
        "id": "iJEWw_qBHmjA"
      }
    },
    {
      "cell_type": "code",
      "source": [
        "# DO NOT EDIT\n",
        "# Load the Fashion MNIST dataset\n",
        "(train_images, train_labels), (test_images, test_labels) = fashion_mnist.load_data()"
      ],
      "metadata": {
        "id": "bP7JBR5JHn-u"
      },
      "execution_count": 36,
      "outputs": []
    },
    {
      "cell_type": "markdown",
      "source": [
        "# Preprocess the dataset"
      ],
      "metadata": {
        "id": "U_6dnLp6Hqn6"
      }
    },
    {
      "cell_type": "code",
      "source": [
        "# DO NOT EDIT\n",
        "# Preprocess the data\n",
        "train_images = train_images.reshape((60000, 28, 28, 1))\n",
        "test_images = test_images.reshape((10000, 28, 28, 1))\n",
        "train_images = train_images.astype('float32') / 255\n",
        "test_images = test_images.astype('float32') / 255"
      ],
      "metadata": {
        "id": "8npSQGH8HvoS"
      },
      "execution_count": 37,
      "outputs": []
    },
    {
      "cell_type": "markdown",
      "source": [
        "# Convert Labels to Categorical"
      ],
      "metadata": {
        "id": "eYb_smjfH4N2"
      }
    },
    {
      "cell_type": "code",
      "source": [
        "# DO NOT EDIT\n",
        "train_labels = to_categorical(train_labels)\n",
        "test_labels = to_categorical(test_labels)"
      ],
      "metadata": {
        "id": "6QfjMgeOH2eJ"
      },
      "execution_count": 38,
      "outputs": []
    },
    {
      "cell_type": "markdown",
      "source": [
        "# Plot sample images from the dataset"
      ],
      "metadata": {
        "id": "iif3V0VEH-09"
      }
    },
    {
      "cell_type": "code",
      "source": [
        "# DO NOT EDIT\n",
        "#Plot sample images\n",
        "import matplotlib.pyplot as plt\n",
        "# Select a random image from the training set\n",
        "random_image = train_images[0]\n",
        "plt.imshow(random_image, cmap='gray')"
      ],
      "metadata": {
        "colab": {
          "base_uri": "https://localhost:8080/",
          "height": 447
        },
        "id": "HDPvcMVeICpk",
        "outputId": "1da57975-eb3b-4ab2-ff65-d0369e2b0747"
      },
      "execution_count": 39,
      "outputs": [
        {
          "output_type": "execute_result",
          "data": {
            "text/plain": [
              "<matplotlib.image.AxesImage at 0x7c13f8349330>"
            ]
          },
          "metadata": {},
          "execution_count": 39
        },
        {
          "output_type": "display_data",
          "data": {
            "text/plain": [
              "<Figure size 640x480 with 1 Axes>"
            ],
            "image/png": "[encoded data removed]"
          },
          "metadata": {}
        }
      ]
    },
    {
      "cell_type": "markdown",
      "source": [
        "# Create LeNet-5 Model"
      ],
      "metadata": {
        "id": "iwGOZeW9IO1F"
      }
    },
    {
      "cell_type": "code",
      "source": [
        "# DO NOT EDIT\n",
        "# Define LeNet-5 model using the LeNet class\n",
        "class LeNet:\n",
        "  def __init__(self, input_shape, num_classes):\n",
        "    self.input_shape = input_shape\n",
        "    self.num_classes = num_classes\n",
        "    self.model = self.build_model()\n",
        "\n",
        "  # Build the model\n",
        "  def build_model(self):\n",
        "    model = models.Sequential()\n",
        "    model.add(layers.Conv2D(6, (5, 5), activation='sigmoid', input_shape=self.input_shape,padding='same'))\n",
        "    model.add(layers.AveragePooling2D((2, 2)))\n",
        "    model.add(layers.Conv2D(16, (5, 5), activation='sigmoid'))\n",
        "    model.add(layers.AveragePooling2D((2, 2)))\n",
        "    model.add(layers.Flatten())\n",
        "    model.add(layers.Dense(120, activation='sigmoid'))\n",
        "    model.add(layers.Dense(84, activation='sigmoid'))\n",
        "    model.add(layers.Dense(self.num_classes, activation='linear'))\n",
        "    return model\n",
        "  # Compile the model\n",
        "  def compile(self, optimizer, loss, metrics):\n",
        "    self.model.compile(optimizer=optimizer, loss=loss, metrics=metrics)\n",
        "  # Train the model\n",
        "  def fit(self, x, y, epochs, validation_split):\n",
        "    return self.model.fit(x, y, epochs=epochs, validation_split=validation_split)\n",
        "  # Model summary\n",
        "  def summary(self):\n",
        "    return self.model.summary()\n",
        "  # Evaluate the model\n",
        "  def evaluate(self, x, y):\n",
        "    return self.model.evaluate(x, y)\n",
        "  # Save the model\n",
        "  def save(self, path):\n",
        "    self.model.save(path)\n",
        "  # Load the model\n",
        "  def load(self, path):\n",
        "    self.model = tf.keras.models.load_model(path)\n"
      ],
      "metadata": {
        "id": "-EpGW1gXIRjf"
      },
      "execution_count": 40,
      "outputs": []
    },
    {
      "cell_type": "code",
      "source": [
        "# DO NOT EDIT\n",
        "# Instantiate the model\n",
        "model = LeNet(input_shape=(28, 28, 1), num_classes=10)\n",
        "# Summarize the model\n",
        "model.summary()\n",
        "# Compile the model\n",
        "model.compile(optimizer='adam', loss='mse', metrics=['accuracy'])\n",
        "# Train the model\n",
        "model.fit(train_images, train_labels, epochs=5, validation_split=0.1)\n",
        "# Save the model\n",
        "model.save('original.keras')\n",
        "# Load the model\n",
        "model = tf.keras.models.load_model('original.keras')\n",
        "# Evaluate the model\n",
        "model.evaluate(test_images, test_labels)"
      ],
      "metadata": {
        "colab": {
          "base_uri": "https://localhost:8080/"
        },
        "id": "vR-oyk6VIzxG",
        "outputId": "a1ebab28-090b-4d79-8287-3dfd83adcf82"
      },
      "execution_count": 41,
      "outputs": [
        {
          "output_type": "stream",
          "name": "stdout",
          "text": [
            "Model: \"sequential_14\"\n",
            "_________________________________________________________________\n",
            " Layer (type)                Output Shape              Param #   \n",
            "=================================================================\n",
            " conv2d_30 (Conv2D)          (None, 28, 28, 6)         156       \n",
            "                                                                 \n",
            " average_pooling2d_30 (Aver  (None, 14, 14, 6)         0         \n",
            " agePooling2D)                                                   \n",
            "                                                                 \n",
            " conv2d_31 (Conv2D)          (None, 10, 10, 16)        2416      \n",
            "                                                                 \n",
            " average_pooling2d_31 (Aver  (None, 5, 5, 16)          0         \n",
            " agePooling2D)                                                   \n",
            "                                                                 \n",
            " flatten_10 (Flatten)        (None, 400)               0         \n",
            "                                                                 \n",
            " dense_34 (Dense)            (None, 120)               48120     \n",
            "                                                                 \n",
            " dense_35 (Dense)            (None, 84)                10164     \n",
            "                                                                 \n",
            " dense_36 (Dense)            (None, 10)                850       \n",
            "                                                                 \n",
            "=================================================================\n",
            "Total params: 61706 (241.04 KB)\n",
            "Trainable params: 61706 (241.04 KB)\n",
            "Non-trainable params: 0 (0.00 Byte)\n",
            "_________________________________________________________________\n",
            "Epoch 1/5\n",
            "1688/1688 [==============================] - 9s 5ms/step - loss: 0.0539 - accuracy: 0.6056 - val_loss: 0.0347 - val_accuracy: 0.7622\n",
            "Epoch 2/5\n",
            "1688/1688 [==============================] - 8s 5ms/step - loss: 0.0315 - accuracy: 0.7915 - val_loss: 0.0284 - val_accuracy: 0.8073\n",
            "Epoch 3/5\n",
            "1688/1688 [==============================] - 7s 4ms/step - loss: 0.0266 - accuracy: 0.8284 - val_loss: 0.0258 - val_accuracy: 0.8295\n",
            "Epoch 4/5\n",
            "1688/1688 [==============================] - 8s 5ms/step - loss: 0.0239 - accuracy: 0.8452 - val_loss: 0.0230 - val_accuracy: 0.8468\n",
            "Epoch 5/5\n",
            "1688/1688 [==============================] - 8s 5ms/step - loss: 0.0222 - accuracy: 0.8557 - val_loss: 0.0219 - val_accuracy: 0.8577\n",
            "313/313 [==============================] - 1s 3ms/step - loss: 0.0230 - accuracy: 0.8469\n"
          ]
        },
        {
          "output_type": "execute_result",
          "data": {
            "text/plain": [
              "[0.02302335947751999, 0.8468999862670898]"
            ]
          },
          "metadata": {},
          "execution_count": 41
        }
      ]
    },
    {
      "cell_type": "markdown",
      "source": [
        "# [10 Points] Task 01 - Add more CNN Layers"
      ],
      "metadata": {
        "id": "6P8Lk7wzvK7h"
      }
    },
    {
      "cell_type": "markdown",
      "source": [
        "In this task, you have to modify the existing LeNet model to add more CNN layers. In order to do this you will create a new class `LeNetCNN` which will be based on the `LeNet` class shared earlier. After implementing the `LeNetCNN` class you have to train the model in the same way as earlier. You are also required to save the model\n",
        "\n",
        "---\n",
        "\n"
      ],
      "metadata": {
        "id": "Vf6J7zC055pE"
      }
    },
    {
      "cell_type": "code",
      "source": [
        "#TODO: Implement LeNetCNN\n",
        "class LeNetCNN:\n",
        "  def __init__(self, input_shape, num_classes):\n",
        "    self.input_shape = input_shape\n",
        "    self.num_classes = num_classes\n",
        "    self.model = self.build_model()\n",
        "\n",
        "  # Build the model\n",
        "  def build_model(self):\n",
        "    # Write your code here\n",
        "    model = models.Sequential()\n",
        "    model.add(layers.Conv2D(6, (5, 5), activation='sigmoid', input_shape=self.input_shape,padding='same'))\n",
        "    model.add(layers.AveragePooling2D((2, 2)))\n",
        "    model.add(layers.Conv2D(6, (5, 5), activation='sigmoid', input_shape=self.input_shape,padding='same'))\n",
        "    model.add(layers.AveragePooling2D((2, 2)))\n",
        "    model.add(layers.Conv2D(16, (5, 5), activation='sigmoid'))\n",
        "    model.add(layers.AveragePooling2D((2, 2)))\n",
        "    model.add(layers.Flatten())\n",
        "    model.add(layers.Dense(120, activation='sigmoid'))\n",
        "    model.add(layers.Dense(84, activation='sigmoid'))\n",
        "    model.add(layers.Dense(self.num_classes, activation='linear'))\n",
        "\n",
        "\n",
        "    return model\n",
        "  # Compile the model\n",
        "  def compile(self, optimizer, loss, metrics):\n",
        "    self.model.compile(optimizer=optimizer, loss=loss, metrics=metrics)\n",
        "  # Train the model\n",
        "  def fit(self, x, y, epochs, validation_split):\n",
        "    return self.model.fit(x, y, epochs=epochs, validation_split=validation_split)\n",
        "  # Model summary\n",
        "  def summary(self):\n",
        "    return self.model.summary()\n",
        "  # Evaluate the model\n",
        "  def evaluate(self, x, y):\n",
        "    return self.model.evaluate(x, y)\n",
        "  # Save the model\n",
        "  def save(self, path):\n",
        "    self.model.save(path)\n",
        "  # Load the model\n",
        "  def load(self, path):\n",
        "    self.model = tf.keras.models.load_model(path)\n"
      ],
      "metadata": {
        "id": "6lleF3R--jpu"
      },
      "execution_count": 42,
      "outputs": []
    },
    {
      "cell_type": "code",
      "source": [
        "# Instantiate the model\n",
        "model = LeNetCNN(input_shape=(28, 28, 1), num_classes=10)\n",
        "# Summarize the model\n",
        "model.summary()\n",
        "# Compile the model\n",
        "model.compile(optimizer='adam', loss='mse', metrics=['accuracy'])\n",
        "# Train the model\n",
        "model.fit(train_images, train_labels, epochs=5, validation_split=0.1)\n",
        "# Save the model\n",
        "model.save('original_cnn.keras')\n",
        "# Load the model\n",
        "model = tf.keras.models.load_model('original_cnn.keras')\n",
        "# Evaluate the model\n",
        "model.evaluate(test_images, test_labels)"
      ],
      "metadata": {
        "id": "Un7oHiz__ODf",
        "colab": {
          "base_uri": "https://localhost:8080/"
        },
        "outputId": "5723372d-3152-4bd2-ecc6-acec04c791bc"
      },
      "execution_count": 43,
      "outputs": [
        {
          "output_type": "stream",
          "name": "stdout",
          "text": [
            "Model: \"sequential_15\"\n",
            "_________________________________________________________________\n",
            " Layer (type)                Output Shape              Param #   \n",
            "=================================================================\n",
            " conv2d_32 (Conv2D)          (None, 28, 28, 6)         156       \n",
            "                                                                 \n",
            " average_pooling2d_32 (Aver  (None, 14, 14, 6)         0         \n",
            " agePooling2D)                                                   \n",
            "                                                                 \n",
            " conv2d_33 (Conv2D)          (None, 14, 14, 6)         906       \n",
            "                                                                 \n",
            " average_pooling2d_33 (Aver  (None, 7, 7, 6)           0         \n",
            " agePooling2D)                                                   \n",
            "                                                                 \n",
            " conv2d_34 (Conv2D)          (None, 3, 3, 16)          2416      \n",
            "                                                                 \n",
            " average_pooling2d_34 (Aver  (None, 1, 1, 16)          0         \n",
            " agePooling2D)                                                   \n",
            "                                                                 \n",
            " flatten_11 (Flatten)        (None, 16)                0         \n",
            "                                                                 \n",
            " dense_37 (Dense)            (None, 120)               2040      \n",
            "                                                                 \n",
            " dense_38 (Dense)            (None, 84)                10164     \n",
            "                                                                 \n",
            " dense_39 (Dense)            (None, 10)                850       \n",
            "                                                                 \n",
            "=================================================================\n",
            "Total params: 16532 (64.58 KB)\n",
            "Trainable params: 16532 (64.58 KB)\n",
            "Non-trainable params: 0 (0.00 Byte)\n",
            "_________________________________________________________________\n",
            "Epoch 1/5\n",
            "1688/1688 [==============================] - 10s 5ms/step - loss: 0.0720 - accuracy: 0.3925 - val_loss: 0.0530 - val_accuracy: 0.5527\n",
            "Epoch 2/5\n",
            "1688/1688 [==============================] - 8s 5ms/step - loss: 0.0469 - accuracy: 0.6714 - val_loss: 0.0410 - val_accuracy: 0.7343\n",
            "Epoch 3/5\n",
            "1688/1688 [==============================] - 8s 5ms/step - loss: 0.0392 - accuracy: 0.7319 - val_loss: 0.0381 - val_accuracy: 0.7525\n",
            "Epoch 4/5\n",
            "1688/1688 [==============================] - 8s 5ms/step - loss: 0.0358 - accuracy: 0.7518 - val_loss: 0.0336 - val_accuracy: 0.7707\n",
            "Epoch 5/5\n",
            "1688/1688 [==============================] - 8s 5ms/step - loss: 0.0333 - accuracy: 0.7687 - val_loss: 0.0317 - val_accuracy: 0.7837\n",
            "313/313 [==============================] - 1s 2ms/step - loss: 0.0330 - accuracy: 0.7679\n"
          ]
        },
        {
          "output_type": "execute_result",
          "data": {
            "text/plain": [
              "[0.03299488127231598, 0.7678999900817871]"
            ]
          },
          "metadata": {},
          "execution_count": 43
        }
      ]
    },
    {
      "cell_type": "markdown",
      "source": [
        "# [10 Points] Task 02 - Add more Dense Layers"
      ],
      "metadata": {
        "id": "edLgFroP_so_"
      }
    },
    {
      "cell_type": "markdown",
      "source": [
        "In this task, you have to modify the existing LeNet model to add more CNN layers. In order to do this you will create a new class `LeNetDense` which will be based on the `LeNet` class shared earlier. After implementing the `LeNetDense` class you have to train the model in the same way as earlier. You are also required to save the model\n",
        "\n",
        "---\n",
        "\n"
      ],
      "metadata": {
        "id": "6TuIbeX__2l6"
      }
    },
    {
      "cell_type": "code",
      "source": [
        "#TODO: Implement LeNetDense\n",
        "class LeNetDense:\n",
        "  def __init__(self, input_shape, num_classes):\n",
        "    self.input_shape = input_shape\n",
        "    self.num_classes = num_classes\n",
        "    self.model = self.build_model()\n",
        "\n",
        "  # Build the model\n",
        "  def build_model(self):\n",
        "    # Write your code here\n",
        "    model = models.Sequential()\n",
        "    model.add(layers.Conv2D(6, (5, 5), activation='sigmoid', input_shape=self.input_shape,padding='same'))\n",
        "    model.add(layers.AveragePooling2D((2, 2)))\n",
        "    model.add(layers.Conv2D(16, (5, 5), activation='sigmoid'))\n",
        "    model.add(layers.AveragePooling2D((2, 2)))\n",
        "    model.add(layers.Flatten())\n",
        "    model.add(layers.Dense(120, activation='sigmoid'))\n",
        "    model.add(layers.Dense(84, activation='sigmoid'))\n",
        "    model.add(layers.Dense(120, activation='sigmoid'))\n",
        "    model.add(layers.Dense(84, activation='sigmoid'))\n",
        "    model.add(layers.Dense(self.num_classes, activation='linear'))\n",
        "\n",
        "    return model\n",
        "  # Compile the model\n",
        "  def compile(self, optimizer, loss, metrics):\n",
        "    self.model.compile(optimizer=optimizer, loss=loss, metrics=metrics)\n",
        "  # Train the model\n",
        "  def fit(self, x, y, epochs, validation_split):\n",
        "    return self.model.fit(x, y, epochs=epochs, validation_split=validation_split)\n",
        "  # Model summary\n",
        "  def summary(self):\n",
        "    return self.model.summary()\n",
        "  # Evaluate the model\n",
        "  def evaluate(self, x, y):\n",
        "    return self.model.evaluate(x, y)\n",
        "  # Save the model\n",
        "  def save(self, path):\n",
        "    self.model.save(path)\n",
        "  # Load the model\n",
        "  def load(self, path):\n",
        "    self.model = tf.keras.models.load_model(path)\n"
      ],
      "metadata": {
        "id": "Wms3kPJP_uwY"
      },
      "execution_count": 44,
      "outputs": []
    },
    {
      "cell_type": "code",
      "source": [
        "# Instantiate the model\n",
        "model = LeNetDense(input_shape=(28, 28, 1), num_classes=10)\n",
        "# Summarize the model\n",
        "model.summary()\n",
        "# Compile the model\n",
        "model.compile(optimizer='adam', loss='mse', metrics=['accuracy'])\n",
        "# Train the model\n",
        "model.fit(train_images, train_labels, epochs=5, validation_split=0.1)\n",
        "# Save the model\n",
        "model.save('original_dense.keras')\n",
        "# Load the model\n",
        "model = tf.keras.models.load_model('original_dense.keras')\n",
        "# Evaluate the model\n",
        "model.evaluate(test_images, test_labels)"
      ],
      "metadata": {
        "id": "0ou44DWHAG-h",
        "colab": {
          "base_uri": "https://localhost:8080/"
        },
        "outputId": "053363ea-740f-4394-ef6b-4af87677ca7a"
      },
      "execution_count": 45,
      "outputs": [
        {
          "output_type": "stream",
          "name": "stdout",
          "text": [
            "Model: \"sequential_16\"\n",
            "_________________________________________________________________\n",
            " Layer (type)                Output Shape              Param #   \n",
            "=================================================================\n",
            " conv2d_35 (Conv2D)          (None, 28, 28, 6)         156       \n",
            "                                                                 \n",
            " average_pooling2d_35 (Aver  (None, 14, 14, 6)         0         \n",
            " agePooling2D)                                                   \n",
            "                                                                 \n",
            " conv2d_36 (Conv2D)          (None, 10, 10, 16)        2416      \n",
            "                                                                 \n",
            " average_pooling2d_36 (Aver  (None, 5, 5, 16)          0         \n",
            " agePooling2D)                                                   \n",
            "                                                                 \n",
            " flatten_12 (Flatten)        (None, 400)               0         \n",
            "                                                                 \n",
            " dense_40 (Dense)            (None, 120)               48120     \n",
            "                                                                 \n",
            " dense_41 (Dense)            (None, 84)                10164     \n",
            "                                                                 \n",
            " dense_42 (Dense)            (None, 120)               10200     \n",
            "                                                                 \n",
            " dense_43 (Dense)            (None, 84)                10164     \n",
            "                                                                 \n",
            " dense_44 (Dense)            (None, 10)                850       \n",
            "                                                                 \n",
            "=================================================================\n",
            "Total params: 82070 (320.59 KB)\n",
            "Trainable params: 82070 (320.59 KB)\n",
            "Non-trainable params: 0 (0.00 Byte)\n",
            "_________________________________________________________________\n",
            "Epoch 1/5\n",
            "1688/1688 [==============================] - 10s 5ms/step - loss: 0.0660 - accuracy: 0.4421 - val_loss: 0.0383 - val_accuracy: 0.7310\n",
            "Epoch 2/5\n",
            "1688/1688 [==============================] - 9s 5ms/step - loss: 0.0337 - accuracy: 0.7584 - val_loss: 0.0292 - val_accuracy: 0.7937\n",
            "Epoch 3/5\n",
            "1688/1688 [==============================] - 9s 5ms/step - loss: 0.0283 - accuracy: 0.8004 - val_loss: 0.0263 - val_accuracy: 0.8145\n",
            "Epoch 4/5\n",
            "1688/1688 [==============================] - 8s 5ms/step - loss: 0.0250 - accuracy: 0.8296 - val_loss: 0.0239 - val_accuracy: 0.8350\n",
            "Epoch 5/5\n",
            "1688/1688 [==============================] - 9s 5ms/step - loss: 0.0228 - accuracy: 0.8463 - val_loss: 0.0245 - val_accuracy: 0.8322\n",
            "313/313 [==============================] - 1s 3ms/step - loss: 0.0256 - accuracy: 0.8282\n"
          ]
        },
        {
          "output_type": "execute_result",
          "data": {
            "text/plain": [
              "[0.025601450353860855, 0.8281999826431274]"
            ]
          },
          "metadata": {},
          "execution_count": 45
        }
      ]
    },
    {
      "cell_type": "markdown",
      "source": [
        "# [10 Points] Task 03 - Replace Activation function"
      ],
      "metadata": {
        "id": "3GfGRfI1AP78"
      }
    },
    {
      "cell_type": "markdown",
      "source": [
        "In this task, you have to modify the existing LeNet model to replace the sigmoid activation function with ReLU activation function. In order to do this you will create a new class `LeNetAct` which will be based on the `LeNet` class shared earlier. After implementing the `LeNetAct` class you have to train the model in the same way as earlier. You are also required to save the model\n",
        "\n",
        "---\n",
        "\n"
      ],
      "metadata": {
        "id": "mps_TGziAqVK"
      }
    },
    {
      "cell_type": "code",
      "source": [
        "#TODO: Implement LeNetAct\n",
        "class LeNetAct:\n",
        "  def __init__(self, input_shape, num_classes):\n",
        "    self.input_shape = input_shape\n",
        "    self.num_classes = num_classes\n",
        "    self.model = self.build_model()\n",
        "\n",
        "  # Build the model\n",
        "  def build_model(self):\n",
        "    # Write your code here\n",
        "    model = models.Sequential()\n",
        "    model.add(layers.Conv2D(6, (5, 5), activation='relu', input_shape=self.input_shape,padding='same'))\n",
        "    model.add(layers.AveragePooling2D((2, 2)))\n",
        "    model.add(layers.Conv2D(16, (5, 5), activation='relu'))\n",
        "    model.add(layers.AveragePooling2D((2, 2)))\n",
        "    model.add(layers.Flatten())\n",
        "    model.add(layers.Dense(120, activation='relu'))\n",
        "    model.add(layers.Dense(84, activation='relu'))\n",
        "    model.add(layers.Dense(self.num_classes, activation='relu'))\n",
        "\n",
        "    return model\n",
        "  # Compile the model\n",
        "  def compile(self, optimizer, loss, metrics):\n",
        "    self.model.compile(optimizer=optimizer, loss=loss, metrics=metrics)\n",
        "  # Train the model\n",
        "  def fit(self, x, y, epochs, validation_split):\n",
        "    return self.model.fit(x, y, epochs=epochs, validation_split=validation_split)\n",
        "  # Model summary\n",
        "  def summary(self):\n",
        "    return self.model.summary()\n",
        "  # Evaluate the model\n",
        "  def evaluate(self, x, y):\n",
        "    return self.model.evaluate(x, y)\n",
        "  # Save the model\n",
        "  def save(self, path):\n",
        "    self.model.save(path)\n",
        "  # Load the model\n",
        "  def load(self, path):\n",
        "    self.model = tf.keras.models.load_model(path)\n"
      ],
      "metadata": {
        "id": "pITx812xApjQ"
      },
      "execution_count": 46,
      "outputs": []
    },
    {
      "cell_type": "code",
      "source": [
        "# Instantiate the model\n",
        "model = LeNetAct(input_shape=(28, 28, 1), num_classes=10)\n",
        "# Summarize the model\n",
        "model.summary()\n",
        "# Compile the model\n",
        "model.compile(optimizer='adam', loss='mse', metrics=['accuracy'])\n",
        "# Train the model\n",
        "model.fit(train_images, train_labels, epochs=5, validation_split=0.1)\n",
        "# Save the model\n",
        "model.save('original_act.keras')\n",
        "# Load the model\n",
        "model = tf.keras.models.load_model('original_act.keras')\n",
        "# Evaluate the model\n",
        "model.evaluate(test_images, test_labels)"
      ],
      "metadata": {
        "id": "HNtzC8ErDeHh",
        "colab": {
          "base_uri": "https://localhost:8080/"
        },
        "outputId": "d2cf2d7e-6e10-4b4a-f1d1-ee27c24d13bd"
      },
      "execution_count": 47,
      "outputs": [
        {
          "output_type": "stream",
          "name": "stdout",
          "text": [
            "Model: \"sequential_17\"\n",
            "_________________________________________________________________\n",
            " Layer (type)                Output Shape              Param #   \n",
            "=================================================================\n",
            " conv2d_37 (Conv2D)          (None, 28, 28, 6)         156       \n",
            "                                                                 \n",
            " average_pooling2d_37 (Aver  (None, 14, 14, 6)         0         \n",
            " agePooling2D)                                                   \n",
            "                                                                 \n",
            " conv2d_38 (Conv2D)          (None, 10, 10, 16)        2416      \n",
            "                                                                 \n",
            " average_pooling2d_38 (Aver  (None, 5, 5, 16)          0         \n",
            " agePooling2D)                                                   \n",
            "                                                                 \n",
            " flatten_13 (Flatten)        (None, 400)               0         \n",
            "                                                                 \n",
            " dense_45 (Dense)            (None, 120)               48120     \n",
            "                                                                 \n",
            " dense_46 (Dense)            (None, 84)                10164     \n",
            "                                                                 \n",
            " dense_47 (Dense)            (None, 10)                850       \n",
            "                                                                 \n",
            "=================================================================\n",
            "Total params: 61706 (241.04 KB)\n",
            "Trainable params: 61706 (241.04 KB)\n",
            "Non-trainable params: 0 (0.00 Byte)\n",
            "_________________________________________________________________\n",
            "Epoch 1/5\n",
            "1688/1688 [==============================] - 10s 4ms/step - loss: 0.0479 - accuracy: 0.6140 - val_loss: 0.0382 - val_accuracy: 0.6855\n",
            "Epoch 2/5\n",
            "1688/1688 [==============================] - 8s 5ms/step - loss: 0.0372 - accuracy: 0.6894 - val_loss: 0.0350 - val_accuracy: 0.7077\n",
            "Epoch 3/5\n",
            "1688/1688 [==============================] - 8s 5ms/step - loss: 0.0351 - accuracy: 0.7033 - val_loss: 0.0335 - val_accuracy: 0.7142\n",
            "Epoch 4/5\n",
            "1688/1688 [==============================] - 7s 4ms/step - loss: 0.0339 - accuracy: 0.7108 - val_loss: 0.0328 - val_accuracy: 0.7175\n",
            "Epoch 5/5\n",
            "1688/1688 [==============================] - 8s 5ms/step - loss: 0.0330 - accuracy: 0.7175 - val_loss: 0.0325 - val_accuracy: 0.7242\n",
            "313/313 [==============================] - 1s 3ms/step - loss: 0.0343 - accuracy: 0.7092\n"
          ]
        },
        {
          "output_type": "execute_result",
          "data": {
            "text/plain": [
              "[0.034265488386154175, 0.7092000246047974]"
            ]
          },
          "metadata": {},
          "execution_count": 47
        }
      ]
    },
    {
      "cell_type": "markdown",
      "source": [
        "# [10 Points] Task 04 - Replace Loss function"
      ],
      "metadata": {
        "id": "9lyw9XkBDnXi"
      }
    },
    {
      "cell_type": "markdown",
      "source": [
        "In this task, you have to modify the existing LeNet model by using the cross entropy loss instead of mean squared error. You will also have to replace the linear activation function with sigmoid activation function in the last layer. In order to do this you will create a new class `LeNetLoss` which will be based on the `LeNet` class shared earlier. After implementing the `LeNetLoss` class you have to train the model in the same way as earlier. You are also required to save the model\n",
        "\n",
        "---\n",
        "\n"
      ],
      "metadata": {
        "id": "3wr9YrL2DyaH"
      }
    },
    {
      "cell_type": "code",
      "source": [
        "#TODO: Implement LeNetLoss\n",
        "class LeNetLoss:\n",
        "  def __init__(self, input_shape, num_classes):\n",
        "    self.input_shape = input_shape\n",
        "    self.num_classes = num_classes\n",
        "    self.model = self.build_model()\n",
        "\n",
        "  # Build the model\n",
        "  def build_model(self):\n",
        "    # Write your code here\n",
        "    model = models.Sequential()\n",
        "    model.add(layers.Conv2D(6, (5, 5), activation='sigmoid', input_shape=self.input_shape,padding='same'))\n",
        "    model.add(layers.AveragePooling2D((2, 2)))\n",
        "    model.add(layers.Conv2D(16, (5, 5), activation='sigmoid'))\n",
        "    model.add(layers.AveragePooling2D((2, 2)))\n",
        "    model.add(layers.Flatten())\n",
        "    model.add(layers.Dense(120, activation='sigmoid'))\n",
        "    model.add(layers.Dense(84, activation='sigmoid'))\n",
        "    model.add(layers.Dense(self.num_classes, activation='sigmoid'))\n",
        "\n",
        "    return model\n",
        "  # Compile the model\n",
        "  def compile(self, optimizer, loss, metrics):\n",
        "    self.model.compile(optimizer=optimizer, loss=loss, metrics=metrics)\n",
        "  # Train the model\n",
        "  def fit(self, x, y, epochs, validation_split):\n",
        "    return self.model.fit(x, y, epochs=epochs, validation_split=validation_split)\n",
        "  # Model summary\n",
        "  def summary(self):\n",
        "    return self.model.summary()\n",
        "  # Evaluate the model\n",
        "  def evaluate(self, x, y):\n",
        "    return self.model.evaluate(x, y)\n",
        "  # Save the model\n",
        "  def save(self, path):\n",
        "    self.model.save(path)\n",
        "  # Load the model\n",
        "  def load(self, path):\n",
        "    self.model = tf.keras.models.load_model(path)\n"
      ],
      "metadata": {
        "id": "fD8r_g5vDxq1"
      },
      "execution_count": 48,
      "outputs": []
    },
    {
      "cell_type": "code",
      "source": [
        "# Instantiate the model\n",
        "model = LeNetLoss(input_shape=(28, 28, 1), num_classes=10)\n",
        "# Summarize the model\n",
        "model.summary()\n",
        "# Compile the model\n",
        "model.compile(optimizer='adam', loss='categorical_crossentropy', metrics=['accuracy'])\n",
        "# Train the model\n",
        "model.fit(train_images, train_labels, epochs=5, validation_split=0.1)\n",
        "# Save the model\n",
        "model.save('original_loss.keras')\n",
        "# Load the model\n",
        "model = tf.keras.models.load_model('original_loss.keras')\n",
        "# Evaluate the model\n",
        "model.evaluate(test_images, test_labels)"
      ],
      "metadata": {
        "id": "ofZAHNd0EXkZ",
        "colab": {
          "base_uri": "https://localhost:8080/"
        },
        "outputId": "631eb63d-2c05-4b53-96b9-b00bd64f5ee1"
      },
      "execution_count": 49,
      "outputs": [
        {
          "output_type": "stream",
          "name": "stdout",
          "text": [
            "Model: \"sequential_18\"\n",
            "_________________________________________________________________\n",
            " Layer (type)                Output Shape              Param #   \n",
            "=================================================================\n",
            " conv2d_39 (Conv2D)          (None, 28, 28, 6)         156       \n",
            "                                                                 \n",
            " average_pooling2d_39 (Aver  (None, 14, 14, 6)         0         \n",
            " agePooling2D)                                                   \n",
            "                                                                 \n",
            " conv2d_40 (Conv2D)          (None, 10, 10, 16)        2416      \n",
            "                                                                 \n",
            " average_pooling2d_40 (Aver  (None, 5, 5, 16)          0         \n",
            " agePooling2D)                                                   \n",
            "                                                                 \n",
            " flatten_14 (Flatten)        (None, 400)               0         \n",
            "                                                                 \n",
            " dense_48 (Dense)            (None, 120)               48120     \n",
            "                                                                 \n",
            " dense_49 (Dense)            (None, 84)                10164     \n",
            "                                                                 \n",
            " dense_50 (Dense)            (None, 10)                850       \n",
            "                                                                 \n",
            "=================================================================\n",
            "Total params: 61706 (241.04 KB)\n",
            "Trainable params: 61706 (241.04 KB)\n",
            "Non-trainable params: 0 (0.00 Byte)\n",
            "_________________________________________________________________\n",
            "Epoch 1/5\n",
            "1688/1688 [==============================] - 10s 5ms/step - loss: 0.9952 - accuracy: 0.6271 - val_loss: 0.6235 - val_accuracy: 0.7670\n",
            "Epoch 2/5\n",
            "1688/1688 [==============================] - 8s 5ms/step - loss: 0.5838 - accuracy: 0.7788 - val_loss: 0.5126 - val_accuracy: 0.8042\n",
            "Epoch 3/5\n",
            "1688/1688 [==============================] - 7s 4ms/step - loss: 0.5023 - accuracy: 0.8128 - val_loss: 0.4551 - val_accuracy: 0.8298\n",
            "Epoch 4/5\n",
            "1688/1688 [==============================] - 8s 5ms/step - loss: 0.4480 - accuracy: 0.8345 - val_loss: 0.4215 - val_accuracy: 0.8392\n",
            "Epoch 5/5\n",
            "1688/1688 [==============================] - 8s 5ms/step - loss: 0.4140 - accuracy: 0.8464 - val_loss: 0.4026 - val_accuracy: 0.8505\n",
            "313/313 [==============================] - 1s 3ms/step - loss: 0.4278 - accuracy: 0.8442\n"
          ]
        },
        {
          "output_type": "execute_result",
          "data": {
            "text/plain": [
              "[0.4277929663658142, 0.8442000150680542]"
            ]
          },
          "metadata": {},
          "execution_count": 49
        }
      ]
    },
    {
      "cell_type": "markdown",
      "source": [
        "#[10 Points] Task 05 - Use SGD optimizer"
      ],
      "metadata": {
        "id": "aSAGyeHqE9N_"
      }
    },
    {
      "cell_type": "markdown",
      "source": [
        "In this task instead of modifying the LeNet model, you will be training the model using SGD instead of Adam."
      ],
      "metadata": {
        "id": "uWFSoBQ5FKWH"
      }
    },
    {
      "cell_type": "code",
      "source": [
        "# Instantiate the\n",
        "model = LeNet(input_shape=(28, 28, 1), num_classes=10)\n",
        "# Summarize the model\n",
        "model.summary()\n",
        "# Compile the model using SGD\n",
        "model.compile(optimizer='sgd', loss='mse', metrics=['accuracy'])\n",
        "\n",
        "\n",
        "\n",
        "# Train the model\n",
        "model.fit(train_images, train_labels, epochs=5, validation_split=0.1)\n",
        "# Save the model\n",
        "model.save('original_sgd.keras')\n",
        "# Load the model\n",
        "model = tf.keras.models.load_model('original_sgd.keras')\n",
        "# Evaluate the model\n",
        "model.evaluate(test_images, test_labels)"
      ],
      "metadata": {
        "id": "PwHMK2GiFJeO",
        "colab": {
          "base_uri": "https://localhost:8080/"
        },
        "outputId": "1c80acb5-e04a-4e22-d76e-7c332a54c930"
      },
      "execution_count": 50,
      "outputs": [
        {
          "output_type": "stream",
          "name": "stdout",
          "text": [
            "Model: \"sequential_19\"\n",
            "_________________________________________________________________\n",
            " Layer (type)                Output Shape              Param #   \n",
            "=================================================================\n",
            " conv2d_41 (Conv2D)          (None, 28, 28, 6)         156       \n",
            "                                                                 \n",
            " average_pooling2d_41 (Aver  (None, 14, 14, 6)         0         \n",
            " agePooling2D)                                                   \n",
            "                                                                 \n",
            " conv2d_42 (Conv2D)          (None, 10, 10, 16)        2416      \n",
            "                                                                 \n",
            " average_pooling2d_42 (Aver  (None, 5, 5, 16)          0         \n",
            " agePooling2D)                                                   \n",
            "                                                                 \n",
            " flatten_15 (Flatten)        (None, 400)               0         \n",
            "                                                                 \n",
            " dense_51 (Dense)            (None, 120)               48120     \n",
            "                                                                 \n",
            " dense_52 (Dense)            (None, 84)                10164     \n",
            "                                                                 \n",
            " dense_53 (Dense)            (None, 10)                850       \n",
            "                                                                 \n",
            "=================================================================\n",
            "Total params: 61706 (241.04 KB)\n",
            "Trainable params: 61706 (241.04 KB)\n",
            "Non-trainable params: 0 (0.00 Byte)\n",
            "_________________________________________________________________\n",
            "Epoch 1/5\n",
            "1688/1688 [==============================] - 9s 5ms/step - loss: 0.0935 - accuracy: 0.1031 - val_loss: 0.0901 - val_accuracy: 0.1050\n",
            "Epoch 2/5\n",
            "1688/1688 [==============================] - 7s 4ms/step - loss: 0.0901 - accuracy: 0.1011 - val_loss: 0.0901 - val_accuracy: 0.0942\n",
            "Epoch 3/5\n",
            "1688/1688 [==============================] - 8s 5ms/step - loss: 0.0901 - accuracy: 0.1023 - val_loss: 0.0900 - val_accuracy: 0.1032\n",
            "Epoch 4/5\n",
            "1688/1688 [==============================] - 7s 4ms/step - loss: 0.0900 - accuracy: 0.1042 - val_loss: 0.0900 - val_accuracy: 0.0985\n",
            "Epoch 5/5\n",
            "1688/1688 [==============================] - 8s 4ms/step - loss: 0.0900 - accuracy: 0.1028 - val_loss: 0.0900 - val_accuracy: 0.1743\n",
            "313/313 [==============================] - 1s 3ms/step - loss: 0.0900 - accuracy: 0.1778\n"
          ]
        },
        {
          "output_type": "execute_result",
          "data": {
            "text/plain": [
              "[0.08997822552919388, 0.1777999997138977]"
            ]
          },
          "metadata": {},
          "execution_count": 50
        }
      ]
    },
    {
      "cell_type": "markdown",
      "source": [
        "# [10 Points] Task 06 - Vary the number of Epochs\n"
      ],
      "metadata": {
        "id": "X9wwovFbFyyr"
      }
    },
    {
      "cell_type": "markdown",
      "source": [
        "In this task instead of modifying the LeNet model, you will be fine tuing the number of epochs."
      ],
      "metadata": {
        "id": "v32-OY--GA6_"
      }
    },
    {
      "cell_type": "code",
      "source": [
        "# Instantiate the model\n",
        "model = LeNet(input_shape=(28, 28, 1), num_classes=10)\n",
        "# Summarize the model\n",
        "model.summary()\n",
        "# Compile the model\n",
        "model.compile(optimizer='adam', loss='mse', metrics=['accuracy'])\n",
        "# Modify the number of epochs\n",
        "model.fit(train_images, train_labels, epochs= 25, validation_split=0.1)\n",
        "# Save the model\n",
        "model.save('original_epoch.keras')\n",
        "# Load the model\n",
        "model = tf.keras.models.load_model('original_epoch.keras')\n",
        "# Evaluate the model\n",
        "model.evaluate(test_images, test_labels)"
      ],
      "metadata": {
        "id": "7NK4xc0qF-2e",
        "colab": {
          "base_uri": "https://localhost:8080/"
        },
        "outputId": "38cdd53f-b6be-4cb4-d17a-9402b2e113a5"
      },
      "execution_count": 51,
      "outputs": [
        {
          "output_type": "stream",
          "name": "stdout",
          "text": [
            "Model: \"sequential_20\"\n",
            "_________________________________________________________________\n",
            " Layer (type)                Output Shape              Param #   \n",
            "=================================================================\n",
            " conv2d_43 (Conv2D)          (None, 28, 28, 6)         156       \n",
            "                                                                 \n",
            " average_pooling2d_43 (Aver  (None, 14, 14, 6)         0         \n",
            " agePooling2D)                                                   \n",
            "                                                                 \n",
            " conv2d_44 (Conv2D)          (None, 10, 10, 16)        2416      \n",
            "                                                                 \n",
            " average_pooling2d_44 (Aver  (None, 5, 5, 16)          0         \n",
            " agePooling2D)                                                   \n",
            "                                                                 \n",
            " flatten_16 (Flatten)        (None, 400)               0         \n",
            "                                                                 \n",
            " dense_54 (Dense)            (None, 120)               48120     \n",
            "                                                                 \n",
            " dense_55 (Dense)            (None, 84)                10164     \n",
            "                                                                 \n",
            " dense_56 (Dense)            (None, 10)                850       \n",
            "                                                                 \n",
            "=================================================================\n",
            "Total params: 61706 (241.04 KB)\n",
            "Trainable params: 61706 (241.04 KB)\n",
            "Non-trainable params: 0 (0.00 Byte)\n",
            "_________________________________________________________________\n",
            "Epoch 1/25\n",
            "1688/1688 [==============================] - 9s 4ms/step - loss: 0.0567 - accuracy: 0.5767 - val_loss: 0.0369 - val_accuracy: 0.7485\n",
            "Epoch 2/25\n",
            "1688/1688 [==============================] - 8s 5ms/step - loss: 0.0330 - accuracy: 0.7779 - val_loss: 0.0287 - val_accuracy: 0.8102\n",
            "Epoch 3/25\n",
            "1688/1688 [==============================] - 8s 4ms/step - loss: 0.0273 - accuracy: 0.8217 - val_loss: 0.0261 - val_accuracy: 0.8252\n",
            "Epoch 4/25\n",
            "1688/1688 [==============================] - 8s 4ms/step - loss: 0.0243 - accuracy: 0.8429 - val_loss: 0.0231 - val_accuracy: 0.8422\n",
            "Epoch 5/25\n",
            "1688/1688 [==============================] - 8s 5ms/step - loss: 0.0224 - accuracy: 0.8533 - val_loss: 0.0221 - val_accuracy: 0.8522\n",
            "Epoch 6/25\n",
            "1688/1688 [==============================] - 7s 4ms/step - loss: 0.0211 - accuracy: 0.8622 - val_loss: 0.0231 - val_accuracy: 0.8508\n",
            "Epoch 7/25\n",
            "1688/1688 [==============================] - 8s 5ms/step - loss: 0.0201 - accuracy: 0.8684 - val_loss: 0.0202 - val_accuracy: 0.8673\n",
            "Epoch 8/25\n",
            "1688/1688 [==============================] - 8s 5ms/step - loss: 0.0193 - accuracy: 0.8740 - val_loss: 0.0193 - val_accuracy: 0.8685\n",
            "Epoch 9/25\n",
            "1688/1688 [==============================] - 7s 4ms/step - loss: 0.0185 - accuracy: 0.8796 - val_loss: 0.0189 - val_accuracy: 0.8720\n",
            "Epoch 10/25\n",
            "1688/1688 [==============================] - 8s 5ms/step - loss: 0.0179 - accuracy: 0.8835 - val_loss: 0.0198 - val_accuracy: 0.8720\n",
            "Epoch 11/25\n",
            "1688/1688 [==============================] - 8s 5ms/step - loss: 0.0174 - accuracy: 0.8868 - val_loss: 0.0179 - val_accuracy: 0.8775\n",
            "Epoch 12/25\n",
            "1688/1688 [==============================] - 7s 4ms/step - loss: 0.0168 - accuracy: 0.8901 - val_loss: 0.0175 - val_accuracy: 0.8830\n",
            "Epoch 13/25\n",
            "1688/1688 [==============================] - 8s 5ms/step - loss: 0.0164 - accuracy: 0.8932 - val_loss: 0.0176 - val_accuracy: 0.8805\n",
            "Epoch 14/25\n",
            "1688/1688 [==============================] - 8s 5ms/step - loss: 0.0160 - accuracy: 0.8955 - val_loss: 0.0168 - val_accuracy: 0.8862\n",
            "Epoch 15/25\n",
            "1688/1688 [==============================] - 7s 4ms/step - loss: 0.0157 - accuracy: 0.8971 - val_loss: 0.0169 - val_accuracy: 0.8860\n",
            "Epoch 16/25\n",
            "1688/1688 [==============================] - 8s 5ms/step - loss: 0.0153 - accuracy: 0.8989 - val_loss: 0.0164 - val_accuracy: 0.8880\n",
            "Epoch 17/25\n",
            "1688/1688 [==============================] - 8s 5ms/step - loss: 0.0150 - accuracy: 0.9020 - val_loss: 0.0164 - val_accuracy: 0.8892\n",
            "Epoch 18/25\n",
            "1688/1688 [==============================] - 7s 4ms/step - loss: 0.0148 - accuracy: 0.9025 - val_loss: 0.0163 - val_accuracy: 0.8877\n",
            "Epoch 19/25\n",
            "1688/1688 [==============================] - 8s 5ms/step - loss: 0.0144 - accuracy: 0.9057 - val_loss: 0.0167 - val_accuracy: 0.8853\n",
            "Epoch 20/25\n",
            "1688/1688 [==============================] - 7s 4ms/step - loss: 0.0141 - accuracy: 0.9063 - val_loss: 0.0158 - val_accuracy: 0.8935\n",
            "Epoch 21/25\n",
            "1688/1688 [==============================] - 8s 5ms/step - loss: 0.0139 - accuracy: 0.9084 - val_loss: 0.0158 - val_accuracy: 0.8915\n",
            "Epoch 22/25\n",
            "1688/1688 [==============================] - 8s 5ms/step - loss: 0.0136 - accuracy: 0.9102 - val_loss: 0.0154 - val_accuracy: 0.8970\n",
            "Epoch 23/25\n",
            "1688/1688 [==============================] - 7s 4ms/step - loss: 0.0134 - accuracy: 0.9114 - val_loss: 0.0155 - val_accuracy: 0.8940\n",
            "Epoch 24/25\n",
            "1688/1688 [==============================] - 8s 5ms/step - loss: 0.0131 - accuracy: 0.9142 - val_loss: 0.0155 - val_accuracy: 0.8937\n",
            "Epoch 25/25\n",
            "1688/1688 [==============================] - 8s 5ms/step - loss: 0.0130 - accuracy: 0.9141 - val_loss: 0.0148 - val_accuracy: 0.9012\n",
            "313/313 [==============================] - 1s 2ms/step - loss: 0.0157 - accuracy: 0.8913\n"
          ]
        },
        {
          "output_type": "execute_result",
          "data": {
            "text/plain": [
              "[0.0157221257686615, 0.8913000226020813]"
            ]
          },
          "metadata": {},
          "execution_count": 51
        }
      ]
    },
    {
      "cell_type": "code",
      "source": [
        "import tensorflow as tf\n",
        "import matplotlib.pyplot as plt\n",
        "\n",
        "model_files = [\n",
        "    'original.keras',\n",
        "    'original_cnn.keras',\n",
        "    'original_dense.keras',\n",
        "    'original_act.keras',\n",
        "    'original_loss.keras',\n",
        "    'original_sgd.keras',\n",
        "    'original_epoch.keras'\n",
        "]\n",
        "\n",
        "\n",
        "model_names = []\n",
        "num_params = []\n",
        "accuracies = []\n",
        "losses = []\n",
        "\n",
        "for model_file in model_files:\n",
        "    model = tf.keras.models.load_model(model_file)\n",
        "    model_name = model_file.split('.')[0]\n",
        "    num_trainable_params = sum([tf.keras.backend.count_params(w) for w in model.trainable_weights])\n",
        "    loss, accuracy = model.evaluate(test_images, test_labels)\n",
        "    model_names.append(model_name)\n",
        "    num_params.append(num_trainable_params)\n",
        "    accuracies.append(accuracy)\n",
        "    losses.append(loss)\n",
        "\n",
        "\n",
        "plt.figure(figsize=(25, 10))\n",
        "plt.subplot(1, 3, 1)\n",
        "plt.plot(model_names, num_params)\n",
        "plt.title('Number of Trainable Parameters')\n",
        "plt.xticks(rotation=45)\n",
        "plt.ylabel('Parameters Count')\n",
        "\n",
        "\n",
        "plt.subplot(1, 3, 2)\n",
        "plt.plot(model_names, accuracies)\n",
        "plt.title('Model Accuracy')\n",
        "plt.xticks(rotation=45)\n",
        "plt.ylabel('Accuracy')\n",
        "\n",
        "\n",
        "plt.subplot(1, 3, 3)\n",
        "plt.plot(model_names, losses)\n",
        "plt.title('Model Loss')\n",
        "plt.xticks(rotation=45)\n",
        "plt.ylabel('Loss')\n",
        "\n",
        "plt.tight_layout()\n",
        "plt.show()"
      ],
      "metadata": {
        "colab": {
          "base_uri": "https://localhost:8080/",
          "height": 608
        },
        "id": "Zu65DrjFtTdu",
        "outputId": "09b1436d-a0e2-4d3f-e745-e14c9c23155e"
      },
      "execution_count": 54,
      "outputs": [
        {
          "output_type": "stream",
          "name": "stdout",
          "text": [
            "313/313 [==============================] - 1s 2ms/step - loss: 0.0230 - accuracy: 0.8469\n",
            "313/313 [==============================] - 2s 3ms/step - loss: 0.0330 - accuracy: 0.7679\n",
            "313/313 [==============================] - 1s 3ms/step - loss: 0.0256 - accuracy: 0.8282\n",
            "313/313 [==============================] - 1s 3ms/step - loss: 0.0343 - accuracy: 0.7092\n",
            "313/313 [==============================] - 1s 3ms/step - loss: 0.4278 - accuracy: 0.8442\n",
            "313/313 [==============================] - 1s 3ms/step - loss: 0.0900 - accuracy: 0.1778\n",
            "313/313 [==============================] - 1s 2ms/step - loss: 0.0157 - accuracy: 0.8913\n"
          ]
        },
        {
          "output_type": "display_data",
          "data": {
            "text/plain": [
              "<Figure size 2500x1000 with 3 Axes>"
            ],
            "image/png": "[encoded data removed]"
          },
          "metadata": {}
        }
      ]
    }
  ]
}