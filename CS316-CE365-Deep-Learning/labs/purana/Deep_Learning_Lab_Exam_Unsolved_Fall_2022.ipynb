{
  "cells": [
    {
      "cell_type": "markdown",
      "metadata": {
        "id": "d4pq6xanEIrD"
      },
      "source": [
        "# CS 316: Introduction to Deep Learning\n",
        "# Lab Exam - Fall 2022\n",
        "# Dr. Abdul Samad\n",
        "Total Duration: 2 Hours and 50 minutes <br/>\n",
        "Total Points: 100 <br/>\n",
        "Name: **Write your Name Here** <br/>\n",
        "ID: **Write your Student ID** <br/>\n",
        "\n"
      ]
    },
    {
      "cell_type": "markdown",
      "metadata": {
        "id": "gNSlxKXNF0cm"
      },
      "source": [
        "# Instructions\n",
        "1. Google Colab must be used for this exam.\n",
        "2. You are not permitted to utilise the internet or any other source for this exam.\n",
        "3. Any violation shall be treated as a plagarism case.\n",
        "\n",
        "4. The error in one task will not carry to other tasks.\n",
        "\n",
        "5. The marks for each task are stated explicitly.\n",
        "\n",
        "6. Please carefully study the questions; they are self-explanatory.\n",
        "7. Rename your file as `Lab_Exam_aa01234.ipynb` where `aa01234` will be replaced by your student id."
      ]
    },
    {
      "cell_type": "markdown",
      "metadata": {
        "id": "pG28n7rAIaHB"
      },
      "source": [
        "# Exam Overview"
      ]
    },
    {
      "cell_type": "markdown",
      "metadata": {
        "id": "-yAdMT_UI-D6"
      },
      "source": [
        "In this Exam, we are implementing a neural network with 3-hidden layers and we will be using it to classify digits. Since each image is a greyscale image of size 8 x 8 it is flattened into a column vector of size 64 before being fed to the multi-layer pereceptron.\n",
        "<center>\n",
        "<img src='https://i.postimg.cc/fbFkk22f/image-004.png' alt=\"drawing\" width=\"400\" />\n",
        "<center/>\n",
        "\n",
        "\n",
        "The neural network is defined as follows:\n",
        "$$ \\mathbf{z}_1 = \\mathbf{W}_1 \\mathbf{X} + \\mathbf{b}_1 \\tag{1.1} $$\n",
        "$$ \\mathbf{a}_1 = ReLU(\\mathbf{z_1}) \\tag{1.2}$$\n",
        "$$ \\mathbf{z}_2 = \\mathbf{W}_2 \\mathbf{a_1} + \\mathbf{b}_2 \\tag{1.3}$$\n",
        "$$ \\mathbf{a}_2 = ReLU(\\mathbf{z_2}) \\tag{1.4}$$\n",
        "$$ \\mathbf{z}_3 = \\mathbf{W}_3 \\mathbf{a_2} + \\mathbf{b}_3 \\tag{1.5}$$\n",
        "$$ \\mathbf{a}_{3} = \\sigma(\\mathbf{z_3}) \\tag{1.6}$$\n",
        "$$ \\mathbf{z}_4 = \\mathbf{W}_4\\mathbf{a_3} + \\mathbf{b}_4  \\tag{1.7}$$\n",
        "$$ \\mathbf{\\hat{y}} = Softmax(\\mathbf{a}_4) \\tag{1.8}$$\n",
        "$$ L^{(i)} = -\\sum_{j=1}^{n} \\mathbf{y}^{(i)} \\log(\\mathbf{\\hat{y}^{(i)}}) \\tag{1.9}$$\n",
        "$$ J =\\frac{1}{m} \\sum_{i=1}^{m} L^{(i)} \\tag{1.10}$$\n",
        "\n"
      ]
    },
    {
      "cell_type": "markdown",
      "metadata": {
        "id": "K8G515P9GzgE"
      },
      "source": [
        "## Setup"
      ]
    },
    {
      "cell_type": "code",
      "execution_count": null,
      "metadata": {
        "id": "z5TmADQfG2Sl"
      },
      "outputs": [],
      "source": [
        "import numpy as np\n",
        "import matplotlib.pyplot as plt\n",
        "np.random.seed(42)\n",
        "from sklearn import datasets\n",
        "import sklearn.model_selection\n",
        "from IPython.display import clear_output"
      ]
    },
    {
      "cell_type": "markdown",
      "metadata": {
        "id": "7p_7hCkEQfEK"
      },
      "source": [
        "# Dataset Overview"
      ]
    },
    {
      "cell_type": "code",
      "execution_count": null,
      "metadata": {
        "colab": {
          "base_uri": "https://localhost:8080/",
          "height": 412
        },
        "id": "H86x_6UIS40Q",
        "outputId": "675c24d3-78de-4e02-dd60-b6d9cc24912e"
      },
      "outputs": [
        {
          "data": {
            "image/png": "[encoded data removed]",
            "text/plain": [
              "<Figure size 720x504 with 15 Axes>"
            ]
          },
          "metadata": {
            "needs_background": "light"
          },
          "output_type": "display_data"
        }
      ],
      "source": [
        "data = datasets.load_digits()\n",
        "X = data[\"data\"]\n",
        "Y = data[\"target\"]\n",
        "\n",
        "fig = plt.figure(figsize=(10,7))\n",
        "for i in range(15):  \n",
        "    ax = fig.add_subplot(3, 5, i+1)\n",
        "    ax.imshow(X[i].reshape((8,8)), cmap=plt.get_cmap('gray'))\n",
        "    ax.set_title('Label (y): {y}'.format(y=Y[i]))\n",
        "    plt.axis('off')"
      ]
    },
    {
      "cell_type": "markdown",
      "metadata": {
        "id": "RhgX4q1S9oT5"
      },
      "source": [
        "# [10 Points] Task 01 - Train Test Split"
      ]
    },
    {
      "cell_type": "markdown",
      "metadata": {
        "id": "YXqNwvbEUWgA"
      },
      "source": [
        "In Task 01, you are required to the implement the function `train_test_split` which splits the datasets into train and test set.\n",
        "\n",
        "**Hint: Use `rng.shuffle` to shuffle the dataset. Furthermore, instead of shuffling the dataset, shuffle the indexes.**"
      ]
    },
    {
      "cell_type": "code",
      "execution_count": null,
      "metadata": {
        "id": "Wg21ci-r95T_"
      },
      "outputs": [],
      "source": [
        "#TODO: Implement the function train_test_split\n",
        "def train_test_split(inputs,outputs,test_size,seed = 0):\n",
        "    \"\"\"\n",
        "    Splits the data into training and test sets.\n",
        "    Return 4 numpy arrays. X_train, X_test, Y_train, Y_test\n",
        "    where training data is test_size proportion of data provided.\n",
        "\n",
        "    Args:\n",
        "        inputs [np.array] : numpy array of input data\n",
        "        outputs [np.array]: numpy array of output labels\n",
        "        test_size [float]: proportion of data to be used as test data. e.g. 0.2 means 20% of data is used for test data.\n",
        "        seed [int]: A seed to create random number generator. (For reproducability) \n",
        "    \"\"\"\n",
        "   \n",
        "    rng = np.random.default_rng(seed)\n",
        "    assert(len(inputs) == len(outputs))\n",
        "    assert(test_size <= 1.0)\n",
        "    assert(test_size >= 0.0)\n",
        "    num_samples = len(inputs)\n",
        "    num_train = int(num_samples * (1.0 - test_size))\n",
        "    # Write your code here\n",
        "    \n",
        "    return X_train,X_test,Y_train,Y_test"
      ]
    },
    {
      "cell_type": "code",
      "execution_count": null,
      "metadata": {
        "colab": {
          "base_uri": "https://localhost:8080/"
        },
        "id": "dIKkouRo-y62",
        "outputId": "2402c25f-2f82-4625-a24f-3e0dab16d0e6"
      },
      "outputs": [
        {
          "name": "stdout",
          "output_type": "stream",
          "text": [
            "(12, 2) (3, 2) (12,) (3,)\n"
          ]
        }
      ],
      "source": [
        "# DO NOT EDIT\n",
        "# Test Case to check Train Test Split\n",
        "np.random.seed(1)\n",
        "x = np.random.randn(15,2)\n",
        "y = np.random.randn(15)\n",
        "X_train,X_test,Y_train,Y_test = train_test_split(x,y,test_size=0.2)\n",
        "print(X_train.shape,X_test.shape,Y_train.shape,Y_test.shape)\n",
        "assert np.allclose (X_train,np.array([[ 0.86540763, -2.3015387 ],[ 0.90159072,  0.50249434],[ 1.74481176, -0.7612069 ],[-1.10061918,  1.14472371],[ 1.62434536, -0.61175641],[ 0.3190391 , -0.24937038],[ 1.13376944, -1.09989127],[ 1.46210794, -2.06014071],[-0.26788808,  0.53035547],[ 0.90085595, -0.68372786],[-0.3224172 , -0.38405435],[ 0.04221375,  0.58281521]]))\n",
        "assert np.allclose (X_test,np.array([[-0.12289023, -0.93576943],[-0.17242821, -0.87785842],[-0.52817175, -1.07296862]]))\n",
        "assert np.allclose (Y_train,np.array([-0.6871727 , -0.88762896, -0.84520564, -0.19183555, -0.69166075,-0.67124613,  0.2344157 , -0.0126646 ,  0.05080775, -0.74715829,-1.11731035,  0.74204416]))\n",
        "assert np.allclose (Y_test, np.array([ 1.6924546 ,  1.65980218, -0.39675353]))\n"
      ]
    },
    {
      "cell_type": "markdown",
      "metadata": {
        "id": "jLHjPGdQNHEC"
      },
      "source": [
        "# [10 Points] Task 02 -  Activation Functions"
      ]
    },
    {
      "cell_type": "markdown",
      "metadata": {
        "id": "s4ntgjebVMsw"
      },
      "source": [
        "In this task, you will be implementing the Sigmoid and ReLU activation fuctions."
      ]
    },
    {
      "cell_type": "markdown",
      "metadata": {
        "id": "ehQtgCzZHYWU"
      },
      "source": [
        "## [5 Points]  Part A - Relu Activation Function"
      ]
    },
    {
      "cell_type": "markdown",
      "metadata": {
        "id": "gQot-NaiWVKm"
      },
      "source": [
        "The Relu activation function and its dervivative are defined as  follows:\n",
        "$$ f(z) = \\max(z,0) \\tag{2.1} $$\n",
        "$$ f^{\\prime}(z) = \\begin{cases}1 & z > 0 \\\\0 & z < 0 \\\\\n",
        "\\end{cases}\n",
        "\\tag{2.2}\n",
        "$$"
      ]
    },
    {
      "cell_type": "code",
      "execution_count": null,
      "metadata": {
        "id": "8hnecr1fHgXr"
      },
      "outputs": [],
      "source": [
        "#TODO: Implement the Relu class which implements the Relu activation function.\n",
        "class Relu:\n",
        "   \"\"\"\n",
        "   Implements the Relu activation\n",
        "   \"\"\"\n",
        "   @staticmethod\n",
        "   def activation(z):\n",
        "      # Write your code here\n",
        "      # Hint: Use np.maximum\n",
        "      # Refer to equation (2.1)\n",
        "      \n",
        "   @staticmethod\n",
        "   def prime(z):\n",
        "      # Write your code here\n",
        "      # Hint: Use np.where\n",
        "      # Refer to equation (2.2)\n",
        "     "
      ]
    },
    {
      "cell_type": "code",
      "execution_count": null,
      "metadata": {
        "colab": {
          "base_uri": "https://localhost:8080/"
        },
        "id": "ip5wcYn5HjNa",
        "outputId": "ff77449d-1b60-4cd6-a84b-001756030145"
      },
      "outputs": [
        {
          "name": "stdout",
          "output_type": "stream",
          "text": [
            "Input: [[ 0.30471708 -1.03998411  0.7504512 ]\n",
            " [ 0.94056472 -1.95103519 -1.30217951]\n",
            " [ 0.1278404  -0.31624259 -0.01680116]]\n",
            "Output: [[0.30471708 0.         0.7504512 ]\n",
            " [0.94056472 0.         0.        ]\n",
            " [0.1278404  0.         0.        ]]\n",
            "Gradient: [[1. 0. 1.]\n",
            " [1. 0. 0.]\n",
            " [1. 0. 0.]]\n"
          ]
        }
      ],
      "source": [
        "# DO NOT EDIT\n",
        "# Test Case to Check ReLU\n",
        "rng = np.random.default_rng(42)\n",
        "input = rng.normal(size=(3,3))\n",
        "print(f\"Input: {input}\")\n",
        "output = Relu.activation(input)\n",
        "print(f\"Output: {output}\")\n",
        "assert np.allclose(output,np.array([[0.30471708,0.,0.7504512 ],[0.94056472,0.,0.],[0.1278404, 0.,0.]]))\n",
        "grad = Relu.prime(input)\n",
        "print(f\"Gradient: {grad}\")\n",
        "assert np.allclose(grad,np.array([[1,0,1],[1,0,0],[1,0,0]]))"
      ]
    },
    {
      "cell_type": "markdown",
      "metadata": {
        "id": "E2rQBLJOJetF"
      },
      "source": [
        "## [5 Points] Part B - Sigmoid Activation Function"
      ]
    },
    {
      "cell_type": "markdown",
      "metadata": {
        "id": "WMk90qCAXOe0"
      },
      "source": [
        "The sigmoid activation function and its derivative are defined as follows:\n",
        "$$ \\sigma (z) = \\frac{1}{1+\\exp{(-z)}} \\tag{3.1} $$\n",
        "\n",
        "$$ \\sigma^{\\prime} (z) = \\sigma(z) \\times (1 - \\sigma(z)) \\tag{3.2} $$"
      ]
    },
    {
      "cell_type": "code",
      "execution_count": null,
      "metadata": {
        "id": "Gr2JzSENF9LC"
      },
      "outputs": [],
      "source": [
        "#TODO: Implement the Sigmoid class which implements the Sigmoid activation function.\n",
        "class Sigmoid:\n",
        "    @staticmethod\n",
        "    def activation(z):\n",
        "      # Write your code here\n",
        "      # Refer to equation (3.1)\n",
        "      \n",
        "    @staticmethod\n",
        "    def prime(z):\n",
        "      # Write your code here\n",
        "      # Refer to equation (3.2)\n",
        "      "
      ]
    },
    {
      "cell_type": "code",
      "execution_count": null,
      "metadata": {
        "colab": {
          "base_uri": "https://localhost:8080/"
        },
        "id": "Ws1heyOMJncw",
        "outputId": "85fbde02-4d84-4ee8-9f0e-3e7c368f034b"
      },
      "outputs": [
        {
          "name": "stdout",
          "output_type": "stream",
          "text": [
            "Input: [[ 0.30471708 -1.03998411  0.7504512 ]\n",
            " [ 0.94056472 -1.95103519 -1.30217951]\n",
            " [ 0.1278404  -0.31624259 -0.01680116]]\n",
            "Output: [[0.57559524 0.26115306 0.679277  ]\n",
            " [0.71921371 0.12444053 0.21379844]\n",
            " [0.53191664 0.42159173 0.49579981]]\n",
            "Gradient: [[0.24428536 0.19295214 0.21785976]\n",
            " [0.20194535 0.10895508 0.16808867]\n",
            " [0.24898133 0.24385214 0.24998236]]\n"
          ]
        }
      ],
      "source": [
        "# DO NOT EDIT\n",
        "# Test Case to Check Sigmoid\n",
        "rng = np.random.default_rng(42)\n",
        "input = rng.normal(size=(3,3))\n",
        "print(f\"Input: {input}\")\n",
        "output = Sigmoid.activation(input)\n",
        "print(f\"Output: {output}\")\n",
        "assert np.allclose(output,np.array([[0.57559524, 0.26115306, 0.679277 ],[0.71921371, 0.12444053, 0.21379844],[0.53191664, 0.42159173, 0.49579981]]))\n",
        "grad = Sigmoid.prime(input)\n",
        "print(f\"Gradient: {grad}\")\n",
        "assert np.allclose(grad, np.array([[0.24428536, 0.19295214, 0.21785976],[0.20194535, 0.10895508, 0.16808867],[0.24898133, 0.24385214, 0.24998236]]))"
      ]
    },
    {
      "cell_type": "markdown",
      "metadata": {
        "id": "I7KjuBW_NAt3"
      },
      "source": [
        "# [5 Points ] Task 03 - Softmax"
      ]
    },
    {
      "cell_type": "markdown",
      "metadata": {
        "id": "RypPZAq9YKlb"
      },
      "source": [
        "In this task you are required to implement a **numerically stable** version of the Softmax activation.\n",
        "\n",
        "The Softmax function is defined as follows:\n",
        "$$ S(y_i) = \\frac{\\exp{(y_i)}}{\\sum_{j=1} \\exp{(y_j)} } \\tag {4.1} $$\n",
        "\n",
        "**Hint: In order to implement a numerically stable version of the Softmax activation function, subtract the max of each row from each element in the row**"
      ]
    },
    {
      "cell_type": "code",
      "execution_count": null,
      "metadata": {
        "id": "qMZIDW7LNOqg"
      },
      "outputs": [],
      "source": [
        "#TODO: Implement the Softmax class which implements the softmax activation function.\n",
        "class Softmax:\n",
        "    @staticmethod\n",
        "    def activation(z):\n",
        "      # Write your code here\n",
        "      # Refer to equation (4.1)\n"
      ]
    },
    {
      "cell_type": "code",
      "execution_count": null,
      "metadata": {
        "colab": {
          "base_uri": "https://localhost:8080/"
        },
        "id": "sSMdknYzNSG8",
        "outputId": "d8636f8e-03e7-4f5a-dfb2-c1e1020ca696"
      },
      "outputs": [
        {
          "name": "stdout",
          "output_type": "stream",
          "text": [
            "Input: [[ 0.30471708 -1.03998411  0.7504512 ]\n",
            " [ 0.94056472 -1.95103519 -1.30217951]\n",
            " [ 0.1278404  -0.31624259 -0.01680116]]\n",
            "Output: [[0.35432675 0.09234378 0.55332948]\n",
            " [0.86084143 0.04776582 0.09139274]\n",
            " [0.39892377 0.25587457 0.34520167]]\n"
          ]
        }
      ],
      "source": [
        "# DO NOT EDIT\n",
        "# Test Case to check Softmax activation function\n",
        "rng = np.random.default_rng(42)\n",
        "input = rng.normal(size=(3,3))\n",
        "print(f\"Input: {input}\")\n",
        "output = Softmax.activation(input)\n",
        "print(f\"Output: {output}\")\n",
        "assert np.allclose(output, np.array([[0.35432675, 0.09234378, 0.55332948],[0.86084143, 0.04776582, 0.09139274],[0.39892377, 0.25587457, 0.34520167]]))"
      ]
    },
    {
      "cell_type": "markdown",
      "metadata": {
        "id": "ZIcMGevzPMto"
      },
      "source": [
        "# [10 Points] Task 04 - Cross Entropy Loss"
      ]
    },
    {
      "cell_type": "markdown",
      "metadata": {
        "id": "RSpbW_HTa2nE"
      },
      "source": [
        "In this task, you are required to implement the Cross Entropy Loss function as well compute the derivative of the Cross Entropy Loss function with respect to the Softmax activation function.\n",
        "\n",
        "The cross entropy loss function is defined as follows:\n",
        "$$ L^{(i)} = -\\sum_{j=1}^{n} \\mathbf{y}^{(i)}  \\log(\\mathbf{\\hat{y}^{(i)}}) \\tag {5.1}$$\n",
        "$$ J =\\frac{1}{m} \\sum_{i=1}^{m} L^{(i)} \\tag {5.2} $$\n",
        "\n",
        "The derivative of the Softmax activation function is defined as\n",
        "$$ \\frac{\\delta L^{(i)}}{\\delta o_j} = \\frac{\\exp{o_j}}{\\sum_{i=1}^{q} \\exp{(o_i)}} - y_{j}^{(i)} = softmax(o_j) - y_{j}^{(i)} = \\hat{y}_{j}^{(i)} -  y_{j}^{(i)} \\tag {5.3}$$\n",
        "\n",
        "\n",
        "where $\\mathbf{y}^{(i)}$ is the one hot encoded label vector and $\\mathbf{\\hat{y}}^{(i)}$ are the Softmax probabilities.\n",
        "\n",
        "\n",
        "\n",
        "\n",
        "\n"
      ]
    },
    {
      "cell_type": "code",
      "execution_count": null,
      "metadata": {
        "id": "emsUUEl3I6b_"
      },
      "outputs": [],
      "source": [
        "#TODO: Implement the class CrossEntropy which represents the cross-entropy loss function.\n",
        "class CrossEntropy:\n",
        "    \"\"\"\n",
        "    Used with Softmax activation in final layer\n",
        "    \"\"\"\n",
        "    @staticmethod\n",
        "    def activation(z):\n",
        "        # DO NOT EDIT\n",
        "        return Softmax.activation(z)\n",
        "\n",
        "    @staticmethod\n",
        "    def delta(y_true, y):\n",
        "        n,c = y.shape\n",
        "        y_hot = np.eye(c)[y_true]\n",
        "        y_hat = Softmax.activation(y)\n",
        "        # Write your code here\n",
        "        # Refer to equation (5.3)\n",
        "        grad = # IMPLEMENT\n",
        "        return grad\n",
        "\n",
        "    @staticmethod\n",
        "    def loss(y_true, y):\n",
        "        m,c = y.shape\n",
        "        y_hot = np.eye(c)[y_true]\n",
        "        y_hat = Softmax.activation(y)\n",
        "        # Write your code here\n",
        "        # Refer to equations (5.1) & (5.2)\n",
        "        loss = # IMPLEMENT\n",
        "        return loss"
      ]
    },
    {
      "cell_type": "code",
      "execution_count": null,
      "metadata": {
        "colab": {
          "base_uri": "https://localhost:8080/"
        },
        "id": "Wg91EcVqQEI1",
        "outputId": "f6dba891-13d1-4e63-c8d4-457c24b63b72"
      },
      "outputs": [
        {
          "name": "stdout",
          "output_type": "stream",
          "text": [
            "y_hat: [[ 0.30471708 -1.03998411  0.7504512 ]\n",
            " [ 0.94056472 -1.95103519 -1.30217951]\n",
            " [ 0.1278404  -0.31624259 -0.01680116]]\n",
            "y: [0 1 2]\n",
            "Cross Entropy Loss: 1.7142023787723455\n",
            "Delta: [[-0.64567325  0.09234378  0.55332948]\n",
            " [ 0.86084143 -0.95223418  0.09139274]\n",
            " [ 0.39892377  0.25587457 -0.65479833]]\n"
          ]
        }
      ],
      "source": [
        "# DO NOT EDIT\n",
        "# Test Case to check Softmax activation function\n",
        "rng = np.random.default_rng(42)\n",
        "y_hat = rng.normal(size=(3,3))\n",
        "print(f\"y_hat: {y_hat}\")\n",
        "y = np.arange(3)\n",
        "print(f'y: {y}')\n",
        "loss = CrossEntropy.loss(y,y_hat)\n",
        "print(f\"Cross Entropy Loss: {loss}\")\n",
        "assert loss == 1.7142023787723455\n",
        "delta = CrossEntropy.delta(y,y_hat)\n",
        "print(f\"Delta: {delta}\")\n",
        "assert np.allclose(delta, np.array([[-0.64567325,  0.09234378, 0.55332948],[ 0.86084143, -0.95223418 , 0.09139274],[ 0.39892377 , 0.25587457 ,-0.65479833]]))\n"
      ]
    },
    {
      "cell_type": "markdown",
      "metadata": {
        "id": "1kALTzJhWEcO"
      },
      "source": [
        "# [10 Points ] Task 05 - Network Initialisation"
      ]
    },
    {
      "cell_type": "markdown",
      "metadata": {
        "id": "dE_zEIxSw9tP"
      },
      "source": [
        "In this task, you are required to implement the `Network` class which represents the neural network. The `__init__` function takes as an arguements two parameters: dimensions and activations. Dimensions is a list which contains the number of nodes in each layer, and activations is a list which contains the activation functions of each layer.\n",
        "\n",
        "We use Xavier Initialisation to initialise the weights i.e. $\\mathbf{W}^{(L)} \\sim N(0,\\frac{2}{Inputs + Outputs}) $. In addition to, we initialise the biases as zeros.\n",
        "\n",
        "**Hint: Use `np.random.normal` to initialise the weights. Mean is specified using `loc` and standard deviation is specified by `scale`**"
      ]
    },
    {
      "cell_type": "code",
      "execution_count": null,
      "metadata": {
        "id": "9gM3fohoWhMY"
      },
      "outputs": [],
      "source": [
        "#TODO: Implement the Network class which represents the neural network.\n",
        "class Network:\n",
        "\n",
        "    def __init__(self, dimensions, activations):\n",
        "        \"\"\"\n",
        "        Args\n",
        "          dimensions: (list) Dimensions of the neural net. (input, hidden layer, output)\n",
        "          activations: (list) Activations functions.\n",
        "        \"\"\"        \n",
        "        self.n_layers = len(dimensions)\n",
        "        self.loss = None\n",
        "        self.learning_rate = None\n",
        "\n",
        "        # Weights and biases are initiated by index. For a one hidden layer net you will have a w[1] and w[2]\n",
        "        self.w = {}\n",
        "        self.b = {}\n",
        "\n",
        "        # Activations are also initiated by index. For the example we will have activations[2] and activations[3]\n",
        "        self.activations = {}\n",
        "\n",
        "        for i in range(len(dimensions) - 1):\n",
        "            # Hint: Use np.sqrt as scale represents standard deviation\n",
        "            self.w[i + 1] = # IMPLEMENT\n",
        "            self.b[i + 1] = # IMPLEMENT\n",
        "            self.activations[i + 2] = # IMPLEMENT"
      ]
    },
    {
      "cell_type": "code",
      "execution_count": null,
      "metadata": {
        "colab": {
          "base_uri": "https://localhost:8080/"
        },
        "id": "I-VmziDLWnDt",
        "outputId": "a4899ead-3a7c-4c0d-b289-225e74619292"
      },
      "outputs": [
        {
          "name": "stdout",
          "output_type": "stream",
          "text": [
            "W[1]: [[-0.26358081 -0.03558627 -1.35104904]\n",
            " [ 1.03739835 -1.13426826 -0.53236778]]\n",
            "W[1] Shape: (2, 3)\n",
            "W[2]: [[ 0.35559086]\n",
            " [-0.88055165]\n",
            " [-0.74808519]]\n",
            "W[2] Shape: (3, 1)\n",
            "B[1]: [0. 0. 0.]\n",
            "B[1] Shape: (3,)\n",
            "B[2]: [0.]\n",
            "B[2] Shape: (1,)\n",
            "A[2]: <class '__main__.Relu'>\n",
            "A[3]: <class '__main__.Sigmoid'>\n"
          ]
        }
      ],
      "source": [
        "# DO NOT EDIT\n",
        "# Test Case to check Network Initialisation\n",
        "W = {1: np.array([[-0.26358081, -0.03558627, -1.35104904],[ 1.03739835, -1.13426826, -0.53236778]]), 2: np.array([[ 0.35559086],[-0.88055165],[-0.74808519]])}\n",
        "B = {1: np.array([0., 0., 0.]), 2: np.array([0.])}\n",
        "Activations = {2: Relu, 3: Sigmoid}\n",
        "np.random.seed(2)\n",
        "nn = Network((2, 3, 1), (Relu, Sigmoid))\n",
        "for i in nn.w:\n",
        "  print(f\"W[{i}]: {nn.w[i]}\\nW[{i}] Shape: {nn.w[i].shape}\")\n",
        "for i in nn.b:\n",
        "  print(f\"B[{i}]: {nn.b[i]}\\nB[{i}] Shape: {nn.b[i].shape}\")\n",
        "for i in nn.activations:\n",
        "  print(f\"A[{i}]: {nn.activations[i]}\")\n",
        "for key,value in nn.w.items():\n",
        "  assert np.allclose(nn.w[key],  W[key])\n",
        "for key,value in nn.b.items():\n",
        "  assert np.allclose(nn.b[key],  B[key])\n",
        "for key,value in nn.activations.items():\n",
        "  assert nn.activations[key] ==  Activations[key]"
      ]
    },
    {
      "cell_type": "markdown",
      "metadata": {
        "id": "hq9JgKrrcad6"
      },
      "source": [
        "# [15 Points] Task 06 - Forward Pass"
      ]
    },
    {
      "cell_type": "markdown",
      "metadata": {
        "id": "UWngUwINBNUQ"
      },
      "source": [
        "In this task, you are require to implement the forward which executes the forward pass.\n",
        "\n",
        "$$ \\mathbf{z}_ i =  \\mathbf{a}_{(i - 1)} \\cdot \\mathbf{w}_i + \\mathbf{b}_i \\tag {6.1} $$\n",
        "$$ f(\\mathbf{z}_i) = \\mathbf{a}_i \\tag{6.2} $$\n",
        "\n"
      ]
    },
    {
      "cell_type": "code",
      "execution_count": null,
      "metadata": {
        "id": "hndYMWtqa3A0"
      },
      "outputs": [],
      "source": [
        "#TODO: Implement the function forward which represents the forward pass of a Neural Network.\n",
        "def forward(model,X):\n",
        "      \"\"\"\n",
        "      Args\n",
        "        model: (Network) Network Object\n",
        "        X: (array) Batch of input data vectors.\n",
        "      Return\n",
        "        (z,a): (tuple) Node outputs and activations per layer. \n",
        "      \"\"\"\n",
        "      # w(x) + b\n",
        "      z = {}\n",
        "      # activations: f(z)\n",
        "      # First layer has no activations as input. The input x is the input.\n",
        "      a = {1: #IMPLEMENT}  \n",
        "      for i in range(1, model.n_layers):\n",
        "          # current layer = i\n",
        "          # activation layer = i + 1\n",
        "          # Refer to equation (6.1)\n",
        "          z[i + 1] = # IMPLEMENT\n",
        "          # Pass the output from the layer z[i+1] to the model.activations[i+1] activation \n",
        "          # Refer to equation (6.2)\n",
        "          a[i + 1] = # IMPLEMENT\n",
        "      return z, a"
      ]
    },
    {
      "cell_type": "code",
      "execution_count": null,
      "metadata": {
        "colab": {
          "base_uri": "https://localhost:8080/"
        },
        "id": "RbdLzmeMlxmx",
        "outputId": "89bc5b50-0046-43e7-a2c5-42830cb393a0"
      },
      "outputs": [
        {
          "name": "stdout",
          "output_type": "stream",
          "text": [
            "Input: [[0.77395605 0.43887844]\n",
            " [0.85859792 0.69736803]\n",
            " [0.09417735 0.97562235]\n",
            " [0.7611397  0.78606431]\n",
            " [0.12811363 0.45038594]\n",
            " [0.37079802 0.92676499]\n",
            " [0.64386512 0.82276161]\n",
            " [0.4434142  0.22723872]\n",
            " [0.55458479 0.06381726]\n",
            " [0.82763117 0.6316644 ]]\n",
            "A[1]: (10, 2): [[0.77395605 0.43887844]\n",
            " [0.85859792 0.69736803]\n",
            " [0.09417735 0.97562235]\n",
            " [0.7611397  0.78606431]\n",
            " [0.12811363 0.45038594]\n",
            " [0.37079802 0.92676499]\n",
            " [0.64386512 0.82276161]\n",
            " [0.4434142  0.22723872]\n",
            " [0.55458479 0.06381726]\n",
            " [0.82763117 0.6316644 ]]\n",
            "A[2]: (10, 3): [[0.25129181 0.         0.        ]\n",
            " [0.49713851 0.         0.        ]\n",
            " [0.98728567 0.         0.        ]\n",
            " [0.61483999 0.         0.        ]\n",
            " [0.43346133 0.         0.        ]\n",
            " [0.86368923 0.         0.        ]\n",
            " [0.68382105 0.         0.        ]\n",
            " [0.1188616  0.         0.        ]\n",
            " [0.         0.         0.        ]\n",
            " [0.43713991 0.         0.        ]]\n",
            "A[3]: (10, 1): [[0.52232442]\n",
            " [0.54407974]\n",
            " [0.58687697]\n",
            " [0.55444119]\n",
            " [0.53845761]\n",
            " [0.57618213]\n",
            " [0.56049236]\n",
            " [0.51056495]\n",
            " [0.5       ]\n",
            " [0.53878268]]\n",
            "Z[2]: (10, 3): [[ 0.25129181 -0.52534809 -1.27929731]\n",
            " [ 0.49713851 -0.82155671 -1.53126416]\n",
            " [ 0.98728567 -1.10996888 -0.64662812]\n",
            " [ 0.61483999 -0.91869391 -1.44681237]\n",
            " [ 0.43346133 -0.51541756 -0.41285876]\n",
            " [ 0.86368923 -1.06439543 -0.99434613]\n",
            " [ 0.68382105 -0.95614514 -1.30790512]\n",
            " [ 0.1188616  -0.27352912 -0.7200489 ]\n",
            " [-0.07997399 -0.09212149 -0.78324549]\n",
            " [ 0.43713991 -0.74592918 -1.45444807]]\n",
            "Z[3]: (10, 1): [[0.08935707]\n",
            " [0.17677791]\n",
            " [0.35106976]\n",
            " [0.21863148]\n",
            " [0.15413489]\n",
            " [0.30711999]\n",
            " [0.24316052]\n",
            " [0.0422661 ]\n",
            " [0.        ]\n",
            " [0.15544296]]\n"
          ]
        }
      ],
      "source": [
        "# DO NOT EDIT\n",
        "# Test Case to check forward pass\n",
        "Z = {\n",
        "2: np.array([[ 0.25129181, -0.52534809, -1.27929731],[ 0.49713851, -0.82155671, -1.53126416],[ 0.98728567, -1.10996888, -0.64662812],[ 0.61483999, -0.91869391, -1.44681237],[ 0.43346133, -0.51541756, -0.41285876],[ 0.86368923, -1.06439543, -0.99434613],[ 0.68382105, -0.95614514, -1.30790512],[ 0.1188616 , -0.27352912, -0.7200489 ],[-0.07997399, -0.09212149, -0.78324549],[ 0.43713991, -0.74592918, -1.45444807]]), \n",
        "3: np.array([[0.08935707],[0.17677791],[0.35106976],[0.21863148],[0.15413489],[0.30711999],[0.24316052],[0.0422661 ],[0.],[0.15544296]])\n",
        "}\n",
        "A = {\n",
        "1: np.array([[0.77395605, 0.43887844],[0.85859792, 0.69736803],[0.09417735, 0.97562235],[0.7611397 , 0.78606431],[0.12811363, 0.45038594],[0.37079802, 0.92676499],[0.64386512, 0.82276161],[0.4434142 , 0.22723872],[0.55458479, 0.06381726],[0.82763117, 0.6316644 ]]),\n",
        "2: np.array([[0.25129181, 0.        , 0.        ],[0.49713851, 0.        , 0.        ],[0.98728567, 0.        , 0.        ],[0.61483999, 0.        , 0.        ],[0.43346133, 0.        , 0.        ],[0.86368923, 0.        , 0.        ],[0.68382105, 0.        , 0.        ],[0.1188616 , 0.        , 0.        ],[0.        , 0.        , 0.        ],[0.43713991, 0.        , 0.        ]]),\n",
        "3: np.array([[0.52232442],[0.54407974],[0.58687697],[0.55444119],[0.53845761],[0.57618213],[0.56049236],[0.51056495],[0.5       ],[0.53878268]])\n",
        "}\n",
        "np.random.seed(2)\n",
        "nn = Network((2, 3, 1), (Relu, Sigmoid))\n",
        "rng = np.random.default_rng(42)\n",
        "input = rng.random((10,2))\n",
        "print(f\"Input: {input}\")\n",
        "z,a = forward(nn,input)\n",
        "for key,value in a.items():\n",
        "  print(f\"A[{key}]: {value.shape}: {value}\")\n",
        "for key,value in z.items():\n",
        "  print(f\"Z[{key}]: {value.shape}: {value}\")\n",
        "for key,value in a.items():\n",
        "  assert np.allclose(a[key],A[key])\n",
        "for key,value in z.items():\n",
        "  assert np.allclose(z[key],Z[key])\n"
      ]
    },
    {
      "cell_type": "markdown",
      "metadata": {
        "id": "eNbKDYzfsat8"
      },
      "source": [
        "# [5 Points] Task 07 - Compute Prediction"
      ]
    },
    {
      "cell_type": "markdown",
      "metadata": {
        "id": "0sbVPXv4_2lD"
      },
      "source": [
        "In this task, you are required to implement the function predict which outputs the prediction of the model.\n",
        "\n",
        "**Hint: Use `np.argmax(axis=1)`**"
      ]
    },
    {
      "cell_type": "code",
      "execution_count": null,
      "metadata": {
        "id": "wGp9pzw7bk4e"
      },
      "outputs": [],
      "source": [
        "#TODO: Implement the function predict which outputs the prediction of the model.\n",
        "def predict(model, X):\n",
        "    \"\"\"\n",
        "    Args\n",
        "      model: (network) Neural\n",
        "      X: (array) Input\n",
        "    :return: (array) A 1D array of predicted labels\n",
        "    \"\"\"\n",
        "    # Compute forward pass\n",
        "    _, a = # IMPLEMENT\n",
        "    pred= # IMPLEMENT\n",
        "    return pred"
      ]
    },
    {
      "cell_type": "code",
      "execution_count": null,
      "metadata": {
        "colab": {
          "base_uri": "https://localhost:8080/"
        },
        "id": "H0S5E6BWzeYD",
        "outputId": "d75c7d03-6775-4bec-cd46-2108272eeadc"
      },
      "outputs": [
        {
          "name": "stdout",
          "output_type": "stream",
          "text": [
            "Input: [[0.77395605 0.43887844]\n",
            " [0.85859792 0.69736803]\n",
            " [0.09417735 0.97562235]\n",
            " [0.7611397  0.78606431]\n",
            " [0.12811363 0.45038594]\n",
            " [0.37079802 0.92676499]\n",
            " [0.64386512 0.82276161]\n",
            " [0.4434142  0.22723872]\n",
            " [0.55458479 0.06381726]\n",
            " [0.82763117 0.6316644 ]]\n",
            "Prediction: [5 5 5 5 5 5 5 5 5 5]\n"
          ]
        }
      ],
      "source": [
        "# DO NOT EDIT\n",
        "# Test Case to check predict\n",
        "np.random.seed(2)\n",
        "nn_1 = Network((2, 3, 10), (Sigmoid, Softmax))\n",
        "rng = np.random.default_rng(42)\n",
        "input = rng.random((10,2))\n",
        "print(f\"Input: {input}\")\n",
        "pred = predict(nn_1,input)\n",
        "print(f\"Prediction: {pred}\")\n",
        "assert np.allclose(pred,np.array([5, 5, 5, 5, 5, 5, 5, 5, 5, 5]))"
      ]
    },
    {
      "cell_type": "markdown",
      "metadata": {
        "id": "eo0oHCaI7s2a"
      },
      "source": [
        "#[5 Points] Task 08 - Compute accuracy"
      ]
    },
    {
      "cell_type": "markdown",
      "metadata": {
        "id": "jVuhv4DLCct-"
      },
      "source": [
        "In this task, you are required to implement the function `compute_accuracy` which takes as parameters the actual and predicted labels, and then returns the accuracy."
      ]
    },
    {
      "cell_type": "code",
      "execution_count": null,
      "metadata": {
        "id": "h_rwOfgY7-1U"
      },
      "outputs": [],
      "source": [
        "#TODO: Implement the function compute_accuracy which implements the \n",
        "def compute_accuracy(y_pred,y_actual):\n",
        "  acc = # IMPLEMENT\n",
        "  return acc"
      ]
    },
    {
      "cell_type": "code",
      "execution_count": null,
      "metadata": {
        "colab": {
          "base_uri": "https://localhost:8080/"
        },
        "id": "3WgubIJd8IZW",
        "outputId": "b9f8a275-1f9a-48e8-80b6-90ceb0773cab"
      },
      "outputs": [
        {
          "name": "stdout",
          "output_type": "stream",
          "text": [
            "0.2\n"
          ]
        }
      ],
      "source": [
        "# DO NOT EDIT\n",
        "# Test case to check the compute_accuracy function\n",
        "accuracy = compute_accuracy(np.array([1,2,3,4,5]),np.ones(5))\n",
        "print(accuracy)"
      ]
    },
    {
      "cell_type": "markdown",
      "metadata": {
        "id": "z5Q6dwYxczdR"
      },
      "source": [
        "# [15 Points] Task 09 - Backpropagation"
      ]
    },
    {
      "cell_type": "markdown",
      "metadata": {
        "id": "VzcCw1lBGcA3"
      },
      "source": [
        "In this task, you are required to implement the function `backprop` which executes the backward pass on the Neural Network. \n",
        "\n",
        "The following are the important equations for backpropagation\n",
        "\n",
        "* Output Layer\n",
        "$$ \\delta^{(L)} = J' \\cdot f'^{(L)}(z^{(L)}) \\tag{7.1} $$ where $L$ indicates the last year.\n",
        "* Hidden Layer\n",
        "$$ \\delta^{(i)} =  (\\delta^{(i + 1)} \\cdot w^{(i)\\top}) \\odot f'^{(i)}(z^{(i)}) \\tag{7.2} $$ where $\\odot$ indicates elementwise multiplication.\n",
        "* All Layers\n",
        "$$\\frac{\\partial{J}}{\\partial{w^{(i - 1)}}} =  a^{(i - 1)\\top} \\cdot \\delta^{(i)} \\tag {7.3} $$\n",
        "\n",
        "$$ \\frac{\\partial{J}}{\\partial{b^{(i - 1)}}} = \\delta^{(i)} \\tag{7.4} $$\n",
        "\n",
        "Note: $\\delta$ is denoted by `delta`. $\\frac{\\partial{J}}{\\partial{b^{(i - 1)}}}$ is denoted by `db`. $\\frac{\\partial{J}}{\\partial{w^{(i - 1)}}}$ is denoted by `dw`\n",
        "\n"
      ]
    },
    {
      "cell_type": "code",
      "execution_count": null,
      "metadata": {
        "id": "-UaNHsk7GS3Q"
      },
      "outputs": [],
      "source": [
        "def backprop(model, z, a, y_true):\n",
        "    \"\"\"\n",
        "    The input dicts keys represent the layers of the net.\n",
        "    a = { 1: x,\n",
        "          2: f(w1(x) + b1)\n",
        "          3: f(w2(a2) + b2)\n",
        "    }\n",
        "    Args\n",
        "      model: (Network) Neural Network\n",
        "      z: (dict) w(x) + b\n",
        "      a: (dict) f(z)\n",
        "      y_true: (array) One hot encoded truth vector.\n",
        "    \"\"\"\n",
        "\n",
        "    # Determine partial derivative and delta for the output layer.\n",
        "    # delta output layer\n",
        "    # Refer to equation (7.1)\n",
        "    delta = model.loss.delta(y_true, a[model.n_layers])\n",
        "    # Refer to equation (7.3)\n",
        "    dw = np.dot(a[model.n_layers - 1].T, delta)\n",
        "    # Refer to equation (7.4)\n",
        "    db = np.mean(delta, axis=0)\n",
        "\n",
        "    update_params = {\n",
        "        model.n_layers - 1: (dw, delta,db)\n",
        "    }\n",
        "    # In case of three layer net will iterate over i = 2 and i = 1\n",
        "    # Determine partial derivative and delta for the rest of the layers.\n",
        "    # Each iteration requires the delta from the previous layer, propagating backwards.\n",
        "    for i in reversed(range(2, model.n_layers)):\n",
        "        # Refer to equation (7.2)\n",
        "        # Hint: delta[i+1] refers to the current value of delta, and delta[i] refers to the previous value of delta.\n",
        "        delta = # IMPLEMENT\n",
        "        # Refer to equation (7.3)\n",
        "        dw = # IMPLEMENT\n",
        "        # Refer to equation (7.4)\n",
        "        # Hint: Use np.mean(axis=0)\n",
        "        db = # IMPLEMENT\n",
        "        update_params[i - 1] = (dw, delta,db)\n",
        "\n",
        "    # Update the weights and biases\n",
        "    for index, (dw,delta,db) in update_params.items():\n",
        "      # w = w - lr * dw\n",
        "      model.w[index] = # IMPLEMENT\n",
        "      # b = b - lr * db\n",
        "      model.b[index] = # IMPLEMENT\n"
      ]
    },
    {
      "cell_type": "code",
      "execution_count": null,
      "metadata": {
        "colab": {
          "base_uri": "https://localhost:8080/"
        },
        "id": "Ch87EqmlDK2P",
        "outputId": "bf481cfe-1237-4d62-a606-53cf58bcc7dc"
      },
      "outputs": [
        {
          "name": "stdout",
          "output_type": "stream",
          "text": [
            "input: [[0.77395605 0.43887844]\n",
            " [0.85859792 0.69736803]\n",
            " [0.09417735 0.97562235]\n",
            " [0.7611397  0.78606431]\n",
            " [0.12811363 0.45038594]\n",
            " [0.37079802 0.92676499]\n",
            " [0.64386512 0.82276161]\n",
            " [0.4434142  0.22723872]\n",
            " [0.55458479 0.06381726]\n",
            " [0.82763117 0.6316644 ]]\n",
            "y_true: [0 1 2 3 4 5 6 7 8 9]\n",
            "W[1]: [[-0.27226824 -0.02672387 -1.35118418]\n",
            " [ 1.03448274 -1.13009851 -0.53772292]]\n",
            "W[1] Shape: (2, 3)\n",
            "W[2]: [[ 1.91646819e-01 -4.86305495e-01 -4.01227553e-01 -3.51851759e-01\n",
            "   2.15498795e-01  9.00262607e-01  2.23875820e-02 -4.45063393e-01\n",
            "   1.97099785e-01 -2.34362686e-01]\n",
            " [-3.99426762e-03  4.58680865e-01 -3.00731553e-01 -7.39663154e-04\n",
            "  -3.40449836e-01 -7.32415400e-02  9.55499608e-02 -3.77044916e-01\n",
            "  -1.19112104e-01 -9.38588043e-02]\n",
            " [-2.54866522e-01 -4.73815123e-01 -5.48427659e-01 -6.70061155e-02\n",
            "  -9.20670733e-02  8.72480316e-01 -9.59579240e-01  5.13972509e-02\n",
            "   1.49910124e-01  5.25886653e-01]]\n",
            "W[2] Shape: (3, 10)\n",
            "B[1]: [-0.00045843 -0.00015131 -0.00015516]\n",
            "B[1] Shape: (3,)\n",
            "B[2]: [-5.01683620e-05  2.36204952e-04  3.91689465e-04  2.11468706e-04\n",
            "  1.42539567e-05 -1.22402523e-03  1.89624928e-04  3.22355945e-04\n",
            " -1.28728315e-04  3.73239533e-05]\n",
            "B[2] Shape: (10,)\n"
          ]
        }
      ],
      "source": [
        "np.random.seed(2)\n",
        "rng = np.random.default_rng(42)\n",
        "nn_1 = Network((2, 3, 10), (Sigmoid, Softmax))\n",
        "nn_1.learning_rate = 0.1\n",
        "nn_1.loss = CrossEntropy\n",
        "input = rng.random((10,2))\n",
        "print(f\"input: {input}\")\n",
        "y_true = np.arange(10)\n",
        "print(f\"y_true: {y_true}\")\n",
        "z,a = forward(nn_1,input)\n",
        "backprop(nn_1,z,a,y_true)\n",
        "W = {\n",
        "1: np.array([[-0.27226824, -0.02672387, -1.35118418],[ 1.03448274, -1.13009851, -0.53772292]]),\n",
        "2: np.array([[ 1.91646819e-01, -4.86305495e-01, -4.01227553e-01,-3.51851759e-01,  2.15498795e-01,  9.00262607e-01,2.23875820e-02, -4.45063393e-01,  1.97099785e-01,-2.34362686e-01],[-3.99426762e-03,  4.58680865e-01, -3.00731553e-01,-7.39663154e-04, -3.40449836e-01, -7.32415400e-02,9.55499608e-02, -3.77044916e-01, -1.19112104e-01,-9.38588043e-02],[-2.54866522e-01, -4.73815123e-01, -5.48427659e-01,-6.70061155e-02, -9.20670733e-02,  8.72480316e-01,-9.59579240e-01,  5.13972509e-02,  1.49910124e-01,5.25886653e-01]])\n",
        "}\n",
        "B = {\n",
        "1: np.array([-0.00045843, -0.00015131, -0.00015516]),\n",
        "2: np.array([-5.01683620e-05,  2.36204952e-04,  3.91689465e-04,  2.11468706e-04,1.42539567e-05, -1.22402523e-03,  1.89624928e-04,  3.22355945e-04,-1.28728315e-04,  3.73239533e-05])\n",
        "}\n",
        "\n",
        "for i in nn_1.w:\n",
        "  print(f\"W[{i}]: {nn_1.w[i]}\\nW[{i}] Shape: {nn_1.w[i].shape}\")\n",
        "for i in nn_1.b:\n",
        "  print(f\"B[{i}]: {nn_1.b[i]}\\nB[{i}] Shape: {nn_1.b[i].shape}\")\n",
        "for key,value in nn_1.w.items():\n",
        "  assert np.allclose(nn_1.w[key],  W[key])\n",
        "for key,value in nn_1.b.items():\n",
        "  assert np.allclose(nn_1.b[key],  B[key])\n",
        "\n"
      ]
    },
    {
      "cell_type": "code",
      "execution_count": null,
      "metadata": {
        "colab": {
          "base_uri": "https://localhost:8080/"
        },
        "id": "oYABzVGrEhCa",
        "outputId": "2aaf3742-c3c9-4634-c025-a23f2880218d"
      },
      "outputs": [
        {
          "data": {
            "text/plain": [
              "{1: array([-0.00045843, -0.00015131, -0.00015516]),\n",
              " 2: array([-5.01683620e-05,  2.36204952e-04,  3.91689465e-04,  2.11468706e-04,\n",
              "         1.42539567e-05, -1.22402523e-03,  1.89624928e-04,  3.22355945e-04,\n",
              "        -1.28728315e-04,  3.73239533e-05])}"
            ]
          },
          "execution_count": 41,
          "metadata": {},
          "output_type": "execute_result"
        }
      ],
      "source": [
        "nn_1.b"
      ]
    },
    {
      "cell_type": "markdown",
      "metadata": {
        "id": "Ti0I-NR_uDcL"
      },
      "source": [
        "# [5 Points ] Task 10 - Create Minibatches"
      ]
    },
    {
      "cell_type": "markdown",
      "metadata": {
        "id": "1fG3yicUOQyG"
      },
      "source": [
        "In this task, you are required to implement the function `create_minibatches` which splits the dataset into multiple batches"
      ]
    },
    {
      "cell_type": "code",
      "execution_count": null,
      "metadata": {
        "id": "MopaznXcuPSh"
      },
      "outputs": [],
      "source": [
        "#TODO: Complete create_minibatches\n",
        "def create_minibatches(x,y,batch_size):\n",
        "   indices = np.arange(x.shape[0])\n",
        "   np.random.shuffle(indices)\n",
        "   X_shuffled = # IMPLEMENT \n",
        "   Y_shuffled = # IMPLEMENT\n",
        "   \n",
        "   n_batches = int(np.ceil(x.shape[0] // batch_size))\n",
        "   for i in range(n_batches):\n",
        "     x_batch = # IMPLEMENT\n",
        "     y_batch = # IMPLEMENT\n",
        "     yield x_batch, y_batch"
      ]
    },
    {
      "cell_type": "code",
      "execution_count": null,
      "metadata": {
        "colab": {
          "base_uri": "https://localhost:8080/"
        },
        "id": "FUHe5XUQvWxd",
        "outputId": "537757e0-59b3-4dd7-a5ae-1fde21081801"
      },
      "outputs": [
        {
          "name": "stdout",
          "output_type": "stream",
          "text": [
            "Batch: 1 xbatch.shape: (32, 64), ybatch.shape: (32,)\n",
            "Batch: 2 xbatch.shape: (32, 64), ybatch.shape: (32,)\n",
            "Batch: 3 xbatch.shape: (32, 64), ybatch.shape: (32,)\n",
            "Batch: 4 xbatch.shape: (32, 64), ybatch.shape: (32,)\n",
            "Batch: 5 xbatch.shape: (32, 64), ybatch.shape: (32,)\n",
            "Batch: 6 xbatch.shape: (32, 64), ybatch.shape: (32,)\n",
            "Batch: 7 xbatch.shape: (32, 64), ybatch.shape: (32,)\n",
            "Batch: 8 xbatch.shape: (32, 64), ybatch.shape: (32,)\n",
            "Batch: 9 xbatch.shape: (32, 64), ybatch.shape: (32,)\n",
            "Batch: 10 xbatch.shape: (32, 64), ybatch.shape: (32,)\n",
            "Batch: 11 xbatch.shape: (32, 64), ybatch.shape: (32,)\n",
            "Batch: 12 xbatch.shape: (32, 64), ybatch.shape: (32,)\n",
            "Batch: 13 xbatch.shape: (32, 64), ybatch.shape: (32,)\n",
            "Batch: 14 xbatch.shape: (32, 64), ybatch.shape: (32,)\n",
            "Batch: 15 xbatch.shape: (32, 64), ybatch.shape: (32,)\n"
          ]
        }
      ],
      "source": [
        "# DO NOT EDIT\n",
        "# Test case to check create_mini_batches\n",
        "rng = np.random.default_rng(42)\n",
        "input = rng.random((500,64))\n",
        "output = np.arange(500)\n",
        "batch = 1\n",
        "for xbatch,ybatch in create_minibatches(input,output,32):\n",
        "  print(f\"Batch: {batch} xbatch.shape: {xbatch.shape}, ybatch.shape: {ybatch.shape}\")\n",
        "  assert xbatch.shape == (32,64) and ybatch.shape ==(32,)\n",
        "  batch+=1"
      ]
    },
    {
      "cell_type": "markdown",
      "metadata": {
        "id": "iKxl_hniffhx"
      },
      "source": [
        "# [10 Points ] Task 11 - Fit Function"
      ]
    },
    {
      "cell_type": "markdown",
      "metadata": {
        "id": "9MJQjH1KSzjM"
      },
      "source": [
        "In this task, you are required to implement the `fit` function which implements the main training loop for the model."
      ]
    },
    {
      "cell_type": "code",
      "execution_count": null,
      "metadata": {
        "id": "sxHsSqRPfnjD"
      },
      "outputs": [],
      "source": [
        "#TODO: Complete the function which implements the training loop for the model.\n",
        "def fit (model, x, y, loss, epochs, batch_size, learning_rate=1e-3):\n",
        "        \"\"\"\n",
        "        Args\n",
        "          x: (array) Containing parameters\n",
        "          y: (array) Containing one hot encoded labels.\n",
        "          loss: Loss class (MSE, CrossEntropy etc.)\n",
        "          epochs: (int) Number of epochs.\n",
        "          batch_size: (int)\n",
        "          learning_rate: (flt)\n",
        "        \"\"\"\n",
        "        if not x.shape[0] == y.shape[0]:\n",
        "            raise ValueError(\"Length of x and y arrays don't match\")\n",
        "        # Initiate the loss object with the final activation function\n",
        "        loss_plot = []\n",
        "        model.loss = loss\n",
        "        model.learning_rate = learning_rate\n",
        "        \n",
        "\n",
        "        for i in range(epochs + 1):\n",
        "          for x_,y_ in create_minibatches(x,y,batch_size):\n",
        "            # Compute forward pass on x_\n",
        "            z,a = # IMPLEMENT\n",
        "            # Compute backward pass on y_\n",
        "            \n",
        "          # Compute forward pass on the entire dataset\n",
        "          _, a = # IMPLEMENT\n",
        "          # Compute the loss using y and the output from the last activation layer\n",
        "          out = a[model.n_layers]\n",
        "          l = # IMPLEMENT\n",
        "          loss_plot.append(l)\n",
        "          print(f'Epoch: {i} , Loss: {l}')\n",
        "        plt.figure(figsize=(10,8))\n",
        "        plt.grid()\n",
        "        plt.title(\"Cross Entropy Loss vs. Epochs\")\n",
        "        plt.xlabel(\"Epochs\")\n",
        "        plt.ylabel(\"Cross Entropy Loss\")\n",
        "        plt.plot(loss_plot)\n",
        "        plt.show()"
      ]
    },
    {
      "cell_type": "markdown",
      "metadata": {
        "id": "XanOPISig-QD"
      },
      "source": [
        "# Combining it all together"
      ]
    },
    {
      "cell_type": "code",
      "execution_count": null,
      "metadata": {
        "id": "qAT3L4Nkd7hg"
      },
      "outputs": [],
      "source": [
        "# DO NOT EDIT\n",
        "X = data[\"data\"]\n",
        "y = data[\"target\"]"
      ]
    },
    {
      "cell_type": "code",
      "execution_count": null,
      "metadata": {
        "colab": {
          "base_uri": "https://localhost:8080/"
        },
        "id": "-BHBc79keceR",
        "outputId": "d894329a-0fdc-46af-ebd6-171230427b22"
      },
      "outputs": [
        {
          "data": {
            "text/plain": [
              "((1797, 64), (1797,))"
            ]
          },
          "execution_count": 46,
          "metadata": {},
          "output_type": "execute_result"
        }
      ],
      "source": [
        "# DO NOT EDIT\n",
        "X.shape,y.shape"
      ]
    },
    {
      "cell_type": "code",
      "execution_count": null,
      "metadata": {
        "id": "PTM2OFqRyMOE"
      },
      "outputs": [],
      "source": [
        "# DO NOT EDIT\n",
        "X_train,X_test,Y_train,Y_test = sklearn.model_selection.train_test_split(X,y,test_size=0.2,random_state=2)"
      ]
    },
    {
      "cell_type": "code",
      "execution_count": null,
      "metadata": {
        "colab": {
          "base_uri": "https://localhost:8080/"
        },
        "id": "gl0DQPulD3VT",
        "outputId": "107d82b2-a3f9-4550-d773-84019bd296d4"
      },
      "outputs": [
        {
          "name": "stdout",
          "output_type": "stream",
          "text": [
            "(1437, 64) (360, 64) (1437,) (360,)\n"
          ]
        }
      ],
      "source": [
        "# DO NOT EDIT\n",
        "print(X_train.shape,X_test.shape,Y_train.shape,Y_test.shape)"
      ]
    },
    {
      "cell_type": "code",
      "execution_count": null,
      "metadata": {
        "colab": {
          "base_uri": "https://localhost:8080/",
          "height": 1000
        },
        "id": "b7Lb_kGG3iuO",
        "outputId": "3c013ef6-b7b7-45a8-be3a-7d0d202e6f74"
      },
      "outputs": [
        {
          "name": "stdout",
          "output_type": "stream",
          "text": [
            "Epoch: 0 , Loss: 2.216244196200133\n",
            "Epoch: 1 , Loss: 2.0674083135059895\n",
            "Epoch: 2 , Loss: 1.909676163807208\n",
            "Epoch: 3 , Loss: 1.8072546513720127\n",
            "Epoch: 4 , Loss: 1.7504778162546484\n",
            "Epoch: 5 , Loss: 1.6855998511499142\n",
            "Epoch: 6 , Loss: 1.6470624860864551\n",
            "Epoch: 7 , Loss: 1.6276287702147634\n",
            "Epoch: 8 , Loss: 1.6040001579810566\n",
            "Epoch: 9 , Loss: 1.5924993625888502\n",
            "Epoch: 10 , Loss: 1.572198245330661\n",
            "Epoch: 11 , Loss: 1.5622729277496898\n",
            "Epoch: 12 , Loss: 1.5616771814870838\n",
            "Epoch: 13 , Loss: 1.5432643738303884\n",
            "Epoch: 14 , Loss: 1.54139646941511\n",
            "Epoch: 15 , Loss: 1.5283856256772912\n",
            "Epoch: 16 , Loss: 1.539507384313876\n",
            "Epoch: 17 , Loss: 1.5498547783245613\n",
            "Epoch: 18 , Loss: 1.5059223761910312\n",
            "Epoch: 19 , Loss: 1.5071528491075667\n",
            "Epoch: 20 , Loss: 1.5243048853531782\n",
            "Epoch: 21 , Loss: 1.4989530640037267\n",
            "Epoch: 22 , Loss: 1.4996621234242158\n",
            "Epoch: 23 , Loss: 1.4898541133952006\n",
            "Epoch: 24 , Loss: 1.4883979277633026\n",
            "Epoch: 25 , Loss: 1.4786931892562762\n",
            "Epoch: 26 , Loss: 1.4817314116884324\n",
            "Epoch: 27 , Loss: 1.4782345584571381\n",
            "Epoch: 28 , Loss: 1.4867608525813492\n",
            "Epoch: 29 , Loss: 1.5007571259006147\n",
            "Epoch: 30 , Loss: 1.4752968049508728\n",
            "Epoch: 31 , Loss: 1.4793041404296945\n",
            "Epoch: 32 , Loss: 1.487746279573507\n",
            "Epoch: 33 , Loss: 1.4780004929641952\n",
            "Epoch: 34 , Loss: 1.4732295134872757\n",
            "Epoch: 35 , Loss: 1.4761807604607273\n",
            "Epoch: 36 , Loss: 1.4733501708453696\n",
            "Epoch: 37 , Loss: 1.4844296371468297\n",
            "Epoch: 38 , Loss: 1.4754240981873514\n",
            "Epoch: 39 , Loss: 1.4857791774499696\n",
            "Epoch: 40 , Loss: 1.4756915566366828\n",
            "Epoch: 41 , Loss: 1.4732942788687895\n",
            "Epoch: 42 , Loss: 1.4717155002211155\n",
            "Epoch: 43 , Loss: 1.4683970460198226\n",
            "Epoch: 44 , Loss: 1.4680921046349267\n",
            "Epoch: 45 , Loss: 1.46718721028455\n",
            "Epoch: 46 , Loss: 1.4661474379725772\n",
            "Epoch: 47 , Loss: 1.4734457384038369\n",
            "Epoch: 48 , Loss: 1.4660248515054615\n",
            "Epoch: 49 , Loss: 1.4664679629664785\n",
            "Epoch: 50 , Loss: 1.4663579344014719\n"
          ]
        },
        {
          "data": {
            "image/png": "[encoded data removed]",
            "text/plain": [
              "<Figure size 720x576 with 1 Axes>"
            ]
          },
          "metadata": {
            "needs_background": "light"
          },
          "output_type": "display_data"
        }
      ],
      "source": [
        "# DO NOT EDIT\n",
        "np.random.seed(2)\n",
        "mlp = Network((64,32,64,128,10),(Relu,Relu,Sigmoid,Softmax))\n",
        "fit(mlp,X_train,Y_train,CrossEntropy,batch_size=32,learning_rate=5e-4,epochs=50)"
      ]
    },
    {
      "cell_type": "markdown",
      "metadata": {
        "id": "B3-qwaQ-uk9-"
      },
      "source": [
        "The expected plot of Cross Entropy loss vs Epochs\n",
        "![Screenshot 2022-11-01 012718.png](data:image/png;base64,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)"
      ]
    },
    {
      "cell_type": "code",
      "execution_count": null,
      "metadata": {
        "colab": {
          "base_uri": "https://localhost:8080/"
        },
        "id": "_S38I0vvyzlv",
        "outputId": "29fa5be3-b1cf-4221-e73d-0c9069ebdc3d"
      },
      "outputs": [
        {
          "data": {
            "text/plain": [
              "0.9555555555555556"
            ]
          },
          "execution_count": 50,
          "metadata": {},
          "output_type": "execute_result"
        }
      ],
      "source": [
        "#  DO NOT EDIT\n",
        "y_pred = predict(mlp,X_test)\n",
        "y_acc = compute_accuracy(y_pred,Y_test)\n",
        "y_acc"
      ]
    },
    {
      "cell_type": "markdown",
      "metadata": {
        "id": "oH-efhaEuVlc"
      },
      "source": [
        "**The expected test accuracy is 95.5%**"
      ]
    }
  ],
  "metadata": {
    "colab": {
      "collapsed_sections": [],
      "provenance": []
    },
    "kernelspec": {
      "display_name": "Python 3",
      "name": "python3"
    },
    "language_info": {
      "name": "python"
    }
  },
  "nbformat": 4,
  "nbformat_minor": 0
}
