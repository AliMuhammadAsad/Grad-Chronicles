{
  "nbformat": 4,
  "nbformat_minor": 0,
  "metadata": {
    "colab": {
      "provenance": [],
      "gpuType": "T4"
    },
    "kernelspec": {
      "name": "python3",
      "display_name": "Python 3"
    },
    "language_info": {
      "name": "python"
    },
    "accelerator": "GPU"
  },
  "cells": [
    {
      "cell_type": "markdown",
      "source": [
        "# CS 316 : Introduction to Deep Learning\n",
        "## Lab 08 : Introduction to Tensorflow & CNNs\n",
        "### Dr. Abdul Samad"
      ],
      "metadata": {
        "id": "Sg4ClogU13X-"
      }
    },
    {
      "cell_type": "markdown",
      "source": [
        "#Instructions\n",
        "\n",
        "1. Please rename your notebook as Lab_8_aa1234.ipynb before the final submission. Notebooks which do not follow appropriate naming convention will not be graded.\n",
        "2. The deadline to submit this lab is 11:59 PM.\n",
        "3. Please submit your own work. If you have any questions, please feel free to reach out to the course instructor , RA or TA."
      ],
      "metadata": {
        "id": "SJgjARYO2j8D"
      }
    },
    {
      "cell_type": "markdown",
      "source": [
        "# Overview\n",
        "In this lab, you have been given an implementation of the LeNet model for classfying the MNIST model. Your task is to perform model fine-tuning and hyperparameter tuning to improve the model's peformance."
      ],
      "metadata": {
        "id": "XopcFe9c3ger"
      }
    },
    {
      "cell_type": "markdown",
      "source": [
        "# Setup"
      ],
      "metadata": {
        "id": "Jueroxf3HQPV"
      }
    },
    {
      "cell_type": "code",
      "execution_count": null,
      "metadata": {
        "id": "_KW1QQBdHNF9"
      },
      "outputs": [],
      "source": [
        "# DO NOT EDIT\n",
        "import tensorflow as tf\n",
        "from tensorflow.keras import layers, models\n",
        "from tensorflow.keras.datasets import fashion_mnist\n",
        "from tensorflow.keras.utils import to_categorical"
      ]
    },
    {
      "cell_type": "markdown",
      "source": [
        "# Load Fashion MNIST"
      ],
      "metadata": {
        "id": "iJEWw_qBHmjA"
      }
    },
    {
      "cell_type": "code",
      "source": [
        "# DO NOT EDIT\n",
        "# Load the Fashion MNIST dataset\n",
        "(train_images, train_labels), (test_images, test_labels) = fashion_mnist.load_data()"
      ],
      "metadata": {
        "colab": {
          "base_uri": "https://localhost:8080/"
        },
        "id": "bP7JBR5JHn-u",
        "outputId": "f29cd4ef-57d4-4111-8de3-5c0fe179190f"
      },
      "execution_count": null,
      "outputs": [
        {
          "output_type": "stream",
          "name": "stdout",
          "text": [
            "Downloading data from https://storage.googleapis.com/tensorflow/tf-keras-datasets/train-labels-idx1-ubyte.gz\n",
            "29515/29515 [==============================] - 0s 0us/step\n",
            "Downloading data from https://storage.googleapis.com/tensorflow/tf-keras-datasets/train-images-idx3-ubyte.gz\n",
            "26421880/26421880 [==============================] - 0s 0us/step\n",
            "Downloading data from https://storage.googleapis.com/tensorflow/tf-keras-datasets/t10k-labels-idx1-ubyte.gz\n",
            "5148/5148 [==============================] - 0s 0us/step\n",
            "Downloading data from https://storage.googleapis.com/tensorflow/tf-keras-datasets/t10k-images-idx3-ubyte.gz\n",
            "4422102/4422102 [==============================] - 0s 0us/step\n"
          ]
        }
      ]
    },
    {
      "cell_type": "markdown",
      "source": [
        "# Preprocess the dataset"
      ],
      "metadata": {
        "id": "U_6dnLp6Hqn6"
      }
    },
    {
      "cell_type": "code",
      "source": [
        "# DO NOT EDIT\n",
        "# Preprocess the data\n",
        "train_images = train_images.reshape((60000, 28, 28, 1))\n",
        "test_images = test_images.reshape((10000, 28, 28, 1))\n",
        "train_images = train_images.astype('float32') / 255\n",
        "test_images = test_images.astype('float32') / 255"
      ],
      "metadata": {
        "id": "8npSQGH8HvoS"
      },
      "execution_count": null,
      "outputs": []
    },
    {
      "cell_type": "markdown",
      "source": [
        "# Convert Labels to Categorical"
      ],
      "metadata": {
        "id": "eYb_smjfH4N2"
      }
    },
    {
      "cell_type": "code",
      "source": [
        "# DO NOT EDIT\n",
        "train_labels = to_categorical(train_labels)\n",
        "test_labels = to_categorical(test_labels)"
      ],
      "metadata": {
        "id": "6QfjMgeOH2eJ"
      },
      "execution_count": null,
      "outputs": []
    },
    {
      "cell_type": "markdown",
      "source": [
        "# Plot sample images from the dataset"
      ],
      "metadata": {
        "id": "iif3V0VEH-09"
      }
    },
    {
      "cell_type": "code",
      "source": [
        "# DO NOT EDIT\n",
        "#Plot sample images\n",
        "import matplotlib.pyplot as plt\n",
        "# Select a random image from the training set\n",
        "random_image = train_images[0]\n",
        "plt.imshow(random_image, cmap='gray')"
      ],
      "metadata": {
        "colab": {
          "base_uri": "https://localhost:8080/",
          "height": 448
        },
        "id": "HDPvcMVeICpk",
        "outputId": "37eba60f-fb92-4b53-d94c-64c623558c88"
      },
      "execution_count": null,
      "outputs": [
        {
          "output_type": "execute_result",
          "data": {
            "text/plain": [
              "<matplotlib.image.AxesImage at 0x7ba17d898100>"
            ]
          },
          "metadata": {},
          "execution_count": 5
        },
        {
          "output_type": "display_data",
          "data": {
            "text/plain": [
              "<Figure size 640x480 with 1 Axes>"
            ],
            "image/png": "[encoded data removed]"
          },
          "metadata": {}
        }
      ]
    },
    {
      "cell_type": "markdown",
      "source": [
        "# Create LeNet-5 Model"
      ],
      "metadata": {
        "id": "iwGOZeW9IO1F"
      }
    },
    {
      "cell_type": "code",
      "source": [
        "# DO NOT EDIT\n",
        "# Define LeNet-5 model using the LeNet class\n",
        "class LeNet:\n",
        "  def __init__(self, input_shape, num_classes):\n",
        "    self.input_shape = input_shape\n",
        "    self.num_classes = num_classes\n",
        "    self.model = self.build_model()\n",
        "\n",
        "  # Build the model\n",
        "  def build_model(self):\n",
        "    model = models.Sequential()\n",
        "    model.add(layers.Conv2D(6, (5, 5), activation='sigmoid', input_shape=self.input_shape,padding='same'))\n",
        "    model.add(layers.AveragePooling2D((2, 2)))\n",
        "    model.add(layers.Conv2D(16, (5, 5), activation='sigmoid'))\n",
        "    model.add(layers.AveragePooling2D((2, 2)))\n",
        "    model.add(layers.Flatten())\n",
        "    model.add(layers.Dense(120, activation='sigmoid'))\n",
        "    model.add(layers.Dense(84, activation='sigmoid'))\n",
        "    model.add(layers.Dense(self.num_classes, activation='linear'))\n",
        "    return model\n",
        "  # Compile the model\n",
        "  def compile(self, optimizer, loss, metrics):\n",
        "    self.model.compile(optimizer=optimizer, loss=loss, metrics=metrics)\n",
        "  # Train the model\n",
        "  def fit(self, x, y, epochs, validation_split):\n",
        "    return self.model.fit(x, y, epochs=epochs, validation_split=validation_split)\n",
        "  # Model summary\n",
        "  def summary(self):\n",
        "    return self.model.summary()\n",
        "  # Evaluate the model\n",
        "  def evaluate(self, x, y):\n",
        "    return self.model.evaluate(x, y)\n",
        "  # Save the model\n",
        "  def save(self, path):\n",
        "    self.model.save(path)\n",
        "  # Load the model\n",
        "  def load(self, path):\n",
        "    self.model = tf.keras.models.load_model(path)\n"
      ],
      "metadata": {
        "id": "-EpGW1gXIRjf"
      },
      "execution_count": null,
      "outputs": []
    },
    {
      "cell_type": "code",
      "source": [
        "# DO NOT EDIT\n",
        "# Instantiate the model\n",
        "model = LeNet(input_shape=(28, 28, 1), num_classes=10)\n",
        "# Summarize the model\n",
        "model.summary()\n",
        "# Compile the model\n",
        "model.compile(optimizer='adam', loss='mse', metrics=['accuracy'])\n",
        "# Train the model\n",
        "model.fit(train_images, train_labels, epochs=5, validation_split=0.1)\n",
        "# Save the model\n",
        "model.save('original.keras')\n",
        "# Load the model\n",
        "model = tf.keras.models.load_model('original.keras')\n",
        "# Evaluate the model\n",
        "model.evaluate(test_images, test_labels)"
      ],
      "metadata": {
        "colab": {
          "base_uri": "https://localhost:8080/"
        },
        "id": "vR-oyk6VIzxG",
        "outputId": "397363c8-3d15-4fb5-859f-2f0985cd6076"
      },
      "execution_count": null,
      "outputs": [
        {
          "output_type": "stream",
          "name": "stdout",
          "text": [
            "Model: \"sequential\"\n",
            "_________________________________________________________________\n",
            " Layer (type)                Output Shape              Param #   \n",
            "=================================================================\n",
            " conv2d (Conv2D)             (None, 28, 28, 6)         156       \n",
            "                                                                 \n",
            " average_pooling2d (Average  (None, 14, 14, 6)         0         \n",
            " Pooling2D)                                                      \n",
            "                                                                 \n",
            " conv2d_1 (Conv2D)           (None, 10, 10, 16)        2416      \n",
            "                                                                 \n",
            " average_pooling2d_1 (Avera  (None, 5, 5, 16)          0         \n",
            " gePooling2D)                                                    \n",
            "                                                                 \n",
            " flatten (Flatten)           (None, 400)               0         \n",
            "                                                                 \n",
            " dense (Dense)               (None, 120)               48120     \n",
            "                                                                 \n",
            " dense_1 (Dense)             (None, 84)                10164     \n",
            "                                                                 \n",
            " dense_2 (Dense)             (None, 10)                850       \n",
            "                                                                 \n",
            "=================================================================\n",
            "Total params: 61706 (241.04 KB)\n",
            "Trainable params: 61706 (241.04 KB)\n",
            "Non-trainable params: 0 (0.00 Byte)\n",
            "_________________________________________________________________\n",
            "Epoch 1/5\n",
            "1688/1688 [==============================] - 18s 5ms/step - loss: 0.0539 - accuracy: 0.6022 - val_loss: 0.0347 - val_accuracy: 0.7693\n",
            "Epoch 2/5\n",
            "1688/1688 [==============================] - 8s 5ms/step - loss: 0.0321 - accuracy: 0.7859 - val_loss: 0.0284 - val_accuracy: 0.8127\n",
            "Epoch 3/5\n",
            "1688/1688 [==============================] - 8s 5ms/step - loss: 0.0271 - accuracy: 0.8245 - val_loss: 0.0253 - val_accuracy: 0.8327\n",
            "Epoch 4/5\n",
            "1688/1688 [==============================] - 9s 5ms/step - loss: 0.0245 - accuracy: 0.8406 - val_loss: 0.0233 - val_accuracy: 0.8438\n",
            "Epoch 5/5\n",
            "1688/1688 [==============================] - 8s 5ms/step - loss: 0.0226 - accuracy: 0.8536 - val_loss: 0.0225 - val_accuracy: 0.8492\n",
            "313/313 [==============================] - 1s 3ms/step - loss: 0.0234 - accuracy: 0.8459\n"
          ]
        },
        {
          "output_type": "execute_result",
          "data": {
            "text/plain": [
              "[0.023380665108561516, 0.8458999991416931]"
            ]
          },
          "metadata": {},
          "execution_count": 7
        }
      ]
    },
    {
      "cell_type": "markdown",
      "source": [
        "# [10 Points] Task 01 - Add more CNN Layers"
      ],
      "metadata": {
        "id": "6P8Lk7wzvK7h"
      }
    },
    {
      "cell_type": "markdown",
      "source": [
        "In this task, you have to modify the existing LeNet model to add more CNN layers. In order to do this you will create a new class `LeNetCNN` which will be based on the `LeNet` class shared earlier. After implementing the `LeNetCNN` class you have to train the model in the same way as earlier. You are also required to save the model\n",
        "\n",
        "---\n",
        "\n"
      ],
      "metadata": {
        "id": "Vf6J7zC055pE"
      }
    },
    {
      "cell_type": "code",
      "source": [
        "#TODO: Implement LeNetCNN\n",
        "class LeNetCNN:\n",
        "  def __init__(self, input_shape, num_classes):\n",
        "    self.input_shape = input_shape\n",
        "    self.num_classes = num_classes\n",
        "    self.model = self.build_model()\n",
        "\n",
        "  # Build the model\n",
        "  def build_model(self):\n",
        "    # Write your code here\n",
        "\n",
        "    return model\n",
        "  # Compile the model\n",
        "  def compile(self, optimizer, loss, metrics):\n",
        "    self.model.compile(optimizer=optimizer, loss=loss, metrics=metrics)\n",
        "  # Train the model\n",
        "  def fit(self, x, y, epochs, validation_split):\n",
        "    return self.model.fit(x, y, epochs=epochs, validation_split=validation_split)\n",
        "  # Model summary\n",
        "  def summary(self):\n",
        "    return self.model.summary()\n",
        "  # Evaluate the model\n",
        "  def evaluate(self, x, y):\n",
        "    return self.model.evaluate(x, y)\n",
        "  # Save the model\n",
        "  def save(self, path):\n",
        "    self.model.save(path)\n",
        "  # Load the model\n",
        "  def load(self, path):\n",
        "    self.model = tf.keras.models.load_model(path)\n"
      ],
      "metadata": {
        "id": "6lleF3R--jpu"
      },
      "execution_count": null,
      "outputs": []
    },
    {
      "cell_type": "code",
      "source": [
        "# Instantiate the model\n",
        "model = LeNetCNN(input_shape=(28, 28, 1), num_classes=10)\n",
        "# Summarize the model\n",
        "model.summary()\n",
        "# Compile the model\n",
        "model.compile(optimizer='adam', loss='mse', metrics=['accuracy'])\n",
        "# Train the model\n",
        "model.fit(train_images, train_labels, epochs=5, validation_split=0.1)\n",
        "# Save the model\n",
        "model.save('original_cnn.keras')\n",
        "# Load the model\n",
        "model = tf.keras.models.load_model('original_ccn.keras')\n",
        "# Evaluate the model\n",
        "model.evaluate(test_images, test_labels)"
      ],
      "metadata": {
        "id": "Un7oHiz__ODf"
      },
      "execution_count": null,
      "outputs": []
    },
    {
      "cell_type": "markdown",
      "source": [
        "# [10 Points] Task 02 - Add more Dense Layers"
      ],
      "metadata": {
        "id": "edLgFroP_so_"
      }
    },
    {
      "cell_type": "markdown",
      "source": [
        "In this task, you have to modify the existing LeNet model to add more CNN layers. In order to do this you will create a new class `LeNetDense` which will be based on the `LeNet` class shared earlier. After implementing the `LeNetDense` class you have to train the model in the same way as earlier. You are also required to save the model\n",
        "\n",
        "---\n",
        "\n"
      ],
      "metadata": {
        "id": "6TuIbeX__2l6"
      }
    },
    {
      "cell_type": "code",
      "source": [
        "#TODO: Implement LeNetDense\n",
        "class LeNetDense:\n",
        "  def __init__(self, input_shape, num_classes):\n",
        "    self.input_shape = input_shape\n",
        "    self.num_classes = num_classes\n",
        "    self.model = self.build_model()\n",
        "\n",
        "  # Build the model\n",
        "  def build_model(self):\n",
        "    # Write your code here\n",
        "\n",
        "    return model\n",
        "  # Compile the model\n",
        "  def compile(self, optimizer, loss, metrics):\n",
        "    self.model.compile(optimizer=optimizer, loss=loss, metrics=metrics)\n",
        "  # Train the model\n",
        "  def fit(self, x, y, epochs, validation_split):\n",
        "    return self.model.fit(x, y, epochs=epochs, validation_split=validation_split)\n",
        "  # Model summary\n",
        "  def summary(self):\n",
        "    return self.model.summary()\n",
        "  # Evaluate the model\n",
        "  def evaluate(self, x, y):\n",
        "    return self.model.evaluate(x, y)\n",
        "  # Save the model\n",
        "  def save(self, path):\n",
        "    self.model.save(path)\n",
        "  # Load the model\n",
        "  def load(self, path):\n",
        "    self.model = tf.keras.models.load_model(path)\n"
      ],
      "metadata": {
        "id": "Wms3kPJP_uwY"
      },
      "execution_count": null,
      "outputs": []
    },
    {
      "cell_type": "code",
      "source": [
        "# Instantiate the model\n",
        "model = LeNetDense(input_shape=(28, 28, 1), num_classes=10)\n",
        "# Summarize the model\n",
        "model.summary()\n",
        "# Compile the model\n",
        "model.compile(optimizer='adam', loss='mse', metrics=['accuracy'])\n",
        "# Train the model\n",
        "model.fit(train_images, train_labels, epochs=5, validation_split=0.1)\n",
        "# Save the model\n",
        "model.save('original_dense.keras')\n",
        "# Load the model\n",
        "model = tf.keras.models.load_model('original_ccn.keras')\n",
        "# Evaluate the model\n",
        "model.evaluate(test_images, test_labels)"
      ],
      "metadata": {
        "id": "0ou44DWHAG-h"
      },
      "execution_count": null,
      "outputs": []
    },
    {
      "cell_type": "markdown",
      "source": [
        "# [10 Points] Task 03 - Replace Activation function"
      ],
      "metadata": {
        "id": "3GfGRfI1AP78"
      }
    },
    {
      "cell_type": "markdown",
      "source": [
        "In this task, you have to modify the existing LeNet model to replace the sigmoid activation function with ReLU activation function. In order to do this you will create a new class `LeNetAct` which will be based on the `LeNet` class shared earlier. After implementing the `LeNetAct` class you have to train the model in the same way as earlier. You are also required to save the model\n",
        "\n",
        "---\n",
        "\n"
      ],
      "metadata": {
        "id": "mps_TGziAqVK"
      }
    },
    {
      "cell_type": "code",
      "source": [
        "#TODO: Implement LeNetAct\n",
        "class LeNetAct:\n",
        "  def __init__(self, input_shape, num_classes):\n",
        "    self.input_shape = input_shape\n",
        "    self.num_classes = num_classes\n",
        "    self.model = self.build_model()\n",
        "\n",
        "  # Build the model\n",
        "  def build_model(self):\n",
        "    # Write your code here\n",
        "\n",
        "    return model\n",
        "  # Compile the model\n",
        "  def compile(self, optimizer, loss, metrics):\n",
        "    self.model.compile(optimizer=optimizer, loss=loss, metrics=metrics)\n",
        "  # Train the model\n",
        "  def fit(self, x, y, epochs, validation_split):\n",
        "    return self.model.fit(x, y, epochs=epochs, validation_split=validation_split)\n",
        "  # Model summary\n",
        "  def summary(self):\n",
        "    return self.model.summary()\n",
        "  # Evaluate the model\n",
        "  def evaluate(self, x, y):\n",
        "    return self.model.evaluate(x, y)\n",
        "  # Save the model\n",
        "  def save(self, path):\n",
        "    self.model.save(path)\n",
        "  # Load the model\n",
        "  def load(self, path):\n",
        "    self.model = tf.keras.models.load_model(path)\n"
      ],
      "metadata": {
        "id": "pITx812xApjQ"
      },
      "execution_count": null,
      "outputs": []
    },
    {
      "cell_type": "code",
      "source": [
        "# Instantiate the model\n",
        "model = LeNetAct(input_shape=(28, 28, 1), num_classes=10)\n",
        "# Summarize the model\n",
        "model.summary()\n",
        "# Compile the model\n",
        "model.compile(optimizer='adam', loss='mse', metrics=['accuracy'])\n",
        "# Train the model\n",
        "model.fit(train_images, train_labels, epochs=5, validation_split=0.1)\n",
        "# Save the model\n",
        "model.save('original_act.keras')\n",
        "# Load the model\n",
        "model = tf.keras.models.load_model('original_act.keras')\n",
        "# Evaluate the model\n",
        "model.evaluate(test_images, test_labels)"
      ],
      "metadata": {
        "id": "HNtzC8ErDeHh"
      },
      "execution_count": null,
      "outputs": []
    },
    {
      "cell_type": "markdown",
      "source": [
        "# [10 Points] Task 04 - Replace Loss function"
      ],
      "metadata": {
        "id": "9lyw9XkBDnXi"
      }
    },
    {
      "cell_type": "markdown",
      "source": [
        "In this task, you have to modify the existing LeNet model by using the cross entropy loss instead of mean squared error. You will also have to replace the linear activation function with sigmoid activation function in the last layer. In order to do this you will create a new class `LeNetLoss` which will be based on the `LeNet` class shared earlier. After implementing the `LeNetLoss` class you have to train the model in the same way as earlier. You are also required to save the model\n",
        "\n",
        "---\n",
        "\n"
      ],
      "metadata": {
        "id": "3wr9YrL2DyaH"
      }
    },
    {
      "cell_type": "code",
      "source": [
        "#TODO: Implement LeNetLoss\n",
        "class LeNetLoss:\n",
        "  def __init__(self, input_shape, num_classes):\n",
        "    self.input_shape = input_shape\n",
        "    self.num_classes = num_classes\n",
        "    self.model = self.build_model()\n",
        "\n",
        "  # Build the model\n",
        "  def build_model(self):\n",
        "    # Write your code here\n",
        "\n",
        "    return model\n",
        "  # Compile the model\n",
        "  def compile(self, optimizer, loss, metrics):\n",
        "    self.model.compile(optimizer=optimizer, loss=loss, metrics=metrics)\n",
        "  # Train the model\n",
        "  def fit(self, x, y, epochs, validation_split):\n",
        "    return self.model.fit(x, y, epochs=epochs, validation_split=validation_split)\n",
        "  # Model summary\n",
        "  def summary(self):\n",
        "    return self.model.summary()\n",
        "  # Evaluate the model\n",
        "  def evaluate(self, x, y):\n",
        "    return self.model.evaluate(x, y)\n",
        "  # Save the model\n",
        "  def save(self, path):\n",
        "    self.model.save(path)\n",
        "  # Load the model\n",
        "  def load(self, path):\n",
        "    self.model = tf.keras.models.load_model(path)\n"
      ],
      "metadata": {
        "id": "fD8r_g5vDxq1"
      },
      "execution_count": null,
      "outputs": []
    },
    {
      "cell_type": "code",
      "source": [
        "# Instantiate the model\n",
        "model = LeNetLoss(input_shape=(28, 28, 1), num_classes=10)\n",
        "# Summarize the model\n",
        "model.summary()\n",
        "# Compile the model\n",
        "model.compile(optimizer='adam', loss='cross_entropy', metrics=['accuracy'])\n",
        "# Train the model\n",
        "model.fit(train_images, train_labels, epochs=5, validation_split=0.1)\n",
        "# Save the model\n",
        "model.save('original_loss.keras')\n",
        "# Load the model\n",
        "model = tf.keras.models.load_model('original_loss.keras')\n",
        "# Evaluate the model\n",
        "model.evaluate(test_images, test_labels)"
      ],
      "metadata": {
        "id": "ofZAHNd0EXkZ"
      },
      "execution_count": null,
      "outputs": []
    },
    {
      "cell_type": "markdown",
      "source": [
        "#[10 Points] Task 05 - Use SGD optimizer"
      ],
      "metadata": {
        "id": "aSAGyeHqE9N_"
      }
    },
    {
      "cell_type": "markdown",
      "source": [
        "In this task instead of modifying the LeNet model, you will be training the model using SGD instead of Adam."
      ],
      "metadata": {
        "id": "uWFSoBQ5FKWH"
      }
    },
    {
      "cell_type": "code",
      "source": [
        "# Instantiate the\n",
        "model = LeNet(input_shape=(28, 28, 1), num_classes=10)\n",
        "# Summarize the model\n",
        "model.summary()\n",
        "# Compile the model using SGD\n",
        "\n",
        "# Train the model\n",
        "model.fit(train_images, train_labels, epochs=5, validation_split=0.1)\n",
        "# Save the model\n",
        "model.save('original_sgd.keras')\n",
        "# Load the model\n",
        "model = tf.keras.models.load_model('original_sgd.keras')\n",
        "# Evaluate the model\n",
        "model.evaluate(test_images, test_labels)"
      ],
      "metadata": {
        "id": "PwHMK2GiFJeO"
      },
      "execution_count": null,
      "outputs": []
    },
    {
      "cell_type": "markdown",
      "source": [
        "# [10 Points] Task 06 - Vary the number of Epochs\n"
      ],
      "metadata": {
        "id": "X9wwovFbFyyr"
      }
    },
    {
      "cell_type": "markdown",
      "source": [
        "In this task instead of modifying the LeNet model, you will be fine tuing the number of epochs."
      ],
      "metadata": {
        "id": "v32-OY--GA6_"
      }
    },
    {
      "cell_type": "code",
      "source": [
        "# Instantiate the model\n",
        "model = LeNet(input_shape=(28, 28, 1), num_classes=10)\n",
        "# Summarize the model\n",
        "model.summary()\n",
        "# Compile the model\n",
        "model.compile(optimizer='adam', loss='mse', metrics=['accuracy'])\n",
        "# Modify the number of epochs\n",
        "model.fit(train_images, train_labels, epochs=\" \", validation_split=0.1)\n",
        "# Save the model\n",
        "model.save('original_epoch.keras')\n",
        "# Load the model\n",
        "model = tf.keras.models.load_model('original_epoch.keras')\n",
        "# Evaluate the model\n",
        "model.evaluate(test_images, test_labels)"
      ],
      "metadata": {
        "id": "7NK4xc0qF-2e"
      },
      "execution_count": null,
      "outputs": []
    }
  ]
}