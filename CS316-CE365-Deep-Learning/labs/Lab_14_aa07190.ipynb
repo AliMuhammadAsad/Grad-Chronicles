{
  "nbformat": 4,
  "nbformat_minor": 0,
  "metadata": {
    "colab": {
      "provenance": [],
      "gpuType": "T4"
    },
    "kernelspec": {
      "name": "python3",
      "display_name": "Python 3"
    },
    "language_info": {
      "name": "python"
    },
    "accelerator": "GPU"
  },
  "cells": [
    {
      "cell_type": "markdown",
      "metadata": {
        "id": "wPcyEOVQsB-O"
      },
      "source": [
        "# CS 316 : Introduction to Deep Learning - Fall 2024\n",
        "## Lab 14 : Graph Neural Networks\n",
        "### Dr. Abdul Samad"
      ]
    },
    {
      "cell_type": "markdown",
      "metadata": {
        "id": "WXmgRnassB-P"
      },
      "source": [
        "# Instructions\n",
        "\n",
        "1. Make a copy of this notebook on google colab at start of the lab.\n",
        "\n",
        "2. Please rename your notebook as *Lab_14_aa12345.ipynb* before starting the lab. Notebooks which do not follow appropriate naming convention will not be graded.\n",
        "\n",
        "3. You have to submit this lab during the lab timings. You are allowed to submit till 11:59 PM on the day of your lab with a 30% penalty. No submissions will be accepted afterwards.\n",
        "\n",
        "4. Use of AI is strictly prohibited. Anyone caught using Any AI tool during lab or while grading will be immediately reported to OCVS without any further discussion.\n",
        "\n",
        "5. At the end of the lab, download the notebook (ipynb extension file) and upload it on canvas as a file. Submitting link to notebook or any other file will not be accepted.\n",
        "\n",
        "6. Each task has points assigned to it. Total Lab is of 100 points.\n",
        "\n",
        "7. Use of for loops is strictly prohibited.\n",
        "\n",
        "8. For every theoretical question, there is a separate cell given at the end. You have to write your answer there.\n",
        "\n",
        "9. If you have any questions, please feel free to reach out to the course instructor or RA."
      ]
    },
    {
      "cell_type": "markdown",
      "source": [
        "# Task Overview: Graph Classification\n",
        "##Introduction\n",
        "In this tutorial we will use the The **MUTAG dataset** is a widely used benchmark dataset in graph classification, particularly in bioinformatics. Each graph in MUTAG represents a chemical compound, with nodes corresponding to atoms and edges to chemical bonds. The dataset is often used to test the performance of graph neural networks (GNNs) on classification tasks, where the aim is to classify each compound as either **mutagenic** or **non-mutagenic** based on its structure.\n",
        "\n",
        "### Classes in the MUTAG Dataset\n",
        "\n",
        "The MUTAG dataset has **two classes**:\n",
        "\n",
        "1. **Class 0 (Non-Mutagenic)**: Compounds labeled as **non-mutagenic** do not induce mutations in specific organisms. These compounds are often considered safe from a biological or toxicological perspective in terms of mutagenic effects.\n",
        "\n",
        "2. **Class 1 (Mutagenic)**: Compounds labeled as **mutagenic** are known to induce mutations in organisms. This mutagenic effect is an indicator of the compound’s potential to damage genetic material, which can lead to harmful biological consequences, including cancer. Therefore, detecting and classifying mutagenic compounds is critical for pharmaceutical and chemical industries.\n",
        "\n",
        "In the context of graph classification, each graph (compound) is represented by a combination of nodes (atoms) and edges (chemical bonds) with labels indicating whether the compound is mutagenic or not.\n",
        "\n",
        "### Details of Graph Structure in MUTAG\n",
        "\n",
        "- **Nodes (Atoms)**: Each node in a graph represents an atom in a compound. Node features often encode information such as the type of atom (e.g., carbon, nitrogen, oxygen).\n",
        "- **Edges (Bonds)**: Each edge represents a bond between two atoms. Bonds could be single, double, or aromatic, and they capture the connectivity within the compound.\n",
        "  \n",
        "### Purpose and Importance\n",
        "\n",
        "The task of classifying MUTAG compounds into these two categories is important for assessing potential risks associated with chemical compounds and for drug discovery, where avoiding mutagenic effects is crucial. By training a GNN on this dataset, we aim to learn the structural patterns that differentiate mutagenic and non-mutagenic compounds based on atomic interactions and bond patterns."
      ],
      "metadata": {
        "id": "SozLEXIbUNex"
      }
    },
    {
      "cell_type": "markdown",
      "metadata": {
        "id": "GqAoTxi37G4h"
      },
      "source": [
        "Let's download a library we will use and then import other libraries\n"
      ]
    },
    {
      "cell_type": "code",
      "execution_count": 3,
      "metadata": {
        "colab": {
          "base_uri": "https://localhost:8080/"
        },
        "id": "NXfn28vHNHU2",
        "outputId": "098fd9f0-effa-4dbf-8958-a2c000f78905"
      },
      "outputs": [
        {
          "output_type": "stream",
          "name": "stdout",
          "text": [
            "Requirement already satisfied: torch in /usr/local/lib/python3.10/dist-packages (2.5.1+cu121)\n",
            "Requirement already satisfied: torch-geometric in /usr/local/lib/python3.10/dist-packages (2.6.1)\n",
            "Requirement already satisfied: matplotlib in /usr/local/lib/python3.10/dist-packages (3.8.0)\n",
            "Collecting datasets\n",
            "  Downloading datasets-3.1.0-py3-none-any.whl.metadata (20 kB)\n",
            "Requirement already satisfied: filelock in /usr/local/lib/python3.10/dist-packages (from torch) (3.16.1)\n",
            "Requirement already satisfied: typing-extensions>=4.8.0 in /usr/local/lib/python3.10/dist-packages (from torch) (4.12.2)\n",
            "Requirement already satisfied: networkx in /usr/local/lib/python3.10/dist-packages (from torch) (3.4.2)\n",
            "Requirement already satisfied: jinja2 in /usr/local/lib/python3.10/dist-packages (from torch) (3.1.4)\n",
            "Requirement already satisfied: fsspec in /usr/local/lib/python3.10/dist-packages (from torch) (2024.10.0)\n",
            "Requirement already satisfied: sympy==1.13.1 in /usr/local/lib/python3.10/dist-packages (from torch) (1.13.1)\n",
            "Requirement already satisfied: mpmath<1.4,>=1.1.0 in /usr/local/lib/python3.10/dist-packages (from sympy==1.13.1->torch) (1.3.0)\n",
            "Requirement already satisfied: aiohttp in /usr/local/lib/python3.10/dist-packages (from torch-geometric) (3.11.2)\n",
            "Requirement already satisfied: numpy in /usr/local/lib/python3.10/dist-packages (from torch-geometric) (1.26.4)\n",
            "Requirement already satisfied: psutil>=5.8.0 in /usr/local/lib/python3.10/dist-packages (from torch-geometric) (5.9.5)\n",
            "Requirement already satisfied: pyparsing in /usr/local/lib/python3.10/dist-packages (from torch-geometric) (3.2.0)\n",
            "Requirement already satisfied: requests in /usr/local/lib/python3.10/dist-packages (from torch-geometric) (2.32.3)\n",
            "Requirement already satisfied: tqdm in /usr/local/lib/python3.10/dist-packages (from torch-geometric) (4.66.6)\n",
            "Requirement already satisfied: contourpy>=1.0.1 in /usr/local/lib/python3.10/dist-packages (from matplotlib) (1.3.1)\n",
            "Requirement already satisfied: cycler>=0.10 in /usr/local/lib/python3.10/dist-packages (from matplotlib) (0.12.1)\n",
            "Requirement already satisfied: fonttools>=4.22.0 in /usr/local/lib/python3.10/dist-packages (from matplotlib) (4.55.0)\n",
            "Requirement already satisfied: kiwisolver>=1.0.1 in /usr/local/lib/python3.10/dist-packages (from matplotlib) (1.4.7)\n",
            "Requirement already satisfied: packaging>=20.0 in /usr/local/lib/python3.10/dist-packages (from matplotlib) (24.2)\n",
            "Requirement already satisfied: pillow>=6.2.0 in /usr/local/lib/python3.10/dist-packages (from matplotlib) (11.0.0)\n",
            "Requirement already satisfied: python-dateutil>=2.7 in /usr/local/lib/python3.10/dist-packages (from matplotlib) (2.8.2)\n",
            "Requirement already satisfied: pyarrow>=15.0.0 in /usr/local/lib/python3.10/dist-packages (from datasets) (17.0.0)\n",
            "Collecting dill<0.3.9,>=0.3.0 (from datasets)\n",
            "  Downloading dill-0.3.8-py3-none-any.whl.metadata (10 kB)\n",
            "Requirement already satisfied: pandas in /usr/local/lib/python3.10/dist-packages (from datasets) (2.2.2)\n",
            "Collecting xxhash (from datasets)\n",
            "  Downloading xxhash-3.5.0-cp310-cp310-manylinux_2_17_x86_64.manylinux2014_x86_64.whl.metadata (12 kB)\n",
            "Collecting multiprocess<0.70.17 (from datasets)\n",
            "  Downloading multiprocess-0.70.16-py310-none-any.whl.metadata (7.2 kB)\n",
            "Collecting fsspec (from torch)\n",
            "  Downloading fsspec-2024.9.0-py3-none-any.whl.metadata (11 kB)\n",
            "Requirement already satisfied: huggingface-hub>=0.23.0 in /usr/local/lib/python3.10/dist-packages (from datasets) (0.26.2)\n",
            "Requirement already satisfied: pyyaml>=5.1 in /usr/local/lib/python3.10/dist-packages (from datasets) (6.0.2)\n",
            "Requirement already satisfied: aiohappyeyeballs>=2.3.0 in /usr/local/lib/python3.10/dist-packages (from aiohttp->torch-geometric) (2.4.3)\n",
            "Requirement already satisfied: aiosignal>=1.1.2 in /usr/local/lib/python3.10/dist-packages (from aiohttp->torch-geometric) (1.3.1)\n",
            "Requirement already satisfied: attrs>=17.3.0 in /usr/local/lib/python3.10/dist-packages (from aiohttp->torch-geometric) (24.2.0)\n",
            "Requirement already satisfied: frozenlist>=1.1.1 in /usr/local/lib/python3.10/dist-packages (from aiohttp->torch-geometric) (1.5.0)\n",
            "Requirement already satisfied: multidict<7.0,>=4.5 in /usr/local/lib/python3.10/dist-packages (from aiohttp->torch-geometric) (6.1.0)\n",
            "Requirement already satisfied: propcache>=0.2.0 in /usr/local/lib/python3.10/dist-packages (from aiohttp->torch-geometric) (0.2.0)\n",
            "Requirement already satisfied: yarl<2.0,>=1.17.0 in /usr/local/lib/python3.10/dist-packages (from aiohttp->torch-geometric) (1.17.2)\n",
            "Requirement already satisfied: async-timeout<6.0,>=4.0 in /usr/local/lib/python3.10/dist-packages (from aiohttp->torch-geometric) (4.0.3)\n",
            "Requirement already satisfied: six>=1.5 in /usr/local/lib/python3.10/dist-packages (from python-dateutil>=2.7->matplotlib) (1.16.0)\n",
            "Requirement already satisfied: charset-normalizer<4,>=2 in /usr/local/lib/python3.10/dist-packages (from requests->torch-geometric) (3.4.0)\n",
            "Requirement already satisfied: idna<4,>=2.5 in /usr/local/lib/python3.10/dist-packages (from requests->torch-geometric) (3.10)\n",
            "Requirement already satisfied: urllib3<3,>=1.21.1 in /usr/local/lib/python3.10/dist-packages (from requests->torch-geometric) (2.2.3)\n",
            "Requirement already satisfied: certifi>=2017.4.17 in /usr/local/lib/python3.10/dist-packages (from requests->torch-geometric) (2024.8.30)\n",
            "Requirement already satisfied: MarkupSafe>=2.0 in /usr/local/lib/python3.10/dist-packages (from jinja2->torch) (3.0.2)\n",
            "Requirement already satisfied: pytz>=2020.1 in /usr/local/lib/python3.10/dist-packages (from pandas->datasets) (2024.2)\n",
            "Requirement already satisfied: tzdata>=2022.7 in /usr/local/lib/python3.10/dist-packages (from pandas->datasets) (2024.2)\n",
            "Downloading datasets-3.1.0-py3-none-any.whl (480 kB)\n",
            "\u001b[2K   \u001b[90m━━━━━━━━━━━━━━━━━━━━━━━━━━━━━━━━━━━━━━━━\u001b[0m \u001b[32m480.6/480.6 kB\u001b[0m \u001b[31m33.5 MB/s\u001b[0m eta \u001b[36m0:00:00\u001b[0m\n",
            "\u001b[?25hDownloading dill-0.3.8-py3-none-any.whl (116 kB)\n",
            "\u001b[2K   \u001b[90m━━━━━━━━━━━━━━━━━━━━━━━━━━━━━━━━━━━━━━━━\u001b[0m \u001b[32m116.3/116.3 kB\u001b[0m \u001b[31m11.0 MB/s\u001b[0m eta \u001b[36m0:00:00\u001b[0m\n",
            "\u001b[?25hDownloading fsspec-2024.9.0-py3-none-any.whl (179 kB)\n",
            "\u001b[2K   \u001b[90m━━━━━━━━━━━━━━━━━━━━━━━━━━━━━━━━━━━━━━━━\u001b[0m \u001b[32m179.3/179.3 kB\u001b[0m \u001b[31m16.1 MB/s\u001b[0m eta \u001b[36m0:00:00\u001b[0m\n",
            "\u001b[?25hDownloading multiprocess-0.70.16-py310-none-any.whl (134 kB)\n",
            "\u001b[2K   \u001b[90m━━━━━━━━━━━━━━━━━━━━━━━━━━━━━━━━━━━━━━━━\u001b[0m \u001b[32m134.8/134.8 kB\u001b[0m \u001b[31m13.3 MB/s\u001b[0m eta \u001b[36m0:00:00\u001b[0m\n",
            "\u001b[?25hDownloading xxhash-3.5.0-cp310-cp310-manylinux_2_17_x86_64.manylinux2014_x86_64.whl (194 kB)\n",
            "\u001b[2K   \u001b[90m━━━━━━━━━━━━━━━━━━━━━━━━━━━━━━━━━━━━━━━━\u001b[0m \u001b[32m194.1/194.1 kB\u001b[0m \u001b[31m18.0 MB/s\u001b[0m eta \u001b[36m0:00:00\u001b[0m\n",
            "\u001b[?25hInstalling collected packages: xxhash, fsspec, dill, multiprocess, datasets\n",
            "  Attempting uninstall: fsspec\n",
            "    Found existing installation: fsspec 2024.10.0\n",
            "    Uninstalling fsspec-2024.10.0:\n",
            "      Successfully uninstalled fsspec-2024.10.0\n",
            "\u001b[31mERROR: pip's dependency resolver does not currently take into account all the packages that are installed. This behaviour is the source of the following dependency conflicts.\n",
            "gcsfs 2024.10.0 requires fsspec==2024.10.0, but you have fsspec 2024.9.0 which is incompatible.\u001b[0m\u001b[31m\n",
            "\u001b[0mSuccessfully installed datasets-3.1.0 dill-0.3.8 fsspec-2024.9.0 multiprocess-0.70.16 xxhash-3.5.0\n"
          ]
        }
      ],
      "source": [
        "# Install required libraries (if not already installed)\n",
        "!pip install torch torch-geometric matplotlib datasets"
      ]
    },
    {
      "cell_type": "code",
      "source": [
        "import torch\n",
        "from torch import nn as nn\n",
        "import torch.nn.functional as F\n",
        "from torch_geometric.datasets import TUDataset\n",
        "from torch_geometric.loader import DataLoader\n",
        "from torch_geometric.nn import GCNConv, global_mean_pool\n",
        "import matplotlib.pyplot as plt\n",
        "from sklearn.model_selection import train_test_split\n",
        "import numpy as np\n",
        "import seaborn as sns"
      ],
      "metadata": {
        "id": "ShIW4R0aR_W4"
      },
      "execution_count": 2,
      "outputs": []
    },
    {
      "cell_type": "markdown",
      "source": [
        "# [15 Points] Task 01 - Loading Dataset\n",
        "# MUTAG Dataset details\n",
        "We load the MUTAG dataset using [**TUDataset**](https://huggingface.co/datasets/glue) from **torch_geometric.datasets**. The dataset is automatically downloaded if not available. The dataset is then loaded into a form that torch_geometric can work with, where each graph has:\n",
        "\n",
        "## Nodes (with features):\n",
        "Each node may have associated features (e.g., the type of atom in chemical graphs).\n",
        "##Edges:\n",
        "Connections between nodes.\n",
        "##Labels:\n",
        " For classification, each graph has a label indicating its class (for MUTAG, this could be mutagenic or non-mutagenic).\n",
        "\n",
        " For TUDataset root = 'data/MUTAG' and name = 'MUTAG'."
      ],
      "metadata": {
        "id": "fcO9WGzjXnR3"
      }
    },
    {
      "cell_type": "code",
      "source": [
        "# Load the MUTAG dataset\n",
        "#TODO\n",
        "from datasets import load_dataset\n",
        "\n",
        "dataset = TUDataset(root='data/MUTAG', name='MUTAG')\n",
        "\n",
        "\n",
        "\n",
        "#END TODO\n",
        "# Display basic info about the dataset\n",
        "print(f\"Number of graphs: {len(dataset)}\")\n",
        "print(f\"Number of classes: {dataset.num_classes}\")\n",
        "print(f\"Number of node features: {dataset.num_node_features}\")\n",
        "print(f\"Number of edge features: {dataset.num_edge_features}\")"
      ],
      "metadata": {
        "colab": {
          "base_uri": "https://localhost:8080/"
        },
        "id": "BOjj---iXlCv",
        "outputId": "d1412009-f46b-4bf6-8486-57fc970b5ed1"
      },
      "execution_count": 6,
      "outputs": [
        {
          "output_type": "stream",
          "name": "stderr",
          "text": [
            "Downloading https://www.chrsmrrs.com/graphkerneldatasets/MUTAG.zip\n"
          ]
        },
        {
          "output_type": "stream",
          "name": "stdout",
          "text": [
            "Number of graphs: 188\n",
            "Number of classes: 2\n",
            "Number of node features: 7\n",
            "Number of edge features: 4\n"
          ]
        },
        {
          "output_type": "stream",
          "name": "stderr",
          "text": [
            "Processing...\n",
            "Done!\n"
          ]
        }
      ]
    },
    {
      "cell_type": "markdown",
      "source": [
        "Output:\n",
        "\n",
        "Number of graphs: 188\n",
        "\n",
        "Number of classes: 2\n",
        "\n",
        "Number of node features: 7\n",
        "\n",
        "Number of edge features: 4"
      ],
      "metadata": {
        "id": "JvEDnPhG2-2D"
      }
    },
    {
      "cell_type": "markdown",
      "source": [
        "## MUTAG Dataset Instance\n",
        "\n",
        "For MUTAG:\n",
        "- Nodes (`data.x`) represent atoms (e.g., carbon, oxygen).\n",
        "- Edges (`edge_index`) represent chemical bonds between atoms.\n",
        "- Edge attributes (`edge_attr`) encode bond types (e.g., single, double, triple bonds).\n",
        "\n",
        "This combination provides a rich representation of molecules as graphs!"
      ],
      "metadata": {
        "id": "QZis38DOaq3-"
      }
    },
    {
      "cell_type": "code",
      "source": [
        "data = dataset[1]\n",
        "print(data)"
      ],
      "metadata": {
        "colab": {
          "base_uri": "https://localhost:8080/"
        },
        "id": "4xvVyi2qYLLH",
        "outputId": "b33912b9-37ae-4b48-f8a2-0a2fdfc2eeee"
      },
      "execution_count": 7,
      "outputs": [
        {
          "output_type": "stream",
          "name": "stdout",
          "text": [
            "Data(edge_index=[2, 28], x=[13, 7], edge_attr=[28, 4], y=[1])\n"
          ]
        }
      ]
    },
    {
      "cell_type": "markdown",
      "source": [
        "\n",
        "\n",
        "### Explaination of `Data.x`\n",
        "\n",
        "- **Rows**: Each row in `data.x` corresponds to a **node** in the graph.\n",
        "- **Columns**: Each column represents a specific **feature** of the node. These features could be categorical, numerical, or binary, depending on the dataset.\n",
        "\n",
        "For the MUTAG dataset specifically:\n",
        "-  Each graph represents a molecule, where:\n",
        "  - Nodes represent **atoms** (e.g., carbon, oxygen, nitrogen).\n",
        "  - Edges represent **bonds** between these atoms.\n",
        "\n",
        "\n",
        "\n",
        "#### Decoding the Columns of `data.x`\n",
        "\n",
        "1. **One-hot Encoding**:\n",
        "   - Each column corresponds to a specific atom type (e.g., hydrogen, oxygen, carbon).\n",
        "   - A value of `1` in a column indicates that the node belongs to that atom type; all other values in that row are `0`.\n",
        "\n",
        "2. **Example**:\n",
        "   Suppose the columns correspond to the following atom types:\n",
        "   ```\n",
        "   [Carbon (C), Oxygen (O), Nitrogen (N), Hydrogen (H), Fluorine (F), Chlorine (Cl), Bromine (Br)]\n",
        "   ```\n",
        "   A row `[1, 0, 0, 0, 0, 0, 0]` indicates a **Carbon** atom, while `[0, 1, 0, 0, 0, 0, 0]` indicates an **Oxygen** atom.\n",
        "\n",
        "#### Meaning of Rows and Columns\n",
        "- **Row**:\n",
        "  A single row represents the features of one node (atom) in the graph (molecule).\n",
        "- **Column**:\n",
        "  Each column represents one feature, such as a specific atom type in this case.\n",
        "\n",
        "\n"
      ],
      "metadata": {
        "id": "ZPUwxztZaxBW"
      }
    },
    {
      "cell_type": "code",
      "source": [
        "# Access the first graph\n",
        "data = dataset[0]\n",
        "\n",
        "# Print node and edge features\n",
        "print(\"\\nFirst graph's node features:\")\n",
        "print(data.x)\n"
      ],
      "metadata": {
        "colab": {
          "base_uri": "https://localhost:8080/"
        },
        "id": "Ixk55Kdy6OE3",
        "outputId": "3c288378-881c-49db-ddd2-e4cfb4f1808b"
      },
      "execution_count": 8,
      "outputs": [
        {
          "output_type": "stream",
          "name": "stdout",
          "text": [
            "\n",
            "First graph's node features:\n",
            "tensor([[1., 0., 0., 0., 0., 0., 0.],\n",
            "        [1., 0., 0., 0., 0., 0., 0.],\n",
            "        [1., 0., 0., 0., 0., 0., 0.],\n",
            "        [1., 0., 0., 0., 0., 0., 0.],\n",
            "        [1., 0., 0., 0., 0., 0., 0.],\n",
            "        [1., 0., 0., 0., 0., 0., 0.],\n",
            "        [1., 0., 0., 0., 0., 0., 0.],\n",
            "        [1., 0., 0., 0., 0., 0., 0.],\n",
            "        [1., 0., 0., 0., 0., 0., 0.],\n",
            "        [1., 0., 0., 0., 0., 0., 0.],\n",
            "        [1., 0., 0., 0., 0., 0., 0.],\n",
            "        [1., 0., 0., 0., 0., 0., 0.],\n",
            "        [1., 0., 0., 0., 0., 0., 0.],\n",
            "        [1., 0., 0., 0., 0., 0., 0.],\n",
            "        [0., 1., 0., 0., 0., 0., 0.],\n",
            "        [0., 0., 1., 0., 0., 0., 0.],\n",
            "        [0., 0., 1., 0., 0., 0., 0.]])\n"
          ]
        }
      ]
    },
    {
      "cell_type": "markdown",
      "source": [
        "###Explaination of `Data.edge_attr`\n",
        "In the MUTAG dataset, `Data.edge_attr` encodes the **bond types** between atoms as features, such as single, double, triple, or aromatic bonds. For example, if `edge_attr = [[1, 0, 0, 0], [0, 1, 0, 0]]`, the first edge represents a single bond, and the second edge represents a double bond."
      ],
      "metadata": {
        "id": "CdyFVoHtyu-U"
      }
    },
    {
      "cell_type": "code",
      "source": [
        "\n",
        "print(\"\\nFirst graph's edge features (if any):\")\n",
        "if hasattr(data, 'edge_attr') and data.edge_attr is not None:\n",
        "    print(data.edge_attr)\n",
        "else:\n",
        "    print(\"No edge features available.\")"
      ],
      "metadata": {
        "colab": {
          "base_uri": "https://localhost:8080/"
        },
        "id": "xkMoixTP6Htg",
        "outputId": "cd2aa711-439d-4478-8d8b-e16e5263a699"
      },
      "execution_count": 9,
      "outputs": [
        {
          "output_type": "stream",
          "name": "stdout",
          "text": [
            "\n",
            "First graph's edge features (if any):\n",
            "tensor([[1., 0., 0., 0.],\n",
            "        [1., 0., 0., 0.],\n",
            "        [1., 0., 0., 0.],\n",
            "        [1., 0., 0., 0.],\n",
            "        [1., 0., 0., 0.],\n",
            "        [1., 0., 0., 0.],\n",
            "        [1., 0., 0., 0.],\n",
            "        [1., 0., 0., 0.],\n",
            "        [1., 0., 0., 0.],\n",
            "        [1., 0., 0., 0.],\n",
            "        [1., 0., 0., 0.],\n",
            "        [1., 0., 0., 0.],\n",
            "        [1., 0., 0., 0.],\n",
            "        [1., 0., 0., 0.],\n",
            "        [1., 0., 0., 0.],\n",
            "        [1., 0., 0., 0.],\n",
            "        [1., 0., 0., 0.],\n",
            "        [1., 0., 0., 0.],\n",
            "        [1., 0., 0., 0.],\n",
            "        [1., 0., 0., 0.],\n",
            "        [1., 0., 0., 0.],\n",
            "        [1., 0., 0., 0.],\n",
            "        [1., 0., 0., 0.],\n",
            "        [1., 0., 0., 0.],\n",
            "        [1., 0., 0., 0.],\n",
            "        [1., 0., 0., 0.],\n",
            "        [1., 0., 0., 0.],\n",
            "        [1., 0., 0., 0.],\n",
            "        [1., 0., 0., 0.],\n",
            "        [1., 0., 0., 0.],\n",
            "        [0., 1., 0., 0.],\n",
            "        [1., 0., 0., 0.],\n",
            "        [1., 0., 0., 0.],\n",
            "        [0., 1., 0., 0.],\n",
            "        [0., 0., 1., 0.],\n",
            "        [0., 1., 0., 0.],\n",
            "        [0., 0., 1., 0.],\n",
            "        [0., 1., 0., 0.]])\n"
          ]
        }
      ]
    },
    {
      "cell_type": "markdown",
      "source": [
        "In the MUTAG dataset (or any graph dataset in PyTorch Geometric), the `edge_index` represents the graph's **connectivity**—that is, how nodes are connected by edges.\n",
        "\n",
        "### **Explanation of `Data.edge_index`**\n",
        "\n",
        "1. **Definition**:\n",
        "   - `edge_index` is a 2D tensor of shape `[2, num_edges]`.\n",
        "   - It defines the connections (or edges) between nodes in the graph.\n",
        "   - Each column in `edge_index` represents an edge, with two entries:\n",
        "     - The first entry is the **source node**.\n",
        "     - The second entry is the **target node**.\n",
        "\n",
        "2. **Graph Representation**:\n",
        "   - Graphs in PyTorch Geometric are represented in a **sparse adjacency matrix format** using `edge_index`.\n",
        "   - Instead of storing a full adjacency matrix (which can be large and sparse), only the indices of connected nodes are stored.\n",
        "\n",
        "3. **For Directed or Undirected Graphs**:\n",
        "   - If the graph is **directed**, `edge_index` explicitly encodes the direction of each edge (e.g., `(i → j)`).\n",
        "   - For an **undirected** graph (like MUTAG), each edge is stored in both directions: `(i → j)` and `(j → i)`.\n",
        "\n",
        "---\n",
        "\n",
        "### **Example**\n",
        "\n",
        "Suppose `edge_index` looks like this:\n",
        "```python\n",
        "edge_index = [[0, 1, 1, 2],\n",
        "              [1, 0, 2, 1]]\n",
        "```\n",
        "\n",
        "- The first row `[0, 1, 1, 2]` represents the **source nodes**.\n",
        "- The second row `[1, 0, 2, 1]` represents the **target nodes**.\n",
        "- This means there are the following edges:\n",
        "  1. Node 0 → Node 1\n",
        "  2. Node 1 → Node 0 (indicating an undirected edge between 0 and 1)\n",
        "  3. Node 1 → Node 2\n",
        "  4. Node 2 → Node 1 (indicating an undirected edge between 1 and 2)\n",
        "\n",
        "---\n",
        "\n",
        "\n",
        "\n",
        "\n"
      ],
      "metadata": {
        "id": "mnWcBRWedfKO"
      }
    },
    {
      "cell_type": "code",
      "source": [
        "# Print edge_index for the graph\n",
        "print(\"Edge Index:\")\n",
        "print(data.edge_index)\n",
        "\n",
        "# Loop through edges for better readability\n",
        "print(\"\\nEdges (source → target):\")\n",
        "for i in range(data.edge_index.shape[1]):\n",
        "    src, tgt = data.edge_index[0, i], data.edge_index[1, i]\n",
        "    print(f\"{src.item()} → {tgt.item()}\")"
      ],
      "metadata": {
        "colab": {
          "base_uri": "https://localhost:8080/"
        },
        "id": "4YR1CaydaYT4",
        "outputId": "e54d234d-35ce-4a98-c49d-b917b0f0e620"
      },
      "execution_count": 10,
      "outputs": [
        {
          "output_type": "stream",
          "name": "stdout",
          "text": [
            "Edge Index:\n",
            "tensor([[ 0,  0,  1,  1,  2,  2,  3,  3,  3,  4,  4,  4,  5,  5,  6,  6,  7,  7,\n",
            "          8,  8,  8,  9,  9,  9, 10, 10, 11, 11, 12, 12, 12, 13, 13, 14, 14, 14,\n",
            "         15, 16],\n",
            "        [ 1,  5,  0,  2,  1,  3,  2,  4,  9,  3,  5,  6,  0,  4,  4,  7,  6,  8,\n",
            "          7,  9, 13,  3,  8, 10,  9, 11, 10, 12, 11, 13, 14,  8, 12, 12, 15, 16,\n",
            "         14, 14]])\n",
            "\n",
            "Edges (source → target):\n",
            "0 → 1\n",
            "0 → 5\n",
            "1 → 0\n",
            "1 → 2\n",
            "2 → 1\n",
            "2 → 3\n",
            "3 → 2\n",
            "3 → 4\n",
            "3 → 9\n",
            "4 → 3\n",
            "4 → 5\n",
            "4 → 6\n",
            "5 → 0\n",
            "5 → 4\n",
            "6 → 4\n",
            "6 → 7\n",
            "7 → 6\n",
            "7 → 8\n",
            "8 → 7\n",
            "8 → 9\n",
            "8 → 13\n",
            "9 → 3\n",
            "9 → 8\n",
            "9 → 10\n",
            "10 → 9\n",
            "10 → 11\n",
            "11 → 10\n",
            "11 → 12\n",
            "12 → 11\n",
            "12 → 13\n",
            "12 → 14\n",
            "13 → 8\n",
            "13 → 12\n",
            "14 → 12\n",
            "14 → 15\n",
            "14 → 16\n",
            "15 → 14\n",
            "16 → 14\n"
          ]
        }
      ]
    },
    {
      "cell_type": "markdown",
      "source": [
        "\n",
        "# [15 Points] Task 02 - Visualizing compound as a graph\n",
        "\n",
        "Use [to_networkx](https://pytorch-geometric.readthedocs.io/en/2.5.3/modules/utils.html#torch_geometric.utils.to_networkx) method to convet it to a grah from visualization. You will pass the data to it as it is. please note that this is an Undirected Graph."
      ],
      "metadata": {
        "id": "ISN-mGpI0d5J"
      }
    },
    {
      "cell_type": "code",
      "source": [
        "import networkx as nx\n",
        "from torch_geometric.utils import to_networkx\n",
        "\n",
        "# Plot a sample graph from the dataset\n",
        "def plot_graph(data):\n",
        "\n",
        "    #TODO\n",
        "    G = to_networkx(data, to_undirected=True)\n",
        "\n",
        "    #END TODO\n",
        "    nx.draw(G, with_labels=True, node_color='lightblue', edge_color='gray', font_weight='bold')\n",
        "    plt.show()\n",
        "\n",
        "# Plot the first graph in the dataset\n",
        "plot_graph(dataset[1])\n"
      ],
      "metadata": {
        "colab": {
          "base_uri": "https://localhost:8080/",
          "height": 516
        },
        "id": "qZh8q7pQSHcm",
        "outputId": "21c7c687-1ac9-4a03-b806-29c3c6cb8fa3"
      },
      "execution_count": 11,
      "outputs": [
        {
          "output_type": "display_data",
          "data": {
            "text/plain": [
              "<Figure size 640x480 with 1 Axes>"
            ],
            "image/png": "[encoded data removed]"
          },
          "metadata": {}
        }
      ]
    },
    {
      "cell_type": "markdown",
      "source": [
        "Your graph should look like this:\n",
        "\n",
        "<center>\n",
        "\n",
        "![Google Drive Image](https://drive.google.com/uc?export=view&id=1kw75pJaZ8a4i-y9nptrb1-oYYp4kAFaz)\n",
        "Figure: 1\n",
        "</center>"
      ],
      "metadata": {
        "id": "6NvZs32U3JZc"
      }
    },
    {
      "cell_type": "markdown",
      "source": [
        "# [15 Points] Task 03 - Converting into Adjacency Matrix for viusalization  \n",
        "\n",
        "Use [to_dense_adj](https://pytorch-geometric.readthedocs.io/en/2.4.0/_modules/torch_geometric/utils/to_dense_adj.html) to convert the sample_graph into an adjacency matrix. sample_graph is a network object which has some attributes. Try printing it to see its attributes and then check what do you have to pass as parameters to to_dense_adj function (you will use edge index and max nodes paramters of the function for this task only. No need to pass the rest of the parameters). to_dense_adj function doesn't return a 2-dimensional tensor. Hence, you will need to extract a 2 dimensional tensor from it."
      ],
      "metadata": {
        "id": "KoX5TEidgTab"
      }
    },
    {
      "cell_type": "code",
      "source": [
        "from torch_geometric.utils import to_dense_adj\n",
        "\n",
        "# Select one graph sample from the dataset\n",
        "sample_graph = dataset[1]\n",
        "\n",
        "# Convert the edge index to a dense adjacency matrix\n",
        "#TODO\n",
        "\n",
        "adj_matrix = to_dense_adj(sample_graph.edge_index, max_num_nodes=sample_graph.num_nodes)[0]\n",
        "\n",
        "#END TODO\n",
        "# Convert the adjacency matrix tensor to a NumPy array for plotting\n",
        "adj_matrix_np = adj_matrix.numpy()\n",
        "\n",
        "# Plot the adjacency matrix using seaborn heatmap\n",
        "plt.figure(figsize=(8, 8))\n",
        "sns.heatmap(adj_matrix_np, annot=True, fmt=\".0f\", cmap=\"Blues\", cbar=True)\n",
        "plt.title(\"Adjacency Matrix for Graph Sample\")\n",
        "plt.xlabel(\"Node Index\")\n",
        "plt.ylabel(\"Node Index\")\n",
        "plt.show()\n"
      ],
      "metadata": {
        "colab": {
          "base_uri": "https://localhost:8080/",
          "height": 718
        },
        "id": "njQc2WttduZz",
        "outputId": "32cdeb2f-6ac8-48d3-88ea-69d5dd9920a1"
      },
      "execution_count": 12,
      "outputs": [
        {
          "output_type": "display_data",
          "data": {
            "text/plain": [
              "<Figure size 800x800 with 2 Axes>"
            ],
            "image/png": "[encoded data removed]"
          },
          "metadata": {}
        }
      ]
    },
    {
      "cell_type": "markdown",
      "source": [
        "Your Graph should look like this:\n",
        "\n",
        "<center>\n",
        "\n",
        "![Google Drive Image](https://drive.google.com/uc?export=view&id=1p0UeIrQ1setrhk1zCWQO-NgiTNk1ym1Z)\n",
        "Figure: 1\n",
        "</center>"
      ],
      "metadata": {
        "id": "T9zp_Ou14MQ6"
      }
    },
    {
      "cell_type": "markdown",
      "source": [
        "# [15 Points] Task 04 - Splitting the data into train, test datasets\n",
        "\n",
        "Using train_test_split function (already imported at start) split the dataset into train_dataset and test_dataset. Use test_size as 0.2 and random_state as 42"
      ],
      "metadata": {
        "id": "6jd6w3C4gcAq"
      }
    },
    {
      "cell_type": "code",
      "source": [
        "# Split dataset into training and testing sets\n",
        "#TODO\n",
        "\n",
        "train_dataset, test_dataset = train_test_split(dataset, test_size=0.2, random_state=42)\n",
        "\n",
        "#END TODO\n",
        "\n",
        "# Display the size of each set\n",
        "print(f\"Number of training graphs: {len(train_dataset)}\")\n",
        "print(f\"Number of test graphs: {len(test_dataset)}\")\n"
      ],
      "metadata": {
        "colab": {
          "base_uri": "https://localhost:8080/"
        },
        "id": "vzzOd_KcSO7I",
        "outputId": "41c24fd4-d39f-4508-82ad-f23e060bf28f"
      },
      "execution_count": 13,
      "outputs": [
        {
          "output_type": "stream",
          "name": "stdout",
          "text": [
            "Number of training graphs: 150\n",
            "Number of test graphs: 38\n"
          ]
        }
      ]
    },
    {
      "cell_type": "markdown",
      "source": [
        "Output:\n",
        "\n",
        "Number of training graphs: 150\n",
        "\n",
        "Number of test graphs: 38"
      ],
      "metadata": {
        "id": "irG0NVJZ4Z-_"
      }
    },
    {
      "cell_type": "markdown",
      "source": [
        "For graph-based models, we batch graphs together using DataLoader from torch_geometric. Batching helps in speeding up training by allowing multiple graphs to be processed in a single forward pass.\n",
        "\n",
        "**train_loader:** Shuffles the training data, ensuring that each epoch sees the graphs in a different order.\n",
        "\n",
        "**test_loader:** Doesn’t shuffle the test set, keeping it consistent across evaluations"
      ],
      "metadata": {
        "id": "RLF7sMOPekry"
      }
    },
    {
      "cell_type": "code",
      "source": [
        "# Create DataLoaders for batching\n",
        "train_loader = DataLoader(train_dataset, batch_size=16, shuffle=True)\n",
        "test_loader = DataLoader(test_dataset, batch_size=16, shuffle=False)\n"
      ],
      "metadata": {
        "id": "edSBKftQSX90"
      },
      "execution_count": 14,
      "outputs": []
    },
    {
      "cell_type": "markdown",
      "source": [
        "# [25 Points] Task **05** - Define the GNN Model\n",
        "\n",
        "`conv1` and `conv2` are [`GCNConv`](https://pytorch-geometric.readthedocs.io/en/2.5.2/generated/torch_geometric.nn.conv.GCNConv.html) layers, each performing graph convolution operations (while going over this link, also look at the forward function given at the bottom of the page. That shows how to pass the data through it when using it in forward function). These layers learn the structural information by aggregating information from a node’s neighbors.\n",
        "\n",
        "`conv1` takes node features (there is a parameter in your dataset for this and you have seen it printed at the start of the notebook as well)and maps them to a 64-dimensional space.\n",
        "\n",
        "`conv2` takes these 64-dimensional embeddings and maps them to a new 64-dimensional space.\n",
        "\n",
        "`fc` is a fully connected (linear) layer used to classify each graph after the convolution layers. Number of classes is also a paramter in your dataset.\n",
        "\n",
        "Pass the parameters to GCNConv methods to construct the network and then a fully connected layer. Please note that there is no need of flattening operation in this network.\n",
        "\n",
        "There are multiple TODOs in this function so complete all"
      ],
      "metadata": {
        "id": "8qwDHdxhe6E4"
      }
    },
    {
      "cell_type": "code",
      "source": [
        "from torch_geometric.nn import GCNConv\n",
        "\n",
        "class GCN(torch.nn.Module):\n",
        "    def __init__(self):\n",
        "        super(GCN, self).__init__()\n",
        "        #TODO\n",
        "\n",
        "        self.conv1 = GCNConv(dataset.num_node_features, 64)\n",
        "        self.conv2 = GCNConv(64, 64)\n",
        "        self.fc = nn.Linear(64, dataset.num_classes)\n",
        "\n",
        "        #END TODO\n",
        "\n",
        "    def forward(self, data):\n",
        "        x, edge_index, batch = data.x, data.edge_index, data.batch\n",
        "\n",
        "        #TODO\n",
        "\n",
        "        x = self.conv1(x, edge_index)\n",
        "        x = F.relu(x)\n",
        "        x = self.conv2(x, edge_index)\n",
        "        x = global_mean_pool(x, batch)  # global pooling\n",
        "        x = self.fc(x)\n",
        "\n",
        "        #END TODO\n",
        "        output = F.log_softmax(x, dim=1)\n",
        "        return output\n"
      ],
      "metadata": {
        "id": "rP7g8OGmSbs6"
      },
      "execution_count": 15,
      "outputs": []
    },
    {
      "cell_type": "code",
      "source": [
        "model = GCN()\n",
        "optimizer = torch.optim.Adam(model.parameters(), lr=0.01)\n",
        "criterion = torch.nn.CrossEntropyLoss()\n",
        "print(model)"
      ],
      "metadata": {
        "id": "juSVWQhF2qKc",
        "colab": {
          "base_uri": "https://localhost:8080/"
        },
        "outputId": "a34a898d-44ba-4199-aaf4-ac5524c32afb"
      },
      "execution_count": 16,
      "outputs": [
        {
          "output_type": "stream",
          "name": "stdout",
          "text": [
            "GCN(\n",
            "  (conv1): GCNConv(7, 64)\n",
            "  (conv2): GCNConv(64, 64)\n",
            "  (fc): Linear(in_features=64, out_features=2, bias=True)\n",
            ")\n"
          ]
        }
      ]
    },
    {
      "cell_type": "markdown",
      "source": [
        "Output:\n",
        "\n",
        "GCN(\n",
        "\n",
        "    (conv1): GCNConv(7, 64)\n",
        "\n",
        "    (conv2): GCNConv(64, 64)\n",
        "\n",
        "    (fc): Linear(in_features=64, out_features=2, bias=True)\n",
        "\n",
        ")"
      ],
      "metadata": {
        "id": "2FVCWnu64ni-"
      }
    },
    {
      "cell_type": "markdown",
      "source": [
        "The train function performs a single training epoch:\n",
        "\n",
        "\n",
        "`out = model(data):` Performs a forward pass.\n",
        "\n",
        "`loss = criterion(out, data.y):` Calculates the loss.\n",
        "`loss.backward()` and `optimizer.step():` Updates model parameters."
      ],
      "metadata": {
        "id": "-JT96BkafjbB"
      }
    },
    {
      "cell_type": "markdown",
      "source": [
        "# Train the GNN Model"
      ],
      "metadata": {
        "id": "SOzCA4ic1tOD"
      }
    },
    {
      "cell_type": "code",
      "source": [
        "# Training function\n",
        "def train():\n",
        "    model.train()\n",
        "    total_loss = 0\n",
        "    for data in train_loader:  # Iterate over batches\n",
        "        data = data.to(torch.device(\"cpu\"))\n",
        "        optimizer.zero_grad()\n",
        "        out = model(data)\n",
        "        loss = criterion(out, data.y)\n",
        "        loss.backward()\n",
        "        optimizer.step()\n",
        "        total_loss += loss.item()\n",
        "    return total_loss / len(train_loader)\n",
        "\n",
        "# Run training\n",
        "epochs = 20\n",
        "for epoch in range(1, epochs + 1):\n",
        "    loss = train()\n",
        "    print(f'Epoch {epoch:03d}, Loss: {loss:.4f}')\n"
      ],
      "metadata": {
        "colab": {
          "base_uri": "https://localhost:8080/"
        },
        "id": "69TH6Gi8SkV6",
        "outputId": "697a659e-e805-49cf-c305-d05fbbaa47a1"
      },
      "execution_count": 17,
      "outputs": [
        {
          "output_type": "stream",
          "name": "stdout",
          "text": [
            "Epoch 001, Loss: 0.6295\n",
            "Epoch 002, Loss: 0.6204\n",
            "Epoch 003, Loss: 0.6023\n",
            "Epoch 004, Loss: 0.5940\n",
            "Epoch 005, Loss: 0.6052\n",
            "Epoch 006, Loss: 0.5537\n",
            "Epoch 007, Loss: 0.5466\n",
            "Epoch 008, Loss: 0.5281\n",
            "Epoch 009, Loss: 0.5313\n",
            "Epoch 010, Loss: 0.5514\n",
            "Epoch 011, Loss: 0.5179\n",
            "Epoch 012, Loss: 0.5436\n",
            "Epoch 013, Loss: 0.5634\n",
            "Epoch 014, Loss: 0.5497\n",
            "Epoch 015, Loss: 0.5481\n",
            "Epoch 016, Loss: 0.5369\n",
            "Epoch 017, Loss: 0.5425\n",
            "Epoch 018, Loss: 0.5253\n",
            "Epoch 019, Loss: 0.5713\n",
            "Epoch 020, Loss: 0.5427\n"
          ]
        }
      ]
    },
    {
      "cell_type": "markdown",
      "source": [
        "# [15 Points] Task 06 - Evaluate the Model\n",
        "\n",
        "pred variables contains predicted values of that batch and data.y contains correct values for that batch. Complete this function by first calculating the number of correct answers. Then divide the number of correct answers by len of data (you will need to figure out how to find length). Return the accuracy then.\n",
        "Please note that the loop given below is running on a batch."
      ],
      "metadata": {
        "id": "sD2C8WCz10Yy"
      }
    },
    {
      "cell_type": "code",
      "source": [
        "def test(loader):\n",
        "    model.eval()\n",
        "    correct = 0\n",
        "    for data in loader:  # Iterate over batches\n",
        "        data = data.to(torch.device(\"cpu\"))\n",
        "        out = model(data)\n",
        "        pred = out.argmax(dim=1)\n",
        "        #TODO\n",
        "        correct += (pred == data.y).sum().item()\n",
        "\n",
        "    accuracy = correct / len(loader.dataset)\n",
        "    #END TODO\n",
        "    return accuracy\n",
        "\n",
        "# Evaluate the model\n",
        "train_acc = test(train_loader)\n",
        "test_acc = test(test_loader)\n",
        "print(f'Train Accuracy: {train_acc:.4f}')\n",
        "print(f'Test Accuracy: {test_acc:.4f}')\n"
      ],
      "metadata": {
        "id": "KLeOxz4VSphv",
        "colab": {
          "base_uri": "https://localhost:8080/"
        },
        "outputId": "1d47ab22-8501-4dd8-b780-232493d80d8d"
      },
      "execution_count": 18,
      "outputs": [
        {
          "output_type": "stream",
          "name": "stdout",
          "text": [
            "Train Accuracy: 0.7533\n",
            "Test Accuracy: 0.7632\n"
          ]
        }
      ]
    },
    {
      "cell_type": "markdown",
      "source": [
        "You will get some accuracy here as output"
      ],
      "metadata": {
        "id": "xQc5YZ9Vq3Lo"
      }
    }
  ]
}