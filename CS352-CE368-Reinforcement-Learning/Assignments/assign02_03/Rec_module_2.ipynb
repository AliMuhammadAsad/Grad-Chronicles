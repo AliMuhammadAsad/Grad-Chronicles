{
  "cells": [
    {
      "cell_type": "markdown",
      "metadata": {
        "colab_type": "text",
        "id": "view-in-github"
      },
      "source": [
        "<a href=\"https://colab.research.google.com/github/ProValarous/Reinforcement-Learning-Labs/blob/main/Rec_module_2.ipynb\" target=\"_parent\"><img src=\"https://colab.research.google.com/assets/colab-badge.svg\" alt=\"Open In Colab\"/></a>"
      ]
    },
    {
      "cell_type": "markdown",
      "metadata": {
        "id": "NXh6tvrFSRj3"
      },
      "source": [
        "# Recitation Module #2: Dynammic Programming & Monte Carlo Methods\n",
        "\n",
        "Topics covered:\n",
        "- Value Iteration\n",
        "- Policy Interation\n",
        "- Monte-Carlo Prediction\n"
      ]
    },
    {
      "cell_type": "markdown",
      "metadata": {
        "id": "d8HzL-UCzQBl"
      },
      "source": [
        "## Importing Libraries and Dependencies\n"
      ]
    },
    {
      "cell_type": "code",
      "execution_count": null,
      "metadata": {
        "id": "Lm6lY8G7zOZm"
      },
      "outputs": [],
      "source": [
        "# HIDE OUTPUT\n",
        "!apt-get update > /dev/null 2>&1\n",
        "!apt-get install cmake > /dev/null 2>&1\n",
        "!pip install --upgrade setuptools 2>&1\n",
        "!pip install ez_setup > /dev/null 2>&1\n",
        "!pip install gym[atari] > /dev/null 2>&1"
      ]
    },
    {
      "cell_type": "code",
      "execution_count": null,
      "metadata": {
        "id": "dZLt4ZtDzb0W"
      },
      "outputs": [],
      "source": [
        "# HIDE OUTPUT\n",
        "!pip install gym pyvirtualdisplay > /dev/null 2>&1\n",
        "!apt-get install -y xvfb python-opengl ffmpeg > /dev/null 2>&1\n",
        "!sudo apt-get install xvfb\n",
        "!pip install xvfbwrapper\n",
        "!pip install gymnasium"
      ]
    },
    {
      "cell_type": "code",
      "execution_count": 1,
      "metadata": {
        "id": "Rsnoz7pDzfdM"
      },
      "outputs": [
        {
          "name": "stderr",
          "output_type": "stream",
          "text": [
            "/home/nightwing/.local/lib/python3.12/site-packages/matplotlib/projections/__init__.py:63: UserWarning: Unable to import Axes3D. This may be due to multiple versions of Matplotlib being installed (e.g. as a system package and as a pip package). As a result, the 3D projection is not available.\n",
            "  warnings.warn(\"Unable to import Axes3D. This may be due to multiple versions of \"\n"
          ]
        }
      ],
      "source": [
        "%matplotlib inline\n",
        "import gym\n",
        "import gymnasium as gym\n",
        "import numpy as np\n",
        "from gym.wrappers.record_video import RecordVideo\n",
        "import glob\n",
        "import io\n",
        "import base64\n",
        "from IPython.display import HTML\n",
        "from pyvirtualdisplay import Display\n",
        "from IPython import display as ipythondisplay\n",
        "from matplotlib import pyplot as plt"
      ]
    },
    {
      "cell_type": "code",
      "execution_count": 2,
      "metadata": {
        "id": "C4jTuXs1zlPE"
      },
      "outputs": [],
      "source": [
        "## Some Display Utility functions\n",
        "\n",
        "display = Display(visible=0, size=(1400, 900))\n",
        "display.start()\n",
        "\n",
        "\"\"\"\n",
        "Utility functions to enable video recording of gym environment\n",
        "and displaying it.\n",
        "To enable video, just do \"env = wrap_env(env)\"\"\n",
        "\"\"\"\n",
        "\n",
        "\n",
        "def show_video():\n",
        "    mp4list = glob.glob('video/*.mp4')\n",
        "    if len(mp4list) > 0:\n",
        "        mp4 = mp4list[0]\n",
        "        video = io.open(mp4, 'r+b').read()\n",
        "        encoded = base64.b64encode(video)\n",
        "        ipythondisplay.display(HTML(data=''''''.format(encoded.decode('ascii'))))\n",
        "    else:\n",
        "        print(\"Could not find video\")\n",
        "\n",
        "\n",
        "def wrap_env(env):\n",
        "    env = RecordVideo(env, './video')\n",
        "    return env\n"
      ]
    },
    {
      "cell_type": "markdown",
      "metadata": {
        "id": "UV02S0DVToWZ"
      },
      "source": [
        "### Techniques for solving MDPs can be separated into three categories:\n",
        "\n",
        "1. **Value-based techniques:** aim to learn the value of states (or learn an estimate for value of states) and\n",
        "actions: that is, they learn value functions or Q functions. We then use policy extraction to get a\n",
        "policy for deciding actions.\n",
        "2. **Policy-based techniques:** learn a policy directly, which completely by-passes learning values of states\n",
        "or actions all together. This is important if for example, the state space or the action space are massive\n",
        "or infinite. If the action space is infinite, then using policy extraction as defined in Part I is not\n",
        "possible because we must iterate over all actions to find the optimal one. If we learn the policy\n",
        "directly, we do not need this.\n",
        "3. **Hybrid techniques:** that combine value- and policy-based techniques"
      ]
    },
    {
      "cell_type": "markdown",
      "metadata": {
        "id": "JwqNjI8rB4lr"
      },
      "source": [
        "## Value Iteration\n",
        "\n",
        "Value Iteration is a dynamic-programming method for finding the optimal value function $V^*$ by solving the\n",
        "Bellman equations iteratively. It uses the concept of dynamic programming to maintain a value function $V^*$\n",
        "that approximates the optimal value function $V^*$ , iteratively improving $V$ until it converges to $V^*$ (or\n",
        "close to it).\n",
        "\n",
        "\n",
        "\n",
        "**The algorithm is as follows:**\n",
        "\n",
        "**Input:** MDP $M = \\langle S, s_0, A, P_a(s' \\mid s), r(s, a, s') \\rangle$  \n",
        "**Output:** Value function $V$  \n",
        "\n",
        "Set $V$ to arbitrary value function; e.g., $V(s) = 0$ for all $s$  \n",
        "\n",
        "---\n",
        "\n",
        "**Repeat**  \n",
        "- $\\Delta \\gets 0$  \n",
        "- **For each** $s \\in S$  \n",
        "  - $V'(s) \\gets \\max_{a \\in A(s)} \\sum_{s' \\in S} P_a(s' \\mid s) \\left[ r(s, a, s') + \\gamma V(s') \\right]$ ← _Bellman equation_  \n",
        "  - $\\Delta \\gets \\max(\\Delta, |V'(s) - V(s)|)$  \n",
        "- $V \\gets V'$  \n",
        "\n",
        "**Until** $\\Delta \\leq \\theta$  \n",
        "\n",
        "---\n",
        "\n"
      ]
    },
    {
      "cell_type": "markdown",
      "metadata": {
        "id": "HIZMkZqSCGWl"
      },
      "source": [
        "We could also write the algorithm using the idea of Q-values, which is closer to a code-based\n",
        "implementation:\n",
        "\n",
        "<img src=\"https://lcalem.github.io/imgs/sutton/value_iteration.png\" alt=\"Value Iteration\" width=\"700\" height=\"300\">\n"
      ]
    },
    {
      "cell_type": "code",
      "execution_count": 3,
      "metadata": {
        "id": "eMxJpfYlCJZA"
      },
      "outputs": [],
      "source": [
        "def value_iteration(env, gamma = 1.0):\n",
        "\n",
        "    # initialize value table with zeros\n",
        "    value_table = np.zeros(env.observation_space.n)\n",
        "\n",
        "    # set number of iterations and threshold\n",
        "    no_of_iterations = 100000\n",
        "    threshold = 1e-20\n",
        "\n",
        "    for i in range(no_of_iterations):\n",
        "\n",
        "        # On each iteration, copy the value table to the updated_value_table\n",
        "        updated_value_table = np.copy(value_table)\n",
        "\n",
        "        # Now we calculate Q Value for each actions in the state\n",
        "        # and update the value of a state with maximum Q value\n",
        "\n",
        "        for state in range(env.observation_space.n):\n",
        "            Q_value = []\n",
        "            for action in range(env.action_space.n):\n",
        "                next_states_rewards = []\n",
        "\n",
        "                # (TODO) implement bellman equation for the value function\n",
        "                # for next_state_reward in env.P[state][action]:\n",
        "                for prob, next_state, reward, done in env.P[state][action]:\n",
        "                    next_states_rewards.append(prob * (reward + gamma * value_table[next_state] * (not done)))\n",
        "                \n",
        "                Q_value.append(sum(next_states_rewards))\n",
        "\n",
        "            updated_value_table[state] = max(Q_value)\n",
        "\n",
        "        # we will check whether we have reached the convergence i.e whether the difference\n",
        "        # between our value table and updated value table is very small. But how do we know it is very\n",
        "        # small? We set some threshold and then we will see if the difference is less\n",
        "        # than our threshold, if it is less, we break the loop and return the value function as optimal\n",
        "        # value function\n",
        "\n",
        "        # (TODO) implement convergence check\n",
        "        error = np.sum(np.fabs(updated_value_table - value_table))\n",
        "        value_table = updated_value_table.copy()\n",
        "\n",
        "        if error < threshold:\n",
        "            print(\"Converged at iteration: {}\".format(i))\n",
        "            break\n",
        "\n",
        "\n",
        "    return value_table"
      ]
    },
    {
      "cell_type": "code",
      "execution_count": 4,
      "metadata": {
        "id": "ImwL44zMCM4Q"
      },
      "outputs": [],
      "source": [
        "def extract_policy(env, value_table, gamma = 1.0):\n",
        "    # initialize the policy with zeros\n",
        "    policy = np.zeros(env.observation_space.n)\n",
        "\n",
        "    for state in range(env.observation_space.n):\n",
        "\n",
        "        # (TODO) initialize the Q table for a state\n",
        "        Q_table = np.zeros(env.action_space.n)\n",
        "\n",
        "        # (TODO) compute Q value for all ations in the state\n",
        "        for action in range(env.action_space.n):\n",
        "            # for next_sr in env.P[state][action]:\n",
        "            for prob, next_state, reward, done in env.P[state][action]:\n",
        "                Q_table[action] += prob * (reward + gamma * value_table[next_state] * (not done))\n",
        "                \n",
        "\n",
        "        # (TODO) select the action which has maximum Q value as an optimal action of the state\n",
        "        policy[state] = np.argmax(Q_table)\n",
        "\n",
        "    return policy"
      ]
    },
    {
      "cell_type": "code",
      "execution_count": 5,
      "metadata": {},
      "outputs": [],
      "source": [
        "from gymnasium.envs.toy_text.frozen_lake import generate_random_map"
      ]
    },
    {
      "cell_type": "code",
      "execution_count": 6,
      "metadata": {
        "id": "W6xV8v3DCYbp"
      },
      "outputs": [],
      "source": [
        "env_train = gym.make('FrozenLake-v1',desc=generate_random_map(size=8),render_mode=\"rgb_array\")\n",
        "venv_train = env_train.unwrapped"
      ]
    },
    {
      "cell_type": "code",
      "execution_count": 7,
      "metadata": {
        "id": "dHlN2bZ9Ca-s"
      },
      "outputs": [
        {
          "name": "stdout",
          "output_type": "stream",
          "text": [
            "Converged at iteration: 64\n"
          ]
        }
      ],
      "source": [
        "optimal_value_function = value_iteration(env=venv_train,gamma=0.5)\n",
        "# optimal_value_function = value_iteration(env=env_train,gamma=0.5)"
      ]
    },
    {
      "cell_type": "code",
      "execution_count": 8,
      "metadata": {
        "id": "hYbqsc23CfTo"
      },
      "outputs": [],
      "source": [
        "optimal_policy = extract_policy(venv_train,optimal_value_function, gamma=0.9)\n",
        "# optimal_policy = extract_policy(env_train,optimal_value_function, gamma=0.9)"
      ]
    },
    {
      "cell_type": "code",
      "execution_count": 9,
      "metadata": {
        "id": "mWa3rehwCfxL"
      },
      "outputs": [
        {
          "name": "stdout",
          "output_type": "stream",
          "text": [
            "[1. 2. 3. 2. 2. 2. 0. 0. 1. 0. 0. 2. 2. 1. 0. 3. 1. 1. 1. 2. 2. 3. 0. 0.\n",
            " 3. 2. 2. 3. 0. 0. 2. 1. 0. 2. 0. 0. 2. 1. 3. 2. 1. 1. 1. 1. 2. 0. 0. 2.\n",
            " 3. 3. 0. 0. 0. 0. 0. 2. 0. 0. 2. 1. 1. 1. 1. 0.]\n"
          ]
        }
      ],
      "source": [
        "print(optimal_policy)"
      ]
    },
    {
      "cell_type": "code",
      "execution_count": null,
      "metadata": {
        "id": "_je5ogVPCkyb"
      },
      "outputs": [
        {
          "name": "stdout",
          "output_type": "stream",
          "text": [
            "MoviePy - Building video /home/nightwing/Desktop/Habib/Sem8/rl/assignments/assign02/video/rl-video-episode-0.mp4.\n",
            "MoviePy - Writing video /home/nightwing/Desktop/Habib/Sem8/rl/assignments/assign02/video/rl-video-episode-0.mp4\n",
            "\n"
          ]
        },
        {
          "name": "stderr",
          "output_type": "stream",
          "text": [
            "                                                             "
          ]
        },
        {
          "name": "stdout",
          "output_type": "stream",
          "text": [
            "MoviePy - Done !\n",
            "MoviePy - video ready /home/nightwing/Desktop/Habib/Sem8/rl/assignments/assign02/video/rl-video-episode-0.mp4\n",
            "Episode finished with total reward: 1.0\n"
          ]
        },
        {
          "name": "stderr",
          "output_type": "stream",
          "text": [
            "\r"
          ]
        },
        {
          "data": {
            "text/html": [],
            "text/plain": [
              "<IPython.core.display.HTML object>"
            ]
          },
          "metadata": {},
          "output_type": "display_data"
        }
      ],
      "source": [
        "# Create an environment (e.g., CartPole)\n",
        "total_reward = 0\n",
        "\n",
        "while total_reward <= 0:\n",
        "    env = gym.make('FrozenLake-v1', desc=generate_random_map(size=8), render_mode=\"rgb_array\")\n",
        "    env = gym.wrappers.RecordVideo(\n",
        "        env, \n",
        "        './video',\n",
        "        episode_trigger=lambda episode_id: True,\n",
        "        name_prefix=\"frozen_lake\")\n",
        "\n",
        "    env = wrap_env(env_train)\n",
        "\n",
        "    # Reset the environment\n",
        "    state, _ = env.reset()\n",
        "    done = False\n",
        "    total_reward = 0\n",
        "\n",
        "    # Interaction loop\n",
        "    while not done:\n",
        "        # Get action from the optimal policy\n",
        "        action = int(optimal_policy[state])\n",
        "        \n",
        "        # Step through the environment\n",
        "        next_state, reward, terminated, truncated, _ = env.step(action)\n",
        "        \n",
        "        # Update state and total reward\n",
        "        state = next_state\n",
        "        total_reward += reward\n",
        "        done = terminated or truncated\n",
        "\n",
        "    print(f\"Episode finished with total reward: {total_reward}\")\n",
        "\n",
        "    # Close the environment\n",
        "    env.close()\n",
        "\n",
        "# Display the video\n",
        "show_video()\n",
        "\n",
        "\n",
        "\n",
        "# # Reset the environment\n",
        "# state, _ = env.reset()\n",
        "\n",
        "# # Start the recorder (utility for displaying output)\n",
        "# env.start_video_recorder()\n",
        "\n",
        "# next_state = state\n",
        "\n",
        "# # Example of an interaction loop\n",
        "# for _ in range(10000):\n",
        "\n",
        "\n",
        "#     # Render the environment\n",
        "#     env.render()\n",
        "\n",
        "\n",
        "#     # Sample random action from action space\n",
        "#     # action = env.action_space.sample()\n",
        "#     action = int(optimal_policy[next_state])\n",
        "\n",
        "#     # print(type(action),next_state)\n",
        "\n",
        "#     # Step through the environment using the action\n",
        "#     next_state, reward, done, info = env.step(action)\n",
        "\n",
        "#     # Break the loop if the episode is done\n",
        "#     if done:\n",
        "#         break\n",
        "\n",
        "\n",
        "# # close the video recorder(utility for displaying output)\n",
        "# env.close_video_recorder()\n",
        "\n",
        "# # Close the environment\n",
        "# env.close()"
      ]
    },
    {
      "cell_type": "code",
      "execution_count": 13,
      "metadata": {
        "id": "HqlP0px7CmyC"
      },
      "outputs": [
        {
          "data": {
            "text/html": [],
            "text/plain": [
              "<IPython.core.display.HTML object>"
            ]
          },
          "metadata": {},
          "output_type": "display_data"
        }
      ],
      "source": [
        "# Display Output\n",
        "show_video()"
      ]
    },
    {
      "cell_type": "markdown",
      "metadata": {
        "id": "ts9iXKRf_YDu"
      },
      "source": [
        "## **Policy Iteration**\n",
        "\n",
        "Policy Iteration is a fundamental method in **Dynamic Programming (DP)** to solve **Markov Decision Processes (MDPs)**. It helps find an optimal policy $ \\pi^* $ that maximizes the expected cumulative reward.\n",
        "\n",
        "---\n",
        "\n",
        "### **Key Idea**  \n",
        "Policy Iteration alternates between two steps:\n",
        "\n",
        "1. **Policy Evaluation** – Compute the value function $ V^\\pi(s) $ for a given policy $ \\pi $.\n",
        "2. **Policy Improvement** – Update the policy by selecting actions that maximize the expected reward.\n",
        "\n",
        "This repeats until the policy converges to the optimal policy.\n",
        "\n",
        "---\n",
        "\n",
        "### **Steps of Policy Iteration**\n",
        "1. **Initialize** a random policy $ \\pi_0 $.\n",
        "----\n",
        "2. **Policy Evaluation:**  \n",
        "   - Compute the value function $ V^\\pi(s) $ by solving the Bellman equation: $$ V^\\pi(s) = \\sum_{s'} P(s' | s, \\pi(s)) \\left[ R(s, \\pi(s), s') + \\gamma V^\\pi(s') \\right] $$\n",
        "   - This finds the expected reward for following $ \\pi $.\n",
        "\n",
        "**Here's a more algorithmic approach:**\n",
        "\n",
        "**Input:** $\\pi$ the policy for evaluation, $V^\\pi$ value function, and  \n",
        "MDP $M = \\langle S, s_0, A, P_a(s' \\mid s), r(s, a, s') \\rangle$  \n",
        "\n",
        "**Output:** Value function $V^\\pi$  \n",
        "\n",
        "**Repeat**  \n",
        "- $\\Delta \\gets 0$  \n",
        "- **For each** $s \\in S$  \n",
        "  - $$V'^\\pi(s) \\gets \\sum_{s' \\in S} P_{\\pi(s)}(s' \\mid s) \\left[ r(s, a, s') + \\gamma V^\\pi(s') \\right]$$  \n",
        "    _Policy evaluation equation_  \n",
        "  - $\\Delta \\gets \\max(\\Delta, |V'^\\pi(s) - V^\\pi(s)|)$  \n",
        "- $V^\\pi \\gets V'^\\pi$  \n",
        "\n",
        "**Until** $\\Delta \\leq \\theta$  \n",
        "\n",
        "-----\n",
        "\n",
        "3. **Policy Improvement:**  \n",
        "   - For each state $ s $, update the policy:$$ \\pi(s) = \\arg\\max_a \\sum_{s'} P(s' | s, a) \\left[ R(s, a, s') + \\gamma V^\\pi(s') \\right]$$\n",
        "   - If the policy doesn't change, stop. Otherwise, repeat from Step 2.\n",
        "\n",
        "---\n",
        "**Here's a full algorithmic Policy Iteration:**\n",
        "\n",
        "\n",
        "**Input:** MDP $M = \\langle S, s_0, A, P_a(s' \\mid s), r(s, a, s') \\rangle$  \n",
        "**Output:** Policy $\\pi$  \n",
        "\n",
        "Set $V^\\pi$ to arbitrary value function; e.g., $V^\\pi(s) = 0$ for all $s$  \n",
        "Set $\\pi$ to arbitrary policy; e.g., $\\pi(s) = a$ for all $s$, where $a \\in A$ is an arbitrary action  \n",
        "\n",
        "**Repeat**  \n",
        "- Compute $V^\\pi(s)$ for all $s$ *(using policy evaluation)*  \n",
        "- **For each** $s \\in S$:  \n",
        "  - $$\\pi(s) \\gets \\arg\\max_{a \\in A(s)} Q^\\pi(s, a)$$  \n",
        "- **Until** $\\pi$ does not change *(policy Improvement)*\n",
        "\n",
        "---\n",
        "\n",
        "### **Example: Grid World**\n",
        "Consider a 3×3 grid where an agent moves **up, down, left, or right** to reach a goal while receiving rewards.\n",
        "\n",
        "Policy Iteration helps the agent learn the best moves by:\n",
        "- Evaluating the current policy.\n",
        "- Updating the policy to improve its actions.\n",
        "- Repeating until the policy stops changing.\n",
        "\n",
        "---\n",
        "\n",
        "### **Comparison with Value Iteration**\n",
        "| **Method**          | **Approach** |\n",
        "|---------------------|-------------|\n",
        "| **Policy Iteration** | Alternates between policy evaluation and improvement. |\n",
        "| **Value Iteration**  | Updates values directly using the Bellman optimality equation. |\n",
        "\n",
        "Both find the optimal policy, but **Value Iteration** can be more efficient for large state spaces.\n",
        "\n",
        "---\n"
      ]
    },
    {
      "cell_type": "code",
      "execution_count": 133,
      "metadata": {
        "id": "HSnPHl-Xl-aT"
      },
      "outputs": [],
      "source": [
        "def compute_value_function(env, policy, gamma=1.0):\n",
        "\n",
        "    #now, let's define the number of iterations\n",
        "    num_iterations = 1000\n",
        "\n",
        "    #define the threshold value\n",
        "    threshold = 1e-20\n",
        "\n",
        "    #set the discount factor\n",
        "    gamma = 0.99\n",
        "\n",
        "    #now, we will initialize the value table, with the value of all states to zero\n",
        "    value_table = np.zeros(env.observation_space.n)\n",
        "\n",
        "    #for every iteration\n",
        "    for i in range(num_iterations):\n",
        "\n",
        "        #update the value table, that is, we learned that on every iteration, we use the updated value\n",
        "        #table (state values) from the previous iteration\n",
        "        updated_value_table = np.copy(value_table)\n",
        "\n",
        "        #thus, for each state, we select the action according to the given policy and then we update the\n",
        "        #value of the state using the selected action as shown below\n",
        "        #for each state\n",
        "        for s in range(env.observation_space.n):\n",
        "            #select the action in the state according to the policy\n",
        "            a = policy[s]\n",
        "\n",
        "            # TODO: compute the value of the state using the selected action\n",
        "            new_value = 0\n",
        "\n",
        "            for prob, next_state, reward, done in env.P[s][a]:\n",
        "                new_value += prob * (reward + gamma * value_table[next_state] * (not done))\n",
        "            updated_value_table[s] = new_value\n",
        "\n",
        "\n",
        "        #after computing the value table, that is, value of all the states, we check whether the\n",
        "        #difference between value table obtained in the current iteration and previous iteration is\n",
        "        #less than or equal to a threshold value if it is less then we break the loop and return the\n",
        "        #value table as an accurate value function of the given policy\n",
        "\n",
        "        # (TODO) implement convergence check\n",
        "        error = np.sum(np.fabs(updated_value_table - value_table))\n",
        "        value_table = updated_value_table.copy()\n",
        "        if error < threshold:\n",
        "            print(\"Converged at iteration: {}\".format(i))\n",
        "            break\n",
        "\n",
        "    return value_table"
      ]
    },
    {
      "cell_type": "code",
      "execution_count": 137,
      "metadata": {
        "id": "20mr7fG-mUNl"
      },
      "outputs": [],
      "source": [
        "def policy_iteration(env):\n",
        "\n",
        "    #set the number of iterations\n",
        "    num_iterations = 1000\n",
        "\n",
        "    #we learned that in the policy iteration method, we begin by initializing a random policy.\n",
        "    #so, we will initialize the random policy which selects the action 0 in all the states\n",
        "    policy = np.zeros(env.observation_space.n)\n",
        "\n",
        "    #for every iteration\n",
        "    for i in range(num_iterations):\n",
        "        #compute the value function using the policy\n",
        "        value_function = compute_value_function(env, policy)\n",
        "\n",
        "        #extract the new policy from the computed value function\n",
        "        new_policy = extract_policy(env, value_function, gamma=0.9)\n",
        "\n",
        "        # TODO: if the policy and new_policy are same then break the loop\n",
        "        if np.array_equal(policy, new_policy):\n",
        "            print(\"Converged at iteration: {}\".format(i))\n",
        "            break\n",
        "\n",
        "        # TODO: else, update the current policy to new_policy\n",
        "        policy = new_policy\n",
        "\n",
        "\n",
        "    return policy"
      ]
    },
    {
      "cell_type": "code",
      "execution_count": 138,
      "metadata": {
        "id": "DzpQV140m1je"
      },
      "outputs": [],
      "source": [
        "env_train = gym.make('FrozenLake-v1',desc=generate_random_map(size=8),render_mode=\"rgb_array\")\n",
        "venv_train = env_train.unwrapped"
      ]
    },
    {
      "cell_type": "code",
      "execution_count": 139,
      "metadata": {
        "id": "_SlSK514m-S5"
      },
      "outputs": [
        {
          "name": "stdout",
          "output_type": "stream",
          "text": [
            "Converged at iteration: 62\n",
            "Converged at iteration: 302\n",
            "Converged at iteration: 758\n",
            "Converged at iteration: 11\n"
          ]
        }
      ],
      "source": [
        "optimal_policy = policy_iteration(venv_train)\n",
        "# optimal_policy = policy_iteration(env_train)"
      ]
    },
    {
      "cell_type": "code",
      "execution_count": 140,
      "metadata": {},
      "outputs": [
        {
          "name": "stdout",
          "output_type": "stream",
          "text": [
            "[0. 0. 0. 0. 2. 2. 0. 0. 1. 1. 1. 1. 2. 2. 0. 3. 3. 3. 3. 3. 2. 2. 0. 0.\n",
            " 3. 3. 0. 0. 2. 3. 3. 1. 0. 0. 2. 1. 0. 0. 0. 2. 3. 1. 3. 3. 0. 0. 1. 2.\n",
            " 3. 3. 0. 0. 2. 1. 2. 1. 0. 2. 0. 0. 0. 0. 2. 0.]\n"
          ]
        }
      ],
      "source": [
        "print(optimal_policy)"
      ]
    },
    {
      "cell_type": "code",
      "execution_count": 141,
      "metadata": {
        "id": "5L5DAsSMnGQ2"
      },
      "outputs": [
        {
          "name": "stderr",
          "output_type": "stream",
          "text": [
            "/home/nightwing/.local/lib/python3.12/site-packages/gymnasium/wrappers/rendering.py:283: UserWarning: \u001b[33mWARN: Overwriting existing videos at /home/nightwing/Desktop/Habib/Sem8/rl/assignments/assign02/video folder (try specifying a different `video_folder` for the `RecordVideo` wrapper if this is not desired)\u001b[0m\n",
            "  logger.warn(\n"
          ]
        },
        {
          "name": "stdout",
          "output_type": "stream",
          "text": [
            "Episode finished with total reward: 0.0\n",
            "Episode finished with total reward: 0.0\n",
            "Episode finished with total reward: 0.0\n",
            "Episode finished with total reward: 0.0\n",
            "Episode finished with total reward: 0.0\n",
            "Episode finished with total reward: 0.0\n",
            "Episode finished with total reward: 0.0\n",
            "Episode finished with total reward: 0.0\n",
            "Episode finished with total reward: 0.0\n",
            "Episode finished with total reward: 0.0\n",
            "Episode finished with total reward: 0.0\n",
            "Episode finished with total reward: 0.0\n",
            "Episode finished with total reward: 0.0\n",
            "Episode finished with total reward: 0.0\n",
            "Episode finished with total reward: 0.0\n",
            "Episode finished with total reward: 0.0\n",
            "Episode finished with total reward: 0.0\n",
            "Episode finished with total reward: 0.0\n",
            "Episode finished with total reward: 0.0\n",
            "Episode finished with total reward: 0.0\n",
            "Episode finished with total reward: 0.0\n",
            "Episode finished with total reward: 0.0\n",
            "Episode finished with total reward: 0.0\n",
            "Episode finished with total reward: 0.0\n",
            "Episode finished with total reward: 0.0\n",
            "Episode finished with total reward: 0.0\n",
            "Episode finished with total reward: 0.0\n",
            "Episode finished with total reward: 0.0\n",
            "Episode finished with total reward: 0.0\n",
            "Episode finished with total reward: 0.0\n",
            "Episode finished with total reward: 0.0\n",
            "Episode finished with total reward: 0.0\n",
            "Episode finished with total reward: 0.0\n",
            "Episode finished with total reward: 0.0\n",
            "Episode finished with total reward: 0.0\n",
            "Episode finished with total reward: 0.0\n",
            "Episode finished with total reward: 0.0\n",
            "Episode finished with total reward: 0.0\n",
            "Episode finished with total reward: 0.0\n",
            "Episode finished with total reward: 0.0\n",
            "Episode finished with total reward: 0.0\n",
            "Episode finished with total reward: 0.0\n",
            "Episode finished with total reward: 0.0\n",
            "Episode finished with total reward: 0.0\n",
            "Episode finished with total reward: 0.0\n",
            "Episode finished with total reward: 0.0\n",
            "Episode finished with total reward: 0.0\n",
            "Episode finished with total reward: 0.0\n",
            "Episode finished with total reward: 0.0\n",
            "Episode finished with total reward: 0.0\n",
            "Episode finished with total reward: 0.0\n",
            "Episode finished with total reward: 0.0\n",
            "Episode finished with total reward: 0.0\n",
            "Episode finished with total reward: 0.0\n",
            "Episode finished with total reward: 0.0\n",
            "Episode finished with total reward: 0.0\n",
            "Episode finished with total reward: 0.0\n",
            "Episode finished with total reward: 0.0\n",
            "Episode finished with total reward: 0.0\n",
            "Episode finished with total reward: 0.0\n",
            "Episode finished with total reward: 1.0\n"
          ]
        }
      ],
      "source": [
        "# Create a new environment with video recording\n",
        "total_reward = 0\n",
        "while total_reward <= 0:\n",
        "    env = gym.make('FrozenLake-v1', desc=generate_random_map(size=8), render_mode=\"rgb_array\")\n",
        "    env = gym.wrappers.RecordVideo(\n",
        "        env, \n",
        "        \"video\", \n",
        "        episode_trigger=lambda episode_id: True,  # record every episode\n",
        "        name_prefix=\"frozen-lake-policy-iteration\"\n",
        "    )\n",
        "\n",
        "    # Reset the environment\n",
        "    state, _ = env.reset()\n",
        "    done = False\n",
        "    total_reward = 0\n",
        "\n",
        "    # Interaction loop\n",
        "    while not done:\n",
        "        # Get action from the optimal policy\n",
        "        action = int(optimal_policy[state])\n",
        "        \n",
        "        # Step through the environment\n",
        "        next_state, reward, terminated, truncated, _ = env.step(action)\n",
        "        \n",
        "        # Update state and total reward\n",
        "        state = next_state\n",
        "        total_reward += reward\n",
        "        done = terminated or truncated\n",
        "\n",
        "    print(f\"Episode finished with total reward: {total_reward}\")\n",
        "\n",
        "    # Close the environment\n",
        "    env.close()\n",
        "\n",
        "################################################################\n",
        "\n",
        "# # Create an environment (e.g., CartPole)\n",
        "# env = wrap_env(env_train)\n",
        "\n",
        "\n",
        "# # Reset the environment\n",
        "# state, _ = env.reset()\n",
        "\n",
        "# # Start the recorder (utility for displaying output)\n",
        "# env.start_video_recorder()\n",
        "\n",
        "# next_state = state\n",
        "\n",
        "# # Example of an interaction loop\n",
        "# for _ in range(10000):\n",
        "\n",
        "#     # Render the environment\n",
        "#     env.render()\n",
        "\n",
        "\n",
        "#     # Sample random action from action space\n",
        "#     # action = env.action_space.sample()\n",
        "#     action = int(optimal_policy[next_state])\n",
        "\n",
        "#     # print(type(action),next_state)\n",
        "\n",
        "#     # Step through the environment using the action\n",
        "#     next_state, reward, done, info = env.step(action)\n",
        "\n",
        "#     # Break the loop if the episode is done\n",
        "#     if done:\n",
        "#         break\n",
        "\n",
        "\n",
        "# # close the video recorder(utility for displaying output)\n",
        "# env.close_video_recorder()\n",
        "\n",
        "# # Close the environment\n",
        "# env.close()"
      ]
    },
    {
      "cell_type": "code",
      "execution_count": 142,
      "metadata": {
        "id": "NMFM0lQnnOZo"
      },
      "outputs": [
        {
          "data": {
            "text/html": [],
            "text/plain": [
              "<IPython.core.display.HTML object>"
            ]
          },
          "metadata": {},
          "output_type": "display_data"
        }
      ],
      "source": [
        "# Display Output\n",
        "show_video()"
      ]
    },
    {
      "cell_type": "markdown",
      "metadata": {
        "id": "6Z_rpJFmSfZX"
      },
      "source": [
        "## What is Monte Carlo?\n",
        "\n",
        "Monte Carlo methods are a class of algorithms that rely on repeated random sampling to obtain numerical results. The core idea is to use randomness to solve problems that might be deterministic in principle. In the context of Reinforcement Learning (RL), Monte Carlo methods are used to estimate the value of states or state-action pairs by running multiple episodes and observing the outcomes. The key concept here is **trial and error**—we perform random experiments (trials), and based on the results, we compute averages that approximate the true values.\n",
        "\n",
        "#### Key Points:\n",
        "- **Random sampling**: Monte Carlo methods use randomness to simulate and explore possible outcomes.\n",
        "- **Episodic tasks**: They are often used in episodic environments where each episode ends in a terminal state.\n",
        "- **No need for a model**: Monte Carlo doesn’t require a complete model of the environment, unlike some other methods in RL, such as Dynamic Programming."
      ]
    },
    {
      "cell_type": "markdown",
      "metadata": {
        "id": "dfkDo71pSk2Y"
      },
      "source": [
        "### Where is it Applicable in Reinforcement Learning?\n",
        "\n",
        "In RL, Monte Carlo methods are used to solve Markov Decision Processes (MDPs) by estimating the value functions based on actual experiences, which is different from Dynamic Programming (DP) methods like Policy Iteration or Value Iteration where we know the model dynamics.\n",
        "\n",
        "- **Monte Carlo**:\n",
        "    - **Model-free**: It doesn’t need the transition probabilities or reward model of the environment.\n",
        "    - **Episodic**: It requires full episodes to compute an average return.\n",
        "    - **Learning from interaction**: Monte Carlo learns from real or simulated experiences, by averaging returns for visited states.\n",
        "    - **Convergence**: It only converges after multiple episodes, especially for larger MDPs.\n",
        "  \n",
        "- **Dynamic Programming**:\n",
        "    - **Model-based**: DP requires a known model of the environment, including transition probabilities and rewards.\n",
        "    - **Bootstrapping**: DP methods use current estimates of value functions to update state values iteratively.\n",
        "    - **Complete information**: It works by sweeping over the entire state space and updating values simultaneously.\n",
        "\n",
        "Monte Carlo methods are more useful when we can’t directly model the environment, whereas Dynamic Programming is effective when we know the full MDP model. Monte Carlo works well for large-scale problems or when interacting with the environment is cheap or necessary.\n"
      ]
    },
    {
      "cell_type": "markdown",
      "metadata": {
        "id": "WFzYue8ASqyN"
      },
      "source": [
        "### Estimating pi-value using Monte Carlo\n",
        "\n",
        "Monte Carlo methods are often applied to estimate values that are otherwise hard to calculate, such as the mathematical constant π (pi). Here’s how we can estimate π using Monte Carlo:\n",
        "\n",
        "- **Basic Idea**: Imagine a unit square with a circle inscribed in it (diameter = 1). The area of the square is 1, and the area of the circle is π/4. If we randomly generate points within the square, the ratio of points that land inside the circle to the total number of points should approximate the area ratio between the circle and square, which is π/4.\n",
        "\n",
        "- **Steps**:\n",
        "  1. Randomly generate points $(x, y)$ in the unit square.\n",
        "  2. Check if the point lies inside the circle i.e., if $( x^2 + y^2 \\leq 1 )$.\n",
        "  3. We calculate the value π (pi) by multiplying four to the division of the number of points inside the circle to the number of points inside the square.\n",
        "  4. If we increase the number of samples, the better we can approximate.\n",
        "\n",
        "This is a simple but powerful demonstration of Monte Carlo’s ability to estimate quantities through random sampling.\n",
        "\n",
        "<center>\n",
        "<img src=\"https://help.ovhcloud.com/public_cloud-data_analytics-data_processing-40_tutorial_calculate_pi-images-monte_carlo_graph.png\" alt=\"pi_est\" width=\"200\" height=\"200\">\n",
        "</center>"
      ]
    },
    {
      "cell_type": "code",
      "execution_count": null,
      "metadata": {
        "id": "uKiS0N_WXhdo"
      },
      "outputs": [],
      "source": [
        "### TODO: Estimate the value of pi using Monte Carlo\n",
        "\n",
        "import numpy as np\n",
        "import math\n",
        "import matplotlib.pyplot as plt\n",
        "%matplotlib inline\n",
        "\n",
        "def pi_check(estimate): # DO NOT MODIFY THIS FUNCTION\n",
        "    pi = math.pi\n",
        "    difference = abs(pi - estimate)\n",
        "    if difference < 0.00001:\n",
        "        print('Test Case passed')\n",
        "    else:\n",
        "        print('Test Case not passed')\n",
        "\n",
        "# Implement you solution below this line\n",
        "def mc_pi_estimator():\n",
        "    num_strata = 1000\n",
        "    num_samples = 1000000\n",
        "\n",
        "    total_inside_circle = 0\n",
        "    samples_per_stratum = num_samples // num_strata\n",
        "    \n",
        "    for i in range(num_strata):\n",
        "        for j in range(num_strata):\n",
        "            # Define the bounds of the stratum\n",
        "            x_min, x_max = -1 + i * (2 / num_strata), -1 + (i + 1) * (2 / num_strata)\n",
        "            y_min, y_max = -1 + j * (2 / num_strata), -1 + (j + 1) * (2 / num_strata)\n",
        "            \n",
        "            # Generate random points within the stratum\n",
        "            x = np.random.uniform(x_min, x_max, samples_per_stratum)\n",
        "            y = np.random.uniform(y_min, y_max, samples_per_stratum)\n",
        "\n",
        "            distance = np.sqrt(x**2 + y**2)\n",
        "            total_inside_circle += np.sum(distance <= 1)\n",
        "    \n",
        "    pi_estimate = (total_inside_circle / num_samples) * 4\n",
        "    return pi_estimate / 1000"
      ]
    },
    {
      "cell_type": "code",
      "execution_count": 3,
      "metadata": {},
      "outputs": [
        {
          "name": "stdout",
          "output_type": "stream",
          "text": [
            "Estimated π: 3.141590548\n",
            "Test Case passed\n"
          ]
        }
      ],
      "source": [
        "pi_estimate = mc_pi_estimator()\n",
        "print(f\"Estimated π: {pi_estimate}\")\n",
        "pi_check(pi_estimate)"
      ]
    },
    {
      "cell_type": "markdown",
      "metadata": {
        "id": "l0GUZLK1SyEG"
      },
      "source": [
        "### Making a Monte Carlo Integrator\n",
        "\n",
        "Monte Carlo methods are widely used to approximate integrals, especially for high-dimensional or complex integrals where traditional methods fail or are inefficient.\n",
        "\n",
        "- **Problem**: You want to compute the integral of a function  $f(x)$ over an interval $[a, b]$.\n",
        "  \n",
        "- **Monte Carlo Approach**:\n",
        "  1. **Random Sampling**: Generate random points $ x_i $ uniformly in the interval $[a, b]$.\n",
        "  2. **Function Evaluation**: Compute the function value $ f(x_i) $ for each sampled point.\n",
        "  3. **Averaging**: Compute the average of the function values and scale it by the interval width, $( b - a )$.\n",
        "\n",
        "The estimated integral is:\n",
        "$$\n",
        "\\int_a^b f(x) dx \\approx (b - a) \\times \\frac{1}{N} \\sum_{i=1}^{N} f(x_i)\n",
        "$$\n",
        "where $( N )$ is the number of samples.\n",
        "\n",
        "This approach is useful when the function is difficult to integrate analytically, or when the domain of integration is high-dimensional. Monte Carlo integration's accuracy improves as the number of samples increases, though convergence is slow compared to other numerical methods.\n"
      ]
    },
    {
      "cell_type": "code",
      "execution_count": 4,
      "metadata": {
        "id": "sqdYTjX9ZolR"
      },
      "outputs": [],
      "source": [
        "### TODO: compute the integral of a function  f(x) over an interval [a, b] using Monte Carlo\n",
        "\n",
        "# Implement you solution below this line\n",
        "def mc_integrator(func, a, b, num_samples=1000000):\n",
        "    x_samples = np.random.uniform(a, b, num_samples)\n",
        "    f_vals = np.array([func(x) for x in x_samples])\n",
        "\n",
        "    integral_estimate = (b - a) * np.mean(f_vals)\n",
        "    return integral_estimate"
      ]
    },
    {
      "cell_type": "markdown",
      "metadata": {
        "id": "bNiDAedubAig"
      },
      "source": [
        "Solve following Integral using your implemented MC Integrator:\n",
        "\n",
        "$$\n",
        "    \\int_0^{\\frac{\\pi}{2}} \\frac{\\sqrt{sin(x)}}{\\sqrt{sin(x)}+\\sqrt{cos(x)}}\n",
        "$$"
      ]
    },
    {
      "cell_type": "code",
      "execution_count": 5,
      "metadata": {
        "id": "i4dQzWhrb2fi"
      },
      "outputs": [
        {
          "name": "stdout",
          "output_type": "stream",
          "text": [
            "Estimated integral: 0.784928786440443\n"
          ]
        }
      ],
      "source": [
        "### TODO: Solve the above integral using your implemented MC Integrator\n",
        "def specific_integral_function(x):\n",
        "    def less_than(val1, val2):\n",
        "        return val1 < val2\n",
        "    # if (math.sin(x) < 1e-10) or (math.cos < 1e-10):\n",
        "    if less_than(math.sin(x), 1e-10) or less_than(math.cos(x), 1e-10):\n",
        "        return 0.0\n",
        "    \n",
        "    numer = math.sqrt(math.sin(x))\n",
        "    denom = math.sqrt(math.sin(x)) + math.sqrt(math.cos(x))\n",
        "\n",
        "    if denom < 1e-10:\n",
        "        return 0.0\n",
        "    return numer / denom\n",
        "\n",
        "a, b = 0, math.pi / 2\n",
        "result = mc_integrator(specific_integral_function, a, b)\n",
        "print(f\"Estimated integral: {result}\")"
      ]
    },
    {
      "cell_type": "code",
      "execution_count": 11,
      "metadata": {
        "id": "-U5u-ixKaMcj"
      },
      "outputs": [
        {
          "data": {
            "image/png": "[encoded data removed]",
            "text/plain": [
              "<Figure size 1000x600 with 2 Axes>"
            ]
          },
          "metadata": {},
          "output_type": "display_data"
        }
      ],
      "source": [
        "### TODO: Plot a graph of MC Integrator Accuracy vs Speed\n",
        "import time\n",
        "\n",
        "sample_sizes = [10, 100, 1000, 10000, 100000, 1000000]\n",
        "results, times = [], []\n",
        "\n",
        "for n in sample_sizes:\n",
        "    start_time = time.time()\n",
        "    integral = mc_integrator(specific_integral_function, a, b, n)\n",
        "    elapsed_time = time.time() - start_time\n",
        "    results.append(integral)\n",
        "    times.append(elapsed_time)\n",
        "\n",
        "fig, ax1 = plt.subplots(figsize=(10, 6))\n",
        "\n",
        "color = \"tab:blue\"\n",
        "ax1.set_xlabel(\"Sample Size (log scale)\")\n",
        "ax1.set_ylabel(\"Estimated Integral\", color=color)\n",
        "ax1.plot(sample_sizes, results, 'o-', color=color)\n",
        "ax1.tick_params(axis='y', labelcolor=color)\n",
        "ax1.set_xscale('log')\n",
        "ax1.grid(True, alpha=0.3)\n",
        "\n",
        "ax2 = ax1.twinx()  # instantiate a second axes that shares the same x-axis\n",
        "color = \"tab:red\"\n",
        "ax2.set_ylabel(\"Time (seconds)\", color=color)  # we already handled the x-label with ax1\n",
        "ax2.plot(sample_sizes, times, 'o-', color=color)\n",
        "ax2.tick_params(axis='y', labelcolor=color)\n",
        "\n",
        "plt.title(\"MC Integrator Accuracy vs Speed\")\n",
        "fig.tight_layout()\n",
        "plt.show()"
      ]
    },
    {
      "cell_type": "markdown",
      "metadata": {
        "id": "mIMTUKl_TFPG"
      },
      "source": [
        "## Monte Carlo Prediction"
      ]
    },
    {
      "cell_type": "markdown",
      "metadata": {
        "id": "htC-zp6-TIev"
      },
      "source": [
        "### General Overview\n",
        "\n",
        "Monte Carlo Prediction is a technique in Reinforcement Learning (RL) used to estimate the value of states (or state-action pairs) based on the observed returns from sampled episodes. The goal is to approximate the value function, which represents the expected return (cumulative future rewards) starting from a given state under a specific policy.\n",
        "\n",
        "- **Objective**: For a given policy $ \\pi $, Monte Carlo methods aim to estimate the **value function** $ V^\\pi(s) $ for each state $ s $, which is the expected return starting from $ s $, and following the policy $ \\pi $. We estimate the expected return using mean returns.\n",
        "- **Episode-based learning**: Monte Carlo methods compute value estimates by averaging returns across multiple episodes. An episode is a sequence of states, actions, and rewards that ends in a terminal state.\n",
        "  \n",
        "In Monte Carlo Prediction, the value of a state is updated based on the actual returns received in episodes, which allows it to handle non-Markov environments and environments where a model of the dynamics is unknown. This is why Monte Carlo prediction is called *'model-free'* learning algorithm. This method works particularly well for **episodic tasks** where we can easily define when an episode starts and ends.\n",
        "\n",
        "---\n",
        "\n",
        "The steps involved in Monte Carlo prediction are as follows:\n",
        "\n",
        "1. First, we initialize a random value to our value function.\n",
        "2. Then we initialize an emplty list called a return to store our return.\n",
        "3. Then for each state in the episode, we calculate the return.\n",
        "4. Next, we append the return to out return list.\n",
        "5. Finally, we take average of return as our value function.\n",
        "\n",
        "----\n",
        "\n",
        "The Monte Carlo Prediction algorithm is of two types;\n",
        "\n",
        "- First Visit Monte Carlo\n",
        "- Every Visit Monte Carlo"
      ]
    },
    {
      "cell_type": "markdown",
      "metadata": {
        "id": "TDnnajAOTLxX"
      },
      "source": [
        "### First Visit Monte Carlo\n",
        "\n",
        "In First Visit Monte Carlo (MC) we average the return only the first time the state is visited in an episode. In Reinforcement Learning, a state may be visited multiple times within a single episode.\n",
        "- First Visit Monte Carlo focuses on the first occurrence of each state to provide an unbiased estimate of its value.\n",
        "\n",
        "- First Visit ensures that the value of a state is only updated once per episode, based on the first time it was encountered.\n",
        "- This method helps avoid correlation between multiple visits to the same state in a single episode, which can introduce bias into the value estimation.\n",
        "By averaging the returns for the first visits over many episodes, we get a robust estimate of the value function for each state.\n",
        "\n",
        "#### Algorithm for First Visit MC Prediction:\n",
        "\n",
        "1. **Initialize** the value function $ V(s) $ for all states arbitrarily (or to zeros) and a counter $ N(s) = 0 $ for each state $ s $ to track the number of first visits to $ s $.\n",
        "\n",
        "2. **Simulate episodes**: For each episode:\n",
        "    - Generate a complete episode by following the given policy $ \\pi $.\n",
        "    - An episode is a sequence of states, actions, and rewards:\n",
        "      $$\n",
        "      (S_0, A_0, R_1, S_1, A_1, R_2, \\dots, S_T)\n",
        "      $$\n",
        "      where $ S_T $ is the terminal state, and $ T $ is the time step at which the episode ends.\n",
        "\n",
        "3. **Track first visits**: For each state $ S_t $ visited in the episode, check if this is the first time it has been visited within the episode. If so:\n",
        "    - **Compute the return** $ G_t $, which is the total discounted reward from time step $ t $ until the end of the episode:\n",
        "      $$\n",
        "      G_t = R_{t+1} + \\gamma R_{t+2} + \\dots + \\gamma^{T-t} R_T\n",
        "      $$\n",
        "    - **Update the value function** $ V(S_t) $ based on this return:\n",
        "      $$\n",
        "      V(S_t) \\leftarrow V(S_t) + \\alpha [G_t - V(S_t)]\n",
        "      $$\n",
        "      where $ \\alpha $ is the learning rate, or:\n",
        "      $$\n",
        "      α = \\frac{1}{N(S_t)}\n",
        "      $$\n",
        "      if you are averaging over all returns for state $ S_t $.\n",
        "  \n",
        "    - **Update the count** for the first visit to the state:\n",
        "      $$\n",
        "      N(S_t) \\leftarrow N(S_t) + 1\n",
        "      $$\n",
        "\n",
        "4. **Repeat** this process over many episodes to improve the estimates of the value function.\n",
        "\n",
        "---\n",
        "\n",
        "More concisely, the algorithm is as follows:\n",
        "\n",
        "<img src=\"https://lcalem.github.io/imgs/sutton/first_visit.png\" alt=\"Girl in a jacket\" width=\"700\" height=\"300\">\n"
      ]
    },
    {
      "cell_type": "code",
      "execution_count": 6,
      "metadata": {
        "id": "Gh7pVXUXG6MT"
      },
      "outputs": [],
      "source": [
        "### TODO: Implement a function to generate an episode using policy (pi)\n",
        "\n",
        "def generate_episodes(env, policy=None, n_episodes=1) -> list:\n",
        "    episodes = []\n",
        "    \n",
        "    for _ in range(n_episodes):\n",
        "        episode = []\n",
        "        state, _ = env.reset()\n",
        "        done = False\n",
        "        \n",
        "        while not done:\n",
        "            if policy is None: action = env.action_space.sample()  # Random policy\n",
        "            else: action = policy(state)\n",
        "            \n",
        "            next_state, reward, terminated, truncated, _ = env.step(action)\n",
        "            episode.append((state, action, reward))\n",
        "            \n",
        "            state = next_state\n",
        "            done = terminated or truncated\n",
        "        episodes.append(episode)\n",
        "    \n",
        "    return episodes if n_episodes > 1 else episodes[0]"
      ]
    },
    {
      "cell_type": "code",
      "execution_count": 7,
      "metadata": {
        "id": "d1UKMW8jWyGN"
      },
      "outputs": [],
      "source": [
        "from collections import defaultdict\n",
        "\n",
        "def first_visit_mc_prediction(env, n_episodes, gamma=1.0, policy=None):\n",
        "    # First, we initialize the empty value table as a dictionary for storing the values of each state\n",
        "    value_table = defaultdict(float)\n",
        "    N = defaultdict(int)\n",
        "\n",
        "    for i in range(n_episodes):\n",
        "        # TODO: Generate the epsiode and store the states and rewards\n",
        "        episode = generate_episodes(env, policy=policy)\n",
        "\n",
        "        # TODO: For each step, we store the rewards to a variable R and states to S, and we calculate\n",
        "        # returns as a sum of rewards\n",
        "        states = [s for s, _, _ in episode]\n",
        "        rewards = [r for _, _, r in episode]\n",
        "        visited_states = set()\n",
        "\n",
        "        G = 0\n",
        "\n",
        "        for t in range(len(states) - 1, -1, -1):\n",
        "            G = gamma * G + rewards[t]\n",
        "            state = states[t]\n",
        "\n",
        "            # TODO: Perform first visit MC, we check if the episode is visited for the first time, if yes,\n",
        "            # we simply take the average of returns and assign the value of the state as an average of returns\n",
        "\n",
        "            if state not in visited_states: \n",
        "                visited_states.add(state)\n",
        "                N[state] += 1\n",
        "                value_table[state] += (G - value_table[state]) / N[state]\n",
        "        \n",
        "        if (i + 1) % 10000 == 0:\n",
        "            print(f\"First-visit MC: Completed {i + 1}/{n_episodes} episodes\")\n",
        "\n",
        "    return value_table"
      ]
    },
    {
      "cell_type": "markdown",
      "metadata": {
        "id": "vaT1HXyvG3j0"
      },
      "source": []
    },
    {
      "cell_type": "markdown",
      "metadata": {
        "id": "MRXD7LgkTP12"
      },
      "source": [
        "### Every Visit Monte Carlo\n",
        "\n",
        "**Every Visit Monte Carlo** is a model-free prediction method in Reinforcement Learning (RL) used to estimate the value function $ V^\\pi(s) $ of a given policy $ \\pi $. Like other Monte Carlo methods, it uses complete episodes of experience and updates the estimated value of a state based on the **returns** from multiple episodes.\n",
        "\n",
        "The key feature of **Every Visit Monte Carlo** is that it updates the value of a state every time the state is visited within an episode, rather than just the first time (which is what happens in First Visit Monte Carlo).\n",
        "\n",
        "---\n",
        "\n",
        "### Why Use Every Visit Monte Carlo?\n",
        "\n",
        "In environments where states can be revisited multiple times within the same episode, **Every Visit Monte Carlo** provides a way to leverage all available information by updating the value of a state each time it is visited.\n",
        "\n",
        "- **More frequent updates**: By updating the value of a state for every visit, you can learn faster in environments where the agent frequently revisits the same state.\n",
        "- **Utilizes more data**: Every occurrence of a state gives more opportunities to estimate the value, which may lead to faster convergence of the value function compared to First Visit Monte Carlo.\n",
        "\n",
        "---"
      ]
    },
    {
      "cell_type": "code",
      "execution_count": 8,
      "metadata": {
        "id": "Cd6hOcLEa81x"
      },
      "outputs": [],
      "source": [
        "### TODO: Complete 'every_visit_mc_prediction()' function\n",
        "\n",
        "def every_visit_mc_prediction(env, n_episodes, gamma=1.0):\n",
        "\n",
        "    # First, we initialize the empty value table as a dictionary for storing the values of each state\n",
        "    value_table = defaultdict(float)\n",
        "    N = defaultdict(int)\n",
        "\n",
        "\n",
        "    for i in range(n_episodes):\n",
        "        # TODO: Generate the epsiode and store the states and rewards\n",
        "        episode = generate_episodes(env)\n",
        "\n",
        "        states = [s for s, _, _ in episode]\n",
        "        rewards = [r for _, _, r in episode]\n",
        "\n",
        "        G = 0\n",
        "        # TODO: For each step, we store the rewards to a variable R and states to S, and we calculate\n",
        "        # returns as a sum of rewards\n",
        "        for t in range(len(states) - 1, -1, -1):\n",
        "            G = gamma * G + rewards[t]\n",
        "            state = states[t]\n",
        "\n",
        "            # TODO: Perform every visit MC, we simply take the average of returns and assign the value of the state as an average of returns\n",
        "            N[state] += 1\n",
        "            value_table[state] += (G - value_table[state]) / N[state]\n",
        "\n",
        "        if (i + 1) % 10000 == 0:\n",
        "            print(f\"Every-visit MC: Completed {i + 1}/{n_episodes} episodes\")\n",
        "\n",
        "    return value_table"
      ]
    },
    {
      "cell_type": "markdown",
      "metadata": {
        "id": "zgwURwMAON3_"
      },
      "source": [
        "\n",
        "### Key Differences between First Visit Monte Carlo and Every Visit Monte Carlo:\n",
        "\n",
        "- **Every Visit Monte Carlo** updates the value of a state every time it is visited within an episode, whereas **First Visit Monte Carlo** updates the value only the first time a state is encountered.\n",
        "- **Every Visit Monte Carlo** tends to use more data for updating the value function since it uses all occurrences of each state within an episode, potentially leading to faster learning in some cases.\n",
        "- **First Visit Monte Carlo** avoids correlation between multiple visits to the same state, while Every Visit Monte Carlo exploits multiple visits to gather more data but may introduce more noise or bias in certain environments.\n",
        "\n",
        "Both methods will converge to the correct value function given enough episodes, but they may differ in how fast they converge depending on the environment and the task."
      ]
    },
    {
      "cell_type": "markdown",
      "metadata": {
        "id": "1TAInFcMQPpF"
      },
      "source": [
        "### Playing Black-Jack with Monte Carlo Methods\n"
      ]
    },
    {
      "cell_type": "code",
      "execution_count": null,
      "metadata": {
        "id": "h_wcgBvQQaly"
      },
      "outputs": [],
      "source": [
        "def extract_policy(env,value_table, gamma = 1.0):\n",
        "    if isinstance(env.observation_space, gym.spaces.Discrete):\n",
        "        policy = np.zeros(env.observation_space.n, dtype=int)  # Use integers for actions\n",
        "    else:\n",
        "        policy = {}\n",
        "\n",
        "    # Iterate through all states in the value table\n",
        "    for state in value_table.keys():\n",
        "        # Compute the action with the maximum expected value\n",
        "        best_action = np.argmax([\n",
        "            value_table.get((state, action), -1) for action in range(env.action_space.n)\n",
        "        ])\n",
        "        policy[state] = best_action\n",
        "    \n",
        "    return policy\n"
      ]
    },
    {
      "cell_type": "code",
      "execution_count": 27,
      "metadata": {
        "id": "heZMvWZSQYrM"
      },
      "outputs": [],
      "source": [
        "env_train = gym.make('Blackjack-v1', natural=False, sab=False)\n",
        "venv_train = env_train.unwrapped"
      ]
    },
    {
      "cell_type": "code",
      "execution_count": 28,
      "metadata": {
        "id": "WIm0pfihRGE0"
      },
      "outputs": [
        {
          "name": "stdout",
          "output_type": "stream",
          "text": [
            "First-visit MC: Completed 10000/500000 episodes\n",
            "First-visit MC: Completed 20000/500000 episodes\n",
            "First-visit MC: Completed 30000/500000 episodes\n",
            "First-visit MC: Completed 40000/500000 episodes\n",
            "First-visit MC: Completed 50000/500000 episodes\n",
            "First-visit MC: Completed 60000/500000 episodes\n",
            "First-visit MC: Completed 70000/500000 episodes\n",
            "First-visit MC: Completed 80000/500000 episodes\n",
            "First-visit MC: Completed 90000/500000 episodes\n",
            "First-visit MC: Completed 100000/500000 episodes\n",
            "First-visit MC: Completed 110000/500000 episodes\n",
            "First-visit MC: Completed 120000/500000 episodes\n",
            "First-visit MC: Completed 130000/500000 episodes\n",
            "First-visit MC: Completed 140000/500000 episodes\n",
            "First-visit MC: Completed 150000/500000 episodes\n",
            "First-visit MC: Completed 160000/500000 episodes\n",
            "First-visit MC: Completed 170000/500000 episodes\n",
            "First-visit MC: Completed 180000/500000 episodes\n",
            "First-visit MC: Completed 190000/500000 episodes\n",
            "First-visit MC: Completed 200000/500000 episodes\n",
            "First-visit MC: Completed 210000/500000 episodes\n",
            "First-visit MC: Completed 220000/500000 episodes\n",
            "First-visit MC: Completed 230000/500000 episodes\n",
            "First-visit MC: Completed 240000/500000 episodes\n",
            "First-visit MC: Completed 250000/500000 episodes\n",
            "First-visit MC: Completed 260000/500000 episodes\n",
            "First-visit MC: Completed 270000/500000 episodes\n",
            "First-visit MC: Completed 280000/500000 episodes\n",
            "First-visit MC: Completed 290000/500000 episodes\n",
            "First-visit MC: Completed 300000/500000 episodes\n",
            "First-visit MC: Completed 310000/500000 episodes\n",
            "First-visit MC: Completed 320000/500000 episodes\n",
            "First-visit MC: Completed 330000/500000 episodes\n",
            "First-visit MC: Completed 340000/500000 episodes\n",
            "First-visit MC: Completed 350000/500000 episodes\n",
            "First-visit MC: Completed 360000/500000 episodes\n",
            "First-visit MC: Completed 370000/500000 episodes\n",
            "First-visit MC: Completed 380000/500000 episodes\n",
            "First-visit MC: Completed 390000/500000 episodes\n",
            "First-visit MC: Completed 400000/500000 episodes\n",
            "First-visit MC: Completed 410000/500000 episodes\n",
            "First-visit MC: Completed 420000/500000 episodes\n",
            "First-visit MC: Completed 430000/500000 episodes\n",
            "First-visit MC: Completed 440000/500000 episodes\n",
            "First-visit MC: Completed 450000/500000 episodes\n",
            "First-visit MC: Completed 460000/500000 episodes\n",
            "First-visit MC: Completed 470000/500000 episodes\n",
            "First-visit MC: Completed 480000/500000 episodes\n",
            "First-visit MC: Completed 490000/500000 episodes\n",
            "First-visit MC: Completed 500000/500000 episodes\n"
          ]
        }
      ],
      "source": [
        "value_first_visit_mc = first_visit_mc_prediction(venv_train, n_episodes=500000)\n",
        "optimal_policy_first_visit = extract_policy(venv_train,value_first_visit_mc, gamma=0.9)\n",
        "# value_first_visit_mc = first_visit_mc_prediction(env_train, n_episodes=500000)\n",
        "# optimal_policy_first_visit = extract_policy(env_train,value_first_visit_mc, gamma=0.9)"
      ]
    },
    {
      "cell_type": "code",
      "execution_count": 29,
      "metadata": {
        "collapsed": true,
        "id": "bd7lpiAPRPxg"
      },
      "outputs": [
        {
          "name": "stdout",
          "output_type": "stream",
          "text": [
            "Every-visit MC: Completed 10000/500000 episodes\n",
            "Every-visit MC: Completed 20000/500000 episodes\n",
            "Every-visit MC: Completed 30000/500000 episodes\n",
            "Every-visit MC: Completed 40000/500000 episodes\n",
            "Every-visit MC: Completed 50000/500000 episodes\n",
            "Every-visit MC: Completed 60000/500000 episodes\n",
            "Every-visit MC: Completed 70000/500000 episodes\n",
            "Every-visit MC: Completed 80000/500000 episodes\n",
            "Every-visit MC: Completed 90000/500000 episodes\n",
            "Every-visit MC: Completed 100000/500000 episodes\n",
            "Every-visit MC: Completed 110000/500000 episodes\n",
            "Every-visit MC: Completed 120000/500000 episodes\n",
            "Every-visit MC: Completed 130000/500000 episodes\n",
            "Every-visit MC: Completed 140000/500000 episodes\n",
            "Every-visit MC: Completed 150000/500000 episodes\n",
            "Every-visit MC: Completed 160000/500000 episodes\n",
            "Every-visit MC: Completed 170000/500000 episodes\n",
            "Every-visit MC: Completed 180000/500000 episodes\n",
            "Every-visit MC: Completed 190000/500000 episodes\n",
            "Every-visit MC: Completed 200000/500000 episodes\n",
            "Every-visit MC: Completed 210000/500000 episodes\n",
            "Every-visit MC: Completed 220000/500000 episodes\n",
            "Every-visit MC: Completed 230000/500000 episodes\n",
            "Every-visit MC: Completed 240000/500000 episodes\n",
            "Every-visit MC: Completed 250000/500000 episodes\n",
            "Every-visit MC: Completed 260000/500000 episodes\n",
            "Every-visit MC: Completed 270000/500000 episodes\n",
            "Every-visit MC: Completed 280000/500000 episodes\n",
            "Every-visit MC: Completed 290000/500000 episodes\n",
            "Every-visit MC: Completed 300000/500000 episodes\n",
            "Every-visit MC: Completed 310000/500000 episodes\n",
            "Every-visit MC: Completed 320000/500000 episodes\n",
            "Every-visit MC: Completed 330000/500000 episodes\n",
            "Every-visit MC: Completed 340000/500000 episodes\n",
            "Every-visit MC: Completed 350000/500000 episodes\n",
            "Every-visit MC: Completed 360000/500000 episodes\n",
            "Every-visit MC: Completed 370000/500000 episodes\n",
            "Every-visit MC: Completed 380000/500000 episodes\n",
            "Every-visit MC: Completed 390000/500000 episodes\n",
            "Every-visit MC: Completed 400000/500000 episodes\n",
            "Every-visit MC: Completed 410000/500000 episodes\n",
            "Every-visit MC: Completed 420000/500000 episodes\n",
            "Every-visit MC: Completed 430000/500000 episodes\n",
            "Every-visit MC: Completed 440000/500000 episodes\n",
            "Every-visit MC: Completed 450000/500000 episodes\n",
            "Every-visit MC: Completed 460000/500000 episodes\n",
            "Every-visit MC: Completed 470000/500000 episodes\n",
            "Every-visit MC: Completed 480000/500000 episodes\n",
            "Every-visit MC: Completed 490000/500000 episodes\n",
            "Every-visit MC: Completed 500000/500000 episodes\n"
          ]
        }
      ],
      "source": [
        "value_every_visit_mc = every_visit_mc_prediction(venv_train, n_episodes=500000)\n",
        "optimal_policy_every_visit = extract_policy(venv_train,value_every_visit_mc, gamma=0.9)\n",
        "# value_every_visit_mc = every_visit_mc_prediction(env_train, n_episodes=500000)\n",
        "# optimal_policy_every_visit = extract_policy(env_train,value_every_visit_mc, gamma=0.9)"
      ]
    },
    {
      "cell_type": "code",
      "execution_count": 48,
      "metadata": {
        "id": "zJeqe36mxy8i"
      },
      "outputs": [
        {
          "name": "stdout",
          "output_type": "stream",
          "text": [
            "Episode finished with total reward: 1.0\n"
          ]
        }
      ],
      "source": [
        "total_reward = 0\n",
        "\n",
        "# env = gym.make('Blackjack-v1', natural=False, sab=False)\n",
        "env = gym.make('Blackjack-v1', natural=False, sab=False, render_mode=\"rgb_array\")\n",
        "env = gym.wrappers.RecordVideo(\n",
        "    env, \n",
        "    './video',\n",
        "    episode_trigger=lambda episode_id: True,\n",
        "    name_prefix=\"blackjack\")\n",
        "\n",
        "state, _ = env.reset()\n",
        "# print(f\"Effin State: {state} and underscore: {_}\")\n",
        "done = False\n",
        "total_reward = 0\n",
        "\n",
        "# Interaction loop\n",
        "while not done:\n",
        "    # Get action from the optimal policy\n",
        "    action = int(optimal_policy_first_visit[state])\n",
        "    \n",
        "    # Step through the environment\n",
        "    next_state, reward, terminated, truncated, _ = env.step(action)\n",
        "    \n",
        "    # Update state and total reward\n",
        "    state = next_state\n",
        "    total_reward += reward\n",
        "    done = terminated or truncated\n",
        "print(f\"Episode finished with total reward: {total_reward}\")\n",
        "\n",
        "env.close()\n",
        "\n",
        "\n",
        "# env = wrap_env(gym.make('Blackjack-v1', natural=False, sab=False))\n",
        "\n",
        "\n",
        "# # Reset the environment\n",
        "# state, _ = env.reset()\n",
        "\n",
        "# # Start the recorder (utility for displaying output)\n",
        "# env.start_video_recorder()\n",
        "\n",
        "# next_state = state\n",
        "\n",
        "# # Example of an interaction loop\n",
        "# for _ in range(10000):\n",
        "\n",
        "\n",
        "#     # Render the environment\n",
        "#     env.render()\n",
        "\n",
        "\n",
        "#     # Sample random action from action space\n",
        "#     # action = env.action_space.sample()\n",
        "#     action = int(optimal_policy_first_visit[next_state])\n",
        "\n",
        "#     # print(type(action),next_state)\n",
        "\n",
        "#     # Step through the environment using the action\n",
        "#     next_state, reward, done, info = env.step(action)\n",
        "\n",
        "#     # Break the loop if the episode is done\n",
        "#     if done:\n",
        "#         break\n",
        "\n",
        "\n",
        "# # close the video recorder(utility for displaying output)\n",
        "# env.close_video_recorder()\n",
        "\n",
        "# # Close the environment\n",
        "# env.close()"
      ]
    },
    {
      "cell_type": "code",
      "execution_count": 41,
      "metadata": {
        "id": "jVGDXkBXy_89"
      },
      "outputs": [
        {
          "data": {
            "text/html": [],
            "text/plain": [
              "<IPython.core.display.HTML object>"
            ]
          },
          "metadata": {},
          "output_type": "display_data"
        }
      ],
      "source": [
        "# Display Output\n",
        "show_video()"
      ]
    },
    {
      "cell_type": "code",
      "execution_count": null,
      "metadata": {
        "id": "_l7gMbAcTH06"
      },
      "outputs": [],
      "source": []
    }
  ],
  "metadata": {
    "colab": {
      "authorship_tag": "ABX9TyP5XbwjMjhL4PdltKUeR3N8",
      "include_colab_link": true,
      "provenance": []
    },
    "kernelspec": {
      "display_name": "Python 3",
      "name": "python3"
    },
    "language_info": {
      "codemirror_mode": {
        "name": "ipython",
        "version": 3
      },
      "file_extension": ".py",
      "mimetype": "text/x-python",
      "name": "python",
      "nbconvert_exporter": "python",
      "pygments_lexer": "ipython3",
      "version": "3.12.3"
    }
  },
  "nbformat": 4,
  "nbformat_minor": 0
}
