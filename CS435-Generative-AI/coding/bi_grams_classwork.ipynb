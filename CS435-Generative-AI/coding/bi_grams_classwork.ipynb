{
  "cells": [
    {
      "cell_type": "code",
      "execution_count": 1,
      "metadata": {
        "colab": {
          "base_uri": "https://localhost:8080/"
        },
        "id": "Xhi_Pf5IyzDv",
        "outputId": "88085ef7-cc86-4465-b48d-b39fc20f336d"
      },
      "outputs": [
        {
          "name": "stdout",
          "output_type": "stream",
          "text": [
            "\n",
            "  _   _      _ _\n",
            " | | | | ___| | | ___\n",
            " | |_| |/ _ \\ | |/   \\\n",
            " |  _  |  __/ | |     |\n",
            " |_| |_|\\___|_|_|\\___/\n",
            "\n",
            "       Hello to the Class of CS 435-L1!\n",
            "    \n"
          ]
        }
      ],
      "source": [
        "# Python program to print fancy ASCII art message\n",
        "\n",
        "def print_ascii_art():\n",
        "    ascii_art = r\"\"\"\n",
        "  _   _      _ _\n",
        " | | | | ___| | | ___\n",
        " | |_| |/ _ \\ | |/   \\\n",
        " |  _  |  __/ | |     |\n",
        " |_| |_|\\___|_|_|\\___/\n",
        "\n",
        "       Hello to the Class of CS 435-L1!\n",
        "    \"\"\"\n",
        "    print(ascii_art)\n",
        "\n",
        "# Call the function\n",
        "print_ascii_art()\n"
      ]
    },
    {
      "cell_type": "markdown",
      "metadata": {
        "id": "vrbUy4QsyGKb"
      },
      "source": [
        "# Problem Statement: Counting Total Bigrams in a Sentence\n",
        "\n",
        "## Objective:\n",
        "Write a Python program that calculates the **total number of bigrams** (pairs of consecutive words) in a given sentence. A bigram is defined as a sequence of two consecutive words in the text.\n",
        "\n",
        "## Requirements:\n",
        "1. **Input**:\n",
        "   - A string representing the sentence (e.g., `\"they visited New York last week\"`).\n",
        "2. **Output**:\n",
        "   - An integer representing the total number of bigrams in the sentence.\n",
        "3. **Constraints**:\n",
        "   - If the input sentence has fewer than 2 words, the program should return `0` as there are no bigrams.\n",
        "   - The program should handle empty strings and sentences with a single word gracefully.\n",
        "\n",
        "## Example:\n",
        "### Input:\n",
        "```plaintext\n",
        "\"they visited New York last week\"\n",
        "```\n",
        "### Output:\n",
        "```plaintext\n",
        "5\n",
        "```\n",
        "\n",
        "## Calculation:\n",
        "For the sentence `\"they visited New York last week\"`, the bigrams are:\n",
        "1. `(\"they\", \"visited\")`\n",
        "2. `(\"visited\", \"New\")`\n",
        "3. `(\"New\", \"York\")`\n",
        "4. `(\"York\", \"last\")`\n",
        "5. `(\"last\", \"week\")`\n",
        "\n",
        "Thus, the total number of bigrams is **5**.\n",
        "\n",
        "## Extensions:\n",
        "- Handle preprocessing of the sentence (e.g., removing punctuation, lowercasing) if required.\n",
        "- Support sentences in multiple languages.\n"
      ]
    },
    {
      "cell_type": "markdown",
      "metadata": {
        "id": "PXhB3J9u0MRm"
      },
      "source": [
        "## Pseudocode\n",
        "1. Input the Sentence: Accept or define the input sentence as a string.\n",
        "2. Split the Sentence: Split the string into a list of words.\n",
        "3. Check Sentence Length:\n",
        "If the sentence has fewer than 2 words, there are no bigrams (return 0).\n",
        "4. Calculate the Total Bigrams:\n",
        "Use the length of the word list to calculate the number of bigrams as len(words) - 1.\n",
        "5. Output the Result: Return or print the total number of bigrams."
      ]
    },
    {
      "cell_type": "code",
      "execution_count": 2,
      "metadata": {
        "colab": {
          "base_uri": "https://localhost:8080/"
        },
        "id": "D-GpczpJzybe",
        "outputId": "075d68d8-226e-435b-a24a-b36900bf6aef"
      },
      "outputs": [
        {
          "name": "stdout",
          "output_type": "stream",
          "text": [
            "5\n"
          ]
        }
      ],
      "source": [
        "# Step 1: Define a function to count the total number of bigrams\n",
        "def count_total_bigrams(sentence):\n",
        "    \"\"\"\n",
        "    This function calculates the total number of bigrams in a given sentence.\n",
        "    \"\"\"\n",
        "    # Step 2: Split the sentence into a list of words\n",
        "    words = sentence.split()  # Creates a list of words\n",
        "\n",
        "    # Step 3: Check if the sentence has fewer than 2 words\n",
        "    if len(words) < 2:\n",
        "        return 0  # No bigrams possible\n",
        "\n",
        "    # Step 4: Calculate the total number of bigrams\n",
        "    # Total bigrams = (Number of words - 1)\n",
        "    total_bigrams = len(words) - 1\n",
        "    # <write code to complete the program>\n",
        "\n",
        "    # Step 5: Return the result\n",
        "    return total_bigrams\n",
        "\n",
        "# Example Usage:\n",
        "sentence = \"they visited New York last week\"\n",
        "print(count_total_bigrams(sentence))\n"
      ]
    },
    {
      "cell_type": "markdown",
      "metadata": {
        "id": "RS_A2OrdyJ7j"
      },
      "source": [
        "# Optional Problem Statement: Generate Bigrams\n",
        "\n",
        "## Objective:\n",
        "Write a Python function that takes a sentence as input and returns a list of bigrams (pairs of consecutive words) present in the sentence.\n",
        "\n",
        "## Requirements:\n",
        "1. **Input**:\n",
        "   - A string representing the sentence (e.g., `\"they visited New York last week\"`).\n",
        "2. **Output**:\n",
        "   - A list of tuples, where each tuple is a bigram.\n",
        "3. **Constraints**:\n",
        "   - If the sentence has fewer than 2 words, return an empty list.\n",
        "\n",
        "## Example:\n",
        "### Input:\n",
        "```plaintext\n",
        "\"they visited New York last week\"\n",
        "```\n",
        "### Output:\n",
        "```plaintext\n",
        "[(\"they\", \"visited\"), (\"visited\", \"New\"), (\"New\", \"York\"), (\"York\", \"last\"), (\"last\", \"week\")]"
      ]
    },
    {
      "cell_type": "code",
      "execution_count": 12,
      "metadata": {
        "colab": {
          "base_uri": "https://localhost:8080/"
        },
        "id": "DOEtiEA03SuV",
        "outputId": "4cd672bc-2ba2-43b1-f79c-51246987b74a"
      },
      "outputs": [
        {
          "name": "stdout",
          "output_type": "stream",
          "text": [
            "[('they', 'visited'), ('visited', 'New'), ('New', 'York'), ('York', 'last'), ('last', 'week')]\n"
          ]
        }
      ],
      "source": [
        "# Step 1: Define the function to create bigrams\n",
        "def generate_bigrams(phrase):\n",
        "    \"\"\"\n",
        "    This function takes a string (phrase) as input\n",
        "    and returns a list of bigrams.\n",
        "    \"\"\"\n",
        "    # Step 2: Split the phrase into words\n",
        "    words = phrase.split()  # Creates a list of words\n",
        "\n",
        "    # Step 3: Initialize an empty list for bigrams\n",
        "    bigrams = []\n",
        "\n",
        "    # # Step 4: Generate bigrams using a loop\n",
        "    # for i in range(len(words) - 1):  # Iterate up to the second-last word\n",
        "    #     bigram = (words[i], words[i + 1])  # Create a pair of consecutive words\n",
        "    #     bigrams.append(bigram)  # Append the bigram to the list\n",
        "    \n",
        "    # one liner to generate bigrams\n",
        "    bigrams = [(words[i], words[i + 1]) for i in range(len(words) - 1)]\n",
        "\n",
        "    # # alternate method to generate bigrams\n",
        "    # bigrams = list(zip(words, words[1:]))\n",
        "\n",
        "    # Step 5: Return the list of bigrams\n",
        "    return bigrams\n",
        "\n",
        "# Example Usage:\n",
        "phrase = \"they visited New York last week\"\n",
        "print(generate_bigrams(phrase))\n"
      ]
    },
    {
      "cell_type": "markdown",
      "metadata": {
        "id": "mgs12-gYyBri"
      },
      "source": []
    }
  ],
  "metadata": {
    "colab": {
      "provenance": []
    },
    "kernelspec": {
      "display_name": "Python 3",
      "name": "python3"
    },
    "language_info": {
      "codemirror_mode": {
        "name": "ipython",
        "version": 3
      },
      "file_extension": ".py",
      "mimetype": "text/x-python",
      "name": "python",
      "nbconvert_exporter": "python",
      "pygments_lexer": "ipython3",
      "version": "3.12.3"
    }
  },
  "nbformat": 4,
  "nbformat_minor": 0
}
