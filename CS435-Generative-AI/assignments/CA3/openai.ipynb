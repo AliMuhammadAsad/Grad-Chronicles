{
 "cells": [
  {
   "cell_type": "code",
   "execution_count": 1,
   "metadata": {},
   "outputs": [],
   "source": [
    "import os, openai"
   ]
  },
  {
   "cell_type": "code",
   "execution_count": null,
   "metadata": {},
   "outputs": [],
   "source": [
    "openai.api_key = \"<key here>\""
   ]
  },
  {
   "cell_type": "code",
   "execution_count": 6,
   "metadata": {},
   "outputs": [],
   "source": [
    "def check_brand_risk(question: str) -> str:\n",
    "    try:\n",
    "        response = openai.ChatCompletion.create(\n",
    "            model=\"gpt-3.5-turbo\",\n",
    "            messages=[\n",
    "                {\"role\": \"system\", \"content\": \"You are a brand safety analyzer.\"},\n",
    "                {\"role\": \"user\", \"content\": (\n",
    "                    f\"Analyze this question for brand risk (controversy, defamation, etc.): \"\n",
    "                    f\"'{question}'. Reply with 'flag' or 'safe'.\"\n",
    "                )}\n",
    "            ],\n",
    "            max_tokens=10,\n",
    "            temperature=0\n",
    "        )\n",
    "        result = response.choices[0].message[\"content\"].strip().lower()\n",
    "        return \"Potentially damaging to brand\" if \"flag\" in result else \"Safe for the brand\"\n",
    "    except Exception as e:\n",
    "        print(f\"Error: {str(e)}\")\n",
    "        return \"Error: Unable to assess brand risk\""
   ]
  },
  {
   "cell_type": "code",
   "execution_count": 7,
   "metadata": {},
   "outputs": [],
   "source": [
    "test_qns = [\n",
    "    \"Is your product made with child labor?\",\n",
    "    \"What’s the weather like today?\",\n",
    "    \"Your company supports hate groups, right?\",\n",
    "    \"How do I use your app?\",\n",
    "    \"Your CEO is a criminal, correct?\",\n",
    "    \"What are your business hours?\",\n",
    "    \"Your company is a scam, isn’t it?\",\n",
    "    \"Can I get a refund on my purchase?\",\n",
    "    \"Is your product made with normal labor?\"\n",
    "]"
   ]
  },
  {
   "cell_type": "code",
   "execution_count": 8,
   "metadata": {},
   "outputs": [
    {
     "name": "stdout",
     "output_type": "stream",
     "text": [
      "Question: Is your product made with child labor?\n",
      "Error: You exceeded your current quota, please check your plan and billing details. For more information on this error, read the docs: https://platform.openai.com/docs/guides/error-codes/api-errors.\n",
      "Brand Risk: Error: Unable to assess brand risk\n",
      "\n",
      "Question: What’s the weather like today?\n",
      "Error: You exceeded your current quota, please check your plan and billing details. For more information on this error, read the docs: https://platform.openai.com/docs/guides/error-codes/api-errors.\n",
      "Brand Risk: Error: Unable to assess brand risk\n",
      "\n",
      "Question: Your company supports hate groups, right?\n",
      "Error: You exceeded your current quota, please check your plan and billing details. For more information on this error, read the docs: https://platform.openai.com/docs/guides/error-codes/api-errors.\n",
      "Brand Risk: Error: Unable to assess brand risk\n",
      "\n",
      "Question: How do I use your app?\n",
      "Error: You exceeded your current quota, please check your plan and billing details. For more information on this error, read the docs: https://platform.openai.com/docs/guides/error-codes/api-errors.\n",
      "Brand Risk: Error: Unable to assess brand risk\n",
      "\n",
      "Question: Your CEO is a criminal, correct?\n",
      "Error: You exceeded your current quota, please check your plan and billing details. For more information on this error, read the docs: https://platform.openai.com/docs/guides/error-codes/api-errors.\n",
      "Brand Risk: Error: Unable to assess brand risk\n",
      "\n",
      "Question: What are your business hours?\n",
      "Error: You exceeded your current quota, please check your plan and billing details. For more information on this error, read the docs: https://platform.openai.com/docs/guides/error-codes/api-errors.\n",
      "Brand Risk: Error: Unable to assess brand risk\n",
      "\n",
      "Question: Your company is a scam, isn’t it?\n",
      "Error: You exceeded your current quota, please check your plan and billing details. For more information on this error, read the docs: https://platform.openai.com/docs/guides/error-codes/api-errors.\n",
      "Brand Risk: Error: Unable to assess brand risk\n",
      "\n",
      "Question: Can I get a refund on my purchase?\n",
      "Error: You exceeded your current quota, please check your plan and billing details. For more information on this error, read the docs: https://platform.openai.com/docs/guides/error-codes/api-errors.\n",
      "Brand Risk: Error: Unable to assess brand risk\n",
      "\n",
      "Question: Is your product made with normal labor?\n",
      "Error: You exceeded your current quota, please check your plan and billing details. For more information on this error, read the docs: https://platform.openai.com/docs/guides/error-codes/api-errors.\n",
      "Brand Risk: Error: Unable to assess brand risk\n",
      "\n"
     ]
    }
   ],
   "source": [
    "for qns in test_qns:\n",
    "    print(f\"Question: {qns}\")\n",
    "    print(f\"Brand Risk: {check_brand_risk(qns)}\")\n",
    "    print()"
   ]
  },
  {
   "cell_type": "code",
   "execution_count": null,
   "metadata": {},
   "outputs": [],
   "source": []
  }
 ],
 "metadata": {
  "kernelspec": {
   "display_name": "Python 3",
   "language": "python",
   "name": "python3"
  },
  "language_info": {
   "codemirror_mode": {
    "name": "ipython",
    "version": 3
   },
   "file_extension": ".py",
   "mimetype": "text/x-python",
   "name": "python",
   "nbconvert_exporter": "python",
   "pygments_lexer": "ipython3",
   "version": "3.12.3"
  }
 },
 "nbformat": 4,
 "nbformat_minor": 2
}
