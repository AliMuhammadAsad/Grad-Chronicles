{
 "cells": [
  {
   "cell_type": "code",
   "execution_count": 1,
   "metadata": {},
   "outputs": [],
   "source": [
    "import os, requests\n",
    "import google.generativeai as genai"
   ]
  },
  {
   "cell_type": "code",
   "execution_count": null,
   "metadata": {},
   "outputs": [],
   "source": [
    "GEMINI_API_KEY = \"<key here>\"\n",
    "\n",
    "genai.configure(api_key=GEMINI_API_KEY)"
   ]
  },
  {
   "cell_type": "code",
   "execution_count": 3,
   "metadata": {},
   "outputs": [
    {
     "data": {
      "text/plain": [
       "genai.GenerativeModel(\n",
       "    model_name='models/gemini-1.5-flash',\n",
       "    generation_config={},\n",
       "    safety_settings={},\n",
       "    tools=None,\n",
       "    system_instruction=None,\n",
       "    cached_content=None\n",
       ")"
      ]
     },
     "execution_count": 3,
     "metadata": {},
     "output_type": "execute_result"
    }
   ],
   "source": [
    "model = genai.GenerativeModel(\"gemini-1.5-flash\")\n",
    "model"
   ]
  },
  {
   "cell_type": "code",
   "execution_count": 4,
   "metadata": {},
   "outputs": [],
   "source": [
    "def check_brand_risk(question: str) -> str:\n",
    "    \"\"\"\n",
    "    Analyzes a question for potential brand risk using Gemini API.\n",
    "    Returns 'Potentially damaging to brand' or 'Safe for the brand'.\n",
    "    \"\"\"\n",
    "    try:\n",
    "        # Craft a prompt to evaluate brand risk\n",
    "        prompt = (\n",
    "            f\"Analyze the following question or statement for potential brand risk. \"\n",
    "            f\"Consider controversial topics, misinformation, defamation, offensive content, \"\n",
    "            f\"or regulatory non-compliance. Respond with 'flag' if it’s potentially damaging, \"\n",
    "            f\"or 'safe' if it’s not.\\n\\nQuestion: {question}\"\n",
    "        )\n",
    "        \n",
    "        # Query the Gemini API\n",
    "        response = model.generate_content(prompt)\n",
    "        result = response.text.strip().lower()\n",
    "\n",
    "        # Parse the response\n",
    "        if \"flag\" in result:\n",
    "            return \"Potentially damaging to brand\"\n",
    "        elif \"safe\" in result:\n",
    "            return \"Safe for the brand\"\n",
    "        else:\n",
    "            # Fallback: if response is unclear, err on the side of caution\n",
    "            return \"Potentially damaging to brand\"\n",
    "\n",
    "    except Exception as e:\n",
    "        # Handle errors (e.g., network issues, invalid key)\n",
    "        error_msg = f\"Error querying API: {str(e)}\"\n",
    "        print(error_msg)\n",
    "        return \"Error: Unable to assess brand risk\""
   ]
  },
  {
   "cell_type": "code",
   "execution_count": 5,
   "metadata": {},
   "outputs": [],
   "source": [
    "test_qns = [\n",
    "    \"Is your product made with child labor?\",\n",
    "    \"What’s the weather like today?\",\n",
    "    \"Your company supports hate groups, right?\",\n",
    "    \"How do I use your app?\",\n",
    "    \"Your CEO is a criminal, correct?\",\n",
    "    \"What are your business hours?\",\n",
    "    \"Your company is a scam, isn’t it?\",\n",
    "    \"Can I get a refund on my purchase?\",\n",
    "    \"Is your product made with normal labor?\",\n",
    "    \"What’s the best way to contact customer service?\",\n",
    "]"
   ]
  },
  {
   "cell_type": "code",
   "execution_count": 6,
   "metadata": {},
   "outputs": [
    {
     "name": "stdout",
     "output_type": "stream",
     "text": [
      "Question 1: Is your product made with child labor?\n",
      "Brand Risk: Potentially damaging to brand\n",
      "\n",
      "Question 2: What’s the weather like today?\n",
      "Brand Risk: Safe for the brand\n",
      "\n",
      "Question 3: Your company supports hate groups, right?\n",
      "Brand Risk: Potentially damaging to brand\n",
      "\n",
      "Question 4: How do I use your app?\n",
      "Brand Risk: Safe for the brand\n",
      "\n",
      "Question 5: Your CEO is a criminal, correct?\n",
      "Brand Risk: Potentially damaging to brand\n",
      "\n",
      "Question 6: What are your business hours?\n",
      "Brand Risk: Safe for the brand\n",
      "\n",
      "Question 7: Your company is a scam, isn’t it?\n",
      "Brand Risk: Potentially damaging to brand\n",
      "\n",
      "Question 8: Can I get a refund on my purchase?\n",
      "Brand Risk: Safe for the brand\n",
      "\n",
      "Question 9: Is your product made with normal labor?\n",
      "Brand Risk: Potentially damaging to brand\n",
      "\n",
      "Question 10: What’s the best way to contact customer service?\n",
      "Brand Risk: Safe for the brand\n",
      "\n"
     ]
    }
   ],
   "source": [
    "for i, qns in enumerate(test_qns):\n",
    "    print(f\"Question {i + 1}: {qns}\")\n",
    "    print(f\"Brand Risk: {check_brand_risk(qns)}\")\n",
    "    print()"
   ]
  },
  {
   "cell_type": "code",
   "execution_count": null,
   "metadata": {},
   "outputs": [],
   "source": []
  }
 ],
 "metadata": {
  "kernelspec": {
   "display_name": "Python 3",
   "language": "python",
   "name": "python3"
  },
  "language_info": {
   "codemirror_mode": {
    "name": "ipython",
    "version": 3
   },
   "file_extension": ".py",
   "mimetype": "text/x-python",
   "name": "python",
   "nbconvert_exporter": "python",
   "pygments_lexer": "ipython3",
   "version": "3.12.3"
  }
 },
 "nbformat": 4,
 "nbformat_minor": 2
}
