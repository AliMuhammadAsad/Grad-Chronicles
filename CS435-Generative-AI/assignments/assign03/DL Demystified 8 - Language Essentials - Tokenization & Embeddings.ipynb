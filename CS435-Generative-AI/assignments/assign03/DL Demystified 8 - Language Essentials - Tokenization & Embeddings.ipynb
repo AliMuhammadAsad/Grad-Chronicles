{
 "cells": [
  {
   "cell_type": "code",
   "execution_count": 1,
   "id": "EK1lVNp6uRkg",
   "metadata": {
    "executionInfo": {
     "elapsed": 342,
     "status": "ok",
     "timestamp": 1737813011173,
     "user": {
      "displayName": "Adnan Masood",
      "userId": "04515194584513400333"
     },
     "user_tz": 300
    },
    "id": "EK1lVNp6uRkg"
   },
   "outputs": [],
   "source": [
    "#################################################################\n",
    "#                                                               #\n",
    "#  CS435 Generative AI: Security, Ethics and Governance         #\n",
    "#                                                               #\n",
    "#  Instructor: Dr. Adnan Masood                                 #\n",
    "#  Contact:    adnanmasood@gmail.com                            #\n",
    "#                                                               #\n",
    "#  Notebook is MIT Licensed                                     #\n",
    "#################################################################\n"
   ]
  },
  {
   "cell_type": "markdown",
   "id": "O9ls_MavuRkh",
   "metadata": {
    "id": "O9ls_MavuRkh"
   },
   "source": [
    "# **Teaching Tokenization, Vectors, and Embeddings in LLMs**\n",
    "\n",
    "\n",
    "---\n",
    "## Introduction\n",
    "This Jupyter Notebook is designed to explain the concepts of **tokenization**, **vectors**, and **embeddings** in large language models (LLMs). We will explore these topics from five levels of detail (from a very simple, intuitive explanation all the way to a PhD-level perspective). We'll also cover the intuition, brief history, relevant mathematical foundations, illustrative examples, code demonstrations, a step-by-step building of the technology from scratch, real-world applications, and a glossary of terms.\n",
    "\n",
    "Please **run each cell** in this notebook sequentially to follow the entire lesson.\n",
    "---"
   ]
  },
  {
   "cell_type": "markdown",
   "id": "U4uR3Ew4uRki",
   "metadata": {
    "id": "U4uR3Ew4uRki"
   },
   "source": [
    "# **1. Building an Intuitive Understanding**\n",
    "\n",
    "- **Tokenization**: Splitting long text into small pieces (like breaking a sentence into words or smaller parts) so that a computer can understand it more easily.\n",
    "- **Vectors**: Numbers in a list that help us describe and compare words and their meanings.\n",
    "- **Embeddings**: Special lists of numbers that capture the meaning of words or sentences so that a computer can understand them better.\n",
    "\n",
    "- **Tokenization**: Cutting sentences into the smallest chunks (tokens). These can be whole words or even parts of words, depending on the method.\n",
    "- **Vectors**: Think of them like coordinates on a map. If you want to show how a word relates to other words, you place it in a space with coordinates (numbers) to find words that are close in meaning.\n",
    "- **Embeddings**: A way of placing words (or text) in a multi-dimensional space. Words with similar meanings end up near each other in this space, helping computers figure out relationships between words.\n",
    "\n",
    "- **Tokenization**: In Natural Language Processing (NLP), tokenization can be **word-based** (split on whitespace), **subword-based** (e.g., Byte Pair Encoding/WordPiece), or **character-based**. This helps handle unknown or complex words.\n",
    "- **Vectors**: Vectors are sequences of numbers representing some property. In NLP, vectors often represent how frequently words appear, or how they might cluster in meaning.\n",
    "- **Embeddings**: Vector representations learned by neural networks. They reduce high-dimensional text data into smaller, more meaningful representations. Popular methods include **Word2Vec**, **GloVe**, and **Transformer-based embeddings** (e.g., from BERT or GPT).\n",
    "\n",
    "- **Tokenization**: Advanced tokenization strategies use subword tokenizers (like Byte Pair Encoding in GPT or WordPiece in BERT) that allow efficient handling of rare words or new words (\"unseen tokens\"). This avoids issues like large vocabulary sizes.\n",
    "- **Vectors**: Vectors in NLP can be dense (like embeddings) or sparse (like TF-IDF). Dense embeddings capture semantic relationships, while sparse vectors capture raw frequency-based relationships.\n",
    "- **Embeddings**: They are learned by optimizing an objective that places words (or tokens, subwords, sentences) with similar contexts close together in the embedding space. Contextual embeddings (BERT, GPT, etc.) also consider neighboring words, capturing polysemy (words with multiple meanings) more effectively.\n",
    "\n",
    "- **Tokenization**: Strategies are informed by information theory (maximizing token coverage while minimizing the total vocabulary). Byte-level BPE or SentencePiece are typical for large-scale LLMs. The design affects downstream performance on tasks.\n",
    "- **Vectors & Embeddings**:\n",
    "  - Embeddings can be static (Word2Vec) or contextual (BERT, GPT). Contextual embeddings incorporate attention mechanisms that learn dynamic representations based on the entire sentence.\n",
    "  - Mathematical foundation often involves matrix factorization (GloVe) or neural predictive tasks (Word2Vec skip-gram, CBOW). Transformers rely on self-attention layers and multi-head attention.\n",
    "  - Substantial lines of research focus on embedding interpretability, debiasing, and generalization in multi-lingual or multimodal spaces.\n",
    "\n",
    "---"
   ]
  },
  {
   "cell_type": "markdown",
   "id": "MPsReFq2uRki",
   "metadata": {
    "id": "MPsReFq2uRki"
   },
   "source": [
    "# **2. Intuition Behind Tokenization, Vectors, and Embeddings**\n",
    "- **Tokenization**: Imagine reading a book one letter at a time (very slow) versus reading a book word by word (faster and more meaningful). Tokenization helps a computer chunk text into manageable pieces that still preserve meaning.\n",
    "- **Vectors**: If you want to measure how similar two words are, you need a way to compare them. By converting them into a list of numbers (a vector), we can compute distances (or similarities) between the vectors.\n",
    "- **Embeddings**: The better the numbers in the vector capture the word’s meaning, the more accurate the computer’s understanding. Embeddings are these carefully learned numbers, making it so that words like “king” and “queen” end up near each other, while “apple” is farther away.\n",
    "\n",
    "---"
   ]
  },
  {
   "cell_type": "markdown",
   "id": "OKfGynXAuRki",
   "metadata": {
    "id": "OKfGynXAuRki"
   },
   "source": [
    "# **3. Brief History & Underlying Technology**\n",
    "- **Early NLP** used simple bag-of-words or TF-IDF vectors (large sparse vectors). These worked but didn’t capture semantic relationships well.\n",
    "- **Word2Vec (2013)** by Mikolov et al. introduced predictive-based embeddings, popularizing the idea that “you shall know a word by the company it keeps.”\n",
    "- **GloVe (2014)** by Stanford researchers used matrix factorization for global word co-occurrences.\n",
    "- **Contextual Embeddings (ELMo, BERT, GPT, Transformers)** overcame the limitation of a single embedding per word by incorporating context using attention.\n",
    "- **Modern LLMs** (e.g., GPT-3, GPT-4, BERT variants) use tokenization with subword approaches plus self-attention to learn highly sophisticated representations.\n",
    "\n",
    "---"
   ]
  },
  {
   "cell_type": "markdown",
   "id": "KiPpbgpnuRki",
   "metadata": {
    "id": "KiPpbgpnuRki"
   },
   "source": [
    "# **4. The Math Behind It**\n",
    "### Word2Vec Skip-Gram Example\n",
    "You try to predict the *context* words given a *target* word. If your target word is $w_t$, and the context words are $w_{t-1}, $w_{t+1}$, etc., then you want:\n",
    "$$\n",
    "P(w_{t-1}, w_{t+1}, ... | w_t)\n",
    "$$\n",
    "\n",
    "We parameterize $w_t$ with vectors (embeddings), say $v_{w_t}$ for the input (target) and $u_{w_c}$ for the output (context). We maximize the log-likelihood:\n",
    "$$\n",
    " \\max \\sum_{t} \\sum_{c \\in \\text{context}(t)} \\log\\, P(w_c | w_t)\n",
    "$$\n",
    "\n",
    "And typically:\n",
    "$$\n",
    " P(w_c | w_t) = \\frac{\\exp(u_{w_c}^T v_{w_t})}{\\sum_{w'} \\exp(u_{w'}^T v_{w_t})}\n",
    "$$\n",
    "\n",
    "When training, we adjust $v_{w_t}$ and $u_{w_c}$ so that words that appear together frequently will have more similar vectors.\n",
    "\n",
    "---"
   ]
  },
  {
   "cell_type": "markdown",
   "id": "1Z-7ldl_uRkj",
   "metadata": {
    "id": "1Z-7ldl_uRkj"
   },
   "source": [
    "# **5. Intuitive Example + Example Calculations with Code**\n",
    "We'll do a small demonstration of how to turn words into vectors using a simple approach with Python.\n",
    "\n",
    "### Illustrative Example with Simple Counting\n",
    "- **Words**: [\"cat\", \"dog\", \"banana\"]\n",
    "- We'll create a simple **co-occurrence** matrix: how many times does each word appear near each other?\n",
    "  - Suppose “cat” and “dog” appear together 2 times\n",
    "  - “cat” and “banana” appear together 0 times\n",
    "  - “dog” and “banana” appear together 1 time\n",
    "\n",
    "This is overly simplistic, but let's see how it might look in code.\n"
   ]
  },
  {
   "cell_type": "code",
   "execution_count": 2,
   "id": "c_LsqptYuRkj",
   "metadata": {
    "colab": {
     "base_uri": "https://localhost:8080/"
    },
    "execution": {},
    "executionInfo": {
     "elapsed": 205,
     "status": "ok",
     "timestamp": 1737813011626,
     "user": {
      "displayName": "Adnan Masood",
      "userId": "04515194584513400333"
     },
     "user_tz": 300
    },
    "id": "c_LsqptYuRkj",
    "outputId": "2e81bbd0-b7a7-44de-e3fb-ae832df55fd2"
   },
   "outputs": [
    {
     "name": "stdout",
     "output_type": "stream",
     "text": [
      "Co-occurrence Matrix:\n",
      "[[0. 2. 0.]\n",
      " [2. 0. 1.]\n",
      " [0. 1. 0.]]\n"
     ]
    }
   ],
   "source": [
    "# Mock example: constructing a tiny co-occurrence matrix\n",
    "import numpy as np\n",
    "\n",
    "words = [\"cat\", \"dog\", \"banana\"]\n",
    "word_to_index = {word: i for i, word in enumerate(words)}\n",
    "\n",
    "# Suppose these are our co-occurrence counts\n",
    "co_occurrences = {\n",
    "    (\"cat\", \"dog\"): 2,\n",
    "    (\"dog\", \"cat\"): 2,\n",
    "    (\"cat\", \"banana\"): 0,\n",
    "    (\"banana\", \"cat\"): 0,\n",
    "    (\"dog\", \"banana\"): 1,\n",
    "    (\"banana\", \"dog\"): 1\n",
    "}\n",
    "\n",
    "matrix = np.zeros((len(words), len(words)))\n",
    "\n",
    "for (w1, w2), count in co_occurrences.items():\n",
    "    i = word_to_index[w1]\n",
    "    j = word_to_index[w2]\n",
    "    matrix[i,j] = count\n",
    "\n",
    "print(\"Co-occurrence Matrix:\")\n",
    "print(matrix)"
   ]
  },
  {
   "cell_type": "markdown",
   "id": "3aE8YideuRkj",
   "metadata": {
    "id": "3aE8YideuRkj"
   },
   "source": [
    "## Example Calculations (Weights, Bias, etc.)\n",
    "- In a neural network, each **word** is transformed into a **weight vector** (its embedding). We might also have biases for certain layers, but typically in embedding layers, we just store the vectors.\n",
    "- In advanced models, the token embedding is part of a bigger network with attention weights and biases.\n",
    "\n",
    "---"
   ]
  },
  {
   "cell_type": "markdown",
   "id": "2B1M_G7tuRkk",
   "metadata": {
    "id": "2B1M_G7tuRkk"
   },
   "source": [
    "# **6. Step-by-Step Example of Creating a Tiny Embedding from Scratch**\n",
    "We'll do a very simplified version of a **Word2Vec-like** process.\n",
    "\n",
    "### Step-by-Step Outline\n",
    "1. **Collect text**: We'll use a tiny sample corpus.\n",
    "2. **Tokenize**: We'll split it into words.\n",
    "3. **Build vocabulary**: Identify all unique tokens.\n",
    "4. **Initialize embeddings**: Randomly assign each token a small vector of numbers.\n",
    "5. **Define context window**: For each word, look at its neighbors.\n",
    "6. **Predict context**: Train the embeddings by predicting which words appear around the target word.\n",
    "7. **Update embeddings**: Use gradient descent to nudge embeddings for correct predictions.\n",
    "\n",
    "We'll do a miniature version below with a made-up dataset.\n"
   ]
  },
  {
   "cell_type": "code",
   "execution_count": 3,
   "id": "aKAPYPypuRkk",
   "metadata": {
    "colab": {
     "base_uri": "https://localhost:8080/"
    },
    "executionInfo": {
     "elapsed": 6,
     "status": "ok",
     "timestamp": 1737813011626,
     "user": {
      "displayName": "Adnan Masood",
      "userId": "04515194584513400333"
     },
     "user_tz": 300
    },
    "id": "aKAPYPypuRkk",
    "outputId": "1b9dd1f7-1005-4f3b-c820-cba952e6a198"
   },
   "outputs": [
    {
     "name": "stdout",
     "output_type": "stream",
     "text": [
      "Vocabulary: ['love', 'are', 'and', 'dogs', 'i', 'cats', 'friends']\n",
      "Index mapping: {'love': 0, 'are': 1, 'and': 2, 'dogs': 3, 'i': 4, 'cats': 5, 'friends': 6}\n",
      "Initial Embeddings Shape: (7, 5)\n",
      "Context Pairs (target_idx, context_idx):\n",
      "[(4, 0), (4, 3), (0, 4), (0, 3), (3, 4), (3, 0), (4, 0), (4, 5), (0, 4), (0, 5)] ...\n"
     ]
    }
   ],
   "source": [
    "# Step-by-step tiny example of a Word2Vec-like approach\n",
    "import numpy as np\n",
    "import random\n",
    "\n",
    "# 1. Tiny sample corpus\n",
    "corpus = [\n",
    "    \"i love dogs\",\n",
    "    \"i love cats\",\n",
    "    \"cats and dogs are friends\"\n",
    "]\n",
    "\n",
    "# 2. Tokenize\n",
    "tokens = [sentence.split() for sentence in corpus]\n",
    "all_tokens = [word for sent in tokens for word in sent]\n",
    "\n",
    "# 3. Build vocabulary\n",
    "vocab = list(set(all_tokens))\n",
    "vocab_size = len(vocab)\n",
    "word_to_idx = {w:i for i, w in enumerate(vocab)}\n",
    "idx_to_word = {i:w for w,i in word_to_idx.items()}\n",
    "\n",
    "# 4. Initialize embeddings\n",
    "embedding_dim = 5  # let's pick 5 for illustration\n",
    "embeddings = np.random.rand(vocab_size, embedding_dim)\n",
    "\n",
    "# 5. Define context window\n",
    "window_size = 2\n",
    "\n",
    "def get_context_pairs(tokens, window_size):\n",
    "    pairs = []\n",
    "    for sent in tokens:\n",
    "        for i, word in enumerate(sent):\n",
    "            target_idx = word_to_idx[word]\n",
    "            start = max(i - window_size, 0)\n",
    "            end = min(i + window_size + 1, len(sent))\n",
    "            for j in range(start, end):\n",
    "                if j != i:\n",
    "                    context_word = sent[j]\n",
    "                    context_idx = word_to_idx[context_word]\n",
    "                    pairs.append((target_idx, context_idx))\n",
    "    return pairs\n",
    "\n",
    "pairs = get_context_pairs(tokens, window_size)\n",
    "\n",
    "print(\"Vocabulary:\", vocab)\n",
    "print(\"Index mapping:\", word_to_idx)\n",
    "print(\"Initial Embeddings Shape:\", embeddings.shape)\n",
    "print(\"Context Pairs (target_idx, context_idx):\")\n",
    "print(pairs[:10], \"...\")"
   ]
  },
  {
   "cell_type": "markdown",
   "id": "Soxg-gVLuRkk",
   "metadata": {
    "id": "Soxg-gVLuRkk"
   },
   "source": [
    "### 6.1. (Optional) Training Loop\n",
    "A full training loop would do something like:\n",
    "1. For each `(target_idx, context_idx)` pair:\n",
    "2. Compute similarity (e.g., dot product) between `embeddings[target_idx]` and `embeddings[context_idx]`.\n",
    "3. Compare with the desired outcome (we want it to be high if it's a correct pair).\n",
    "4. Backpropagate and update weights.\n",
    "\n",
    "We'll do a toy training iteration with a simplistic approach.\n"
   ]
  },
  {
   "cell_type": "code",
   "execution_count": 4,
   "id": "bOdNK2mguRkk",
   "metadata": {
    "colab": {
     "base_uri": "https://localhost:8080/"
    },
    "executionInfo": {
     "elapsed": 3,
     "status": "ok",
     "timestamp": 1737813011626,
     "user": {
      "displayName": "Adnan Masood",
      "userId": "04515194584513400333"
     },
     "user_tz": 300
    },
    "id": "bOdNK2mguRkk",
    "outputId": "34d1bc42-b236-4866-8252-a397894a8eb9"
   },
   "outputs": [
    {
     "name": "stdout",
     "output_type": "stream",
     "text": [
      "Embeddings after 5 epochs of naive training:\n",
      "[[0.11417021 0.4582453  0.64568259 0.60502272 0.26755421]\n",
      " [0.52797195 0.87401378 0.00862019 0.87433186 0.693066  ]\n",
      " [0.1001251  0.37867523 0.0379155  0.3306993  0.71148489]\n",
      " [0.31325816 0.94913331 0.56535772 0.12093341 0.07828871]\n",
      " [0.32606061 0.81851743 0.07463199 0.42005152 0.40715168]\n",
      " [0.33973293 0.37842223 0.30000209 0.86412263 0.63203676]\n",
      " [0.72580473 0.61781131 0.66487452 0.48082485 0.19365697]]\n"
     ]
    }
   ],
   "source": [
    "import math\n",
    "\n",
    "# We'll define a simple training approach with a dot product + naive gradient\n",
    "learning_rate = 0.01\n",
    "def train_one_epoch(pairs, embeddings, learning_rate=0.01):\n",
    "    for target_idx, context_idx in pairs:\n",
    "        # Dot product\n",
    "        v_target = embeddings[target_idx]\n",
    "        v_context = embeddings[context_idx]\n",
    "\n",
    "        # For simplicity, let's say we want dot product to be close to 1 for real pairs\n",
    "        # error = 1 - (v_target dot v_context)\n",
    "        dot = np.dot(v_target, v_context)\n",
    "        error = 1.0 - dot\n",
    "\n",
    "        # gradient wrt v_target = -error * v_context\n",
    "        grad_target = -error * v_context\n",
    "        grad_context = -error * v_target\n",
    "\n",
    "        # update embeddings\n",
    "        embeddings[target_idx] -= learning_rate * grad_target\n",
    "        embeddings[context_idx] -= learning_rate * grad_context\n",
    "\n",
    "for epoch in range(5):\n",
    "    train_one_epoch(pairs, embeddings, learning_rate)\n",
    "\n",
    "print(\"Embeddings after 5 epochs of naive training:\")\n",
    "print(embeddings)"
   ]
  },
  {
   "cell_type": "markdown",
   "id": "oG3hCXPVuRkk",
   "metadata": {
    "id": "oG3hCXPVuRkk"
   },
   "source": [
    "This is a very crude and simplistic version, but it illustrates how embeddings get updated toward a representation where words co-occurring often end up having a higher dot product.\n",
    "\n",
    "---"
   ]
  },
  {
   "cell_type": "markdown",
   "id": "_AEG7LRcuRkk",
   "metadata": {
    "id": "_AEG7LRcuRkk"
   },
   "source": [
    "# **7. What Illustrative Problem Does This Solve?**\n",
    "### Example\n",
    "**Text similarity**: If we can embed sentences, we can measure how similar two sentences are by comparing their vectors. For instance, “I love dogs” and “I like puppies” might have very close embeddings, indicating similar meaning.\n",
    "\n",
    "---\n",
    "# **8. Real-World Problems Solved by This Technology**\n",
    "- **Search/Information Retrieval**: If you type a query, the system can embed the query and find documents with similar embeddings.\n",
    "- **Recommendation Systems**: Embeddings can help match user interests to items.\n",
    "- **Chatbots & Virtual Assistants**: LLMs use embeddings to generate context-aware, coherent responses.\n",
    "\n",
    "---"
   ]
  },
  {
   "cell_type": "markdown",
   "id": "BeTqZ-NguRkk",
   "metadata": {
    "id": "BeTqZ-NguRkk"
   },
   "source": [
    "# **9. How to Solve a Real-World Problem Using This Tech**\n",
    "1. **Identify your text data** (e.g., a collection of reviews, articles, or queries).\n",
    "2. **Tokenize** using a robust tokenizer (e.g., from Hugging Face).\n",
    "3. **Get embeddings** for each piece of text (words, sentences, paragraphs) using a pre-trained model or train your own.\n",
    "4. **Perform your task** (e.g., retrieve similar documents, cluster text by topic, power a Q&A chatbot) using vector operations like **cosine similarity**.\n",
    "\n",
    "---"
   ]
  },
  {
   "cell_type": "markdown",
   "id": "zDFm9UyVuRkl",
   "metadata": {
    "id": "zDFm9UyVuRkl"
   },
   "source": [
    "# **10. Questions to Illustrate the Use of This Tech**\n",
    "Here are some example questions:\n",
    "1. **How do you measure similarity between two word embeddings?**\n",
    "2. **What happens if a word never appears in training?**\n",
    "3. **How do subword tokenizers solve the out-of-vocabulary problem?**\n",
    "4. **What is the role of attention in creating contextual embeddings?**\n",
    "5. **Can embeddings be updated after deployment?**\n",
    "\n",
    "### Answers and Illustrative Code Examples\n"
   ]
  },
  {
   "cell_type": "markdown",
   "id": "P2-PtGwnuRkl",
   "metadata": {
    "id": "P2-PtGwnuRkl"
   },
   "source": [
    "#### Q1: How do you measure similarity between two word embeddings?\n",
    "- Common approach: **Cosine similarity**. We compute:\n",
    "$$\n",
    " \\text{sim}(\\mathbf{u}, \\mathbf{v}) = \\frac{\\mathbf{u} \\cdot \\mathbf{v}}{\\|\\mathbf{u}\\|\\,\\|\\mathbf{v}\\|}\n",
    "$$\n"
   ]
  },
  {
   "cell_type": "code",
   "execution_count": 5,
   "id": "NAZntDj-uRkl",
   "metadata": {
    "colab": {
     "base_uri": "https://localhost:8080/"
    },
    "executionInfo": {
     "elapsed": 2,
     "status": "ok",
     "timestamp": 1737813011626,
     "user": {
      "displayName": "Adnan Masood",
      "userId": "04515194584513400333"
     },
     "user_tz": 300
    },
    "id": "NAZntDj-uRkl",
    "outputId": "0d6416e6-175d-4db9-c1f9-b5788a44c92f"
   },
   "outputs": [
    {
     "name": "stdout",
     "output_type": "stream",
     "text": [
      "Cosine similarity between 'i' and 'love': 0.7483117703055256\n"
     ]
    }
   ],
   "source": [
    "# Example: Cosine similarity\n",
    "def cosine_similarity(u, v):\n",
    "    return np.dot(u, v) / (np.linalg.norm(u)*np.linalg.norm(v) + 1e-7)\n",
    "\n",
    "# Let's compare 'i' and 'love' from our toy embeddings (if they exist)\n",
    "if \"i\" in vocab and \"love\" in vocab:\n",
    "    i_embed = embeddings[word_to_idx[\"i\"]]\n",
    "    love_embed = embeddings[word_to_idx[\"love\"]]\n",
    "    sim = cosine_similarity(i_embed, love_embed)\n",
    "    print(\"Cosine similarity between 'i' and 'love':\", sim)\n",
    "else:\n",
    "    print(\"'i' or 'love' not in vocab!\")"
   ]
  },
  {
   "cell_type": "markdown",
   "id": "nyr1VRYuuRkl",
   "metadata": {
    "id": "nyr1VRYuuRkl"
   },
   "source": [
    "#### Q2: What happens if a word never appears in training?\n",
    "- If a word (token) never appears, the model can’t learn an embedding directly. **Out-of-vocabulary** words can be handled with **subword tokenizers** or a special \"unknown\" token embedding.\n",
    "\n",
    "#### Q3: How do subword tokenizers solve the out-of-vocabulary problem?\n",
    "- They break a rare word into **subword units**, so even if the entire word is unseen, the pieces likely appear in training.\n",
    "\n",
    "#### Q4: What is the role of attention in creating contextual embeddings?\n",
    "- **Attention** weighs how important each token is to every other token in a sentence, leading to embeddings that reflect the context. Words are interpreted differently depending on surrounding words.\n",
    "\n",
    "#### Q5: Can embeddings be updated after deployment?\n",
    "- Yes. **Continual learning** or further fine-tuning can update embeddings if the model architecture/framework supports it.\n",
    "\n",
    "---"
   ]
  },
  {
   "cell_type": "markdown",
   "id": "Aga9pTaTuRkl",
   "metadata": {
    "id": "Aga9pTaTuRkl"
   },
   "source": [
    "# **11. A Sample Exercise**\n",
    "Below is a code skeleton for students to complete. We will generate embeddings using a **HuggingFace** Transformer model (like DistilBERT) to see how it works in practice. You will fill in the missing parts (marked as `TODO`).\n"
   ]
  },
  {
   "cell_type": "code",
   "execution_count": 6,
   "id": "sOstMJXnuRkl",
   "metadata": {
    "colab": {
     "base_uri": "https://localhost:8080/",
     "height": 443
    },
    "executionInfo": {
     "elapsed": 29667,
     "status": "error",
     "timestamp": 1737813041292,
     "user": {
      "displayName": "Adnan Masood",
      "userId": "04515194584513400333"
     },
     "user_tz": 300
    },
    "id": "sOstMJXnuRkl",
    "outputId": "54c60385-3f2b-41d2-a03f-95fc09a65b22"
   },
   "outputs": [
    {
     "data": {
      "application/vnd.jupyter.widget-view+json": {
       "model_id": "50611d67a92f47dda8405d2db68b399f",
       "version_major": 2,
       "version_minor": 0
      },
      "text/plain": [
       "tokenizer_config.json:   0%|          | 0.00/48.0 [00:00<?, ?B/s]"
      ]
     },
     "metadata": {},
     "output_type": "display_data"
    },
    {
     "data": {
      "application/vnd.jupyter.widget-view+json": {
       "model_id": "7e0d6bb22d5b495daab2aa39165983cb",
       "version_major": 2,
       "version_minor": 0
      },
      "text/plain": [
       "config.json:   0%|          | 0.00/483 [00:00<?, ?B/s]"
      ]
     },
     "metadata": {},
     "output_type": "display_data"
    },
    {
     "data": {
      "application/vnd.jupyter.widget-view+json": {
       "model_id": "f8b241e960be4b758f5d88abfba0d339",
       "version_major": 2,
       "version_minor": 0
      },
      "text/plain": [
       "vocab.txt:   0%|          | 0.00/232k [00:00<?, ?B/s]"
      ]
     },
     "metadata": {},
     "output_type": "display_data"
    },
    {
     "data": {
      "application/vnd.jupyter.widget-view+json": {
       "model_id": "5e0f3bb0a0a548ba8a208a2c8e81bcb7",
       "version_major": 2,
       "version_minor": 0
      },
      "text/plain": [
       "tokenizer.json:   0%|          | 0.00/466k [00:00<?, ?B/s]"
      ]
     },
     "metadata": {},
     "output_type": "display_data"
    },
    {
     "name": "stderr",
     "output_type": "stream",
     "text": [
      "2025-01-28 18:18:12.071138: E external/local_xla/xla/stream_executor/cuda/cuda_fft.cc:477] Unable to register cuFFT factory: Attempting to register factory for plugin cuFFT when one has already been registered\n",
      "WARNING: All log messages before absl::InitializeLog() is called are written to STDERR\n",
      "E0000 00:00:1738070292.094561   24560 cuda_dnn.cc:8310] Unable to register cuDNN factory: Attempting to register factory for plugin cuDNN when one has already been registered\n",
      "E0000 00:00:1738070292.101114   24560 cuda_blas.cc:1418] Unable to register cuBLAS factory: Attempting to register factory for plugin cuBLAS when one has already been registered\n",
      "2025-01-28 18:18:12.123724: I tensorflow/core/platform/cpu_feature_guard.cc:210] This TensorFlow binary is optimized to use available CPU instructions in performance-critical operations.\n",
      "To enable the following instructions: AVX2 FMA, in other operations, rebuild TensorFlow with the appropriate compiler flags.\n"
     ]
    },
    {
     "data": {
      "application/vnd.jupyter.widget-view+json": {
       "model_id": "55cf95b007594a9097f07ef86e4ef4a5",
       "version_major": 2,
       "version_minor": 0
      },
      "text/plain": [
       "model.safetensors:   0%|          | 0.00/268M [00:00<?, ?B/s]"
      ]
     },
     "metadata": {},
     "output_type": "display_data"
    },
    {
     "name": "stdout",
     "output_type": "stream",
     "text": [
      "Sentence: TODO: ADD A SENTENCE\n",
      "Embedding (first 5 values): tensor([-0.0258, -0.2476, -0.1363, -0.0953,  0.1093])\n",
      "Sentence: Blah blah blah\n",
      "Embedding (first 5 values): tensor([ 0.7752,  0.2569,  0.6226, -0.0606, -0.0516])\n",
      "Sentence: Another sentence\n",
      "Embedding (first 5 values): tensor([ 0.2550, -0.2537, -0.1267,  0.0377, -0.0992])\n",
      "Sentence: Yet another sentence\n",
      "Embedding (first 5 values): tensor([ 0.2824, -0.1910,  0.0803, -0.0420, -0.1538])\n",
      "Sentence: If I could save time in a bottle, the first thing that I'd like to do\n",
      "Embedding (first 5 values): tensor([ 0.1773,  0.1798, -0.0224, -0.0708,  0.1748])\n",
      "Sentence: Is to save every day 'til eternity passes away\n",
      "Embedding (first 5 values): tensor([ 0.3206,  0.0039,  0.5546, -0.1785,  0.2097])\n",
      "Sentence: Just to spend them with you\n",
      "Embedding (first 5 values): tensor([ 0.4350,  0.0317,  0.2756,  0.2262, -0.0903])\n",
      "Sentence: If I could make days last forever\n",
      "Embedding (first 5 values): tensor([ 0.4160, -0.0802,  0.2953,  0.0403,  0.1124])\n",
      "Sentence: If words could make wishes come true\n",
      "Embedding (first 5 values): tensor([ 0.2862,  0.1536,  0.2493, -0.0520,  0.2314])\n",
      "Sentence: I'd save every day like a treasure and then\n",
      "Embedding (first 5 values): tensor([0.1760, 0.0145, 0.1922, 0.0597, 0.1483])\n",
      "Sentence: Again, I would spend them with you\n",
      "Embedding (first 5 values): tensor([ 0.4197,  0.1124,  0.5016,  0.1059, -0.0163])\n",
      "Sentence: But there never seems to be enough time\n",
      "Embedding (first 5 values): tensor([ 0.0688, -0.2176,  0.3529,  0.0666,  0.2619])\n",
      "Sentence: To do the things you want to do\n",
      "Embedding (first 5 values): tensor([ 0.2462,  0.1180, -0.0744, -0.0532,  0.3186])\n",
      "Sentence: Once you find them\n",
      "Embedding (first 5 values): tensor([0.0410, 0.0503, 0.3001, 0.0242, 0.2144])\n",
      "Sentence: I've looked around enough to know\n",
      "Embedding (first 5 values): tensor([ 0.4614,  0.0516, -0.1495, -0.0899,  0.1639])\n",
      "Sentence: That you're the one I want to go through time with\n",
      "Embedding (first 5 values): tensor([ 0.1498, -0.0350, -0.0111,  0.1696,  0.1984])\n",
      "Sentence: If I had a box just for wishes\n",
      "Embedding (first 5 values): tensor([ 0.2189,  0.0212,  0.1089, -0.0135, -0.0037])\n",
      "Sentence: And dreams that had never come true\n",
      "Embedding (first 5 values): tensor([ 0.1515, -0.0229,  0.0282,  0.0322,  0.1028])\n",
      "Sentence: The box would be empty\n",
      "Embedding (first 5 values): tensor([ 0.0753, -0.1210,  0.1402,  0.1551,  0.1176])\n",
      "Sentence: Except for the memory of how\n",
      "Embedding (first 5 values): tensor([-0.3409,  0.2466, -0.0560,  0.0628,  0.0569])\n",
      "Sentence: They were answered by you\n",
      "Embedding (first 5 values): tensor([ 0.2818, -0.0561,  0.1854,  0.0363, -0.1409])\n",
      "Sentence: But there never seems to be enough time\n",
      "Embedding (first 5 values): tensor([ 0.0688, -0.2176,  0.3529,  0.0666,  0.2619])\n",
      "Sentence: To do the things you want to do\n",
      "Embedding (first 5 values): tensor([ 0.2462,  0.1180, -0.0744, -0.0532,  0.3186])\n",
      "Sentence: Once you find them\n",
      "Embedding (first 5 values): tensor([0.0410, 0.0503, 0.3001, 0.0242, 0.2144])\n",
      "Sentence: I've looked around enough to know\n",
      "Embedding (first 5 values): tensor([ 0.4614,  0.0516, -0.1495, -0.0899,  0.1639])\n",
      "Sentence: That you're the one I want to go through time with\n",
      "Embedding (first 5 values): tensor([ 0.1498, -0.0350, -0.0111,  0.1696,  0.1984])\n",
      "Sentence: Till all the seas gang dry, my dear, And the rocks melt with the sun; I will love thee still, my dear, While the sands of life shall run.\n",
      "Embedding (first 5 values): tensor([ 0.1437,  0.3994,  0.4376, -0.1715,  0.3767])\n"
     ]
    }
   ],
   "source": [
    "# TODO code sample\n",
    "## Install Transformers if not available\n",
    "# !pip install transformers sentencepiece --quiet  # Uncomment if needed\n",
    "\n",
    "from transformers import AutoTokenizer, AutoModel\n",
    "import torch\n",
    "\n",
    "# 1. TODO: Choose a pretrained model name, e.g. 'distilbert-base-uncased'\n",
    "model_name = 'distilbert-base-uncased'  # e.g. 'distilbert-base-uncased'\n",
    "\n",
    "# 2. Load tokenizer\n",
    "tokenizer = AutoTokenizer.from_pretrained(model_name)\n",
    "\n",
    "# 3. Load model\n",
    "model = AutoModel.from_pretrained(model_name)\n",
    "model.eval()\n",
    "\n",
    "# 4. TODO: Provide some example sentences\n",
    "sentences = [\n",
    "    # \"I love machine learning.\",\n",
    "    # \"Dogs are awesome pets.\",\n",
    "    # Add your own...\n",
    "    \"TODO: ADD A SENTENCE\",\n",
    "    \"Blah blah blah\",\n",
    "    \"Another sentence\",\n",
    "    \"Yet another sentence\",\n",
    "    \"If I could save time in a bottle, the first thing that I'd like to do\",\n",
    "    \"Is to save every day 'til eternity passes away\",\n",
    "    \"Just to spend them with you\",\n",
    "    \"If I could make days last forever\",\n",
    "    \"If words could make wishes come true\",\n",
    "    \"I'd save every day like a treasure and then\",\n",
    "    \"Again, I would spend them with you\",\n",
    "    \"But there never seems to be enough time\",\n",
    "    \"To do the things you want to do\",\n",
    "    \"Once you find them\",\n",
    "    \"I've looked around enough to know\",\n",
    "    \"That you're the one I want to go through time with\",\n",
    "    \"If I had a box just for wishes\",\n",
    "    \"And dreams that had never come true\",\n",
    "    \"The box would be empty\",\n",
    "    \"Except for the memory of how\",\n",
    "    \"They were answered by you\",\n",
    "    \"But there never seems to be enough time\",\n",
    "    \"To do the things you want to do\",\n",
    "    \"Once you find them\",\n",
    "    \"I've looked around enough to know\",\n",
    "    \"That you're the one I want to go through time with\",\n",
    "    \"Till all the seas gang dry, my dear, And the rocks melt with the sun; I will love thee still, my dear, While the sands of life shall run.\",\n",
    "]\n",
    "\n",
    "for sentence in sentences:\n",
    "    # 5. Tokenize sentence\n",
    "    inputs = tokenizer(sentence, return_tensors='pt')\n",
    "\n",
    "    # 6. Forward pass to get hidden states\n",
    "    with torch.no_grad():\n",
    "        outputs = model(**inputs)\n",
    "\n",
    "    # 7. Get the [CLS] token embedding (for DistilBERT, it's the first hidden state)\n",
    "    # or you can average the token embeddings, etc.\n",
    "    last_hidden_state = outputs.last_hidden_state\n",
    "    # Typically, we might take the embedding of the first token or average:\n",
    "    sentence_embedding = torch.mean(last_hidden_state, dim=1)\n",
    "\n",
    "    print(f\"Sentence: {sentence}\")\n",
    "    print(\"Embedding (first 5 values):\", sentence_embedding[0][:5])"
   ]
  },
  {
   "cell_type": "markdown",
   "id": "X_CHO_lquRkl",
   "metadata": {
    "id": "X_CHO_lquRkl"
   },
   "source": [
    "### Hints\n",
    "1. **`model_name`**: Try `'distilbert-base-uncased'` or `'bert-base-uncased'`.\n",
    "2. **Sentences**: Add a few short sentences that you want to test.\n",
    "3. **Embedding**: Observe how the numbers change for different sentences.\n",
    "\n",
    "---"
   ]
  },
  {
   "cell_type": "markdown",
   "id": "76qsfai-uRkl",
   "metadata": {
    "id": "76qsfai-uRkl"
   },
   "source": [
    "# **12. Glossary**\n",
    "- **Tokenization**: The process of splitting text into tokens (subwords, words, or characters).\n",
    "- **Embedding**: A dense vector that represents a piece of text. Learned during training.\n",
    "- **Vector**: A list/array of numbers. In NLP, used to represent words/documents in numeric form.\n",
    "- **Context Window**: The set of neighboring words around a target word.\n",
    "- **Word2Vec**: Early neural embedding method (Mikolov et al.).\n",
    "- **GloVe**: Global Vectors for Word Representation (Stanford). Uses matrix factorization of co-occurrences.\n",
    "- **Attention**: A mechanism (esp. in Transformers) that helps the model weigh how important each token is with respect to others.\n",
    "- **Transformer**: A neural network architecture using self-attention. BERT, GPT, etc. are based on Transformers.\n",
    "- **LLM (Large Language Model)**: A huge neural model trained on massive text data to understand/generate language.\n",
    "- **Cosine Similarity**: A common measure for how similar two vectors are, based on angle rather than magnitude.\n",
    "- **Out-of-Vocabulary (OOV)**: Words not present in the training set’s vocabulary.\n",
    "- **Subword Tokenizer**: Tokenizes at subword or character level to handle new/rare words effectively.\n",
    "- **[CLS] Token**: A special token used by BERT-like models, often used as a representation for the entire sequence.\n",
    "\n",
    "---\n",
    "## **End of Notebook**\n",
    "Congratulations! You now have an understanding of how tokenization, vectors, and embeddings work in LLMs, from basic concepts to advanced details. Feel free to experiment and modify the code in this notebook.\n",
    "\n",
    "For more reading, check out original papers:\n",
    "- [Word2Vec Paper (Mikolov et al., 2013)](https://arxiv.org/abs/1301.3781)\n",
    "- [GloVe Paper (Pennington et al., 2014)](https://nlp.stanford.edu/pubs/glove.pdf)\n",
    "- [Attention is All You Need (Vaswani et al., 2017)](https://arxiv.org/abs/1706.03762)\n",
    "\n",
    "Keep exploring and have fun!"
   ]
  },
  {
   "cell_type": "code",
   "execution_count": 7,
   "id": "k_UcSJ6vuRkl",
   "metadata": {
    "executionInfo": {
     "elapsed": 2,
     "status": "aborted",
     "timestamp": 1737813041292,
     "user": {
      "displayName": "Adnan Masood",
      "userId": "04515194584513400333"
     },
     "user_tz": 300
    },
    "id": "k_UcSJ6vuRkl"
   },
   "outputs": [
    {
     "name": "stdout",
     "output_type": "stream",
     "text": [
      "+++ Acknowledgement +++\n",
      "Executed on: 2025-01-28 18:20:31.230523\n",
      "In Google Colab: No\n",
      "System info: Linux 6.8.0-51-generic\n",
      "Node name: alimuhammad-Inspiron-7559\n",
      "MAC address: 20:47:47:74:94:05\n",
      "IP address: 127.0.1.1\n",
      "Signing off, Ali Muhammad Asad\n"
     ]
    }
   ],
   "source": [
    "import os, sys, platform, datetime, uuid, socket\n",
    "\n",
    "def signoff(name=\"Anonymous\"):\n",
    "    colab_check = \"Yes\" if 'google.colab' in sys.modules else \"No\"\n",
    "    mac_addr = ':'.join(format((uuid.getnode() >> i) & 0xff, '02x') for i in reversed(range(0, 48, 8)))\n",
    "    print(\"+++ Acknowledgement +++\")\n",
    "    print(f\"Executed on: {datetime.datetime.now()}\")\n",
    "    print(f\"In Google Colab: {colab_check}\")\n",
    "    print(f\"System info: {platform.system()} {platform.release()}\")\n",
    "    print(f\"Node name: {platform.node()}\")\n",
    "    print(f\"MAC address: {mac_addr}\")\n",
    "    try:\n",
    "        print(f\"IP address: {socket.gethostbyname(socket.gethostname())}\")\n",
    "    except:\n",
    "        print(\"IP address: Unknown\")\n",
    "    print(f\"Signing off, {name}\")\n",
    "\n",
    "signoff(\"Ali Muhammad Asad\")"
   ]
  }
 ],
 "metadata": {
  "colab": {
   "provenance": []
  },
  "kernelspec": {
   "display_name": "Python 3",
   "language": "python",
   "name": "python3"
  },
  "language_info": {
   "codemirror_mode": {
    "name": "ipython",
    "version": 3
   },
   "file_extension": ".py",
   "mimetype": "text/x-python",
   "name": "python",
   "nbconvert_exporter": "python",
   "pygments_lexer": "ipython3",
   "version": "3.12.3"
  }
 },
 "nbformat": 4,
 "nbformat_minor": 5
}
