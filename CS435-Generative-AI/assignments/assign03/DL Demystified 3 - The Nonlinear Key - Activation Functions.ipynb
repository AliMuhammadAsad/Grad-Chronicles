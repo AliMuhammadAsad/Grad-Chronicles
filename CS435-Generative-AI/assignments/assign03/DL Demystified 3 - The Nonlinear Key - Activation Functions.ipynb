{
  "cells": [
    {
      "cell_type": "code",
      "execution_count": 1,
      "id": "sNZwQDup3uCR",
      "metadata": {
        "id": "sNZwQDup3uCR"
      },
      "outputs": [],
      "source": [
        "#################################################################\n",
        "#                                                               #\n",
        "#  CS435 Generative AI: Security, Ethics and Governance         #\n",
        "#                                                               #\n",
        "#  Instructor: Dr. Adnan Masood                                 #\n",
        "#  Contact:    adnanmasood@gmail.com                            #\n",
        "#                                                               #\n",
        "#  Notebook is MIT Licensed                                     #\n",
        "#################################################################\n"
      ]
    },
    {
      "cell_type": "markdown",
      "id": "b9TjJvEV3uCT",
      "metadata": {
        "id": "b9TjJvEV3uCT"
      },
      "source": [
        "# Activation Functions in Neural Networks\n",
        "\n",
        "Author: **Dr. Adnan Masood**\n",
        "\n",
        "Welcome to today's lesson on **Activation Functions** in Neural Networks. We'll explore the concept at multiple levels of depth, from a young learner's perspective to a PhD researcher's viewpoint.\n",
        "\n",
        "## Table of Contents\n",
        "1. [Building an Intuitive Understanding](#building-an-intuitive-understanding)\n",
        "2. [Intuition Behind the Technology](#intuition)\n",
        "3. [Brief History and Underlying Tech](#history)\n",
        "4. [Math Behind It](#math-behind-it)\n",
        "5. [Illustrative Example with Code](#example)\n",
        "6. [Example Calculations (weights, bias, etc.)](#example-calculations)\n",
        "7. [Step-by-Step Example from Scratch](#step-by-step)\n",
        "8. [Illustrative Problem It Solves](#illustrative-problem)\n",
        "9. [Real-World Problem It Solves](#real-world)\n",
        "10. [Questions to Ponder](#questions-ponder)\n",
        "11. [Answers & Code Examples](#answers-code)\n",
        "12. [A Sample Exercise](#a-sample-exercise)\n",
        "13. [Glossary](#glossary)\n"
      ]
    },
    {
      "cell_type": "markdown",
      "id": "building-an-intuitive-understanding",
      "metadata": {
        "id": "building-an-intuitive-understanding"
      },
      "source": [
        "## 1. Building an Intuitive Understanding\n",
        "\n",
        "- **What is an Activation Function?** It's like a special switch in a computer that decides if a message is strong enough to pass along or stay quiet.\n",
        "- **Why use it?** Without it, the computer (or neural net) would just do the same thing all the time and never learn anything interesting.\n",
        "\n",
        "- **What is an Activation Function?** An activation function helps a neuron decide whether it should \"fire\" (send a signal) or not, based on the input it receives.\n",
        "- **Why use it?** It introduces non-linearity so that our networks can learn and represent complex data, instead of just straight lines.\n",
        "\n",
        "- **Formal Definition**: A function $ f(\\cdot) $ that transforms the summed weighted input from a neuron into a value that determines whether the neuron should be active.\n",
        "- **Purpose**: Ensures the neural network can approximate complex functions (non-linear boundaries, complicated patterns) in classification, regression, etc.\n",
        "\n",
        "- **Key Detail**: Activation functions like ReLU (Rectified Linear Unit), Sigmoid, Tanh, and others each have pros and cons regarding speed of convergence, gradient propagation (avoiding the vanishing gradient problem), and representational power.\n",
        "- **Mathematical Importance**: Activation functions endow neural networks with universal function approximation capabilities. The chain rule during backpropagation relies heavily on the choice of activation.\n",
        "\n",
        "- **Advanced Perspective**: Investigating activation functions leads us into theoretical analysis of non-linear manifolds, optimization landscapes, and convergence rates. Novel activations (e.g., Swish, Mish, GELU) are actively researched to improve training stability and generalization.\n",
        "- **Research Frontier**: The interplay between activation functions, architecture depth, and optimization strategies shapes the frontiers of deep learning theory.\n"
      ]
    },
    {
      "cell_type": "markdown",
      "id": "intuition",
      "metadata": {
        "id": "intuition"
      },
      "source": [
        "## 2. Intuition Behind the Technology\n",
        "Think of a neuron as a tiny decision-maker. It takes inputs, mixes them up (weighted sum + bias), and then passes that sum through an activation function which decides \"Yes, let's pass this on\" or \"No, let's keep this small.\" This is how networks learn complex patterns instead of just linear relationships.\n"
      ]
    },
    {
      "cell_type": "markdown",
      "id": "history",
      "metadata": {
        "id": "history"
      },
      "source": [
        "## 3. Brief History and Underlying Tech\n",
        "- **Early Days**: The **perceptron** (1950s-1960s) used a step function as its activation (hard threshold).\n",
        "- **Multilayer Perceptrons (1980s)**: Sigmoid and Tanh functions were popular because they are smooth and differentiable.\n",
        "- **Deep Learning Era (2000s)**: ReLU (Rectified Linear Unit) became a go-to for faster training and better gradient flow.\n",
        "- **Modern Times**: Advanced functions like **Leaky ReLU**, **ELU**, **Swish**, and **GELU** offer continuous improvements in performance and convergence.\n",
        "\n",
        "The underlying tech is straightforward conceptually: a function that introduces non-linearity and is differentiable so it can be used in gradient-based optimization.\n"
      ]
    },
    {
      "cell_type": "markdown",
      "id": "math-behind-it",
      "metadata": {
        "id": "math-behind-it"
      },
      "source": [
        "## 4. Math Behind It\n",
        "\n",
        "Let's consider some common activation functions:\n",
        "1. **Sigmoid**: $\n",
        "\\sigma(x) = \\frac{1}{1 + e^{-x}}.\n",
        "$\n",
        "   - Output range: (0, 1).\n",
        "   - Good for probabilities.\n",
        "\n",
        "2. **Tanh**: $\n",
        "\\tanh(x) = \\frac{e^x - e^{-x}}{e^x + e^{-x}}.\n",
        "$\n",
        "   - Output range: (-1, 1).\n",
        "   - Zero-centered.\n",
        "\n",
        "3. **ReLU** (Rectified Linear Unit): $\n",
        "ReLU(x) = \\max(0, x).\n",
        "$\n",
        "   - Output range: [0, ∞).\n",
        "   - Speeds up training but can \"die\" if x<0 for all data.\n",
        "\n",
        "4. **Leaky ReLU**:\n",
        "$$\n",
        "LeakyReLU(x) = \\begin{cases}\n",
        " x, & x\\ge0 \\\\\n",
        " \\alpha x, & x<0\n",
        "\\end{cases}\n",
        "$$\n",
        "   - Introduces a small slope for negative values to avoid dead neurons.\n",
        "\n",
        "5. **Softmax**: $\n",
        "softmax(x_i) = \\frac{e^{x_i}}{\\sum_j e^{x_j}}.\n",
        "$\n",
        "   - Used in multi-class classification to convert raw scores to a probability distribution.\n"
      ]
    },
    {
      "cell_type": "markdown",
      "id": "example",
      "metadata": {
        "id": "example"
      },
      "source": [
        "## 5. Illustrative Example with Code\n",
        "Below, we'll plot some of these activation functions to visualize how they look. We'll use Python with `matplotlib` to show them.\n"
      ]
    },
    {
      "cell_type": "code",
      "execution_count": 2,
      "id": "cArjqVQW3uCV",
      "metadata": {
        "colab": {
          "base_uri": "https://localhost:8080/",
          "height": 699
        },
        "id": "cArjqVQW3uCV",
        "outputId": "555684a8-5385-45ea-c967-67eb3d88a36d"
      },
      "outputs": [
        {
          "output_type": "display_data",
          "data": {
            "text/plain": [
              "<Figure size 1200x800 with 1 Axes>"
            ],
            "image/png": "[encoded data removed]"
          },
          "metadata": {}
        }
      ],
      "source": [
        "import numpy as np\n",
        "import matplotlib.pyplot as plt\n",
        "\n",
        "x = np.linspace(-5, 5, 200)\n",
        "\n",
        "# Sigmoid\n",
        "sigmoid = 1 / (1 + np.exp(-x))\n",
        "\n",
        "# Tanh\n",
        "tanh = np.tanh(x)\n",
        "\n",
        "# ReLU\n",
        "relu = np.maximum(0, x)\n",
        "\n",
        "# Leaky ReLU\n",
        "alpha = 0.1\n",
        "leaky_relu = np.where(x >= 0, x, alpha*x)\n",
        "\n",
        "plt.figure(figsize=(12, 8))\n",
        "plt.plot(x, sigmoid, label='Sigmoid')\n",
        "plt.plot(x, tanh, label='Tanh')\n",
        "plt.plot(x, relu, label='ReLU')\n",
        "plt.plot(x, leaky_relu, label='Leaky ReLU')\n",
        "plt.axhline(0, color='black', linewidth=0.5)\n",
        "plt.axvline(0, color='black', linewidth=0.5)\n",
        "plt.ylim([-1.5, 5])\n",
        "plt.xlim([-5, 5])\n",
        "plt.legend()\n",
        "plt.title('Common Activation Functions')\n",
        "plt.show()"
      ]
    },
    {
      "cell_type": "markdown",
      "id": "example-calculations",
      "metadata": {
        "id": "example-calculations"
      },
      "source": [
        "## 6. Example Calculations\n",
        "\n",
        "### Weights, Bias, and Activation\n",
        "For a single neuron:\n",
        "$$ z = w_1 x_1 + w_2 x_2 + ... + w_n x_n + b $$\n",
        "where $ w_i $ are the weights, $ x_i $ are inputs, and $ b $ is the bias.\n",
        "\n",
        "Then we apply an activation function $ f(z) $. For example, if $ f $ is ReLU:\n",
        "$$\n",
        "f(z) = \\max(0, z).\n",
        "$$\n",
        "\n",
        "### Example Calculation\n",
        "- Suppose inputs are $ x_1 = 2, x_2 = -1 $.\n",
        "- Suppose weights are $ w_1 = 0.5, w_2 = 1 $, and bias $ b = -0.5 $.\n",
        "- Then: $ z = (0.5)(2) + (1)(-1) + (-0.5) = 1 -1 -0.5 = -0.5 $.\n",
        "- ReLU($-0.5$) = $ \\max(0, -0.5) = 0 $. The neuron output is 0.\n"
      ]
    },
    {
      "cell_type": "markdown",
      "id": "step-by-step",
      "metadata": {
        "id": "step-by-step"
      },
      "source": [
        "## 7. Step-by-Step Example from Scratch\n",
        "\n",
        "Let's make a tiny neural network **manually** (with code) to see how activation functions come into play.\n",
        "\n",
        "1. We'll define a single-layer neural network with 2 inputs and 1 output.\n",
        "2. We'll apply ReLU as the activation.\n",
        "3. We'll do a forward pass.\n",
        "4. We'll do a simple dummy backprop pass (just for demonstration).\n"
      ]
    },
    {
      "cell_type": "code",
      "execution_count": 3,
      "id": "uzHDe4Cc3uCV",
      "metadata": {
        "colab": {
          "base_uri": "https://localhost:8080/"
        },
        "id": "uzHDe4Cc3uCV",
        "outputId": "17a55098-8b47-4b07-a460-6f2b8a7f668c"
      },
      "outputs": [
        {
          "output_type": "stream",
          "name": "stdout",
          "text": [
            "Weights: [ 0.49671415 -0.1382643 ]\n",
            "Bias: 0.6476885381006925\n",
            "Input: [ 0.5 -1.2]\n",
            "Output after ReLU: 1.0619627760117303\n"
          ]
        }
      ],
      "source": [
        "import numpy as np\n",
        "\n",
        "# 1. Initialize random weights and bias\n",
        "np.random.seed(42)\n",
        "w = np.random.randn(2)  # for 2 inputs\n",
        "b = np.random.randn()   # single bias\n",
        "\n",
        "def relu(x):\n",
        "    return np.maximum(0, x)\n",
        "\n",
        "def forward_pass(x):\n",
        "    # x is a numpy array of shape (2,)\n",
        "    z = np.dot(w, x) + b\n",
        "    return relu(z)\n",
        "\n",
        "# Example input\n",
        "x_input = np.array([0.5, -1.2])\n",
        "output = forward_pass(x_input)\n",
        "print(f\"Weights: {w}\")\n",
        "print(f\"Bias: {b}\")\n",
        "print(f\"Input: {x_input}\")\n",
        "print(f\"Output after ReLU: {output}\")"
      ]
    },
    {
      "cell_type": "markdown",
      "id": "illustrative-problem",
      "metadata": {
        "id": "illustrative-problem"
      },
      "source": [
        "## 8. Illustrative Problem It Solves\n",
        "Activation functions help networks learn **non-linear** decision boundaries. For instance, if you're building a classifier to separate images of cats and dogs, a simple linear function wouldn't be enough to capture all the nuances. An activation function, combined with deeper layers, helps the network capture complex patterns in fur texture, shape, color, etc.\n"
      ]
    },
    {
      "cell_type": "markdown",
      "id": "real-world",
      "metadata": {
        "id": "real-world"
      },
      "source": [
        "## 9. Real-World Problem It Solves\n",
        "In **medical image analysis**, activation functions enable neural nets to detect tumors or anomalies, capturing complicated shapes. Without non-linear activation, the model would not accurately identify subtle variations in scans.\n"
      ]
    },
    {
      "cell_type": "markdown",
      "id": "questions-ponder",
      "metadata": {
        "id": "questions-ponder"
      },
      "source": [
        "## 10. Questions to Ponder\n",
        "1. What happens if we remove the activation function?\n",
        "2. How does the shape of the activation function affect learning?\n",
        "3. Why is differentiation important for activation functions?\n",
        "4. Why might we choose ReLU over Sigmoid?\n",
        "5. Are there activations better than ReLU?\n",
        "6. How do we pick an activation function in practice?\n"
      ]
    },
    {
      "cell_type": "markdown",
      "id": "answers-code",
      "metadata": {
        "id": "answers-code"
      },
      "source": [
        "## 11. Answers & Code Examples\n",
        "\n",
        "Below are some brief answers:\n",
        "1. **If we remove the activation function** (i.e., use the identity function), the network becomes a linear model and can't learn complex patterns.\n",
        "2. **Shape affects learning** because it influences how gradients flow back through the network. Steeper slopes might learn faster but can also lead to instability.\n",
        "3. **Differentiation is crucial** because we need to compute gradients during backpropagation to update weights.\n",
        "4. **ReLU vs Sigmoid**: ReLU mitigates the vanishing gradient problem and often trains faster. Sigmoid saturates for large positive/negative inputs, causing tiny gradients.\n",
        "5. **Better than ReLU?** Some argue that leaky ReLU, ELU, or Swish can be better in certain applications, but ReLU remains a strong default.\n",
        "6. **Picking an activation** usually depends on the task, network depth, and empirical experiments. ReLU-like activations are common for hidden layers; Sigmoid or Softmax for output layers (depending on the problem).\n"
      ]
    },
    {
      "cell_type": "markdown",
      "id": "a-sample-exercise",
      "metadata": {
        "id": "a-sample-exercise"
      },
      "source": [
        "## 12. A Sample Exercise\n",
        "Below is a small snippet to train a simple neural network with TensorFlow/Keras on a dummy dataset. Fill in the TODO items to complete the code.\n"
      ]
    },
    {
      "cell_type": "code",
      "execution_count": 8,
      "id": "i2Hi51gu3uCW",
      "metadata": {
        "colab": {
          "base_uri": "https://localhost:8080/"
        },
        "id": "i2Hi51gu3uCW",
        "outputId": "4aa1119c-b554-4228-ff52-109bcfb0ddab"
      },
      "outputs": [
        {
          "output_type": "stream",
          "name": "stdout",
          "text": [
            "Epoch 1/100\n",
            "\u001b[1m25/25\u001b[0m \u001b[32m━━━━━━━━━━━━━━━━━━━━\u001b[0m\u001b[37m\u001b[0m \u001b[1m1s\u001b[0m 2ms/step - accuracy: 0.4404 - loss: 0.7091\n",
            "Epoch 2/100\n",
            "\u001b[1m25/25\u001b[0m \u001b[32m━━━━━━━━━━━━━━━━━━━━\u001b[0m\u001b[37m\u001b[0m \u001b[1m0s\u001b[0m 2ms/step - accuracy: 0.4729 - loss: 0.7015     \n",
            "Epoch 3/100\n",
            "\u001b[1m25/25\u001b[0m \u001b[32m━━━━━━━━━━━━━━━━━━━━\u001b[0m\u001b[37m\u001b[0m \u001b[1m0s\u001b[0m 2ms/step - accuracy: 0.5543 - loss: 0.6933 \n",
            "Epoch 4/100\n",
            "\u001b[1m25/25\u001b[0m \u001b[32m━━━━━━━━━━━━━━━━━━━━\u001b[0m\u001b[37m\u001b[0m \u001b[1m0s\u001b[0m 1ms/step - accuracy: 0.4828 - loss: 0.6996 \n",
            "Epoch 5/100\n",
            "\u001b[1m25/25\u001b[0m \u001b[32m━━━━━━━━━━━━━━━━━━━━\u001b[0m\u001b[37m\u001b[0m \u001b[1m0s\u001b[0m 1ms/step - accuracy: 0.4943 - loss: 0.6922 \n",
            "Epoch 6/100\n",
            "\u001b[1m25/25\u001b[0m \u001b[32m━━━━━━━━━━━━━━━━━━━━\u001b[0m\u001b[37m\u001b[0m \u001b[1m0s\u001b[0m 1ms/step - accuracy: 0.5565 - loss: 0.6872 \n",
            "Epoch 7/100\n",
            "\u001b[1m25/25\u001b[0m \u001b[32m━━━━━━━━━━━━━━━━━━━━\u001b[0m\u001b[37m\u001b[0m \u001b[1m0s\u001b[0m 2ms/step - accuracy: 0.5813 - loss: 0.6847 \n",
            "Epoch 8/100\n",
            "\u001b[1m25/25\u001b[0m \u001b[32m━━━━━━━━━━━━━━━━━━━━\u001b[0m\u001b[37m\u001b[0m \u001b[1m0s\u001b[0m 2ms/step - accuracy: 0.5975 - loss: 0.6787 \n",
            "Epoch 9/100\n",
            "\u001b[1m25/25\u001b[0m \u001b[32m━━━━━━━━━━━━━━━━━━━━\u001b[0m\u001b[37m\u001b[0m \u001b[1m0s\u001b[0m 2ms/step - accuracy: 0.5408 - loss: 0.6847 \n",
            "Epoch 10/100\n",
            "\u001b[1m25/25\u001b[0m \u001b[32m━━━━━━━━━━━━━━━━━━━━\u001b[0m\u001b[37m\u001b[0m \u001b[1m0s\u001b[0m 2ms/step - accuracy: 0.7344 - loss: 0.6778  \n",
            "Epoch 11/100\n",
            "\u001b[1m25/25\u001b[0m \u001b[32m━━━━━━━━━━━━━━━━━━━━\u001b[0m\u001b[37m\u001b[0m \u001b[1m0s\u001b[0m 2ms/step - accuracy: 0.6723 - loss: 0.6795 \n",
            "Epoch 12/100\n",
            "\u001b[1m25/25\u001b[0m \u001b[32m━━━━━━━━━━━━━━━━━━━━\u001b[0m\u001b[37m\u001b[0m \u001b[1m0s\u001b[0m 2ms/step - accuracy: 0.7800 - loss: 0.6683 \n",
            "Epoch 13/100\n",
            "\u001b[1m25/25\u001b[0m \u001b[32m━━━━━━━━━━━━━━━━━━━━\u001b[0m\u001b[37m\u001b[0m \u001b[1m0s\u001b[0m 2ms/step - accuracy: 0.7455 - loss: 0.6688 \n",
            "Epoch 14/100\n",
            "\u001b[1m25/25\u001b[0m \u001b[32m━━━━━━━━━━━━━━━━━━━━\u001b[0m\u001b[37m\u001b[0m \u001b[1m0s\u001b[0m 2ms/step - accuracy: 0.8008 - loss: 0.6606 \n",
            "Epoch 15/100\n",
            "\u001b[1m25/25\u001b[0m \u001b[32m━━━━━━━━━━━━━━━━━━━━\u001b[0m\u001b[37m\u001b[0m \u001b[1m0s\u001b[0m 2ms/step - accuracy: 0.7667 - loss: 0.6625 \n",
            "Epoch 16/100\n",
            "\u001b[1m25/25\u001b[0m \u001b[32m━━━━━━━━━━━━━━━━━━━━\u001b[0m\u001b[37m\u001b[0m \u001b[1m0s\u001b[0m 2ms/step - accuracy: 0.8253 - loss: 0.6558 \n",
            "Epoch 17/100\n",
            "\u001b[1m25/25\u001b[0m \u001b[32m━━━━━━━━━━━━━━━━━━━━\u001b[0m\u001b[37m\u001b[0m \u001b[1m0s\u001b[0m 2ms/step - accuracy: 0.8080 - loss: 0.6608 \n",
            "Epoch 18/100\n",
            "\u001b[1m25/25\u001b[0m \u001b[32m━━━━━━━━━━━━━━━━━━━━\u001b[0m\u001b[37m\u001b[0m \u001b[1m0s\u001b[0m 3ms/step - accuracy: 0.7825 - loss: 0.6588\n",
            "Epoch 19/100\n",
            "\u001b[1m25/25\u001b[0m \u001b[32m━━━━━━━━━━━━━━━━━━━━\u001b[0m\u001b[37m\u001b[0m \u001b[1m0s\u001b[0m 3ms/step - accuracy: 0.7874 - loss: 0.6531\n",
            "Epoch 20/100\n",
            "\u001b[1m25/25\u001b[0m \u001b[32m━━━━━━━━━━━━━━━━━━━━\u001b[0m\u001b[37m\u001b[0m \u001b[1m0s\u001b[0m 3ms/step - accuracy: 0.8073 - loss: 0.6484\n",
            "Epoch 21/100\n",
            "\u001b[1m25/25\u001b[0m \u001b[32m━━━━━━━━━━━━━━━━━━━━\u001b[0m\u001b[37m\u001b[0m \u001b[1m0s\u001b[0m 2ms/step - accuracy: 0.7831 - loss: 0.6372\n",
            "Epoch 22/100\n",
            "\u001b[1m25/25\u001b[0m \u001b[32m━━━━━━━━━━━━━━━━━━━━\u001b[0m\u001b[37m\u001b[0m \u001b[1m0s\u001b[0m 3ms/step - accuracy: 0.8586 - loss: 0.6301\n",
            "Epoch 23/100\n",
            "\u001b[1m25/25\u001b[0m \u001b[32m━━━━━━━━━━━━━━━━━━━━\u001b[0m\u001b[37m\u001b[0m \u001b[1m0s\u001b[0m 3ms/step - accuracy: 0.8382 - loss: 0.6286\n",
            "Epoch 24/100\n",
            "\u001b[1m25/25\u001b[0m \u001b[32m━━━━━━━━━━━━━━━━━━━━\u001b[0m\u001b[37m\u001b[0m \u001b[1m0s\u001b[0m 3ms/step - accuracy: 0.7705 - loss: 0.6347\n",
            "Epoch 25/100\n",
            "\u001b[1m25/25\u001b[0m \u001b[32m━━━━━━━━━━━━━━━━━━━━\u001b[0m\u001b[37m\u001b[0m \u001b[1m0s\u001b[0m 2ms/step - accuracy: 0.8781 - loss: 0.6176\n",
            "Epoch 26/100\n",
            "\u001b[1m25/25\u001b[0m \u001b[32m━━━━━━━━━━━━━━━━━━━━\u001b[0m\u001b[37m\u001b[0m \u001b[1m0s\u001b[0m 2ms/step - accuracy: 0.8391 - loss: 0.6190\n",
            "Epoch 27/100\n",
            "\u001b[1m25/25\u001b[0m \u001b[32m━━━━━━━━━━━━━━━━━━━━\u001b[0m\u001b[37m\u001b[0m \u001b[1m0s\u001b[0m 2ms/step - accuracy: 0.8494 - loss: 0.6120\n",
            "Epoch 28/100\n",
            "\u001b[1m25/25\u001b[0m \u001b[32m━━━━━━━━━━━━━━━━━━━━\u001b[0m\u001b[37m\u001b[0m \u001b[1m0s\u001b[0m 3ms/step - accuracy: 0.9180 - loss: 0.5986\n",
            "Epoch 29/100\n",
            "\u001b[1m25/25\u001b[0m \u001b[32m━━━━━━━━━━━━━━━━━━━━\u001b[0m\u001b[37m\u001b[0m \u001b[1m0s\u001b[0m 3ms/step - accuracy: 0.8824 - loss: 0.5914\n",
            "Epoch 30/100\n",
            "\u001b[1m25/25\u001b[0m \u001b[32m━━━━━━━━━━━━━━━━━━━━\u001b[0m\u001b[37m\u001b[0m \u001b[1m0s\u001b[0m 2ms/step - accuracy: 0.8480 - loss: 0.5957\n",
            "Epoch 31/100\n",
            "\u001b[1m25/25\u001b[0m \u001b[32m━━━━━━━━━━━━━━━━━━━━\u001b[0m\u001b[37m\u001b[0m \u001b[1m0s\u001b[0m 3ms/step - accuracy: 0.8359 - loss: 0.6113\n",
            "Epoch 32/100\n",
            "\u001b[1m25/25\u001b[0m \u001b[32m━━━━━━━━━━━━━━━━━━━━\u001b[0m\u001b[37m\u001b[0m \u001b[1m0s\u001b[0m 2ms/step - accuracy: 0.8421 - loss: 0.5936 \n",
            "Epoch 33/100\n",
            "\u001b[1m25/25\u001b[0m \u001b[32m━━━━━━━━━━━━━━━━━━━━\u001b[0m\u001b[37m\u001b[0m \u001b[1m0s\u001b[0m 3ms/step - accuracy: 0.8462 - loss: 0.5921\n",
            "Epoch 34/100\n",
            "\u001b[1m25/25\u001b[0m \u001b[32m━━━━━━━━━━━━━━━━━━━━\u001b[0m\u001b[37m\u001b[0m \u001b[1m0s\u001b[0m 2ms/step - accuracy: 0.8055 - loss: 0.5939\n",
            "Epoch 35/100\n",
            "\u001b[1m25/25\u001b[0m \u001b[32m━━━━━━━━━━━━━━━━━━━━\u001b[0m\u001b[37m\u001b[0m \u001b[1m0s\u001b[0m 3ms/step - accuracy: 0.8276 - loss: 0.5958\n",
            "Epoch 36/100\n",
            "\u001b[1m25/25\u001b[0m \u001b[32m━━━━━━━━━━━━━━━━━━━━\u001b[0m\u001b[37m\u001b[0m \u001b[1m0s\u001b[0m 3ms/step - accuracy: 0.8455 - loss: 0.5641\n",
            "Epoch 37/100\n",
            "\u001b[1m25/25\u001b[0m \u001b[32m━━━━━━━━━━━━━━━━━━━━\u001b[0m\u001b[37m\u001b[0m \u001b[1m0s\u001b[0m 3ms/step - accuracy: 0.8515 - loss: 0.5826\n",
            "Epoch 38/100\n",
            "\u001b[1m25/25\u001b[0m \u001b[32m━━━━━━━━━━━━━━━━━━━━\u001b[0m\u001b[37m\u001b[0m \u001b[1m0s\u001b[0m 2ms/step - accuracy: 0.8372 - loss: 0.5742 \n",
            "Epoch 39/100\n",
            "\u001b[1m25/25\u001b[0m \u001b[32m━━━━━━━━━━━━━━━━━━━━\u001b[0m\u001b[37m\u001b[0m \u001b[1m0s\u001b[0m 2ms/step - accuracy: 0.8465 - loss: 0.5602 \n",
            "Epoch 40/100\n",
            "\u001b[1m25/25\u001b[0m \u001b[32m━━━━━━━━━━━━━━━━━━━━\u001b[0m\u001b[37m\u001b[0m \u001b[1m0s\u001b[0m 2ms/step - accuracy: 0.8106 - loss: 0.5598 \n",
            "Epoch 41/100\n",
            "\u001b[1m25/25\u001b[0m \u001b[32m━━━━━━━━━━━━━━━━━━━━\u001b[0m\u001b[37m\u001b[0m \u001b[1m0s\u001b[0m 2ms/step - accuracy: 0.8868 - loss: 0.5565  \n",
            "Epoch 42/100\n",
            "\u001b[1m25/25\u001b[0m \u001b[32m━━━━━━━━━━━━━━━━━━━━\u001b[0m\u001b[37m\u001b[0m \u001b[1m0s\u001b[0m 2ms/step - accuracy: 0.8409 - loss: 0.5439 \n",
            "Epoch 43/100\n",
            "\u001b[1m25/25\u001b[0m \u001b[32m━━━━━━━━━━━━━━━━━━━━\u001b[0m\u001b[37m\u001b[0m \u001b[1m0s\u001b[0m 2ms/step - accuracy: 0.8908 - loss: 0.5381 \n",
            "Epoch 44/100\n",
            "\u001b[1m25/25\u001b[0m \u001b[32m━━━━━━━━━━━━━━━━━━━━\u001b[0m\u001b[37m\u001b[0m \u001b[1m0s\u001b[0m 2ms/step - accuracy: 0.8802 - loss: 0.5299 \n",
            "Epoch 45/100\n",
            "\u001b[1m25/25\u001b[0m \u001b[32m━━━━━━━━━━━━━━━━━━━━\u001b[0m\u001b[37m\u001b[0m \u001b[1m0s\u001b[0m 2ms/step - accuracy: 0.8427 - loss: 0.5550 \n",
            "Epoch 46/100\n",
            "\u001b[1m25/25\u001b[0m \u001b[32m━━━━━━━━━━━━━━━━━━━━\u001b[0m\u001b[37m\u001b[0m \u001b[1m0s\u001b[0m 2ms/step - accuracy: 0.8890 - loss: 0.5256 \n",
            "Epoch 47/100\n",
            "\u001b[1m25/25\u001b[0m \u001b[32m━━━━━━━━━━━━━━━━━━━━\u001b[0m\u001b[37m\u001b[0m \u001b[1m0s\u001b[0m 2ms/step - accuracy: 0.9186 - loss: 0.5036 \n",
            "Epoch 48/100\n",
            "\u001b[1m25/25\u001b[0m \u001b[32m━━━━━━━━━━━━━━━━━━━━\u001b[0m\u001b[37m\u001b[0m \u001b[1m0s\u001b[0m 2ms/step - accuracy: 0.8654 - loss: 0.5024 \n",
            "Epoch 49/100\n",
            "\u001b[1m25/25\u001b[0m \u001b[32m━━━━━━━━━━━━━━━━━━━━\u001b[0m\u001b[37m\u001b[0m \u001b[1m0s\u001b[0m 2ms/step - accuracy: 0.8753 - loss: 0.5027 \n",
            "Epoch 50/100\n",
            "\u001b[1m25/25\u001b[0m \u001b[32m━━━━━━━━━━━━━━━━━━━━\u001b[0m\u001b[37m\u001b[0m \u001b[1m0s\u001b[0m 2ms/step - accuracy: 0.8971 - loss: 0.4965 \n",
            "Epoch 51/100\n",
            "\u001b[1m25/25\u001b[0m \u001b[32m━━━━━━━━━━━━━━━━━━━━\u001b[0m\u001b[37m\u001b[0m \u001b[1m0s\u001b[0m 2ms/step - accuracy: 0.8278 - loss: 0.5215 \n",
            "Epoch 52/100\n",
            "\u001b[1m25/25\u001b[0m \u001b[32m━━━━━━━━━━━━━━━━━━━━\u001b[0m\u001b[37m\u001b[0m \u001b[1m0s\u001b[0m 2ms/step - accuracy: 0.9197 - loss: 0.4810 \n",
            "Epoch 53/100\n",
            "\u001b[1m25/25\u001b[0m \u001b[32m━━━━━━━━━━━━━━━━━━━━\u001b[0m\u001b[37m\u001b[0m \u001b[1m0s\u001b[0m 2ms/step - accuracy: 0.8728 - loss: 0.4994 \n",
            "Epoch 54/100\n",
            "\u001b[1m25/25\u001b[0m \u001b[32m━━━━━━━━━━━━━━━━━━━━\u001b[0m\u001b[37m\u001b[0m \u001b[1m0s\u001b[0m 2ms/step - accuracy: 0.8770 - loss: 0.4678 \n",
            "Epoch 55/100\n",
            "\u001b[1m25/25\u001b[0m \u001b[32m━━━━━━━━━━━━━━━━━━━━\u001b[0m\u001b[37m\u001b[0m \u001b[1m0s\u001b[0m 2ms/step - accuracy: 0.9172 - loss: 0.4898 \n",
            "Epoch 56/100\n",
            "\u001b[1m25/25\u001b[0m \u001b[32m━━━━━━━━━━━━━━━━━━━━\u001b[0m\u001b[37m\u001b[0m \u001b[1m0s\u001b[0m 2ms/step - accuracy: 0.8595 - loss: 0.4833 \n",
            "Epoch 57/100\n",
            "\u001b[1m25/25\u001b[0m \u001b[32m━━━━━━━━━━━━━━━━━━━━\u001b[0m\u001b[37m\u001b[0m \u001b[1m0s\u001b[0m 2ms/step - accuracy: 0.9469 - loss: 0.4404  \n",
            "Epoch 58/100\n",
            "\u001b[1m25/25\u001b[0m \u001b[32m━━━━━━━━━━━━━━━━━━━━\u001b[0m\u001b[37m\u001b[0m \u001b[1m0s\u001b[0m 2ms/step - accuracy: 0.8943 - loss: 0.4762 \n",
            "Epoch 59/100\n",
            "\u001b[1m25/25\u001b[0m \u001b[32m━━━━━━━━━━━━━━━━━━━━\u001b[0m\u001b[37m\u001b[0m \u001b[1m0s\u001b[0m 2ms/step - accuracy: 0.8975 - loss: 0.4653 \n",
            "Epoch 60/100\n",
            "\u001b[1m25/25\u001b[0m \u001b[32m━━━━━━━━━━━━━━━━━━━━\u001b[0m\u001b[37m\u001b[0m \u001b[1m0s\u001b[0m 2ms/step - accuracy: 0.9097 - loss: 0.4429 \n",
            "Epoch 61/100\n",
            "\u001b[1m25/25\u001b[0m \u001b[32m━━━━━━━━━━━━━━━━━━━━\u001b[0m\u001b[37m\u001b[0m \u001b[1m0s\u001b[0m 2ms/step - accuracy: 0.9146 - loss: 0.4554 \n",
            "Epoch 62/100\n",
            "\u001b[1m25/25\u001b[0m \u001b[32m━━━━━━━━━━━━━━━━━━━━\u001b[0m\u001b[37m\u001b[0m \u001b[1m0s\u001b[0m 2ms/step - accuracy: 0.9211 - loss: 0.4471 \n",
            "Epoch 63/100\n",
            "\u001b[1m25/25\u001b[0m \u001b[32m━━━━━━━━━━━━━━━━━━━━\u001b[0m\u001b[37m\u001b[0m \u001b[1m0s\u001b[0m 1ms/step - accuracy: 0.9526 - loss: 0.4168 \n",
            "Epoch 64/100\n",
            "\u001b[1m25/25\u001b[0m \u001b[32m━━━━━━━━━━━━━━━━━━━━\u001b[0m\u001b[37m\u001b[0m \u001b[1m0s\u001b[0m 2ms/step - accuracy: 0.9223 - loss: 0.4309 \n",
            "Epoch 65/100\n",
            "\u001b[1m25/25\u001b[0m \u001b[32m━━━━━━━━━━━━━━━━━━━━\u001b[0m\u001b[37m\u001b[0m \u001b[1m0s\u001b[0m 2ms/step - accuracy: 0.9332 - loss: 0.4113  \n",
            "Epoch 66/100\n",
            "\u001b[1m25/25\u001b[0m \u001b[32m━━━━━━━━━━━━━━━━━━━━\u001b[0m\u001b[37m\u001b[0m \u001b[1m0s\u001b[0m 2ms/step - accuracy: 0.9475 - loss: 0.4097 \n",
            "Epoch 67/100\n",
            "\u001b[1m25/25\u001b[0m \u001b[32m━━━━━━━━━━━━━━━━━━━━\u001b[0m\u001b[37m\u001b[0m \u001b[1m0s\u001b[0m 2ms/step - accuracy: 0.9192 - loss: 0.4058 \n",
            "Epoch 68/100\n",
            "\u001b[1m25/25\u001b[0m \u001b[32m━━━━━━━━━━━━━━━━━━━━\u001b[0m\u001b[37m\u001b[0m \u001b[1m0s\u001b[0m 2ms/step - accuracy: 0.9342 - loss: 0.4231 \n",
            "Epoch 69/100\n",
            "\u001b[1m25/25\u001b[0m \u001b[32m━━━━━━━━━━━━━━━━━━━━\u001b[0m\u001b[37m\u001b[0m \u001b[1m0s\u001b[0m 2ms/step - accuracy: 0.9527 - loss: 0.3985 \n",
            "Epoch 70/100\n",
            "\u001b[1m25/25\u001b[0m \u001b[32m━━━━━━━━━━━━━━━━━━━━\u001b[0m\u001b[37m\u001b[0m \u001b[1m0s\u001b[0m 2ms/step - accuracy: 0.9660 - loss: 0.4087 \n",
            "Epoch 71/100\n",
            "\u001b[1m25/25\u001b[0m \u001b[32m━━━━━━━━━━━━━━━━━━━━\u001b[0m\u001b[37m\u001b[0m \u001b[1m0s\u001b[0m 2ms/step - accuracy: 0.9367 - loss: 0.3943 \n",
            "Epoch 72/100\n",
            "\u001b[1m25/25\u001b[0m \u001b[32m━━━━━━━━━━━━━━━━━━━━\u001b[0m\u001b[37m\u001b[0m \u001b[1m0s\u001b[0m 2ms/step - accuracy: 0.9587 - loss: 0.3902 \n",
            "Epoch 73/100\n",
            "\u001b[1m25/25\u001b[0m \u001b[32m━━━━━━━━━━━━━━━━━━━━\u001b[0m\u001b[37m\u001b[0m \u001b[1m0s\u001b[0m 2ms/step - accuracy: 0.9422 - loss: 0.3691 \n",
            "Epoch 74/100\n",
            "\u001b[1m25/25\u001b[0m \u001b[32m━━━━━━━━━━━━━━━━━━━━\u001b[0m\u001b[37m\u001b[0m \u001b[1m0s\u001b[0m 2ms/step - accuracy: 0.9166 - loss: 0.4064 \n",
            "Epoch 75/100\n",
            "\u001b[1m25/25\u001b[0m \u001b[32m━━━━━━━━━━━━━━━━━━━━\u001b[0m\u001b[37m\u001b[0m \u001b[1m0s\u001b[0m 2ms/step - accuracy: 0.9364 - loss: 0.3930 \n",
            "Epoch 76/100\n",
            "\u001b[1m25/25\u001b[0m \u001b[32m━━━━━━━━━━━━━━━━━━━━\u001b[0m\u001b[37m\u001b[0m \u001b[1m0s\u001b[0m 2ms/step - accuracy: 0.9589 - loss: 0.3723 \n",
            "Epoch 77/100\n",
            "\u001b[1m25/25\u001b[0m \u001b[32m━━━━━━━━━━━━━━━━━━━━\u001b[0m\u001b[37m\u001b[0m \u001b[1m0s\u001b[0m 2ms/step - accuracy: 0.9396 - loss: 0.3640 \n",
            "Epoch 78/100\n",
            "\u001b[1m25/25\u001b[0m \u001b[32m━━━━━━━━━━━━━━━━━━━━\u001b[0m\u001b[37m\u001b[0m \u001b[1m0s\u001b[0m 2ms/step - accuracy: 0.9448 - loss: 0.3960 \n",
            "Epoch 79/100\n",
            "\u001b[1m25/25\u001b[0m \u001b[32m━━━━━━━━━━━━━━━━━━━━\u001b[0m\u001b[37m\u001b[0m \u001b[1m0s\u001b[0m 1ms/step - accuracy: 0.8900 - loss: 0.4197 \n",
            "Epoch 80/100\n",
            "\u001b[1m25/25\u001b[0m \u001b[32m━━━━━━━━━━━━━━━━━━━━\u001b[0m\u001b[37m\u001b[0m \u001b[1m0s\u001b[0m 2ms/step - accuracy: 0.9295 - loss: 0.3759 \n",
            "Epoch 81/100\n",
            "\u001b[1m25/25\u001b[0m \u001b[32m━━━━━━━━━━━━━━━━━━━━\u001b[0m\u001b[37m\u001b[0m \u001b[1m0s\u001b[0m 2ms/step - accuracy: 0.9677 - loss: 0.3442 \n",
            "Epoch 82/100\n",
            "\u001b[1m25/25\u001b[0m \u001b[32m━━━━━━━━━━━━━━━━━━━━\u001b[0m\u001b[37m\u001b[0m \u001b[1m0s\u001b[0m 2ms/step - accuracy: 0.9061 - loss: 0.3811 \n",
            "Epoch 83/100\n",
            "\u001b[1m25/25\u001b[0m \u001b[32m━━━━━━━━━━━━━━━━━━━━\u001b[0m\u001b[37m\u001b[0m \u001b[1m0s\u001b[0m 2ms/step - accuracy: 0.9323 - loss: 0.3580 \n",
            "Epoch 84/100\n",
            "\u001b[1m25/25\u001b[0m \u001b[32m━━━━━━━━━━━━━━━━━━━━\u001b[0m\u001b[37m\u001b[0m \u001b[1m0s\u001b[0m 2ms/step - accuracy: 0.9304 - loss: 0.3565  \n",
            "Epoch 85/100\n",
            "\u001b[1m25/25\u001b[0m \u001b[32m━━━━━━━━━━━━━━━━━━━━\u001b[0m\u001b[37m\u001b[0m \u001b[1m0s\u001b[0m 2ms/step - accuracy: 0.9268 - loss: 0.3384 \n",
            "Epoch 86/100\n",
            "\u001b[1m25/25\u001b[0m \u001b[32m━━━━━━━━━━━━━━━━━━━━\u001b[0m\u001b[37m\u001b[0m \u001b[1m0s\u001b[0m 2ms/step - accuracy: 0.9335 - loss: 0.3480 \n",
            "Epoch 87/100\n",
            "\u001b[1m25/25\u001b[0m \u001b[32m━━━━━━━━━━━━━━━━━━━━\u001b[0m\u001b[37m\u001b[0m \u001b[1m0s\u001b[0m 2ms/step - accuracy: 0.9419 - loss: 0.3336 \n",
            "Epoch 88/100\n",
            "\u001b[1m25/25\u001b[0m \u001b[32m━━━━━━━━━━━━━━━━━━━━\u001b[0m\u001b[37m\u001b[0m \u001b[1m0s\u001b[0m 2ms/step - accuracy: 0.9475 - loss: 0.3258 \n",
            "Epoch 89/100\n",
            "\u001b[1m25/25\u001b[0m \u001b[32m━━━━━━━━━━━━━━━━━━━━\u001b[0m\u001b[37m\u001b[0m \u001b[1m0s\u001b[0m 2ms/step - accuracy: 0.9317 - loss: 0.3476 \n",
            "Epoch 90/100\n",
            "\u001b[1m25/25\u001b[0m \u001b[32m━━━━━━━━━━━━━━━━━━━━\u001b[0m\u001b[37m\u001b[0m \u001b[1m0s\u001b[0m 2ms/step - accuracy: 0.8928 - loss: 0.3581 \n",
            "Epoch 91/100\n",
            "\u001b[1m25/25\u001b[0m \u001b[32m━━━━━━━━━━━━━━━━━━━━\u001b[0m\u001b[37m\u001b[0m \u001b[1m0s\u001b[0m 1ms/step - accuracy: 0.9233 - loss: 0.3193 \n",
            "Epoch 92/100\n",
            "\u001b[1m25/25\u001b[0m \u001b[32m━━━━━━━━━━━━━━━━━━━━\u001b[0m\u001b[37m\u001b[0m \u001b[1m0s\u001b[0m 1ms/step - accuracy: 0.9099 - loss: 0.3354 \n",
            "Epoch 93/100\n",
            "\u001b[1m25/25\u001b[0m \u001b[32m━━━━━━━━━━━━━━━━━━━━\u001b[0m\u001b[37m\u001b[0m \u001b[1m0s\u001b[0m 2ms/step - accuracy: 0.9684 - loss: 0.2919  \n",
            "Epoch 94/100\n",
            "\u001b[1m25/25\u001b[0m \u001b[32m━━━━━━━━━━━━━━━━━━━━\u001b[0m\u001b[37m\u001b[0m \u001b[1m0s\u001b[0m 2ms/step - accuracy: 0.9503 - loss: 0.3023 \n",
            "Epoch 95/100\n",
            "\u001b[1m25/25\u001b[0m \u001b[32m━━━━━━━━━━━━━━━━━━━━\u001b[0m\u001b[37m\u001b[0m \u001b[1m0s\u001b[0m 2ms/step - accuracy: 0.9589 - loss: 0.3174 \n",
            "Epoch 96/100\n",
            "\u001b[1m25/25\u001b[0m \u001b[32m━━━━━━━━━━━━━━━━━━━━\u001b[0m\u001b[37m\u001b[0m \u001b[1m0s\u001b[0m 2ms/step - accuracy: 0.9649 - loss: 0.2901 \n",
            "Epoch 97/100\n",
            "\u001b[1m25/25\u001b[0m \u001b[32m━━━━━━━━━━━━━━━━━━━━\u001b[0m\u001b[37m\u001b[0m \u001b[1m0s\u001b[0m 2ms/step - accuracy: 0.9381 - loss: 0.2937  \n",
            "Epoch 98/100\n",
            "\u001b[1m25/25\u001b[0m \u001b[32m━━━━━━━━━━━━━━━━━━━━\u001b[0m\u001b[37m\u001b[0m \u001b[1m0s\u001b[0m 2ms/step - accuracy: 0.9642 - loss: 0.2933 \n",
            "Epoch 99/100\n",
            "\u001b[1m25/25\u001b[0m \u001b[32m━━━━━━━━━━━━━━━━━━━━\u001b[0m\u001b[37m\u001b[0m \u001b[1m0s\u001b[0m 2ms/step - accuracy: 0.9586 - loss: 0.2555 \n",
            "Epoch 100/100\n",
            "\u001b[1m25/25\u001b[0m \u001b[32m━━━━━━━━━━━━━━━━━━━━\u001b[0m\u001b[37m\u001b[0m \u001b[1m0s\u001b[0m 2ms/step - accuracy: 0.9654 - loss: 0.2967 \n",
            "\u001b[1m4/4\u001b[0m \u001b[32m━━━━━━━━━━━━━━━━━━━━\u001b[0m\u001b[37m\u001b[0m \u001b[1m1s\u001b[0m 85ms/step - accuracy: 0.9416 - loss: 0.2973\n",
            "Training Loss: 0.2948, Training Accuracy: 0.9400\n"
          ]
        }
      ],
      "source": [
        "# TODO: Import the necessary libraries\n",
        "import numpy as np\n",
        "import tensorflow as tf\n",
        "from tensorflow import keras\n",
        "from tensorflow.keras import layers\n",
        "\n",
        "# Create some dummy data\n",
        "np.random.seed(42)\n",
        "X = np.random.rand(100, 2)\n",
        "y = (X[:,0] + X[:,1] > 1).astype(int)  # label = 1 if sum of features > 1\n",
        "\n",
        "# TODO: Define a simple Sequential model with one hidden layer\n",
        "model = keras.Sequential([\n",
        "    layers.Dense(4, activation='relu', input_shape=(2,)),  # TODO: hidden units and activation\n",
        "    layers.Dense(1, activation='sigmoid')                  # TODO: output layer and activation\n",
        "])\n",
        "\n",
        "# TODO: Compile the model with an appropriate loss, optimizer, and metric\n",
        "model.compile(\n",
        "    loss='binary_crossentropy',\n",
        "    optimizer='adam',\n",
        "    metrics=['accuracy']\n",
        ")\n",
        "\n",
        "# TODO: Train the model\n",
        "model.fit(X, y, epochs=100, batch_size=4)\n",
        "\n",
        "# Evaluate\n",
        "loss, acc = model.evaluate(X, y)\n",
        "print(f\"Training Loss: {loss:.4f}, Training Accuracy: {acc:.4f}\")"
      ]
    },
    {
      "cell_type": "markdown",
      "id": "glossary",
      "metadata": {
        "id": "glossary"
      },
      "source": [
        "## 13. Glossary\n",
        "- **Neuron**: Basic unit of a neural network; takes inputs, applies weights, adds bias, and passes result through an activation.\n",
        "- **Weight**: A coefficient for input features.\n",
        "- **Bias**: A constant term added to the weighted inputs.\n",
        "- **Activation Function**: A function applied to the neuron's weighted sum to introduce non-linearity.\n",
        "- **ReLU**: Rectified Linear Unit; $\\max(0, x)$.\n",
        "- **Sigmoid**: A function squashing values between 0 and 1.\n",
        "- **Tanh**: A function squashing values between -1 and 1.\n",
        "- **Softmax**: Converts a vector of values into a probability distribution.\n",
        "- **Vanishing Gradient**: A problem where gradients become very small, slowing or preventing learning.\n",
        "- **Dead Neuron**: A neuron that outputs zero for all inputs (common with ReLU if weights/bias lead to negative inputs).\n"
      ]
    },
    {
      "cell_type": "code",
      "execution_count": 9,
      "id": "lazKBsD83uCW",
      "metadata": {
        "colab": {
          "base_uri": "https://localhost:8080/"
        },
        "id": "lazKBsD83uCW",
        "outputId": "3c47475c-c453-4478-9ee3-959c356a82e5"
      },
      "outputs": [
        {
          "output_type": "stream",
          "name": "stdout",
          "text": [
            "+++ Acknowledgement +++\n",
            "Executed on: 2025-01-28 12:55:18.058367\n",
            "In Google Colab: Yes\n",
            "System info: Linux 6.1.85+\n",
            "Node name: bbf792736785\n",
            "MAC address: 02:42:ac:1c:00:0c\n",
            "IP address: 172.28.0.12\n",
            "Signing off, Ali Muhammad Asad\n"
          ]
        }
      ],
      "source": [
        "import os, sys, platform, datetime, uuid, socket\n",
        "\n",
        "def signoff(name=\"Anonymous\"):\n",
        "    colab_check = \"Yes\" if 'google.colab' in sys.modules else \"No\"\n",
        "    mac_addr = ':'.join(format((uuid.getnode() >> i) & 0xff, '02x') for i in reversed(range(0, 48, 8)))\n",
        "    print(\"+++ Acknowledgement +++\")\n",
        "    print(f\"Executed on: {datetime.datetime.now()}\")\n",
        "    print(f\"In Google Colab: {colab_check}\")\n",
        "    print(f\"System info: {platform.system()} {platform.release()}\")\n",
        "    print(f\"Node name: {platform.node()}\")\n",
        "    print(f\"MAC address: {mac_addr}\")\n",
        "    try:\n",
        "        print(f\"IP address: {socket.gethostbyname(socket.gethostname())}\")\n",
        "    except:\n",
        "        print(\"IP address: Unknown\")\n",
        "    print(f\"Signing off, {name}\")\n",
        "\n",
        "signoff(\"Ali Muhammad Asad\")"
      ]
    }
  ],
  "metadata": {
    "colab": {
      "provenance": [],
      "gpuType": "T4"
    },
    "kernelspec": {
      "display_name": "Python 3",
      "name": "python3"
    },
    "language_info": {
      "codemirror_mode": {
        "name": "ipython",
        "version": 3
      },
      "file_extension": ".py",
      "mimetype": "text/x-python",
      "name": "python",
      "nbconvert_exporter": "python",
      "pygments_lexer": "ipython3",
      "version": "3.12.3"
    },
    "name": "ActivationFunctions.ipynb",
    "accelerator": "GPU"
  },
  "nbformat": 4,
  "nbformat_minor": 5
}