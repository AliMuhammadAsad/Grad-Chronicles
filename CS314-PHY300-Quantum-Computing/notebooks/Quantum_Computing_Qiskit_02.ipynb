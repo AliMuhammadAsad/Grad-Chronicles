{
  "nbformat": 4,
  "nbformat_minor": 0,
  "metadata": {
    "colab": {
      "provenance": []
    },
    "kernelspec": {
      "name": "python3",
      "display_name": "Python 3"
    },
    "language_info": {
      "name": "python"
    }
  },
  "cells": [
    {
      "cell_type": "code",
      "execution_count": null,
      "metadata": {
        "colab": {
          "base_uri": "https://localhost:8080/"
        },
        "id": "KwHenwmUocC4",
        "outputId": "b13d6e20-dabb-4d10-f4bb-c0bc257feb6b"
      },
      "outputs": [
        {
          "output_type": "stream",
          "name": "stdout",
          "text": [
            "Collecting qiskit\n",
            "  Downloading qiskit-1.2.4-cp38-abi3-manylinux_2_17_x86_64.manylinux2014_x86_64.whl.metadata (12 kB)\n",
            "Collecting rustworkx>=0.15.0 (from qiskit)\n",
            "  Downloading rustworkx-0.15.1-cp38-abi3-manylinux_2_17_x86_64.manylinux2014_x86_64.whl.metadata (9.9 kB)\n",
            "Requirement already satisfied: numpy<3,>=1.17 in /usr/local/lib/python3.10/dist-packages (from qiskit) (1.26.4)\n",
            "Requirement already satisfied: scipy>=1.5 in /usr/local/lib/python3.10/dist-packages (from qiskit) (1.13.1)\n",
            "Requirement already satisfied: sympy>=1.3 in /usr/local/lib/python3.10/dist-packages (from qiskit) (1.13.3)\n",
            "Collecting dill>=0.3 (from qiskit)\n",
            "  Downloading dill-0.3.9-py3-none-any.whl.metadata (10 kB)\n",
            "Requirement already satisfied: python-dateutil>=2.8.0 in /usr/local/lib/python3.10/dist-packages (from qiskit) (2.8.2)\n",
            "Collecting stevedore>=3.0.0 (from qiskit)\n",
            "  Downloading stevedore-5.3.0-py3-none-any.whl.metadata (2.3 kB)\n",
            "Requirement already satisfied: typing-extensions in /usr/local/lib/python3.10/dist-packages (from qiskit) (4.12.2)\n",
            "Collecting symengine<0.14,>=0.11 (from qiskit)\n",
            "  Downloading symengine-0.13.0-cp310-cp310-manylinux_2_17_x86_64.manylinux2014_x86_64.whl.metadata (1.2 kB)\n",
            "Requirement already satisfied: six>=1.5 in /usr/local/lib/python3.10/dist-packages (from python-dateutil>=2.8.0->qiskit) (1.16.0)\n",
            "Collecting pbr>=2.0.0 (from stevedore>=3.0.0->qiskit)\n",
            "  Downloading pbr-6.1.0-py2.py3-none-any.whl.metadata (3.4 kB)\n",
            "Requirement already satisfied: mpmath<1.4,>=1.1.0 in /usr/local/lib/python3.10/dist-packages (from sympy>=1.3->qiskit) (1.3.0)\n",
            "Downloading qiskit-1.2.4-cp38-abi3-manylinux_2_17_x86_64.manylinux2014_x86_64.whl (4.8 MB)\n",
            "\u001b[2K   \u001b[90m━━━━━━━━━━━━━━━━━━━━━━━━━━━━━━━━━━━━━━━━\u001b[0m \u001b[32m4.8/4.8 MB\u001b[0m \u001b[31m21.5 MB/s\u001b[0m eta \u001b[36m0:00:00\u001b[0m\n",
            "\u001b[?25hDownloading dill-0.3.9-py3-none-any.whl (119 kB)\n",
            "\u001b[2K   \u001b[90m━━━━━━━━━━━━━━━━━━━━━━━━━━━━━━━━━━━━━━━━\u001b[0m \u001b[32m119.4/119.4 kB\u001b[0m \u001b[31m6.0 MB/s\u001b[0m eta \u001b[36m0:00:00\u001b[0m\n",
            "\u001b[?25hDownloading rustworkx-0.15.1-cp38-abi3-manylinux_2_17_x86_64.manylinux2014_x86_64.whl (2.0 MB)\n",
            "\u001b[2K   \u001b[90m━━━━━━━━━━━━━━━━━━━━━━━━━━━━━━━━━━━━━━━━\u001b[0m \u001b[32m2.0/2.0 MB\u001b[0m \u001b[31m17.0 MB/s\u001b[0m eta \u001b[36m0:00:00\u001b[0m\n",
            "\u001b[?25hDownloading stevedore-5.3.0-py3-none-any.whl (49 kB)\n",
            "\u001b[2K   \u001b[90m━━━━━━━━━━━━━━━━━━━━━━━━━━━━━━━━━━━━━━━━\u001b[0m \u001b[32m49.7/49.7 kB\u001b[0m \u001b[31m966.9 kB/s\u001b[0m eta \u001b[36m0:00:00\u001b[0m\n",
            "\u001b[?25hDownloading symengine-0.13.0-cp310-cp310-manylinux_2_17_x86_64.manylinux2014_x86_64.whl (49.7 MB)\n",
            "\u001b[2K   \u001b[90m━━━━━━━━━━━━━━━━━━━━━━━━━━━━━━━━━━━━━━━━\u001b[0m \u001b[32m49.7/49.7 MB\u001b[0m \u001b[31m9.2 MB/s\u001b[0m eta \u001b[36m0:00:00\u001b[0m\n",
            "\u001b[?25hDownloading pbr-6.1.0-py2.py3-none-any.whl (108 kB)\n",
            "\u001b[2K   \u001b[90m━━━━━━━━━━━━━━━━━━━━━━━━━━━━━━━━━━━━━━━━\u001b[0m \u001b[32m108.5/108.5 kB\u001b[0m \u001b[31m4.5 MB/s\u001b[0m eta \u001b[36m0:00:00\u001b[0m\n",
            "\u001b[?25hInstalling collected packages: symengine, rustworkx, pbr, dill, stevedore, qiskit\n",
            "Successfully installed dill-0.3.9 pbr-6.1.0 qiskit-1.2.4 rustworkx-0.15.1 stevedore-5.3.0 symengine-0.13.0\n"
          ]
        }
      ],
      "source": [
        "pip install qiskit"
      ]
    },
    {
      "cell_type": "code",
      "source": [
        "from qiskit import QuantumCircuit, QuantumRegister, ClassicalRegister\n",
        "from qiskit.primitives import Sampler\n",
        "from qiskit.visualization import plot_histogram"
      ],
      "metadata": {
        "id": "S39TkaVsorFm"
      },
      "execution_count": null,
      "outputs": []
    },
    {
      "cell_type": "code",
      "source": [
        "circuit = QuantumCircuit(1)\n",
        "\n",
        "circuit.h(0)\n",
        "circuit.s(0)\n",
        "circuit.h(0)\n",
        "circuit.t(0)\n",
        "\n",
        "display(circuit.draw())"
      ],
      "metadata": {
        "colab": {
          "base_uri": "https://localhost:8080/",
          "height": 63
        },
        "id": "cUiS23aFouaE",
        "outputId": "c9385e46-afff-4e60-dbda-02c2f607c685"
      },
      "execution_count": null,
      "outputs": [
        {
          "output_type": "display_data",
          "data": {
            "text/plain": [
              "   ┌───┐┌───┐┌───┐┌───┐\n",
              "q: ┤ H ├┤ S ├┤ H ├┤ T ├\n",
              "   └───┘└───┘└───┘└───┘"
            ],
            "text/html": [
              "<pre style=\"word-wrap: normal;white-space: pre;background: #fff0;line-height: 1.1;font-family: &quot;Courier New&quot;,Courier,monospace\">   ┌───┐┌───┐┌───┐┌───┐\n",
              "q: ┤ H ├┤ S ├┤ H ├┤ T ├\n",
              "   └───┘└───┘└───┘└───┘</pre>"
            ]
          },
          "metadata": {}
        }
      ]
    },
    {
      "cell_type": "code",
      "source": [
        "X = QuantumRegister(1, \"X\")\n",
        "circuit = QuantumCircuit(X)\n",
        "\n",
        "circuit.h(X)\n",
        "circuit.s(X)\n",
        "circuit.h(X)\n",
        "circuit.t(X)\n",
        "\n",
        "display(circuit.draw())"
      ],
      "metadata": {
        "colab": {
          "base_uri": "https://localhost:8080/",
          "height": 63
        },
        "id": "mbmIE904o3Hz",
        "outputId": "520fb78a-d332-4893-9528-f52f2a9cb895"
      },
      "execution_count": null,
      "outputs": [
        {
          "output_type": "display_data",
          "data": {
            "text/plain": [
              "   ┌───┐┌───┐┌───┐┌───┐\n",
              "X: ┤ H ├┤ S ├┤ H ├┤ T ├\n",
              "   └───┘└───┘└───┘└───┘"
            ],
            "text/html": [
              "<pre style=\"word-wrap: normal;white-space: pre;background: #fff0;line-height: 1.1;font-family: &quot;Courier New&quot;,Courier,monospace\">   ┌───┐┌───┐┌───┐┌───┐\n",
              "X: ┤ H ├┤ S ├┤ H ├┤ T ├\n",
              "   └───┘└───┘└───┘└───┘</pre>"
            ]
          },
          "metadata": {}
        }
      ]
    },
    {
      "cell_type": "code",
      "source": [
        "X = QuantumRegister(1, \"X\")\n",
        "Y = QuantumRegister(1, \"Y\")\n",
        "A = ClassicalRegister(1, \"A\")\n",
        "B = ClassicalRegister(1, \"B\")\n",
        "\n",
        "circuit = QuantumCircuit(Y, X, B, A)\n",
        "circuit.h(Y)\n",
        "circuit.cx(Y, X)\n",
        "circuit.measure(Y, B)\n",
        "circuit.measure(X, A)\n",
        "\n",
        "display(circuit.draw())"
      ],
      "metadata": {
        "colab": {
          "base_uri": "https://localhost:8080/",
          "height": 156
        },
        "id": "qVdw_O8ipMP8",
        "outputId": "e8305883-9683-40c0-b8f2-28579613da4a"
      },
      "execution_count": null,
      "outputs": [
        {
          "output_type": "display_data",
          "data": {
            "text/plain": [
              "     ┌───┐     ┌─┐   \n",
              "  Y: ┤ H ├──■──┤M├───\n",
              "     └───┘┌─┴─┐└╥┘┌─┐\n",
              "  X: ─────┤ X ├─╫─┤M├\n",
              "          └───┘ ║ └╥┘\n",
              "B: 1/═══════════╩══╬═\n",
              "                0  ║ \n",
              "A: 1/══════════════╩═\n",
              "                   0 "
            ],
            "text/html": [
              "<pre style=\"word-wrap: normal;white-space: pre;background: #fff0;line-height: 1.1;font-family: &quot;Courier New&quot;,Courier,monospace\">     ┌───┐     ┌─┐   \n",
              "  Y: ┤ H ├──■──┤M├───\n",
              "     └───┘┌─┴─┐└╥┘┌─┐\n",
              "  X: ─────┤ X ├─╫─┤M├\n",
              "          └───┘ ║ └╥┘\n",
              "B: 1/═══════════╩══╬═\n",
              "                0  ║ \n",
              "A: 1/══════════════╩═\n",
              "                   0 </pre>"
            ]
          },
          "metadata": {}
        }
      ]
    },
    {
      "cell_type": "code",
      "source": [
        "results = Sampler().run(circuit).result()\n",
        "statistics = results.quasi_dists[0].binary_probabilities()\n",
        "display(plot_histogram(statistics))"
      ],
      "metadata": {
        "colab": {
          "base_uri": "https://localhost:8080/",
          "height": 492
        },
        "id": "3kLmiEoQpYr5",
        "outputId": "c17546e7-d384-4ce2-cdf4-c8542f2daa80"
      },
      "execution_count": null,
      "outputs": [
        {
          "output_type": "stream",
          "name": "stderr",
          "text": [
            "<ipython-input-6-0d2c377f9a9e>:1: DeprecationWarning: The class ``qiskit.primitives.sampler.Sampler`` is deprecated as of qiskit 1.2. It will be removed no earlier than 3 months after the release date. All implementations of the `BaseSamplerV1` interface have been deprecated in favor of their V2 counterparts. The V2 alternative for the `Sampler` class is `StatevectorSampler`.\n",
            "  results = Sampler().run(circuit).result()\n"
          ]
        },
        {
          "output_type": "display_data",
          "data": {
            "text/plain": [
              "<Figure size 640x480 with 1 Axes>"
            ],
            "image/png": "[encoded data removed]"
          },
          "metadata": {}
        }
      ]
    },
    {
      "cell_type": "markdown",
      "source": [
        "## Quantum Teleportation"
      ],
      "metadata": {
        "id": "UtAmqT6hyoCW"
      }
    },
    {
      "cell_type": "code",
      "source": [
        "pip install qiskit_aer"
      ],
      "metadata": {
        "colab": {
          "base_uri": "https://localhost:8080/"
        },
        "id": "0jm8--iuyyaT",
        "outputId": "78bea181-b7d4-4fee-f400-f2decffccab8"
      },
      "execution_count": null,
      "outputs": [
        {
          "output_type": "stream",
          "name": "stdout",
          "text": [
            "Collecting qiskit_aer\n",
            "  Downloading qiskit_aer-0.15.1-cp310-cp310-manylinux_2_17_x86_64.manylinux2014_x86_64.whl.metadata (8.0 kB)\n",
            "Requirement already satisfied: qiskit>=1.1.0 in /usr/local/lib/python3.10/dist-packages (from qiskit_aer) (1.2.4)\n",
            "Requirement already satisfied: numpy>=1.16.3 in /usr/local/lib/python3.10/dist-packages (from qiskit_aer) (1.26.4)\n",
            "Requirement already satisfied: scipy>=1.0 in /usr/local/lib/python3.10/dist-packages (from qiskit_aer) (1.13.1)\n",
            "Requirement already satisfied: psutil>=5 in /usr/local/lib/python3.10/dist-packages (from qiskit_aer) (5.9.5)\n",
            "Requirement already satisfied: rustworkx>=0.15.0 in /usr/local/lib/python3.10/dist-packages (from qiskit>=1.1.0->qiskit_aer) (0.15.1)\n",
            "Requirement already satisfied: sympy>=1.3 in /usr/local/lib/python3.10/dist-packages (from qiskit>=1.1.0->qiskit_aer) (1.13.3)\n",
            "Requirement already satisfied: dill>=0.3 in /usr/local/lib/python3.10/dist-packages (from qiskit>=1.1.0->qiskit_aer) (0.3.9)\n",
            "Requirement already satisfied: python-dateutil>=2.8.0 in /usr/local/lib/python3.10/dist-packages (from qiskit>=1.1.0->qiskit_aer) (2.8.2)\n",
            "Requirement already satisfied: stevedore>=3.0.0 in /usr/local/lib/python3.10/dist-packages (from qiskit>=1.1.0->qiskit_aer) (5.3.0)\n",
            "Requirement already satisfied: typing-extensions in /usr/local/lib/python3.10/dist-packages (from qiskit>=1.1.0->qiskit_aer) (4.12.2)\n",
            "Requirement already satisfied: symengine<0.14,>=0.11 in /usr/local/lib/python3.10/dist-packages (from qiskit>=1.1.0->qiskit_aer) (0.13.0)\n",
            "Requirement already satisfied: six>=1.5 in /usr/local/lib/python3.10/dist-packages (from python-dateutil>=2.8.0->qiskit>=1.1.0->qiskit_aer) (1.16.0)\n",
            "Requirement already satisfied: pbr>=2.0.0 in /usr/local/lib/python3.10/dist-packages (from stevedore>=3.0.0->qiskit>=1.1.0->qiskit_aer) (6.1.0)\n",
            "Requirement already satisfied: mpmath<1.4,>=1.1.0 in /usr/local/lib/python3.10/dist-packages (from sympy>=1.3->qiskit>=1.1.0->qiskit_aer) (1.3.0)\n",
            "Downloading qiskit_aer-0.15.1-cp310-cp310-manylinux_2_17_x86_64.manylinux2014_x86_64.whl (12.3 MB)\n",
            "\u001b[2K   \u001b[90m━━━━━━━━━━━━━━━━━━━━━━━━━━━━━━━━━━━━━━━━\u001b[0m \u001b[32m12.3/12.3 MB\u001b[0m \u001b[31m59.7 MB/s\u001b[0m eta \u001b[36m0:00:00\u001b[0m\n",
            "\u001b[?25hInstalling collected packages: qiskit_aer\n",
            "Successfully installed qiskit_aer-0.15.1\n"
          ]
        }
      ]
    },
    {
      "cell_type": "code",
      "source": [
        "# Required imports\n",
        "\n",
        "from qiskit import QuantumCircuit, QuantumRegister, ClassicalRegister\n",
        "from qiskit_aer import AerSimulator\n",
        "from qiskit.visualization import plot_histogram\n",
        "from qiskit.result import marginal_distribution\n",
        "from qiskit.circuit.library import UGate\n",
        "from numpy import pi, random"
      ],
      "metadata": {
        "id": "dCNeEsuxysIU"
      },
      "execution_count": null,
      "outputs": []
    },
    {
      "cell_type": "code",
      "source": [
        "qubit = QuantumRegister(1, \"Q\")\n",
        "ebit0 = QuantumRegister(1, \"A\")\n",
        "ebit1 = QuantumRegister(1, \"B\")\n",
        "a = ClassicalRegister(1, \"a\")\n",
        "b = ClassicalRegister(1, \"b\")\n",
        "\n",
        "protocol = QuantumCircuit(qubit, ebit0, ebit1, a, b)\n",
        "\n",
        "# Prepare ebit used for teleportation\n",
        "protocol.h(ebit0)\n",
        "protocol.cx(ebit0, ebit1)\n",
        "protocol.barrier()\n",
        "\n",
        "# Alice's operations\n",
        "protocol.cx(qubit, ebit0)\n",
        "protocol.h(qubit)\n",
        "protocol.barrier()\n",
        "\n",
        "# Alice measures and sends classical bits to Bob\n",
        "protocol.measure(ebit0, a)\n",
        "protocol.measure(qubit, b)\n",
        "protocol.barrier()\n",
        "\n",
        "# Bob uses the classical bits to conditionally apply gates\n",
        "with protocol.if_test((a, 1)):\n",
        "    protocol.x(ebit1)\n",
        "with protocol.if_test((b, 1)):\n",
        "    protocol.z(ebit1)\n",
        "\n",
        "display(protocol.draw())"
      ],
      "metadata": {
        "colab": {
          "base_uri": "https://localhost:8080/",
          "height": 371
        },
        "id": "RlYh9td7y8rr",
        "outputId": "c2b57f45-0564-4e06-abf0-423f6b461a4b"
      },
      "execution_count": null,
      "outputs": [
        {
          "output_type": "display_data",
          "data": {
            "text/plain": [
              "                ░      ┌───┐ ░    ┌─┐ ░                                     »\n",
              "  Q: ───────────░───■──┤ H ├─░────┤M├─░─────────────────────────────────────»\n",
              "     ┌───┐      ░ ┌─┴─┐└───┘ ░ ┌─┐└╥┘ ░                                     »\n",
              "  A: ┤ H ├──■───░─┤ X ├──────░─┤M├─╫──░─────────────────────────────────────»\n",
              "     └───┘┌─┴─┐ ░ └───┘      ░ └╥┘ ║  ░ ┌────── ┌───┐ ───────┐ ┌────── ┌───┐»\n",
              "  B: ─────┤ X ├─░────────────░──╫──╫──░─┤ If-0  ┤ X ├  End-0 ├─┤ If-0  ┤ Z ├»\n",
              "          └───┘ ░            ░  ║  ║  ░ └──╥─── └───┘ ───────┘ └──╥─── └───┘»\n",
              "                                ║  ║    ┌──╨──┐                   ║         »\n",
              "a: 1/═══════════════════════════╩══╬════╡ 0x1 ╞═══════════════════╬═════════»\n",
              "                                0  ║    └─────┘                ┌──╨──┐      »\n",
              "b: 1/══════════════════════════════╩═══════════════════════════╡ 0x1 ╞══════»\n",
              "                                   0                           └─────┘      »\n",
              "«               \n",
              "«  Q: ──────────\n",
              "«               \n",
              "«  A: ──────────\n",
              "«      ───────┐ \n",
              "«  B:   End-0 ├─\n",
              "«      ───────┘ \n",
              "«a: 1/══════════\n",
              "«               \n",
              "«b: 1/══════════\n",
              "«               "
            ],
            "text/html": [
              "<pre style=\"word-wrap: normal;white-space: pre;background: #fff0;line-height: 1.1;font-family: &quot;Courier New&quot;,Courier,monospace\">                ░      ┌───┐ ░    ┌─┐ ░                                     »\n",
              "  Q: ───────────░───■──┤ H ├─░────┤M├─░─────────────────────────────────────»\n",
              "     ┌───┐      ░ ┌─┴─┐└───┘ ░ ┌─┐└╥┘ ░                                     »\n",
              "  A: ┤ H ├──■───░─┤ X ├──────░─┤M├─╫──░─────────────────────────────────────»\n",
              "     └───┘┌─┴─┐ ░ └───┘      ░ └╥┘ ║  ░ ┌────── ┌───┐ ───────┐ ┌────── ┌───┐»\n",
              "  B: ─────┤ X ├─░────────────░──╫──╫──░─┤ If-0  ┤ X ├  End-0 ├─┤ If-0  ┤ Z ├»\n",
              "          └───┘ ░            ░  ║  ║  ░ └──╥─── └───┘ ───────┘ └──╥─── └───┘»\n",
              "                                ║  ║    ┌──╨──┐                   ║         »\n",
              "a: 1/═══════════════════════════╩══╬════╡ 0x1 ╞═══════════════════╬═════════»\n",
              "                                0  ║    └─────┘                ┌──╨──┐      »\n",
              "b: 1/══════════════════════════════╩═══════════════════════════╡ 0x1 ╞══════»\n",
              "                                   0                           └─────┘      »\n",
              "«               \n",
              "«  Q: ──────────\n",
              "«               \n",
              "«  A: ──────────\n",
              "«      ───────┐ \n",
              "«  B:   End-0 ├─\n",
              "«      ───────┘ \n",
              "«a: 1/══════════\n",
              "«               \n",
              "«b: 1/══════════\n",
              "«               </pre>"
            ]
          },
          "metadata": {}
        }
      ]
    },
    {
      "cell_type": "code",
      "source": [
        "random_gate = UGate(\n",
        "    theta=random.random() * 2 * pi,\n",
        "    phi=random.random() * 2 * pi,\n",
        "    lam=random.random() * 2 * pi,\n",
        ")\n",
        "\n",
        "display(random_gate.to_matrix())"
      ],
      "metadata": {
        "colab": {
          "base_uri": "https://localhost:8080/",
          "height": 52
        },
        "id": "PeSOb6MO0JF1",
        "outputId": "a2b78920-0e5e-466e-c67f-a6f547dda931"
      },
      "execution_count": null,
      "outputs": [
        {
          "output_type": "display_data",
          "data": {
            "text/plain": [
              "array([[ 0.82767599+0.j        , -0.40673831+0.38667351j],\n",
              "       [-0.56077144+0.02208731j, -0.57695531+0.59343923j]])"
            ]
          },
          "metadata": {}
        }
      ]
    },
    {
      "cell_type": "code",
      "source": [
        "# Create a new circuit including the same bits and qubits used in the\n",
        "# teleportation protocol.\n",
        "\n",
        "test = QuantumCircuit(qubit, ebit0, ebit1, a, b)\n",
        "\n",
        "# Start with the randomly selected gate on Q\n",
        "\n",
        "test.append(random_gate, qubit)\n",
        "test.barrier()\n",
        "\n",
        "# Append the entire teleportation protocol from above.\n",
        "\n",
        "test = test.compose(protocol)\n",
        "test.barrier()\n",
        "\n",
        "# Finally, apply the inverse of the random unitary to B and measure.\n",
        "\n",
        "test.append(random_gate.inverse(), ebit1)\n",
        "\n",
        "result = ClassicalRegister(1, \"Result\")\n",
        "test.add_register(result)\n",
        "test.measure(ebit1, result)\n",
        "\n",
        "display(test.draw())"
      ],
      "metadata": {
        "colab": {
          "base_uri": "https://localhost:8080/",
          "height": 633
        },
        "id": "uVjtu-NK0Y8s",
        "outputId": "04b6be95-e726-4ab9-aa3b-8ea56932fe5d"
      },
      "execution_count": null,
      "outputs": [
        {
          "output_type": "display_data",
          "data": {
            "text/plain": [
              "          ┌─────────────────────────┐ ░            ░      ┌───┐ ░    ┌─┐ ░ »\n",
              "       Q: ┤ U(1.1917,3.1022,5.5231) ├─░────────────░───■──┤ H ├─░────┤M├─░─»\n",
              "          └─────────────────────────┘ ░ ┌───┐      ░ ┌─┴─┐└───┘ ░ ┌─┐└╥┘ ░ »\n",
              "       A: ────────────────────────────░─┤ H ├──■───░─┤ X ├──────░─┤M├─╫──░─»\n",
              "                                      ░ └───┘┌─┴─┐ ░ └───┘      ░ └╥┘ ║  ░ »\n",
              "       B: ────────────────────────────░──────┤ X ├─░────────────░──╫──╫──░─»\n",
              "                                      ░      └───┘ ░            ░  ║  ║  ░ »\n",
              "     a: 1/═════════════════════════════════════════════════════════╩══╬════»\n",
              "                                                                   0  ║    »\n",
              "     b: 1/════════════════════════════════════════════════════════════╩════»\n",
              "                                                                      0    »\n",
              "Result: 1/═════════════════════════════════════════════════════════════════»\n",
              "                                                                           »\n",
              "«                                                         ░ »\n",
              "«       Q: ───────────────────────────────────────────────░─»\n",
              "«                                                         ░ »\n",
              "«       A: ───────────────────────────────────────────────░─»\n",
              "«          ┌────── ┌───┐ ───────┐ ┌────── ┌───┐ ───────┐  ░ »\n",
              "«       B: ┤ If-0  ┤ X ├  End-0 ├─┤ If-0  ┤ Z ├  End-0 ├──░─»\n",
              "«          └──╥─── └───┘ ───────┘ └──╥─── └───┘ ───────┘  ░ »\n",
              "«          ┌──╨──┐                   ║                      »\n",
              "«     a: 1/╡ 0x1 ╞═══════════════════╬══════════════════════»\n",
              "«          └─────┘                ┌──╨──┐                   »\n",
              "«     b: 1/═══════════════════════╡ 0x1 ╞═══════════════════»\n",
              "«                                 └─────┘                   »\n",
              "«Result: 1/═════════════════════════════════════════════════»\n",
              "«                                                           »\n",
              "«                                           \n",
              "«       Q: ─────────────────────────────────\n",
              "«                                           \n",
              "«       A: ─────────────────────────────────\n",
              "«          ┌────────────────────────────┐┌─┐\n",
              "«       B: ┤ U(-1.1917,-5.5231,-3.1022) ├┤M├\n",
              "«          └────────────────────────────┘└╥┘\n",
              "«     a: 1/═══════════════════════════════╬═\n",
              "«                                         ║ \n",
              "«     b: 1/═══════════════════════════════╬═\n",
              "«                                         ║ \n",
              "«Result: 1/═══════════════════════════════╩═\n",
              "«                                         0 "
            ],
            "text/html": [
              "<pre style=\"word-wrap: normal;white-space: pre;background: #fff0;line-height: 1.1;font-family: &quot;Courier New&quot;,Courier,monospace\">          ┌─────────────────────────┐ ░            ░      ┌───┐ ░    ┌─┐ ░ »\n",
              "       Q: ┤ U(1.1917,3.1022,5.5231) ├─░────────────░───■──┤ H ├─░────┤M├─░─»\n",
              "          └─────────────────────────┘ ░ ┌───┐      ░ ┌─┴─┐└───┘ ░ ┌─┐└╥┘ ░ »\n",
              "       A: ────────────────────────────░─┤ H ├──■───░─┤ X ├──────░─┤M├─╫──░─»\n",
              "                                      ░ └───┘┌─┴─┐ ░ └───┘      ░ └╥┘ ║  ░ »\n",
              "       B: ────────────────────────────░──────┤ X ├─░────────────░──╫──╫──░─»\n",
              "                                      ░      └───┘ ░            ░  ║  ║  ░ »\n",
              "     a: 1/═════════════════════════════════════════════════════════╩══╬════»\n",
              "                                                                   0  ║    »\n",
              "     b: 1/════════════════════════════════════════════════════════════╩════»\n",
              "                                                                      0    »\n",
              "Result: 1/═════════════════════════════════════════════════════════════════»\n",
              "                                                                           »\n",
              "«                                                         ░ »\n",
              "«       Q: ───────────────────────────────────────────────░─»\n",
              "«                                                         ░ »\n",
              "«       A: ───────────────────────────────────────────────░─»\n",
              "«          ┌────── ┌───┐ ───────┐ ┌────── ┌───┐ ───────┐  ░ »\n",
              "«       B: ┤ If-0  ┤ X ├  End-0 ├─┤ If-0  ┤ Z ├  End-0 ├──░─»\n",
              "«          └──╥─── └───┘ ───────┘ └──╥─── └───┘ ───────┘  ░ »\n",
              "«          ┌──╨──┐                   ║                      »\n",
              "«     a: 1/╡ 0x1 ╞═══════════════════╬══════════════════════»\n",
              "«          └─────┘                ┌──╨──┐                   »\n",
              "«     b: 1/═══════════════════════╡ 0x1 ╞═══════════════════»\n",
              "«                                 └─────┘                   »\n",
              "«Result: 1/═════════════════════════════════════════════════»\n",
              "«                                                           »\n",
              "«                                           \n",
              "«       Q: ─────────────────────────────────\n",
              "«                                           \n",
              "«       A: ─────────────────────────────────\n",
              "«          ┌────────────────────────────┐┌─┐\n",
              "«       B: ┤ U(-1.1917,-5.5231,-3.1022) ├┤M├\n",
              "«          └────────────────────────────┘└╥┘\n",
              "«     a: 1/═══════════════════════════════╬═\n",
              "«                                         ║ \n",
              "«     b: 1/═══════════════════════════════╬═\n",
              "«                                         ║ \n",
              "«Result: 1/═══════════════════════════════╩═\n",
              "«                                         0 </pre>"
            ]
          },
          "metadata": {}
        }
      ]
    },
    {
      "cell_type": "code",
      "source": [
        "result = AerSimulator().run(test).result()\n",
        "statistics = result.get_counts()\n",
        "display(plot_histogram(statistics))"
      ],
      "metadata": {
        "colab": {
          "base_uri": "https://localhost:8080/",
          "height": 454
        },
        "id": "DuVQylBl0uW_",
        "outputId": "1b7ed65f-329b-4dc4-8a6f-3363b95921a4"
      },
      "execution_count": null,
      "outputs": [
        {
          "output_type": "display_data",
          "data": {
            "text/plain": [
              "<Figure size 640x480 with 1 Axes>"
            ],
            "image/png": "[encoded data removed]"
          },
          "metadata": {}
        }
      ]
    },
    {
      "cell_type": "code",
      "source": [
        "filtered_statistics = marginal_distribution(statistics, [2])\n",
        "display(plot_histogram(filtered_statistics))"
      ],
      "metadata": {
        "colab": {
          "base_uri": "https://localhost:8080/",
          "height": 429
        },
        "id": "j3K6DMyk01m4",
        "outputId": "d0c1e7d7-63ac-4f1e-ff9f-503eddd001a5"
      },
      "execution_count": null,
      "outputs": [
        {
          "output_type": "display_data",
          "data": {
            "text/plain": [
              "<Figure size 640x480 with 1 Axes>"
            ],
            "image/png": "[encoded data removed]"
          },
          "metadata": {}
        }
      ]
    },
    {
      "cell_type": "markdown",
      "source": [
        "## SuperDense Coding"
      ],
      "metadata": {
        "id": "2Q3tNnC909ZS"
      }
    },
    {
      "cell_type": "code",
      "source": [
        "# Required imports\n",
        "\n",
        "from qiskit import QuantumCircuit, QuantumRegister, ClassicalRegister\n",
        "from qiskit_aer.primitives import Sampler\n",
        "from qiskit_aer import AerSimulator\n",
        "from qiskit.visualization import plot_histogram"
      ],
      "metadata": {
        "id": "cLWLMlAT0_lZ"
      },
      "execution_count": null,
      "outputs": []
    },
    {
      "cell_type": "code",
      "source": [
        "c = \"1\"\n",
        "d = \"0\""
      ],
      "metadata": {
        "id": "4jOFSaWv1C3h"
      },
      "execution_count": null,
      "outputs": []
    },
    {
      "cell_type": "code",
      "source": [
        "protocol = QuantumCircuit(2)\n",
        "\n",
        "# Prepare ebit used for superdense coding\n",
        "protocol.h(0)\n",
        "protocol.cx(0, 1)\n",
        "protocol.barrier()\n",
        "\n",
        "# Alice's operations\n",
        "if d == \"1\":\n",
        "    protocol.z(0)\n",
        "if c == \"1\":\n",
        "    protocol.x(0)\n",
        "protocol.barrier()\n",
        "\n",
        "# Bob's actions\n",
        "protocol.cx(0, 1)\n",
        "protocol.h(0)\n",
        "protocol.measure_all()\n",
        "\n",
        "display(protocol.draw())"
      ],
      "metadata": {
        "colab": {
          "base_uri": "https://localhost:8080/",
          "height": 125
        },
        "id": "H1NjjkVA1HQR",
        "outputId": "7979ca67-2a6b-4110-8db3-9149f570b14b"
      },
      "execution_count": null,
      "outputs": [
        {
          "output_type": "display_data",
          "data": {
            "text/plain": [
              "        ┌───┐      ░ ┌───┐ ░      ┌───┐ ░ ┌─┐   \n",
              "   q_0: ┤ H ├──■───░─┤ X ├─░───■──┤ H ├─░─┤M├───\n",
              "        └───┘┌─┴─┐ ░ └───┘ ░ ┌─┴─┐└───┘ ░ └╥┘┌─┐\n",
              "   q_1: ─────┤ X ├─░───────░─┤ X ├──────░──╫─┤M├\n",
              "             └───┘ ░       ░ └───┘      ░  ║ └╥┘\n",
              "meas: 2/═══════════════════════════════════╩══╩═\n",
              "                                           0  1 "
            ],
            "text/html": [
              "<pre style=\"word-wrap: normal;white-space: pre;background: #fff0;line-height: 1.1;font-family: &quot;Courier New&quot;,Courier,monospace\">        ┌───┐      ░ ┌───┐ ░      ┌───┐ ░ ┌─┐   \n",
              "   q_0: ┤ H ├──■───░─┤ X ├─░───■──┤ H ├─░─┤M├───\n",
              "        └───┘┌─┴─┐ ░ └───┘ ░ ┌─┴─┐└───┘ ░ └╥┘┌─┐\n",
              "   q_1: ─────┤ X ├─░───────░─┤ X ├──────░──╫─┤M├\n",
              "             └───┘ ░       ░ └───┘      ░  ║ └╥┘\n",
              "meas: 2/═══════════════════════════════════╩══╩═\n",
              "                                           0  1 </pre>"
            ]
          },
          "metadata": {}
        }
      ]
    },
    {
      "cell_type": "code",
      "source": [
        "result = Sampler().run(protocol).result()\n",
        "statistics = result.quasi_dists[0].binary_probabilities()\n",
        "\n",
        "for outcome, frequency in statistics.items():\n",
        "    print(f\"Measured {outcome} with frequency {frequency}\")\n",
        "\n",
        "display(plot_histogram(statistics))"
      ],
      "metadata": {
        "colab": {
          "base_uri": "https://localhost:8080/",
          "height": 454
        },
        "id": "KxqLdmOk1LsI",
        "outputId": "a0686337-a00f-475a-e60b-e9080a85384a"
      },
      "execution_count": null,
      "outputs": [
        {
          "output_type": "stream",
          "name": "stdout",
          "text": [
            "Measured 10 with frequency 1.0\n"
          ]
        },
        {
          "output_type": "display_data",
          "data": {
            "text/plain": [
              "<Figure size 640x480 with 1 Axes>"
            ],
            "image/png": "[encoded data removed]"
          },
          "metadata": {}
        }
      ]
    },
    {
      "cell_type": "code",
      "source": [
        "rbg = QuantumRegister(1, \"randomizer\")\n",
        "ebit0 = QuantumRegister(1, \"A\")\n",
        "ebit1 = QuantumRegister(1, \"B\")\n",
        "\n",
        "Alice_c = ClassicalRegister(1, \"Alice c\")\n",
        "Alice_d = ClassicalRegister(1, \"Alice d\")\n",
        "\n",
        "test = QuantumCircuit(rbg, ebit0, ebit1, Alice_d, Alice_c)\n",
        "\n",
        "# Initialize the ebit\n",
        "test.h(ebit0)\n",
        "test.cx(ebit0, ebit1)\n",
        "test.barrier()\n",
        "\n",
        "# Use the 'randomizer' qubit twice to generate Alice's bits c and d.\n",
        "test.h(rbg)\n",
        "test.measure(rbg, Alice_c)\n",
        "test.h(rbg)\n",
        "test.measure(rbg, Alice_d)\n",
        "test.barrier()\n",
        "\n",
        "# Now the protocol runs, starting with Alice's actions, which depend\n",
        "# on her bits.\n",
        "with test.if_test((Alice_d, 1), label=\"Z\"):\n",
        "    test.z(ebit0)\n",
        "with test.if_test((Alice_c, 1), label=\"X\"):\n",
        "    test.x(ebit0)\n",
        "test.barrier()\n",
        "\n",
        "# Bob's actions\n",
        "test.cx(ebit0, ebit1)\n",
        "test.h(ebit0)\n",
        "test.barrier()\n",
        "\n",
        "Bob_c = ClassicalRegister(1, \"Bob c\")\n",
        "Bob_d = ClassicalRegister(1, \"Bob d\")\n",
        "test.add_register(Bob_d)\n",
        "test.add_register(Bob_c)\n",
        "test.measure(ebit0, Bob_d)\n",
        "test.measure(ebit1, Bob_c)\n",
        "\n",
        "display(test.draw())"
      ],
      "metadata": {
        "colab": {
          "base_uri": "https://localhost:8080/",
          "height": 479
        },
        "id": "UknImQWa1Sgt",
        "outputId": "780f3d82-7c6a-4eba-b3e7-0f958525cebc"
      },
      "execution_count": null,
      "outputs": [
        {
          "output_type": "display_data",
          "data": {
            "text/plain": [
              "                       ░ ┌───┐┌─┐┌───┐┌─┐ ░                                »\n",
              "randomizer: ───────────░─┤ H ├┤M├┤ H ├┤M├─░────────────────────────────────»\n",
              "            ┌───┐      ░ └───┘└╥┘└───┘└╥┘ ░ ┌────── ┌───┐ ───────┐ ┌────── »\n",
              "         A: ┤ H ├──■───░───────╫───────╫──░─┤ If-0  ┤ Z ├  End-0 ├─┤ If-0  »\n",
              "            └───┘┌─┴─┐ ░       ║       ║  ░ └──╥─── └───┘ ───────┘ └──╥─── »\n",
              "         B: ─────┤ X ├─░───────╫───────╫──░────╫──────────────────────╫────»\n",
              "                 └───┘ ░       ║       ║  ░ ┌──╨──┐                   ║    »\n",
              " Alice d: 1/═══════════════════╬═══════╩════╡ 0x1 ╞═══════════════════╬════»\n",
              "                               ║       0    └─────┘                ┌──╨──┐ »\n",
              " Alice c: 1/═══════════════════╩═══════════════════════════════════╡ 0x1 ╞═»\n",
              "                               0                                   └─────┘ »\n",
              "   Bob d: 1/═══════════════════════════════════════════════════════════════»\n",
              "                                                                           »\n",
              "   Bob c: 1/═══════════════════════════════════════════════════════════════»\n",
              "                                                                           »\n",
              "«                            ░            ░       \n",
              "«randomizer: ────────────────░────────────░───────\n",
              "«            ┌───┐ ───────┐  ░      ┌───┐ ░ ┌─┐   \n",
              "«         A: ┤ X ├  End-0 ├──░───■──┤ H ├─░─┤M├───\n",
              "«            └───┘ ───────┘  ░ ┌─┴─┐└───┘ ░ └╥┘┌─┐\n",
              "«         B: ────────────────░─┤ X ├──────░──╫─┤M├\n",
              "«                            ░ └───┘      ░  ║ └╥┘\n",
              "« Alice d: 1/════════════════════════════════╬══╬═\n",
              "«                                            ║  ║ \n",
              "« Alice c: 1/════════════════════════════════╬══╬═\n",
              "«                                            ║  ║ \n",
              "«   Bob d: 1/════════════════════════════════╩══╬═\n",
              "«                                            0  ║ \n",
              "«   Bob c: 1/═══════════════════════════════════╩═\n",
              "«                                               0 "
            ],
            "text/html": [
              "<pre style=\"word-wrap: normal;white-space: pre;background: #fff0;line-height: 1.1;font-family: &quot;Courier New&quot;,Courier,monospace\">                       ░ ┌───┐┌─┐┌───┐┌─┐ ░                                »\n",
              "randomizer: ───────────░─┤ H ├┤M├┤ H ├┤M├─░────────────────────────────────»\n",
              "            ┌───┐      ░ └───┘└╥┘└───┘└╥┘ ░ ┌────── ┌───┐ ───────┐ ┌────── »\n",
              "         A: ┤ H ├──■───░───────╫───────╫──░─┤ If-0  ┤ Z ├  End-0 ├─┤ If-0  »\n",
              "            └───┘┌─┴─┐ ░       ║       ║  ░ └──╥─── └───┘ ───────┘ └──╥─── »\n",
              "         B: ─────┤ X ├─░───────╫───────╫──░────╫──────────────────────╫────»\n",
              "                 └───┘ ░       ║       ║  ░ ┌──╨──┐                   ║    »\n",
              " Alice d: 1/═══════════════════╬═══════╩════╡ 0x1 ╞═══════════════════╬════»\n",
              "                               ║       0    └─────┘                ┌──╨──┐ »\n",
              " Alice c: 1/═══════════════════╩═══════════════════════════════════╡ 0x1 ╞═»\n",
              "                               0                                   └─────┘ »\n",
              "   Bob d: 1/═══════════════════════════════════════════════════════════════»\n",
              "                                                                           »\n",
              "   Bob c: 1/═══════════════════════════════════════════════════════════════»\n",
              "                                                                           »\n",
              "«                            ░            ░       \n",
              "«randomizer: ────────────────░────────────░───────\n",
              "«            ┌───┐ ───────┐  ░      ┌───┐ ░ ┌─┐   \n",
              "«         A: ┤ X ├  End-0 ├──░───■──┤ H ├─░─┤M├───\n",
              "«            └───┘ ───────┘  ░ ┌─┴─┐└───┘ ░ └╥┘┌─┐\n",
              "«         B: ────────────────░─┤ X ├──────░──╫─┤M├\n",
              "«                            ░ └───┘      ░  ║ └╥┘\n",
              "« Alice d: 1/════════════════════════════════╬══╬═\n",
              "«                                            ║  ║ \n",
              "« Alice c: 1/════════════════════════════════╬══╬═\n",
              "«                                            ║  ║ \n",
              "«   Bob d: 1/════════════════════════════════╩══╬═\n",
              "«                                            0  ║ \n",
              "«   Bob c: 1/═══════════════════════════════════╩═\n",
              "«                                               0 </pre>"
            ]
          },
          "metadata": {}
        }
      ]
    },
    {
      "cell_type": "code",
      "source": [
        "result = AerSimulator().run(test).result()\n",
        "statistics = result.get_counts()\n",
        "display(plot_histogram(statistics))"
      ],
      "metadata": {
        "id": "IcolGbQu1YIV",
        "outputId": "00d13903-bcc4-41bc-f813-9784886dec8f",
        "colab": {
          "base_uri": "https://localhost:8080/",
          "height": 466
        }
      },
      "execution_count": null,
      "outputs": [
        {
          "output_type": "display_data",
          "data": {
            "text/plain": [
              "<Figure size 640x480 with 1 Axes>"
            ],
            "image/png": "[encoded data removed]"
          },
          "metadata": {}
        }
      ]
    }
  ]
}