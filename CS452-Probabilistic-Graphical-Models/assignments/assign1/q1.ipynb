{
 "cells": [
  {
   "cell_type": "markdown",
   "metadata": {},
   "source": [
    "# Playing with Joint Probabilities\n",
    "Given the bayesian network below, we want to generate the complete joint probablity distribution table for the variables modelled in the Bayesian network using the Conditional Probability Tables (CPTs) provided.\n",
    "\n",
    "![Bayesian Network](fig1.png)"
   ]
  },
  {
   "cell_type": "code",
   "execution_count": 1,
   "metadata": {},
   "outputs": [],
   "source": [
    "import math\n",
    "import pandas as pd\n",
    "import itertools"
   ]
  },
  {
   "cell_type": "code",
   "execution_count": 2,
   "metadata": {},
   "outputs": [],
   "source": [
    "P_M = {True: 0.2, False: 0.8}\n",
    "P_S_given_M = {(True, True): 0.8, (False, True): 0.2, (True, False): 0.2, (False, False): 0.8}\n",
    "P_B_given_M = {(True, True): 0.2, (False, True): 0.8, (True, False): 0.05, (False, False): 0.95}\n",
    "P_C_given_S_B = {(True, True, True): 0.8, (False, True, True): 0.2, (True, True, False): 0.8, (False, True, False): 0.2, (True, False, True): 0.8, (False, False, True): 0.2, (True, False, False): 0.05, (False, False, False): 0.95}\n",
    "P_H_given_B = {(True, True): 0.8, (False, True): 0.2, (True, False): 0.6, (False, False): 0.4}"
   ]
  },
  {
   "cell_type": "code",
   "execution_count": 3,
   "metadata": {},
   "outputs": [],
   "source": [
    "combinations = list(itertools.product([True, False], repeat=5)) # all possible combinations of the 5 variables"
   ]
  },
  {
   "cell_type": "markdown",
   "metadata": {},
   "source": [
    "### (a) Joint Probability Table"
   ]
  },
  {
   "cell_type": "code",
   "execution_count": 4,
   "metadata": {},
   "outputs": [],
   "source": [
    "def joint_prob(m, s, b, c, h):\n",
    "    pm = P_M[m]\n",
    "    ps_given_m = P_S_given_M[(s, m)]\n",
    "    pb_given_m = P_B_given_M[(b, m)]\n",
    "    pc_given_s_b = P_C_given_S_B[(c, s, b)]\n",
    "    ph_given_b = P_H_given_B[(h, b)]\n",
    "\n",
    "    p_all = pm * ps_given_m * pb_given_m * pc_given_s_b * ph_given_b\n",
    "\n",
    "    return pm, ps_given_m, pb_given_m, pc_given_s_b, ph_given_b, p_all"
   ]
  },
  {
   "cell_type": "code",
   "execution_count": 5,
   "metadata": {},
   "outputs": [],
   "source": [
    "joint_prob_table = []\n",
    "for comb in combinations:\n",
    "    m, s, b, c, h = comb\n",
    "    pm, ps, pb, pc, ph, prob = joint_prob(m, s, b, c, h)\n",
    "    joint_prob_table.append([m, s, b, c, h, pm, ps, pb, pc, ph, prob])"
   ]
  },
  {
   "cell_type": "code",
   "execution_count": 6,
   "metadata": {},
   "outputs": [],
   "source": [
    "df = pd.DataFrame(joint_prob_table, columns=[\"M\", \"S\", \"B\", \"C\", \"H\", \"P(M)\", \"P(S|M)\", \"P(B|M)\", \"P(C|S, B)\", \"P(H|B)\", \"P(M, S, B, C, H)\"])"
   ]
  },
  {
   "cell_type": "code",
   "execution_count": 7,
   "metadata": {},
   "outputs": [
    {
     "name": "stdout",
     "output_type": "stream",
     "text": [
      "Joint Probability Distribution Table\n",
      "-----------------------------------------------------------------\n",
      "        M      S      B      C      H  P(M)  P(S|M)  P(B|M)  P(C|S, B)  \\\n",
      "0    True   True   True   True   True   0.2     0.8    0.20       0.80   \n",
      "1    True   True   True   True  False   0.2     0.8    0.20       0.80   \n",
      "2    True   True   True  False   True   0.2     0.8    0.20       0.20   \n",
      "3    True   True   True  False  False   0.2     0.8    0.20       0.20   \n",
      "4    True   True  False   True   True   0.2     0.8    0.80       0.80   \n",
      "5    True   True  False   True  False   0.2     0.8    0.80       0.80   \n",
      "6    True   True  False  False   True   0.2     0.8    0.80       0.20   \n",
      "7    True   True  False  False  False   0.2     0.8    0.80       0.20   \n",
      "8    True  False   True   True   True   0.2     0.2    0.20       0.80   \n",
      "9    True  False   True   True  False   0.2     0.2    0.20       0.80   \n",
      "10   True  False   True  False   True   0.2     0.2    0.20       0.20   \n",
      "11   True  False   True  False  False   0.2     0.2    0.20       0.20   \n",
      "12   True  False  False   True   True   0.2     0.2    0.80       0.05   \n",
      "13   True  False  False   True  False   0.2     0.2    0.80       0.05   \n",
      "14   True  False  False  False   True   0.2     0.2    0.80       0.95   \n",
      "15   True  False  False  False  False   0.2     0.2    0.80       0.95   \n",
      "16  False   True   True   True   True   0.8     0.2    0.05       0.80   \n",
      "17  False   True   True   True  False   0.8     0.2    0.05       0.80   \n",
      "18  False   True   True  False   True   0.8     0.2    0.05       0.20   \n",
      "19  False   True   True  False  False   0.8     0.2    0.05       0.20   \n",
      "20  False   True  False   True   True   0.8     0.2    0.95       0.80   \n",
      "21  False   True  False   True  False   0.8     0.2    0.95       0.80   \n",
      "22  False   True  False  False   True   0.8     0.2    0.95       0.20   \n",
      "23  False   True  False  False  False   0.8     0.2    0.95       0.20   \n",
      "24  False  False   True   True   True   0.8     0.8    0.05       0.80   \n",
      "25  False  False   True   True  False   0.8     0.8    0.05       0.80   \n",
      "26  False  False   True  False   True   0.8     0.8    0.05       0.20   \n",
      "27  False  False   True  False  False   0.8     0.8    0.05       0.20   \n",
      "28  False  False  False   True   True   0.8     0.8    0.95       0.05   \n",
      "29  False  False  False   True  False   0.8     0.8    0.95       0.05   \n",
      "30  False  False  False  False   True   0.8     0.8    0.95       0.95   \n",
      "31  False  False  False  False  False   0.8     0.8    0.95       0.95   \n",
      "\n",
      "    P(H|B)  P(M, S, B, C, H)  \n",
      "0      0.8           0.02048  \n",
      "1      0.2           0.00512  \n",
      "2      0.8           0.00512  \n",
      "3      0.2           0.00128  \n",
      "4      0.6           0.06144  \n",
      "5      0.4           0.04096  \n",
      "6      0.6           0.01536  \n",
      "7      0.4           0.01024  \n",
      "8      0.8           0.00512  \n",
      "9      0.2           0.00128  \n",
      "10     0.8           0.00128  \n",
      "11     0.2           0.00032  \n",
      "12     0.6           0.00096  \n",
      "13     0.4           0.00064  \n",
      "14     0.6           0.01824  \n",
      "15     0.4           0.01216  \n",
      "16     0.8           0.00512  \n",
      "17     0.2           0.00128  \n",
      "18     0.8           0.00128  \n",
      "19     0.2           0.00032  \n",
      "20     0.6           0.07296  \n",
      "21     0.4           0.04864  \n",
      "22     0.6           0.01824  \n",
      "23     0.4           0.01216  \n",
      "24     0.8           0.02048  \n",
      "25     0.2           0.00512  \n",
      "26     0.8           0.00512  \n",
      "27     0.2           0.00128  \n",
      "28     0.6           0.01824  \n",
      "29     0.4           0.01216  \n",
      "30     0.6           0.34656  \n",
      "31     0.4           0.23104  \n",
      "-----------------------------------------------------------------\n",
      "Sum of all probabilities: 1.000000\n"
     ]
    }
   ],
   "source": [
    "print(\"Joint Probability Distribution Table\")\n",
    "print(\"-\"*65)\n",
    "print(df)\n",
    "print(\"-\"*65)\n",
    "total_prob = df['P(M, S, B, C, H)'].sum()\n",
    "print(f\"Sum of all probabilities: {total_prob:.6f}\")\n"
   ]
  },
  {
   "cell_type": "markdown",
   "metadata": {},
   "source": [
    "### (b) Marginal Probability Table"
   ]
  },
  {
   "cell_type": "code",
   "execution_count": 8,
   "metadata": {},
   "outputs": [],
   "source": [
    "def marginal_prob(df, var):\n",
    "    marginal_prob = df.groupby(var).sum()['P(M, S, B, C, H)']\n",
    "    return marginal_prob"
   ]
  },
  {
   "cell_type": "code",
   "execution_count": 9,
   "metadata": {},
   "outputs": [
    {
     "name": "stdout",
     "output_type": "stream",
     "text": [
      "Marginal Probabilitis:\n",
      "P(M): 0.200000\n",
      "P(S): 0.320000\n",
      "P(B): 0.080000\n",
      "P(C): 0.320000\n",
      "P(H): 0.616000\n"
     ]
    }
   ],
   "source": [
    "marginal_prob_M = marginal_prob(df, 'M')\n",
    "marginal_prob_S = marginal_prob(df, 'S')\n",
    "marginal_prob_B = marginal_prob(df, 'B')\n",
    "marginal_prob_C = marginal_prob(df, 'C')\n",
    "marginal_prob_H = marginal_prob(df, 'H')\n",
    "\n",
    "print(f\"Marginal Probabilitis:\")\n",
    "print(f\"P(M): {marginal_prob_M[True]:.6f}\")\n",
    "print(f\"P(S): {marginal_prob_S[True]:.6f}\")\n",
    "print(f\"P(B): {marginal_prob_B[True]:.6f}\")\n",
    "print(f\"P(C): {marginal_prob_C[True]:.6f}\")\n",
    "print(f\"P(H): {marginal_prob_H[True]:.6f}\")"
   ]
  },
  {
   "cell_type": "markdown",
   "metadata": {},
   "source": [
    "### (c) Given a person has 'severe headache' and his serum calcium is not increased as per the tests, what are the chances now that this person will have: (i) Metastatic Cancer, (ii) Brain Tumor"
   ]
  },
  {
   "cell_type": "code",
   "execution_count": 10,
   "metadata": {},
   "outputs": [
    {
     "name": "stdout",
     "output_type": "stream",
     "text": [
      "P(M = True | H = True, S = False): 0.061538\n"
     ]
    }
   ],
   "source": [
    "# Given H is True, and S is false, we have to find probability of M: P(M|H=True, S=False). This can be done by finding P(M = True, H=True, S=False) and dividing it by P(H = True and S = False)\n",
    "\n",
    "p_m_h_true_s_false = df[(df['M'] == True) & (df['H'] == True) & (df['S'] == False)]['P(M, S, B, C, H)'].sum()\n",
    "p_h_true_s_false = df[(df['H'] == True) & (df['S'] == False)]['P(M, S, B, C, H)'].sum()\n",
    "p_m_given_h_true_s_false = p_m_h_true_s_false / p_h_true_s_false\n",
    "print(f\"P(M = True | H = True, S = False): {p_m_given_h_true_s_false:.6f}\")"
   ]
  },
  {
   "cell_type": "code",
   "execution_count": 11,
   "metadata": {},
   "outputs": [
    {
     "name": "stdout",
     "output_type": "stream",
     "text": [
      "P(B = True | H = True, S = False): 0.076923\n"
     ]
    }
   ],
   "source": [
    "# Given H is True, and S is False, we have to find the probability of B: P(B|H=True, S=False). This can be done by finding (P(B = True, H = True, S = False) + P(B = False, H = True, S = False)) and dividing it by P(H = True and S = False)\n",
    "\n",
    "p_b_h_true_s_false = df[(df['B'] == True) & (df['H'] == True) & (df['S'] == False)]['P(M, S, B, C, H)'].sum()\n",
    "p_h_true_s_false = df[(df['H'] == True) & (df['S'] == False)]['P(M, S, B, C, H)'].sum()\n",
    "p_b_given_h_true_s_false = p_b_h_true_s_false / p_h_true_s_false\n",
    "print(f\"P(B = True | H = True, S = False): {p_b_given_h_true_s_false:.6f}\")"
   ]
  },
  {
   "cell_type": "markdown",
   "metadata": {},
   "source": [
    "### (d) Prove from the JPT that C $\\perp$ H $\\mid$ B"
   ]
  },
  {
   "cell_type": "code",
   "execution_count": 12,
   "metadata": {},
   "outputs": [
    {
     "name": "stdout",
     "output_type": "stream",
     "text": [
      "C is conditionally independent of H given B\n",
      "P(C = True, H = True | B = True): 0.640000\n",
      "P(C = True | B = True) * P(H = True | B = True): 0.640000\n"
     ]
    }
   ],
   "source": [
    "# To show that C is conditionally independent of H given B, we can simply show that P(C = True, H = True | B = True) = P(C = True | B = True) * P(H = True | B = True)\n",
    "\n",
    "# Then we can simply find out P(C = True, H = True | B = True), P(C = True | B = True), and P(H = True | B = True) from the JPTs, and show that the relation holds.\n",
    "\n",
    "p_c_h_b = df[(df['C'] == True) & (df['H'] == True) & (df['B'] == True)]['P(M, S, B, C, H)'].sum()\n",
    "p_c_h_given_b = p_c_h_b / marginal_prob_B\n",
    "p_c_h_given_b = p_c_h_given_b[True]\n",
    "\n",
    "p_c_b = df[(df['C'] == True) & (df['B'] == True)]['P(M, S, B, C, H)'].sum()\n",
    "p_c_given_b = p_c_b / marginal_prob_B\n",
    "p_c_given_b = p_c_given_b[True]\n",
    "\n",
    "p_h_b = df[(df['H'] == True) & (df['B'] == True)]['P(M, S, B, C, H)'].sum()\n",
    "p_h_given_b = p_h_b / marginal_prob_B\n",
    "p_h_given_b = p_h_given_b[True]\n",
    "\n",
    "if round(p_c_h_given_b, 2) == round(p_c_given_b * p_h_given_b, 2):\n",
    "    print(\"C is conditionally independent of H given B\")\n",
    "    print(f\"P(C = True, H = True | B = True): {p_c_h_given_b:.6f}\")\n",
    "    print(f\"P(C = True | B = True) * P(H = True | B = True): {p_c_given_b * p_h_given_b:.6f}\")\n",
    "else:\n",
    "    print(\"C is not conditionally independent of H given B\")\n",
    "    print(f\"P(C = True, H = True | B = True): {p_c_h_given_b:.6f}\")\n",
    "    print(f\"P(C = True | B = True) * P(H = True | B = True): {p_c_given_b * p_h_given_b:.6f}\")\n",
    "\n"
   ]
  }
 ],
 "metadata": {
  "kernelspec": {
   "display_name": "Python 3",
   "language": "python",
   "name": "python3"
  },
  "language_info": {
   "codemirror_mode": {
    "name": "ipython",
    "version": 3
   },
   "file_extension": ".py",
   "mimetype": "text/x-python",
   "name": "python",
   "nbconvert_exporter": "python",
   "pygments_lexer": "ipython3",
   "version": "3.10.12"
  }
 },
 "nbformat": 4,
 "nbformat_minor": 2
}
